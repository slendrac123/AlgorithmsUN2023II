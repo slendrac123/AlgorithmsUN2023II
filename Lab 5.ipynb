{
  "nbformat": 4,
  "nbformat_minor": 0,
  "metadata": {
    "colab": {
      "provenance": [],
      "include_colab_link": true
    },
    "kernelspec": {
      "name": "python3",
      "display_name": "Python 3"
    },
    "language_info": {
      "name": "python"
    }
  },
  "cells": [
    {
      "cell_type": "markdown",
      "metadata": {
        "id": "view-in-github",
        "colab_type": "text"
      },
      "source": [
        "<a href=\"https://colab.research.google.com/github/slendrac123/AlgorithmsUN2023II/blob/main/Lab%205.ipynb\" target=\"_parent\"><img src=\"https://colab.research.google.com/assets/colab-badge.svg\" alt=\"Open In Colab\"/></a>"
      ]
    },
    {
      "cell_type": "markdown",
      "source": [
        "# **Name:** Pedro A. Prerez P.\n",
        "# **UN Id:** paperezp\n",
        "# L**ist number:** 91\n",
        "# **Group :** 8"
      ],
      "metadata": {
        "id": "138HHQxvs_U7"
      }
    },
    {
      "cell_type": "markdown",
      "source": [
        "## Write a code that produces the the **Bell numbers** count the possible partitions of a set.\n",
        "\n",
        "**Hint**:\n",
        ". Output the n-th Bell Number - [stackexchange](https://codegolf.stackexchange.com/questions/132379/output-the-n-th-bell-number)"
      ],
      "metadata": {
        "id": "rdu7PcWttfnz"
      }
    },
    {
      "cell_type": "markdown",
      "source": [
        "###Write a code that that produces  list of all partitions of the set of $[n]=\\{ 1,2,3,4\\cdots , n-1, n\\}$ with $0 \\le n \\le 65$ and also list all the partitions for wich the sum of elements of that partirtion is the same constant for all."
      ],
      "metadata": {
        "id": "vSafufOkvDht"
      }
    },
    {
      "cell_type": "markdown",
      "source": [
        "$1\\\\\n",
        "1  \\hspace{0.5cm}  2\\\\\n",
        "2  \\hspace{0.5cm}  3  \\hspace{0.5cm}  5\\\\\n",
        "5  \\hspace{0.5cm}  7 \\hspace{0.5cm}  10 \\hspace{0.3cm}  15\\\\\n",
        "15 \\hspace{0.3cm} 20 \\hspace{0.3cm}  27 \\hspace{0.3cm}  37 \\hspace{0.3cm}  52$"
      ],
      "metadata": {
        "id": "yKZY7pr84Mwl"
      }
    },
    {
      "cell_type": "code",
      "source": [
        "def bell(n):\n",
        "  b = 1\n",
        "  # your code goes here\n",
        "  bell1 = [1]\n",
        "  bell2 = [1]\n",
        "  for i in range(n):\n",
        "    bell2 = [0]\n",
        "    bell2[0] = bell1[-1]\n",
        "\n",
        "    for x in range(len(bell1)):\n",
        "      sum = bell2[x]+bell1[x]\n",
        "      bell2.append(sum)\n",
        "\n",
        "    partition = bell1\n",
        "    bell1 = bell2\n",
        "\n",
        "  b = bell2[0]\n",
        "  return b"
      ],
      "metadata": {
        "id": "bahIxhWdtfJG"
      },
      "execution_count": 1,
      "outputs": []
    },
    {
      "cell_type": "code",
      "source": [
        "bell(15)"
      ],
      "metadata": {
        "colab": {
          "base_uri": "https://localhost:8080/"
        },
        "id": "nKldnl5lIJHa",
        "outputId": "ad704b3e-9ab3-4b07-ce17-886a0297ce5a"
      },
      "execution_count": 2,
      "outputs": [
        {
          "output_type": "execute_result",
          "data": {
            "text/plain": [
              "1382958545"
            ]
          },
          "metadata": {},
          "execution_count": 2
        }
      ]
    },
    {
      "cell_type": "code",
      "source": [
        "for i in range(66):\n",
        "  print(i,\": \",bell(i))"
      ],
      "metadata": {
        "colab": {
          "base_uri": "https://localhost:8080/"
        },
        "id": "RgqL4W4K8rYw",
        "outputId": "615d2861-11f5-4b09-857b-3186b358a9b7"
      },
      "execution_count": 3,
      "outputs": [
        {
          "output_type": "stream",
          "name": "stdout",
          "text": [
            "0 :  1\n",
            "1 :  1\n",
            "2 :  2\n",
            "3 :  5\n",
            "4 :  15\n",
            "5 :  52\n",
            "6 :  203\n",
            "7 :  877\n",
            "8 :  4140\n",
            "9 :  21147\n",
            "10 :  115975\n",
            "11 :  678570\n",
            "12 :  4213597\n",
            "13 :  27644437\n",
            "14 :  190899322\n",
            "15 :  1382958545\n",
            "16 :  10480142147\n",
            "17 :  82864869804\n",
            "18 :  682076806159\n",
            "19 :  5832742205057\n",
            "20 :  51724158235372\n",
            "21 :  474869816156751\n",
            "22 :  4506715738447323\n",
            "23 :  44152005855084346\n",
            "24 :  445958869294805289\n",
            "25 :  4638590332229999353\n",
            "26 :  49631246523618756274\n",
            "27 :  545717047936059989389\n",
            "28 :  6160539404599934652455\n",
            "29 :  71339801938860275191172\n",
            "30 :  846749014511809332450147\n",
            "31 :  10293358946226376485095653\n",
            "32 :  128064670049908713818925644\n",
            "33 :  1629595892846007606764728147\n",
            "34 :  21195039388640360462388656799\n",
            "35 :  281600203019560266563340426570\n",
            "36 :  3819714729894818339975525681317\n",
            "37 :  52868366208550447901945575624941\n",
            "38 :  746289892095625330523099540639146\n",
            "39 :  10738823330774692832768857986425209\n",
            "40 :  157450588391204931289324344702531067\n",
            "41 :  2351152507740617628200694077243788988\n",
            "42 :  35742549198872617291353508656626642567\n",
            "43 :  552950118797165484321714693280737767385\n",
            "44 :  8701963427387055089023600531855797148876\n",
            "45 :  139258505266263669602347053993654079693415\n",
            "46 :  2265418219334494002928484444705392276158355\n",
            "47 :  37450059502461511196505342096431510120174682\n",
            "48 :  628919796303118415420210454071849537746015761\n",
            "49 :  10726137154573358400342215518590002633917247281\n",
            "50 :  185724268771078270438257767181908917499221852770\n",
            "51 :  3263983870004111524856951830191582524419255819477\n",
            "52 :  58205338024195872785464627063218599149503972126463\n",
            "53 :  1052928518014714166107781298021583534928402714242132\n",
            "54 :  19317287589145618265728950069285503257349832850302011\n",
            "55 :  359334085968622831041960188598043661065388726959079837\n",
            "56 :  6775685320645824322581483068371419745979053216268760300\n",
            "57 :  129482661947506964462616580633806000917491602609372517195\n",
            "58 :  2507136358984296114560786627437574942253015623445622326263\n",
            "59 :  49176743336309621659000944152624896853591018248919168867818\n",
            "60 :  976939307467007552986994066961675455550246347757474482558637\n",
            "61 :  19652364471547941482114228389322789963345673460673370562378245\n",
            "62 :  400237304821454786230522819234667544935526963060240082269259738\n",
            "63 :  8250771700405624889912456724304738028450190134337110943817172961\n",
            "64 :  172134143357358850934369963665272571125557575184049758045339873395\n",
            "65 :  3633778785457899322415257682767737441410036994560435982365219287372\n"
          ]
        }
      ]
    },
    {
      "cell_type": "markdown",
      "source": [
        "# Write a code that produces the partitions with all the parts havig same sum value, identify the formla for $n < 16$."
      ],
      "metadata": {
        "id": "nt9ekZ7kzjPr"
      }
    },
    {
      "cell_type": "code",
      "source": [
        "def constant_partitions(n):\n",
        "    b = 1\n",
        "    # your code goes here\n",
        "    if(n>0):\n",
        "      b=  bell(n) - bell(n-1)\n",
        "    return b"
      ],
      "metadata": {
        "id": "YlsF5eK-LZO4"
      },
      "execution_count": 4,
      "outputs": []
    },
    {
      "cell_type": "markdown",
      "source": [
        "Donde $bell(n)$ es el $n-ésimo$ número de Bell. La función $constant$_$partitions(n)$ calcula la diferencia entre los números de Bell $B_n​$ y $B_n−1​$. Según la fórmula anterior, esto debería proporcionar la cantidad de particiones con partes de igual suma para un conjunto de n elementos."
      ],
      "metadata": {
        "id": "gCpni_XfPDT7"
      }
    },
    {
      "cell_type": "code",
      "execution_count": 5,
      "metadata": {
        "id": "oeaYwUFFs78I",
        "colab": {
          "base_uri": "https://localhost:8080/"
        },
        "outputId": "9da0029b-1281-45ee-8cbd-c21a0f43e3fd"
      },
      "outputs": [
        {
          "output_type": "stream",
          "name": "stdout",
          "text": [
            "El número de particiones con partes de igual suma para n=4 es: 10\n"
          ]
        }
      ],
      "source": [
        "# Ejemplo para n = 5\n",
        "n = 4\n",
        "partitions = constant_partitions(n)\n",
        "print(f\"El número de particiones con partes de igual suma para n={n} es: {partitions}\")\n"
      ]
    }
  ]
}
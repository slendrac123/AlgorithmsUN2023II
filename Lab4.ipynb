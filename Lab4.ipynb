{
  "cells": [
    {
      "cell_type": "markdown",
      "metadata": {
        "id": "view-in-github",
        "colab_type": "text"
      },
      "source": [
        "<a href=\"https://colab.research.google.com/github/slendrac123/AlgorithmsUN2023II/blob/main/Lab4.ipynb\" target=\"_parent\"><img src=\"https://colab.research.google.com/assets/colab-badge.svg\" alt=\"Open In Colab\"/></a>"
      ]
    },
    {
      "cell_type": "code",
      "execution_count": null,
      "metadata": {
        "id": "im-VVd1__7VU",
        "colab": {
          "base_uri": "https://localhost:8080/"
        },
        "outputId": "7d2551e1-fe2c-427d-85a9-af1621f3335e"
      },
      "outputs": [
        {
          "output_type": "stream",
          "name": "stdout",
          "text": [
            "processor\t: 0\n",
            "vendor_id\t: GenuineIntel\n",
            "cpu family\t: 6\n",
            "model\t\t: 79\n",
            "model name\t: Intel(R) Xeon(R) CPU @ 2.20GHz\n",
            "stepping\t: 0\n",
            "microcode\t: 0xffffffff\n",
            "cpu MHz\t\t: 2199.998\n",
            "cache size\t: 56320 KB\n",
            "physical id\t: 0\n",
            "siblings\t: 2\n",
            "core id\t\t: 0\n",
            "cpu cores\t: 1\n",
            "apicid\t\t: 0\n",
            "initial apicid\t: 0\n",
            "fpu\t\t: yes\n",
            "fpu_exception\t: yes\n",
            "cpuid level\t: 13\n",
            "wp\t\t: yes\n",
            "flags\t\t: fpu vme de pse tsc msr pae mce cx8 apic sep mtrr pge mca cmov pat pse36 clflush mmx fxsr sse sse2 ss ht syscall nx pdpe1gb rdtscp lm constant_tsc rep_good nopl xtopology nonstop_tsc cpuid tsc_known_freq pni pclmulqdq ssse3 fma cx16 pcid sse4_1 sse4_2 x2apic movbe popcnt aes xsave avx f16c rdrand hypervisor lahf_lm abm 3dnowprefetch invpcid_single ssbd ibrs ibpb stibp fsgsbase tsc_adjust bmi1 hle avx2 smep bmi2 erms invpcid rtm rdseed adx smap xsaveopt arat md_clear arch_capabilities\n",
            "bugs\t\t: cpu_meltdown spectre_v1 spectre_v2 spec_store_bypass l1tf mds swapgs taa mmio_stale_data retbleed\n",
            "bogomips\t: 4399.99\n",
            "clflush size\t: 64\n",
            "cache_alignment\t: 64\n",
            "address sizes\t: 46 bits physical, 48 bits virtual\n",
            "power management:\n",
            "\n",
            "processor\t: 1\n",
            "vendor_id\t: GenuineIntel\n",
            "cpu family\t: 6\n",
            "model\t\t: 79\n",
            "model name\t: Intel(R) Xeon(R) CPU @ 2.20GHz\n",
            "stepping\t: 0\n",
            "microcode\t: 0xffffffff\n",
            "cpu MHz\t\t: 2199.998\n",
            "cache size\t: 56320 KB\n",
            "physical id\t: 0\n",
            "siblings\t: 2\n",
            "core id\t\t: 0\n",
            "cpu cores\t: 1\n",
            "apicid\t\t: 1\n",
            "initial apicid\t: 1\n",
            "fpu\t\t: yes\n",
            "fpu_exception\t: yes\n",
            "cpuid level\t: 13\n",
            "wp\t\t: yes\n",
            "flags\t\t: fpu vme de pse tsc msr pae mce cx8 apic sep mtrr pge mca cmov pat pse36 clflush mmx fxsr sse sse2 ss ht syscall nx pdpe1gb rdtscp lm constant_tsc rep_good nopl xtopology nonstop_tsc cpuid tsc_known_freq pni pclmulqdq ssse3 fma cx16 pcid sse4_1 sse4_2 x2apic movbe popcnt aes xsave avx f16c rdrand hypervisor lahf_lm abm 3dnowprefetch invpcid_single ssbd ibrs ibpb stibp fsgsbase tsc_adjust bmi1 hle avx2 smep bmi2 erms invpcid rtm rdseed adx smap xsaveopt arat md_clear arch_capabilities\n",
            "bugs\t\t: cpu_meltdown spectre_v1 spectre_v2 spec_store_bypass l1tf mds swapgs taa mmio_stale_data retbleed\n",
            "bogomips\t: 4399.99\n",
            "clflush size\t: 64\n",
            "cache_alignment\t: 64\n",
            "address sizes\t: 46 bits physical, 48 bits virtual\n",
            "power management:\n",
            "\n"
          ]
        }
      ],
      "source": [
        "!cat /proc/cpuinfo"
      ]
    },
    {
      "cell_type": "markdown",
      "metadata": {
        "id": "N1ok_-56OjB1"
      },
      "source": [
        "# I Solving the Sum of Two Digits Programming Challenge"
      ]
    },
    {
      "cell_type": "markdown",
      "metadata": {
        "id": "MMY7kmDSO0KM"
      },
      "source": [
        "## C++"
      ]
    },
    {
      "cell_type": "code",
      "execution_count": null,
      "metadata": {
        "colab": {
          "base_uri": "https://localhost:8080/"
        },
        "id": "2pGGf9BkPNIk",
        "outputId": "5803fbd6-4557-4391-e49e-e14cdbacb8e7"
      },
      "outputs": [
        {
          "output_type": "stream",
          "name": "stdout",
          "text": [
            "Writing APlusB.cpp\n"
          ]
        }
      ],
      "source": [
        "%%writefile APlusB.cpp\n",
        "#include <iostream>\n",
        "\n",
        "int sum_of_two_digits(int first_digit, int second_digit) {\n",
        "    return first_digit + second_digit;\n",
        "}\n",
        "\n",
        "int main() {\n",
        "    int a = 0;\n",
        "    int b = 0;\n",
        "    std::cin >> a;\n",
        "    std::cin >> b;\n",
        "    std::cout << sum_of_two_digits(a, b);\n",
        "    return 0;\n",
        "}"
      ]
    },
    {
      "cell_type": "code",
      "execution_count": null,
      "metadata": {
        "colab": {
          "base_uri": "https://localhost:8080/"
        },
        "id": "0G3ZKOYAPXSU",
        "outputId": "5fa3d1fe-682c-42d7-b9ff-faa6af24852a"
      },
      "outputs": [
        {
          "output_type": "stream",
          "name": "stdout",
          "text": [
            "4 8\n",
            "12"
          ]
        }
      ],
      "source": [
        "!g++ APlusB.cpp -o APlusB -std=c++11\n",
        "!./APlusB"
      ]
    },
    {
      "cell_type": "markdown",
      "metadata": {
        "id": "iNkG2HqfTl9c"
      },
      "source": [
        "### Test input output files"
      ]
    },
    {
      "cell_type": "code",
      "execution_count": null,
      "metadata": {
        "colab": {
          "base_uri": "https://localhost:8080/"
        },
        "id": "aTzU2efzMxly",
        "outputId": "e1764b3a-cfee-4d93-cad5-1789aff1c1a9"
      },
      "outputs": [
        {
          "output_type": "stream",
          "name": "stdout",
          "text": [
            "Writing input1.txt\n"
          ]
        }
      ],
      "source": [
        "%%writefile input1.txt\n",
        "4 8"
      ]
    },
    {
      "cell_type": "code",
      "execution_count": null,
      "metadata": {
        "colab": {
          "base_uri": "https://localhost:8080/"
        },
        "id": "zBJ0Gc0NQRet",
        "outputId": "4c70e521-8c9d-4e5a-cd99-5a6b1f7800c1"
      },
      "outputs": [
        {
          "output_type": "stream",
          "name": "stdout",
          "text": [
            "Writing output1.txt\n"
          ]
        }
      ],
      "source": [
        "%%writefile output1.txt\n",
        "12"
      ]
    },
    {
      "cell_type": "code",
      "execution_count": null,
      "metadata": {
        "colab": {
          "base_uri": "https://localhost:8080/"
        },
        "id": "IjEcIx63PJAN",
        "outputId": "4274baed-9e2d-4c20-9132-80baed6e6db1"
      },
      "outputs": [
        {
          "output_type": "stream",
          "name": "stdout",
          "text": [
            "Writing input2.txt\n"
          ]
        }
      ],
      "source": [
        "%%writefile input2.txt\n",
        "0 9"
      ]
    },
    {
      "cell_type": "code",
      "execution_count": null,
      "metadata": {
        "colab": {
          "base_uri": "https://localhost:8080/"
        },
        "id": "Up9gOrxURTmd",
        "outputId": "818de7ce-816b-43d9-f887-b7a01604fd33"
      },
      "outputs": [
        {
          "output_type": "stream",
          "name": "stdout",
          "text": [
            "Writing output2.txt\n"
          ]
        }
      ],
      "source": [
        "%%writefile output2.txt\n",
        "9"
      ]
    },
    {
      "cell_type": "code",
      "execution_count": null,
      "metadata": {
        "colab": {
          "base_uri": "https://localhost:8080/"
        },
        "id": "PST6G-s-Pwgc",
        "outputId": "14c7e8e2-02f2-4ab3-c93a-f19bee750008"
      },
      "outputs": [
        {
          "output_type": "stream",
          "name": "stdout",
          "text": [
            "12"
          ]
        }
      ],
      "source": [
        "!./APlusB < input1.txt"
      ]
    },
    {
      "cell_type": "code",
      "execution_count": null,
      "metadata": {
        "colab": {
          "base_uri": "https://localhost:8080/"
        },
        "id": "cKxZOjSlRfIN",
        "outputId": "e1e0d7bc-438f-48b9-f3a4-527d9d695429"
      },
      "outputs": [
        {
          "output_type": "stream",
          "name": "stdout",
          "text": [
            "9"
          ]
        }
      ],
      "source": [
        "!./APlusB < input2.txt"
      ]
    },
    {
      "cell_type": "markdown",
      "metadata": {
        "id": "Qw2TQWCCUwqk"
      },
      "source": [
        "### Comparing files with grep\n",
        "\n",
        "https://askubuntu.com/questions/546796/comparing-two-text-files"
      ]
    },
    {
      "cell_type": "code",
      "execution_count": null,
      "metadata": {
        "id": "WVIaAmMKU4QM"
      },
      "outputs": [],
      "source": [
        "!grep -xvFf output1.txt output1.txt"
      ]
    },
    {
      "cell_type": "code",
      "execution_count": null,
      "metadata": {
        "id": "MQU8gPPjQuYO",
        "colab": {
          "base_uri": "https://localhost:8080/"
        },
        "outputId": "44b4eea0-e7e8-4583-a74a-5d96d735b103"
      },
      "outputs": [
        {
          "output_type": "stream",
          "name": "stdout",
          "text": [
            "9\n"
          ]
        }
      ],
      "source": [
        "!grep -xvFf output1.txt output2.txt"
      ]
    },
    {
      "cell_type": "code",
      "execution_count": null,
      "metadata": {
        "colab": {
          "base_uri": "https://localhost:8080/"
        },
        "id": "jYL9OuYBTD_l",
        "outputId": "2c641446-814c-45a4-ed44-c04a8960173b"
      },
      "outputs": [
        {
          "output_type": "stream",
          "name": "stdout",
          "text": [
            "12\n"
          ]
        }
      ],
      "source": [
        "!grep -xvFf output2.txt output1.txt"
      ]
    },
    {
      "cell_type": "code",
      "execution_count": null,
      "metadata": {
        "id": "Jlja0Xm4TX9M"
      },
      "outputs": [],
      "source": [
        "!./APlusB < input1.txt> ctest1.txt\n",
        "!grep -xvFf output1.txt ctest1.txt"
      ]
    },
    {
      "cell_type": "code",
      "execution_count": null,
      "metadata": {
        "id": "g9OIUZA_QLCQ"
      },
      "outputs": [],
      "source": [
        "!./APlusB < input2.txt > ctest2.txt\n",
        "!grep -xvFf output2.txt ctest2.txt"
      ]
    },
    {
      "cell_type": "markdown",
      "metadata": {
        "id": "3BgOaDjUVJk6"
      },
      "source": [
        "## Python"
      ]
    },
    {
      "cell_type": "code",
      "execution_count": null,
      "metadata": {
        "colab": {
          "base_uri": "https://localhost:8080/"
        },
        "id": "DBvl-T0CTN_8",
        "outputId": "076963a1-b3cf-4152-b248-ff748b1f0330"
      },
      "outputs": [
        {
          "output_type": "stream",
          "name": "stdout",
          "text": [
            "Writing sum.py\n"
          ]
        }
      ],
      "source": [
        "%%writefile sum.py\n",
        "# python3\n",
        "\n",
        "def sum_of_two_digits(first_digit, second_digit):\n",
        "    return first_digit + second_digit\n",
        "\n",
        "if __name__ == '__main__':\n",
        "    a, b = map(int, input().split())\n",
        "    print(sum_of_two_digits(a, b))"
      ]
    },
    {
      "cell_type": "code",
      "execution_count": null,
      "metadata": {
        "colab": {
          "base_uri": "https://localhost:8080/"
        },
        "id": "QKoKM11_WGyF",
        "outputId": "a82078d3-a1c3-4cb5-f650-cd7feb3ece98"
      },
      "outputs": [
        {
          "output_type": "stream",
          "name": "stdout",
          "text": [
            "4 8\n",
            "12\n"
          ]
        }
      ],
      "source": [
        "!python sum.py"
      ]
    },
    {
      "cell_type": "code",
      "execution_count": null,
      "metadata": {
        "id": "cocFbPRTWrqt"
      },
      "outputs": [],
      "source": [
        "!python sum.py  < input1.txt> ptest1.txt\n",
        "!grep -xvFf output1.txt ptest1.txt"
      ]
    },
    {
      "cell_type": "code",
      "execution_count": null,
      "metadata": {
        "id": "MorKTa-XXASN"
      },
      "outputs": [],
      "source": [
        "!python sum.py  < input2.txt> ptest2.txt\n",
        "!grep -xvFf output2.txt ptest2.txt"
      ]
    },
    {
      "cell_type": "markdown",
      "metadata": {
        "id": "uvP-mOubW_5F"
      },
      "source": [
        "# II Solving The Maximum Pairwise Product Programming Challenge in C++"
      ]
    },
    {
      "cell_type": "markdown",
      "metadata": {
        "id": "C12yoFR6Xonl"
      },
      "source": [
        "## C++"
      ]
    },
    {
      "cell_type": "code",
      "source": [
        "%%writefile max_pairwise_product_full.cpp\n",
        "#include <iostream>\n",
        "#include <vector>\n",
        "#include <algorithm>\n",
        "\n",
        "int MaxPairwiseProduct(const std::vector<int>& numbers) {\n",
        "    int max_product = 0;\n",
        "    int aux_product = 0;\n",
        "    int n = numbers.size();\n",
        "\n",
        "    for (int first = 0; first < n; ++first) {\n",
        "        for (int second = 0; second < n; ++second) {\n",
        "          if ( first != second ){\n",
        "                aux_product = numbers[first] * numbers[second];\n",
        "                if (aux_product > max_product)  max_product = aux_product;\n",
        "          }\n",
        "        }\n",
        "    }\n",
        "\n",
        "    return max_product;\n",
        "}\n",
        "\n",
        "int main() {\n",
        "    int n;\n",
        "    std::cin >> n;\n",
        "    std::vector<int> numbers(n);\n",
        "    for (int i = 0; i < n; ++i) {\n",
        "        std::cin >> numbers[i];\n",
        "    }\n",
        "\n",
        "    std::cout << MaxPairwiseProduct(numbers) << \"\\n\";\n",
        "    return 0;\n",
        "}"
      ],
      "metadata": {
        "colab": {
          "base_uri": "https://localhost:8080/"
        },
        "id": "3LpfoGv2Ae81",
        "outputId": "37ed19de-03ed-46ed-9d70-5bb45798829d"
      },
      "execution_count": null,
      "outputs": [
        {
          "output_type": "stream",
          "name": "stdout",
          "text": [
            "Writing max_pairwise_product_full.cpp\n"
          ]
        }
      ]
    },
    {
      "cell_type": "code",
      "source": [
        "!g++ max_pairwise_product_full.cpp -o max_pairwise_product_full\n",
        "!./max_pairwise_product_full"
      ],
      "metadata": {
        "id": "PCVo1h6nCF9k",
        "colab": {
          "base_uri": "https://localhost:8080/"
        },
        "outputId": "37bf6103-9d63-49cc-f2df-0052f47c4f9e"
      },
      "execution_count": null,
      "outputs": [
        {
          "output_type": "stream",
          "name": "stdout",
          "text": [
            "5\n",
            "1 2 3 4 5\n",
            "20\n"
          ]
        }
      ]
    },
    {
      "cell_type": "markdown",
      "metadata": {
        "id": "m75IQQPbEHBS"
      },
      "source": [
        "$$n^2 \\ \\text{first != second  comparisons},  n^2 - n \\ \\ \\text{numbers[first] * numbers[second] products},  O(n^2)$$"
      ]
    },
    {
      "cell_type": "markdown",
      "metadata": {
        "id": "e7KhxHGNS3i0"
      },
      "source": [
        "### Test 1: Small numbers"
      ]
    },
    {
      "cell_type": "code",
      "execution_count": null,
      "metadata": {
        "colab": {
          "base_uri": "https://localhost:8080/"
        },
        "id": "e1mmTzBgShT-",
        "outputId": "fa3f2def-02a3-465f-ab20-956ad1050a12"
      },
      "outputs": [
        {
          "output_type": "stream",
          "name": "stdout",
          "text": [
            "Overwriting input1.txt\n"
          ]
        }
      ],
      "source": [
        "%%writefile input1.txt\n",
        "10\n",
        "1 2 3 4 5 6 7 8 9 10"
      ]
    },
    {
      "cell_type": "code",
      "execution_count": null,
      "metadata": {
        "colab": {
          "base_uri": "https://localhost:8080/"
        },
        "id": "vy_uI0x7TCId",
        "outputId": "35c34377-5778-42c6-a757-108d47225dda"
      },
      "outputs": [
        {
          "output_type": "stream",
          "name": "stdout",
          "text": [
            "90\n"
          ]
        }
      ],
      "source": [
        "!./max_pairwise_product_full < input1.txt"
      ]
    },
    {
      "cell_type": "code",
      "execution_count": null,
      "metadata": {
        "colab": {
          "base_uri": "https://localhost:8080/"
        },
        "id": "xaj6f9bxC6D6",
        "outputId": "53592a8c-60d7-414f-e9e0-8b0aff942e2d"
      },
      "outputs": [
        {
          "output_type": "stream",
          "name": "stdout",
          "text": [
            "Overwriting output1.txt\n"
          ]
        }
      ],
      "source": [
        "%%writefile output1.txt\n",
        "90"
      ]
    },
    {
      "cell_type": "code",
      "execution_count": null,
      "metadata": {
        "id": "fYCjAdA_C-wy"
      },
      "outputs": [],
      "source": [
        "!./max_pairwise_product_full< input1.txt > ctest1.txt\n",
        "!grep -xvFf output1.txt ctest1.txt"
      ]
    },
    {
      "cell_type": "code",
      "source": [
        "%%writefile input2.txt\n",
        "10\n",
        "10 9 8 7 6 5 4 3 2 1"
      ],
      "metadata": {
        "colab": {
          "base_uri": "https://localhost:8080/"
        },
        "id": "ZPe40LY14_6f",
        "outputId": "6515db17-1b0f-4e2f-8c0e-69056e54b48f"
      },
      "execution_count": null,
      "outputs": [
        {
          "output_type": "stream",
          "name": "stdout",
          "text": [
            "Overwriting input2.txt\n"
          ]
        }
      ]
    },
    {
      "cell_type": "code",
      "source": [
        "%%writefile output2.txt\n",
        "90"
      ],
      "metadata": {
        "colab": {
          "base_uri": "https://localhost:8080/"
        },
        "id": "xiHmF7HA5Faa",
        "outputId": "f4e033b7-1d90-45c4-dcad-220304bf3f80"
      },
      "execution_count": null,
      "outputs": [
        {
          "output_type": "stream",
          "name": "stdout",
          "text": [
            "Overwriting output2.txt\n"
          ]
        }
      ]
    },
    {
      "cell_type": "code",
      "source": [
        "!./max_pairwise_product_full< input2.txt > ctest2.txt\n",
        "!grep -xvFf output2.txt ctest2.txt"
      ],
      "metadata": {
        "id": "jjwc9kwb5t_k"
      },
      "execution_count": null,
      "outputs": []
    },
    {
      "cell_type": "markdown",
      "metadata": {
        "id": "IeZ3kTjpYmR9"
      },
      "source": [
        "### Test 2: largest input numbers 200000 200000 in the input"
      ]
    },
    {
      "cell_type": "code",
      "execution_count": null,
      "metadata": {
        "colab": {
          "base_uri": "https://localhost:8080/"
        },
        "id": "LQNlZqaqYt7U",
        "outputId": "ac70580e-662f-4084-8e9b-6a41ec51c0bf"
      },
      "outputs": [
        {
          "output_type": "stream",
          "name": "stdout",
          "text": [
            "Writing input3.txt\n"
          ]
        }
      ],
      "source": [
        "%%writefile input3.txt\n",
        "6\n",
        "1 3 200000 9 200000 23"
      ]
    },
    {
      "cell_type": "code",
      "execution_count": null,
      "metadata": {
        "colab": {
          "base_uri": "https://localhost:8080/"
        },
        "id": "GjQq7QOUCw-9",
        "outputId": "12fa7bbe-225a-4f99-a1db-ceebcbf83efa"
      },
      "outputs": [
        {
          "output_type": "execute_result",
          "data": {
            "text/plain": [
              "40000000000"
            ]
          },
          "metadata": {},
          "execution_count": 30
        }
      ],
      "source": [
        "200000*200000"
      ]
    },
    {
      "cell_type": "code",
      "execution_count": null,
      "metadata": {
        "colab": {
          "base_uri": "https://localhost:8080/"
        },
        "id": "EuS6n3jtDK5C",
        "outputId": "aef8a141-f284-4ec7-ed29-7a7184531abc"
      },
      "outputs": [
        {
          "output_type": "stream",
          "name": "stdout",
          "text": [
            "Writing output3.txt\n"
          ]
        }
      ],
      "source": [
        "%%writefile output3.txt\n",
        "40000000000"
      ]
    },
    {
      "cell_type": "code",
      "execution_count": null,
      "metadata": {
        "colab": {
          "base_uri": "https://localhost:8080/"
        },
        "id": "2Wad2VZUZDxR",
        "outputId": "1f70c5db-84a1-44ea-b84b-58c3963ef4dc"
      },
      "outputs": [
        {
          "output_type": "stream",
          "name": "stdout",
          "text": [
            "1345294336\n"
          ]
        }
      ],
      "source": [
        "!./max_pairwise_product_full < input3.txt"
      ]
    },
    {
      "cell_type": "code",
      "execution_count": null,
      "metadata": {
        "colab": {
          "base_uri": "https://localhost:8080/"
        },
        "id": "pEvp1ieyDJGq",
        "outputId": "b06313c9-eebe-4f7d-cdd4-d88e2a65e37c"
      },
      "outputs": [
        {
          "output_type": "stream",
          "name": "stdout",
          "text": [
            "1345294336\n"
          ]
        }
      ],
      "source": [
        "!./max_pairwise_product_full < input3.txt > ctest3.txt\n",
        "!grep -xvFf output3.txt ctest3.txt"
      ]
    },
    {
      "cell_type": "code",
      "source": [
        " %%writefile run_all_test.sh\n",
        "#!/bin/bash\n",
        "g++ max_pairwise_product_full.cpp -o max_pairwise_product_full\n",
        "for i in {1..3}\n",
        "do\n",
        "    ./max_pairwise_product_full < input$i.txt > ctest$i.txt\n",
        "    grep -xvFf output$i.txt ctest$i.txt\n",
        "done"
      ],
      "metadata": {
        "colab": {
          "base_uri": "https://localhost:8080/"
        },
        "id": "SrtJrKqM-God",
        "outputId": "9b3e72bb-838b-431c-ff81-de98ea47e7ed"
      },
      "execution_count": null,
      "outputs": [
        {
          "output_type": "stream",
          "name": "stdout",
          "text": [
            "Writing run_all_test.sh\n"
          ]
        }
      ]
    },
    {
      "cell_type": "code",
      "source": [
        "!chmod u+x run_all_test.sh\n",
        "!./run_all_test.sh"
      ],
      "metadata": {
        "colab": {
          "base_uri": "https://localhost:8080/"
        },
        "id": "wGWMHtzS-QnA",
        "outputId": "a76a9763-6e9a-4011-d756-f4e286ca7d9b"
      },
      "execution_count": null,
      "outputs": [
        {
          "output_type": "stream",
          "name": "stdout",
          "text": [
            "1345294336\n"
          ]
        }
      ]
    },
    {
      "cell_type": "markdown",
      "metadata": {
        "id": "H2SC0Qt5HCzz"
      },
      "source": [
        "Changing the variables to long long"
      ]
    },
    {
      "cell_type": "code",
      "execution_count": null,
      "metadata": {
        "colab": {
          "base_uri": "https://localhost:8080/"
        },
        "id": "MPcmsxiQZSfE",
        "outputId": "b687fff0-f1a5-40f0-921e-d0f6e2546cd9"
      },
      "outputs": [
        {
          "output_type": "stream",
          "name": "stdout",
          "text": [
            "Writing max_pairwise_product_long_full.cpp\n"
          ]
        }
      ],
      "source": [
        "%%writefile max_pairwise_product_long_full.cpp\n",
        "#include <iostream>\n",
        "#include <vector>\n",
        "#include <algorithm>\n",
        "\n",
        "long long MaxPairwiseProduct(const std::vector<int>& numbers) {\n",
        "    long long max_product = 0LL;\n",
        "\t  long long aux_product = 0LL;\n",
        "    int n = numbers.size();\n",
        "\n",
        "    for (int first = 0; first < n; ++first) {\n",
        "        for (int second = 0; second < n; ++second) {\n",
        "          if ( first != second){\n",
        "                aux_product = (long long) numbers[first] * numbers[second];\n",
        "                if (aux_product > max_product)  max_product = aux_product;\n",
        "          }\n",
        "        }\n",
        "    }\n",
        "\n",
        "\n",
        "    return max_product;\n",
        "}\n",
        "\n",
        "int main() {\n",
        "    int n;\n",
        "    std::cin >> n;\n",
        "    std::vector<int> numbers(n);\n",
        "    for (int i = 0; i < n; ++i) {\n",
        "        std::cin >> numbers[i];\n",
        "    }\n",
        "\n",
        "    std::cout << MaxPairwiseProduct(numbers) << \"\\n\";\n",
        "    return 0;\n",
        "}\n"
      ]
    },
    {
      "cell_type": "code",
      "source": [
        "!g++ max_pairwise_product_long_full.cpp -o max_pairwise_product_long_full"
      ],
      "metadata": {
        "id": "W3xQpFXL6wjO"
      },
      "execution_count": null,
      "outputs": []
    },
    {
      "cell_type": "code",
      "source": [
        "!./max_pairwise_product_long_full < input3.txt"
      ],
      "metadata": {
        "colab": {
          "base_uri": "https://localhost:8080/"
        },
        "id": "H5dvN9M3R9sV",
        "outputId": "462fc5cc-8386-48a3-af65-e177c128e3df"
      },
      "execution_count": null,
      "outputs": [
        {
          "output_type": "stream",
          "name": "stdout",
          "text": [
            "40000000000\n"
          ]
        }
      ]
    },
    {
      "cell_type": "markdown",
      "source": [
        "### Runing multuple test with a bash shell"
      ],
      "metadata": {
        "id": "gx-sEYdfQ8f8"
      }
    },
    {
      "cell_type": "code",
      "source": [
        " %%writefile run_all_test.sh\n",
        "#!/bin/bash\n",
        "g++ max_pairwise_product_long_full.cpp -o max_pairwise_product_long_full\n",
        "for i in {1..3}\n",
        "do\n",
        "    ./max_pairwise_product_long_full < input$i.txt > ctest$i.txt\n",
        "    grep -xvFf output$i.txt ctest$i.txt\n",
        "done"
      ],
      "metadata": {
        "colab": {
          "base_uri": "https://localhost:8080/"
        },
        "id": "O9qsq2nn7elw",
        "outputId": "25625a60-5700-4f2e-a355-87af296ba9eb"
      },
      "execution_count": null,
      "outputs": [
        {
          "output_type": "stream",
          "name": "stdout",
          "text": [
            "Overwriting run_all_test.sh\n"
          ]
        }
      ]
    },
    {
      "cell_type": "code",
      "source": [
        "!chmod u+x run_all_test.sh\n",
        "!./run_all_test.sh"
      ],
      "metadata": {
        "id": "0g5kKVph7xIA"
      },
      "execution_count": null,
      "outputs": []
    },
    {
      "cell_type": "markdown",
      "metadata": {
        "id": "XPVHkHxH6_7s"
      },
      "source": [
        "### Test 3  stress tests 6 testing cases files input4.txt/output4.txt .. input10.txt/output10.txt\n",
        "\n",
        "---\n",
        "\n"
      ]
    },
    {
      "cell_type": "markdown",
      "source": [
        "----------------------------------------------------**Test *3.1***-------------------------------------------------"
      ],
      "metadata": {
        "id": "kNdssEKaLCtl"
      }
    },
    {
      "cell_type": "code",
      "execution_count": null,
      "metadata": {
        "id": "PwqpBmYr69fu",
        "colab": {
          "base_uri": "https://localhost:8080/"
        },
        "outputId": "549e7c9d-e792-409d-c16b-7cfe200d5099"
      },
      "outputs": [
        {
          "output_type": "stream",
          "name": "stdout",
          "text": [
            "Writing input4.txt\n"
          ]
        }
      ],
      "source": [
        "%%writefile input4.txt\n",
        "10\n",
        "7 8 9554  5214  42  567 331 44  4 1"
      ]
    },
    {
      "cell_type": "code",
      "source": [
        "9554*5214"
      ],
      "metadata": {
        "colab": {
          "base_uri": "https://localhost:8080/"
        },
        "id": "znRSKu9iJv4y",
        "outputId": "102a0d27-b937-4edf-f07a-423a07c854b2"
      },
      "execution_count": null,
      "outputs": [
        {
          "output_type": "execute_result",
          "data": {
            "text/plain": [
              "49814556"
            ]
          },
          "metadata": {},
          "execution_count": 42
        }
      ]
    },
    {
      "cell_type": "code",
      "source": [
        "%%writefile ctest4.txt\n",
        "49814556"
      ],
      "metadata": {
        "colab": {
          "base_uri": "https://localhost:8080/"
        },
        "id": "CGTeM2YuKYuV",
        "outputId": "30d471ee-2b5d-4d9a-adbe-6795d8fd48d7"
      },
      "execution_count": null,
      "outputs": [
        {
          "output_type": "stream",
          "name": "stdout",
          "text": [
            "Writing ctest4.txt\n"
          ]
        }
      ]
    },
    {
      "cell_type": "code",
      "execution_count": null,
      "metadata": {
        "id": "jBCkMeR6Fw4y",
        "colab": {
          "base_uri": "https://localhost:8080/"
        },
        "outputId": "3be10e5f-b357-4632-9d28-b016bea0b3b6"
      },
      "outputs": [
        {
          "output_type": "stream",
          "name": "stdout",
          "text": [
            "49814556\n"
          ]
        }
      ],
      "source": [
        "!./max_pairwise_product_long_full < input4.txt"
      ]
    },
    {
      "cell_type": "code",
      "source": [
        "%%writefile output4.txt\n",
        "49814556"
      ],
      "metadata": {
        "colab": {
          "base_uri": "https://localhost:8080/"
        },
        "id": "U-MpdcGtJ6YS",
        "outputId": "e8738192-2366-4d75-d220-49a3e9416f68"
      },
      "execution_count": null,
      "outputs": [
        {
          "output_type": "stream",
          "name": "stdout",
          "text": [
            "Writing output4.txt\n"
          ]
        }
      ]
    },
    {
      "cell_type": "code",
      "source": [
        "!./max_pairwise_product_long_full < input4.txt > ctest4.txt\n",
        "!grep -xvFf output4.txt ctest4.txt"
      ],
      "metadata": {
        "id": "zED8V8wu-eoM"
      },
      "execution_count": null,
      "outputs": []
    },
    {
      "cell_type": "markdown",
      "source": [
        "----------------------------------------------------Test 3.2-------------------------------------------------"
      ],
      "metadata": {
        "id": "28Iz8x04L6xU"
      }
    },
    {
      "cell_type": "code",
      "source": [
        "%%writefile input5.txt\n",
        "5\n",
        "23  5 4455  6871  25"
      ],
      "metadata": {
        "colab": {
          "base_uri": "https://localhost:8080/"
        },
        "id": "mezxRXlSL88Z",
        "outputId": "20d2ddec-61a7-4917-8146-c3ac3a4b1b30"
      },
      "execution_count": null,
      "outputs": [
        {
          "output_type": "stream",
          "name": "stdout",
          "text": [
            "Writing input5.txt\n"
          ]
        }
      ]
    },
    {
      "cell_type": "code",
      "source": [
        "4455*6871"
      ],
      "metadata": {
        "colab": {
          "base_uri": "https://localhost:8080/"
        },
        "id": "nwwrQG6AMPC-",
        "outputId": "c507a998-6659-4afd-8409-30ece009bc4b"
      },
      "execution_count": null,
      "outputs": [
        {
          "output_type": "execute_result",
          "data": {
            "text/plain": [
              "30610305"
            ]
          },
          "metadata": {},
          "execution_count": 48
        }
      ]
    },
    {
      "cell_type": "code",
      "source": [
        "%%writefile ctest5.txt\n",
        "30610305"
      ],
      "metadata": {
        "colab": {
          "base_uri": "https://localhost:8080/"
        },
        "id": "a3GTxPrpMVCK",
        "outputId": "a2aba2f5-98a9-42ee-89c6-fb98fc9fc2ef"
      },
      "execution_count": null,
      "outputs": [
        {
          "output_type": "stream",
          "name": "stdout",
          "text": [
            "Writing ctest5.txt\n"
          ]
        }
      ]
    },
    {
      "cell_type": "code",
      "source": [
        "!./max_pairwise_product_long_full < input5.txt"
      ],
      "metadata": {
        "colab": {
          "base_uri": "https://localhost:8080/"
        },
        "id": "pjB6ohzwMa65",
        "outputId": "f5503567-dbdb-4291-965b-aef8c05800c5"
      },
      "execution_count": null,
      "outputs": [
        {
          "output_type": "stream",
          "name": "stdout",
          "text": [
            "30610305\n"
          ]
        }
      ]
    },
    {
      "cell_type": "code",
      "source": [
        "%%writefile output5.txt\n",
        "30610305"
      ],
      "metadata": {
        "colab": {
          "base_uri": "https://localhost:8080/"
        },
        "id": "Lv3TT5a9MgsR",
        "outputId": "0054e7f6-1fac-48e9-d3ff-d12eb267fe16"
      },
      "execution_count": null,
      "outputs": [
        {
          "output_type": "stream",
          "name": "stdout",
          "text": [
            "Writing output5.txt\n"
          ]
        }
      ]
    },
    {
      "cell_type": "code",
      "source": [
        "!./max_pairwise_product_long_full < input5.txt > ctest5.txt\n",
        "!grep -xvFf output5.txt ctest5.txt"
      ],
      "metadata": {
        "id": "5creajHDMv-v"
      },
      "execution_count": null,
      "outputs": []
    },
    {
      "cell_type": "markdown",
      "source": [
        "---------------------------------------------------Test 3.3-------------------------------------------------"
      ],
      "metadata": {
        "id": "f9RAYYdqM4sv"
      }
    },
    {
      "cell_type": "code",
      "source": [
        "%%writefile input6.txt\n",
        "20\n",
        "12  3 6 7 918 4 1 2 85  3 7 23  45  68  72  23  100 58  75  64"
      ],
      "metadata": {
        "colab": {
          "base_uri": "https://localhost:8080/"
        },
        "id": "WNnxrGTpM7NZ",
        "outputId": "4e5d1770-8eef-4976-d583-12bdc6c9d12f"
      },
      "execution_count": null,
      "outputs": [
        {
          "output_type": "stream",
          "name": "stdout",
          "text": [
            "Writing input6.txt\n"
          ]
        }
      ]
    },
    {
      "cell_type": "code",
      "source": [
        "918*100"
      ],
      "metadata": {
        "colab": {
          "base_uri": "https://localhost:8080/"
        },
        "id": "GOzyPpDVNPWh",
        "outputId": "028fab5b-76fa-4ef1-d66d-f198aec90047"
      },
      "execution_count": null,
      "outputs": [
        {
          "output_type": "execute_result",
          "data": {
            "text/plain": [
              "91800"
            ]
          },
          "metadata": {},
          "execution_count": 54
        }
      ]
    },
    {
      "cell_type": "code",
      "source": [
        "%%writefile ctest6.txt\n",
        "91800"
      ],
      "metadata": {
        "colab": {
          "base_uri": "https://localhost:8080/"
        },
        "id": "siTs6VyFNT2x",
        "outputId": "9d77323d-23d9-416e-c975-090770f8277a"
      },
      "execution_count": null,
      "outputs": [
        {
          "output_type": "stream",
          "name": "stdout",
          "text": [
            "Writing ctest6.txt\n"
          ]
        }
      ]
    },
    {
      "cell_type": "code",
      "source": [
        "!./max_pairwise_product_long_full < input6.txt"
      ],
      "metadata": {
        "colab": {
          "base_uri": "https://localhost:8080/"
        },
        "id": "mD-3_5cZNjOW",
        "outputId": "e1453415-4cb2-4111-f0e7-6d1cbc7b2d9d"
      },
      "execution_count": null,
      "outputs": [
        {
          "output_type": "stream",
          "name": "stdout",
          "text": [
            "91800\n"
          ]
        }
      ]
    },
    {
      "cell_type": "code",
      "source": [
        "%%writefile output6.txt\n",
        "91800"
      ],
      "metadata": {
        "colab": {
          "base_uri": "https://localhost:8080/"
        },
        "id": "NyWfUu6UNzth",
        "outputId": "04ae9119-d55e-4017-c25e-88729d2f036a"
      },
      "execution_count": null,
      "outputs": [
        {
          "output_type": "stream",
          "name": "stdout",
          "text": [
            "Writing output6.txt\n"
          ]
        }
      ]
    },
    {
      "cell_type": "code",
      "source": [
        "!./max_pairwise_product_long_full < input6.txt > ctest6.txt\n",
        "!grep -xvFf output6.txt ctest6.txt"
      ],
      "metadata": {
        "id": "zdpXqioHN-zP"
      },
      "execution_count": null,
      "outputs": []
    },
    {
      "cell_type": "markdown",
      "source": [
        "----------------------------------------------------Test 3.4-------------------------------------------------"
      ],
      "metadata": {
        "id": "hz6F4BpiOR9E"
      }
    },
    {
      "cell_type": "code",
      "source": [
        "%%writefile input7.txt\n",
        "3\n",
        "233356464  112745  4556658"
      ],
      "metadata": {
        "colab": {
          "base_uri": "https://localhost:8080/"
        },
        "id": "fRQLGlrVOVc-",
        "outputId": "322349fb-9a99-4324-c79b-33250e5ddae5"
      },
      "execution_count": null,
      "outputs": [
        {
          "output_type": "stream",
          "name": "stdout",
          "text": [
            "Writing input7.txt\n"
          ]
        }
      ]
    },
    {
      "cell_type": "code",
      "source": [
        "233356464*4556658"
      ],
      "metadata": {
        "colab": {
          "base_uri": "https://localhost:8080/"
        },
        "id": "4wYiYhjCOhI8",
        "outputId": "2f58593d-dc72-494a-efa2-aaa789ab6dbb"
      },
      "execution_count": null,
      "outputs": [
        {
          "output_type": "execute_result",
          "data": {
            "text/plain": [
              "1063325598537312"
            ]
          },
          "metadata": {},
          "execution_count": 60
        }
      ]
    },
    {
      "cell_type": "code",
      "source": [
        "%%writefile ctest7.txt\n",
        "1063325598537312"
      ],
      "metadata": {
        "colab": {
          "base_uri": "https://localhost:8080/"
        },
        "id": "ZpZ5h0cZOorW",
        "outputId": "507e5f42-c96f-4746-9433-bad45e67e641"
      },
      "execution_count": null,
      "outputs": [
        {
          "output_type": "stream",
          "name": "stdout",
          "text": [
            "Writing ctest7.txt\n"
          ]
        }
      ]
    },
    {
      "cell_type": "code",
      "source": [
        "!./max_pairwise_product_long_full < input7.txt"
      ],
      "metadata": {
        "id": "RvI7spMXOxH-",
        "outputId": "bcc862fb-8614-4ced-e0eb-e44ce859fb3a",
        "colab": {
          "base_uri": "https://localhost:8080/"
        }
      },
      "execution_count": null,
      "outputs": [
        {
          "output_type": "stream",
          "name": "stdout",
          "text": [
            "1063325598537312\n"
          ]
        }
      ]
    },
    {
      "cell_type": "code",
      "source": [
        "%%writefile output7.txt\n",
        "1063325598537312"
      ],
      "metadata": {
        "id": "eVG2i-wnPEkt",
        "outputId": "81d6502c-6c2b-4be6-a072-8f758bae745c",
        "colab": {
          "base_uri": "https://localhost:8080/"
        }
      },
      "execution_count": null,
      "outputs": [
        {
          "output_type": "stream",
          "name": "stdout",
          "text": [
            "Writing output7.txt\n"
          ]
        }
      ]
    },
    {
      "cell_type": "code",
      "source": [
        "!./max_pairwise_product_long_full < input7.txt > ctest7.txt\n",
        "!grep -xvFf output7.txt ctest7.txt"
      ],
      "metadata": {
        "id": "SopuwqiPPLe1"
      },
      "execution_count": null,
      "outputs": []
    },
    {
      "cell_type": "markdown",
      "source": [
        "---------------------------------------------------Test 3.5-------------------------------------------------"
      ],
      "metadata": {
        "id": "KZdMA6uNPcT9"
      }
    },
    {
      "cell_type": "code",
      "source": [
        "%%writefile input8.txt\n",
        "4\n",
        "10101  10001101  101 1"
      ],
      "metadata": {
        "id": "6bhSTF7zPdc1",
        "outputId": "3c3fd3ed-6393-4863-95ed-b8e6349eada3",
        "colab": {
          "base_uri": "https://localhost:8080/"
        }
      },
      "execution_count": null,
      "outputs": [
        {
          "output_type": "stream",
          "name": "stdout",
          "text": [
            "Writing input8.txt\n"
          ]
        }
      ]
    },
    {
      "cell_type": "code",
      "source": [
        "10101*10001101"
      ],
      "metadata": {
        "id": "pH2LCaSvPrsM",
        "outputId": "80fc3823-e07b-473f-f616-e0a068a609bb",
        "colab": {
          "base_uri": "https://localhost:8080/"
        }
      },
      "execution_count": null,
      "outputs": [
        {
          "output_type": "execute_result",
          "data": {
            "text/plain": [
              "101021121201"
            ]
          },
          "metadata": {},
          "execution_count": 66
        }
      ]
    },
    {
      "cell_type": "code",
      "source": [
        "%%writefile ctest8.txt\n",
        "101021121201"
      ],
      "metadata": {
        "id": "r2kmFl-KP0MI",
        "outputId": "580058ba-bcd5-4e3f-c636-d43554bb02aa",
        "colab": {
          "base_uri": "https://localhost:8080/"
        }
      },
      "execution_count": null,
      "outputs": [
        {
          "output_type": "stream",
          "name": "stdout",
          "text": [
            "Writing ctest8.txt\n"
          ]
        }
      ]
    },
    {
      "cell_type": "code",
      "source": [
        "!./max_pairwise_product_long_full < input8.txt"
      ],
      "metadata": {
        "id": "c84DRGjjQA80",
        "outputId": "31c53cc3-2c2b-4578-8b95-2319e8b0d32e",
        "colab": {
          "base_uri": "https://localhost:8080/"
        }
      },
      "execution_count": null,
      "outputs": [
        {
          "output_type": "stream",
          "name": "stdout",
          "text": [
            "101021121201\n"
          ]
        }
      ]
    },
    {
      "cell_type": "code",
      "source": [
        "%%writefile output8.txt\n",
        "101021121201"
      ],
      "metadata": {
        "id": "MFw_KRLRQEnJ",
        "outputId": "c1d3da1b-a4eb-4551-ed49-b83227804b1b",
        "colab": {
          "base_uri": "https://localhost:8080/"
        }
      },
      "execution_count": null,
      "outputs": [
        {
          "output_type": "stream",
          "name": "stdout",
          "text": [
            "Writing output8.txt\n"
          ]
        }
      ]
    },
    {
      "cell_type": "code",
      "source": [
        "!./max_pairwise_product_long_full < input8.txt > ctest8.txt\n",
        "!grep -xvFf output8.txt ctest8.txt"
      ],
      "metadata": {
        "id": "sAn0CJX0QOJK"
      },
      "execution_count": null,
      "outputs": []
    },
    {
      "cell_type": "markdown",
      "source": [
        "---------------------------------------------------Test 3.6-------------------------------------------------"
      ],
      "metadata": {
        "id": "UJaSC5RCQUJK"
      }
    },
    {
      "cell_type": "code",
      "source": [
        "%%writefile input9.txt\n",
        "7\n",
        "2 3 5 7 4 9 1"
      ],
      "metadata": {
        "id": "WPHHSnHTQZND",
        "outputId": "c5480aed-df51-4342-c7a4-32b9dfd83a53",
        "colab": {
          "base_uri": "https://localhost:8080/"
        }
      },
      "execution_count": null,
      "outputs": [
        {
          "output_type": "stream",
          "name": "stdout",
          "text": [
            "Writing input9.txt\n"
          ]
        }
      ]
    },
    {
      "cell_type": "code",
      "source": [
        "7*9"
      ],
      "metadata": {
        "id": "Epb0fnQnQmBx",
        "outputId": "e2a7f494-889c-4d06-ea50-98c183702e57",
        "colab": {
          "base_uri": "https://localhost:8080/"
        }
      },
      "execution_count": null,
      "outputs": [
        {
          "output_type": "execute_result",
          "data": {
            "text/plain": [
              "63"
            ]
          },
          "metadata": {},
          "execution_count": 72
        }
      ]
    },
    {
      "cell_type": "code",
      "source": [
        "%%writefile ctest9.txt\n",
        "63"
      ],
      "metadata": {
        "id": "N5n1nscCQqUI",
        "outputId": "0351fc4a-56f2-4c50-e656-ae289136c369",
        "colab": {
          "base_uri": "https://localhost:8080/"
        }
      },
      "execution_count": null,
      "outputs": [
        {
          "output_type": "stream",
          "name": "stdout",
          "text": [
            "Writing ctest9.txt\n"
          ]
        }
      ]
    },
    {
      "cell_type": "code",
      "source": [
        "!./max_pairwise_product_long_full < input9.txt"
      ],
      "metadata": {
        "id": "upZC1OIUQr7u",
        "outputId": "63e96a2c-46bd-4073-bd15-415ba3918eb4",
        "colab": {
          "base_uri": "https://localhost:8080/"
        }
      },
      "execution_count": null,
      "outputs": [
        {
          "output_type": "stream",
          "name": "stdout",
          "text": [
            "63\n"
          ]
        }
      ]
    },
    {
      "cell_type": "code",
      "source": [
        "%%writefile output9.txt\n",
        "63"
      ],
      "metadata": {
        "id": "ojsPe6ooQzHS",
        "outputId": "dee6d953-361e-464a-df4a-81a6bcac2950",
        "colab": {
          "base_uri": "https://localhost:8080/"
        }
      },
      "execution_count": null,
      "outputs": [
        {
          "output_type": "stream",
          "name": "stdout",
          "text": [
            "Writing output9.txt\n"
          ]
        }
      ]
    },
    {
      "cell_type": "code",
      "source": [
        "!./max_pairwise_product_long_full < input9.txt > ctest9.txt\n",
        "!grep -xvFf output9.txt ctest9.txt"
      ],
      "metadata": {
        "id": "0XInClImQ7ei"
      },
      "execution_count": null,
      "outputs": []
    },
    {
      "cell_type": "markdown",
      "source": [
        "---------------------------------------------------Test 3.7-------------------------------------------------"
      ],
      "metadata": {
        "id": "6HOTspiORCnO"
      }
    },
    {
      "cell_type": "code",
      "source": [
        "%%writefile input10.txt\n",
        "12\n",
        "2 3 5 7 4 9 1 55 44 56 78 98"
      ],
      "metadata": {
        "id": "SdGR_iRRREwa",
        "outputId": "35471356-9fad-4b4a-ff18-99ad0c1b58a1",
        "colab": {
          "base_uri": "https://localhost:8080/"
        }
      },
      "execution_count": null,
      "outputs": [
        {
          "output_type": "stream",
          "name": "stdout",
          "text": [
            "Writing input10.txt\n"
          ]
        }
      ]
    },
    {
      "cell_type": "code",
      "source": [
        "78*98"
      ],
      "metadata": {
        "id": "GL3iz-IlRVCk",
        "outputId": "aacfd53f-3631-4292-b9ff-cc332df4c96f",
        "colab": {
          "base_uri": "https://localhost:8080/"
        }
      },
      "execution_count": null,
      "outputs": [
        {
          "output_type": "execute_result",
          "data": {
            "text/plain": [
              "7644"
            ]
          },
          "metadata": {},
          "execution_count": 78
        }
      ]
    },
    {
      "cell_type": "code",
      "source": [
        "%%writefile ctest10.txt\n",
        "7644"
      ],
      "metadata": {
        "id": "nPd_AYYJRb_S",
        "outputId": "6b7f1f38-09cd-4998-d508-7b32d9a35961",
        "colab": {
          "base_uri": "https://localhost:8080/"
        }
      },
      "execution_count": null,
      "outputs": [
        {
          "output_type": "stream",
          "name": "stdout",
          "text": [
            "Writing ctest10.txt\n"
          ]
        }
      ]
    },
    {
      "cell_type": "code",
      "source": [
        "!./max_pairwise_product_long_full < input10.txt"
      ],
      "metadata": {
        "id": "5mlLAyPcRioW",
        "outputId": "5795fef8-b2d2-4cd2-d6e2-d7fa1d9fbe9a",
        "colab": {
          "base_uri": "https://localhost:8080/"
        }
      },
      "execution_count": null,
      "outputs": [
        {
          "output_type": "stream",
          "name": "stdout",
          "text": [
            "7644\n"
          ]
        }
      ]
    },
    {
      "cell_type": "code",
      "source": [
        "%%writefile output10.txt\n",
        "7644"
      ],
      "metadata": {
        "id": "COcpbUfRRmnN",
        "outputId": "3d2cf72d-d25f-49f4-9696-b762b5bbbc7c",
        "colab": {
          "base_uri": "https://localhost:8080/"
        }
      },
      "execution_count": null,
      "outputs": [
        {
          "output_type": "stream",
          "name": "stdout",
          "text": [
            "Writing output10.txt\n"
          ]
        }
      ]
    },
    {
      "cell_type": "code",
      "source": [
        "!./max_pairwise_product_long_full < input10.txt > ctest10.txt\n",
        "!grep -xvFf output10.txt ctest10.txt"
      ],
      "metadata": {
        "id": "T4hzHzEMRuiW"
      },
      "execution_count": null,
      "outputs": []
    },
    {
      "cell_type": "markdown",
      "metadata": {
        "id": "9z9yr5QkeyJF"
      },
      "source": [
        "### Test 4  time test  measure the execution time running with the the largest worst cases input11.txt  (200000 increasing numbers) and inoput12.txt (199998 increasing numbers and  200000, 200000 at the end)"
      ]
    },
    {
      "cell_type": "code",
      "source": [
        "# input11.txt 200000 increasing numbers:  1 2 .. 200000\n",
        "\n",
        "%%writefile WriteTest.cpp\n",
        "\n",
        "#include <iostream>\n",
        "#include <fstream>\n",
        "#include <cstdlib>\n",
        "\n",
        "using namespace std;\n",
        "\n",
        "int main() {\n",
        "  // Create and open a text file\n",
        "  ofstream MyFile(\"input11.txt\");\n",
        "\n",
        " MyFile << 200000 <<\"\\n\";  // n\n",
        " for (int i=1; i <200001; i++){\n",
        "     MyFile << i <<\" \";\n",
        " }\n",
        "\n",
        "  // Close the file\n",
        "  MyFile.close();\n",
        "}"
      ],
      "metadata": {
        "colab": {
          "base_uri": "https://localhost:8080/"
        },
        "id": "UmB1ipWM_nSk",
        "outputId": "d07067f5-2b17-4c89-e183-f9a866af8242"
      },
      "execution_count": null,
      "outputs": [
        {
          "output_type": "stream",
          "name": "stdout",
          "text": [
            "Writing WriteTest.cpp\n"
          ]
        }
      ]
    },
    {
      "cell_type": "code",
      "execution_count": null,
      "metadata": {
        "id": "EH25TkOkZfD9"
      },
      "outputs": [],
      "source": [
        "!g++ WriteTest.cpp -o WriteTest\n",
        "!./WriteTest"
      ]
    },
    {
      "cell_type": "code",
      "source": [
        "199999 * 200000"
      ],
      "metadata": {
        "colab": {
          "base_uri": "https://localhost:8080/"
        },
        "id": "j0mokSOnCCtZ",
        "outputId": "a14988de-3051-4ac5-e8be-d888ed14b310"
      },
      "execution_count": null,
      "outputs": [
        {
          "output_type": "execute_result",
          "data": {
            "text/plain": [
              "39999800000"
            ]
          },
          "metadata": {},
          "execution_count": 85
        }
      ]
    },
    {
      "cell_type": "code",
      "source": [
        "%%writefile output11.txt\n",
        "39999800000"
      ],
      "metadata": {
        "id": "VoDhDV73B5Mo",
        "colab": {
          "base_uri": "https://localhost:8080/"
        },
        "outputId": "3c7de018-06f3-4748-e837-f780bec84282"
      },
      "execution_count": null,
      "outputs": [
        {
          "output_type": "stream",
          "name": "stdout",
          "text": [
            "Writing output11.txt\n"
          ]
        }
      ]
    },
    {
      "cell_type": "code",
      "execution_count": null,
      "metadata": {
        "colab": {
          "base_uri": "https://localhost:8080/"
        },
        "id": "oLiMjbAIfPlX",
        "outputId": "f826ea3f-f72b-4717-ea62-2f7ef073bff7"
      },
      "outputs": [
        {
          "output_type": "stream",
          "name": "stdout",
          "text": [
            "Overwriting WriteTest.cpp\n"
          ]
        }
      ],
      "source": [
        "# input12.txt 200000 decreasing numbers and 200000, 199999 ...  2 1\n",
        "\n",
        "%%writefile WriteTest.cpp\n",
        "\n",
        "#include <iostream>\n",
        "#include <fstream>\n",
        "#include <cstdlib>\n",
        "\n",
        "using namespace std;\n",
        "\n",
        "int main() {\n",
        "  // Create and open a text file\n",
        "  ofstream MyFile(\"input12.txt\");\n",
        "\n",
        " MyFile << 200000 <<\"\\n\";  // n\n",
        " for (int i=1; i <200001; i++){\n",
        "     MyFile << 200001-i <<\" \";\n",
        " }\n",
        "\n",
        "  // Close the file\n",
        "  MyFile.close();\n",
        "}"
      ]
    },
    {
      "cell_type": "code",
      "source": [
        "!g++ WriteTest.cpp -o WriteTest\n",
        "!./WriteTest"
      ],
      "metadata": {
        "id": "oULNBr_zAd9c"
      },
      "execution_count": null,
      "outputs": []
    },
    {
      "cell_type": "code",
      "source": [
        "%%writefile output12.txt\n",
        "39999800000"
      ],
      "metadata": {
        "colab": {
          "base_uri": "https://localhost:8080/"
        },
        "id": "PQLyocaFB-y4",
        "outputId": "1811925b-9f9d-4c05-d143-b1b5f1df108b"
      },
      "execution_count": null,
      "outputs": [
        {
          "output_type": "stream",
          "name": "stdout",
          "text": [
            "Writing output12.txt\n"
          ]
        }
      ]
    },
    {
      "cell_type": "markdown",
      "metadata": {
        "id": "JB6f03qO-lj9"
      },
      "source": [
        "Measure time\n",
        "\n",
        "https://askubuntu.com/questions/53444/how-can-i-measure-the-execution-time-of-a-terminal-process"
      ]
    },
    {
      "cell_type": "code",
      "execution_count": null,
      "metadata": {
        "id": "6p2QLEr576zk"
      },
      "outputs": [],
      "source": [
        "!g++ max_pairwise_product_long_full.cpp -o max_pairwise_product_long_full\n",
        "!time ./max_pairwise_product_long_full< input11.txt"
      ]
    },
    {
      "cell_type": "code",
      "source": [
        "!g++ max_pairwise_product_long_full.cpp -o max_pairwise_product_long_full\n",
        "!time ./max_pairwise_product_long_full< input12.txt"
      ],
      "metadata": {
        "id": "cnjCyeUdAnZj"
      },
      "execution_count": null,
      "outputs": []
    },
    {
      "cell_type": "markdown",
      "metadata": {
        "id": "FXClpBsUJuXC"
      },
      "source": [
        "##### Calculate the number or and upper bound to the number of instructions executed by the algorithm as a function of n, add in each line a comment with the number of instructions that are executed in that line."
      ]
    },
    {
      "cell_type": "code",
      "execution_count": null,
      "metadata": {
        "colab": {
          "base_uri": "https://localhost:8080/"
        },
        "id": "uG6Mv-Pwlkii",
        "outputId": "68aef792-3730-4b8f-ebab-c90248030517"
      },
      "outputs": [
        {
          "output_type": "stream",
          "name": "stdout",
          "text": [
            "Overwriting max_pairwise_product_long_full.cpp\n"
          ]
        }
      ],
      "source": [
        "%%writefile max_pairwise_product_long_full.cpp\n",
        "#include <iostream>\n",
        "#include <vector>\n",
        "#include <algorithm>\n",
        "\n",
        "long long MaxPairwiseProduct(const std::vector<int>& numbers) {              //N inst exec by line executed\n",
        "    long long max_product = 0LL;                                             //1\n",
        "\t  long long aux_product = 0LL;                                             //1\n",
        "    int n = numbers.size();                                                  //1\n",
        "\n",
        "    for (int first = 0; first < n; ++first) {                                //1+2n\n",
        "        for (int second = 0; second < n; ++second) {                         //n + 2n**2\n",
        "          if ( first != second ){                                            //n**2\n",
        "                aux_product = numbers[first] * numbers[second];              //n**2 -n\n",
        "                if (aux_product > max_product)                               //n**2 -n\n",
        "                    max_product = aux_product;                               //[1, n**2/2 - n/2] upper bound\n",
        "          }\n",
        "        }\n",
        "    }\n",
        "\n",
        "                                                                             // --------------\n",
        "    return max_product;                                                      // 4 + n + [5*n**2+1, 11*n**2/2  - n/2]  upper bound\n",
        "}\n",
        "\n",
        "int main() {                                              //N inst exec by line executed\n",
        "    int n;                                                //1\n",
        "    std::cin >> n;                                        //1\n",
        "    std::vector<int> numbers(n);                          //n\n",
        "    for (int i = 0; i < n; ++i) {                         //1 + 2n\n",
        "        std::cin >> numbers[i];                           //n\n",
        "    }\n",
        "\n",
        "    std::cout << MaxPairwiseProduct(numbers) << \"\\n\";     //1 + 1  + 4 + n + [5*n**2+1, 11*n**2/2  - n/2]\n",
        "\n",
        "    return 0;                                             // --------------\n",
        "}                                                         //  9 + 5*n + [5*n**2+1, 11*n**2/2  - n/2]  upper bound\n"
      ]
    },
    {
      "cell_type": "markdown",
      "metadata": {
        "id": "0vTsUg8OwcHs"
      },
      "source": [
        "Count executed intructions in code"
      ]
    },
    {
      "cell_type": "code",
      "execution_count": null,
      "metadata": {
        "colab": {
          "base_uri": "https://localhost:8080/"
        },
        "id": "CuRKkqQc137V",
        "outputId": "e6921c0a-543d-4e68-89a5-dbdfdfed39ad"
      },
      "outputs": [
        {
          "output_type": "stream",
          "name": "stdout",
          "text": [
            "Writing max_pairwise_product_long_full_execints.cpp\n"
          ]
        }
      ],
      "source": [
        "%%writefile max_pairwise_product_long_full_execints.cpp\n",
        "#include <iostream>\n",
        "#include <vector>\n",
        "#include <algorithm>\n",
        "\n",
        "long long MaxPairwiseProduct(const std::vector<int>& numbers, long long &execints) {              //N inst exec by line executed\n",
        "\n",
        "    long long max_product = 0LL;                                             //1\n",
        "    execints++;\n",
        "\n",
        "\t  long long aux_product = 0LL;                                             //1\n",
        "    execints++;\n",
        "\n",
        "    int n = numbers.size();                                                  //1\n",
        "    execints++;\n",
        "\n",
        "    execints++;\n",
        "    for (int first = 0; first < n; ++first) {                                //1+2n\n",
        "        execints += 2;\n",
        "\n",
        "        execints++;\n",
        "        for (int second = 0; second < n; ++second) {                         //n + 2n**2\n",
        "          execints += 2;\n",
        "\n",
        "          execints++;\n",
        "          if ( first != second ){                                            //n**2\n",
        "                aux_product = numbers[first] * numbers[second];              //n**2 -n\n",
        "                execints++;\n",
        "\n",
        "                execints++;\n",
        "                if (aux_product > max_product){                               //n**2 -n\n",
        "                    max_product = aux_product;                               //[1,n**2/2 - n/2]  upper bound\n",
        "                    execints++;\n",
        "\n",
        "                }\n",
        "        }\n",
        "      }\n",
        "    }\n",
        "                                                                            // --------------\n",
        "    return max_product;                                                     // 4 + n + [5*n**2+1, 11*n**2/2  - n/2] upper bound\n",
        "}\n",
        "\n",
        "int main() {                                                 //N inst exec by line executed\n",
        "\n",
        "    long long execints =0LL;\n",
        "\n",
        "    int n;                                                   //1\n",
        "    execints++;\n",
        "\n",
        "    std::cin >> n;                                           //1\n",
        "    execints++;\n",
        "\n",
        "    std::vector<int> numbers(n);                             //n\n",
        "    execints += n;\n",
        "\n",
        "    execints++;\n",
        "    for (int i = 0; i < n; ++i) {                            //1 + 2n\n",
        "        execints += 2;\n",
        "\n",
        "        std::cin >> numbers[i];\n",
        "        execints++;                                          //n\n",
        "\n",
        "    }\n",
        "\n",
        "\n",
        "\n",
        "    //std::cout << MaxPairwiseProduct(numbers) << \"\\n\";      //1 + 1  + 4 + n + [5*n**2+1, 11*n**2/2  - n/2] upper bound\n",
        "\n",
        "\n",
        "    execints++;\n",
        "    int M = MaxPairwiseProduct(numbers,execints);\n",
        "\n",
        "    execints++;\n",
        "    std::cout <<  execints << \"\\n\";\n",
        "    return 0;                                                // --------------\n",
        "}                                                            // 9 + 5*n + [5*n**2+1, 11*n**2/2  - n/2]"
      ]
    },
    {
      "cell_type": "markdown",
      "source": [
        "The number of instructions executed by the algooirithm with a list of size $n$ is  \n",
        "\n",
        "$$T (n) = 9 + 5n + \\left[5n^2+1, 11\\frac{n^2}{2}  - \\frac{n}{2}\\right] \\ \\  \\text{upper bound}$$\n",
        "\n",
        "It depends on the size of the lists and  the order of the list.\n",
        "\n",
        "For the input1.txt\n",
        "```\n",
        "10\n",
        "1 2 3 4 5 6 7 8 9 10\n",
        "```\n",
        "$$T = 9 + 5(10) + 5(10)(10) +  9 + 5 + 4 + 3 + 2 + 2 + 2 + 2 + 1 + 0  = 589 $$\n",
        "\n",
        "$$T(10) \\in [560, 604]  $$\n"
      ],
      "metadata": {
        "id": "cUjHtvtdDsmr"
      }
    },
    {
      "cell_type": "code",
      "source": [
        "#The number of times that  max_product = aux_product; in the worst case is less than (n**2 -n)/2 -  upper bound\n",
        "\n",
        "   1  2  3  4  5  6  7  8  9  10\n",
        "1  x  2  3  4  5  6  7  8  9  10         9\n",
        "2  2  x  6  8  10 12 14 16 18 20         5 14\n",
        "3  3  6  x  12 15 18 21 24 27 30         4 18\n",
        "4  4  8  12 x  20 24 28 32 36 40         3 21\n",
        "5  5  10 15 20 x  30 35 40 45 50         2 23\n",
        "6  6  12 18 24 30 x  42 48 54 60         2 25\n",
        "7  7  14 21 28 35 42 x  56 63 70         2 27\n",
        "8  8  18 27 36 45 54 63 72 x  90         1 30\n",
        "10 10 20 30 40 50 60 70 60 90 x          0"
      ],
      "metadata": {
        "id": "K59xQMWiBNFj"
      },
      "execution_count": null,
      "outputs": []
    },
    {
      "cell_type": "code",
      "source": [
        "9 + 5*(10) + 5*(10)*(10) +  9 + 5 + 4 + 3 + 2 + 2 + 2 + 2 + 1 + 0"
      ],
      "metadata": {
        "colab": {
          "base_uri": "https://localhost:8080/"
        },
        "id": "E3O8dzFfEgir",
        "outputId": "9762167b-63df-4445-c7a8-d33678ecccc5"
      },
      "execution_count": null,
      "outputs": [
        {
          "output_type": "execute_result",
          "data": {
            "text/plain": [
              "589"
            ]
          },
          "metadata": {},
          "execution_count": 91
        }
      ]
    },
    {
      "cell_type": "code",
      "source": [
        "n = 10\n",
        "print( 9 + 5*n + 5*n**2+1,  9 + 5*n + 11*n**2/2  - n/2)"
      ],
      "metadata": {
        "colab": {
          "base_uri": "https://localhost:8080/"
        },
        "id": "TCpdl5u_Gq1a",
        "outputId": "9a1412cf-2d41-4107-a911-53fa6ee56096"
      },
      "execution_count": null,
      "outputs": [
        {
          "output_type": "stream",
          "name": "stdout",
          "text": [
            "560 604.0\n"
          ]
        }
      ]
    },
    {
      "cell_type": "code",
      "execution_count": null,
      "metadata": {
        "colab": {
          "base_uri": "https://localhost:8080/"
        },
        "id": "Kuvm1C05ly2a",
        "outputId": "0451376b-fc0e-4261-8680-8445d0705fc1"
      },
      "outputs": [
        {
          "output_type": "stream",
          "name": "stdout",
          "text": [
            "589\n"
          ]
        }
      ],
      "source": [
        "!g++ max_pairwise_product_long_full_execints.cpp -o max_pairwise_product_long_full_execints\n",
        "!./max_pairwise_product_long_full_execints < input1.txt"
      ]
    },
    {
      "cell_type": "markdown",
      "source": [
        "\n",
        "For the input2.txt\n",
        "```\n",
        "10\n",
        "10 9 8 7 6 5 4 3 2 1\n",
        "```\n",
        "$$T = 9 + 5*(10) + 5*(10)**2 +  1  = 560 $$"
      ],
      "metadata": {
        "id": "Yr_Lb7CaHfxB"
      }
    },
    {
      "cell_type": "code",
      "source": [
        "9 + 5*(10) + 5*(10)**2 +  1"
      ],
      "metadata": {
        "colab": {
          "base_uri": "https://localhost:8080/"
        },
        "id": "HOdqlwJiZUIp",
        "outputId": "4336c8c4-16e1-4c50-961a-f0d9af942d02"
      },
      "execution_count": null,
      "outputs": [
        {
          "output_type": "execute_result",
          "data": {
            "text/plain": [
              "560"
            ]
          },
          "metadata": {},
          "execution_count": 97
        }
      ]
    },
    {
      "cell_type": "code",
      "source": [
        "!g++ max_pairwise_product_long_full_execints.cpp -o max_pairwise_product_long_full_execints\n",
        "!./max_pairwise_product_long_full_execints < input4.txt\n",
        "n = 10"
      ],
      "metadata": {
        "id": "_znzLectjFSe",
        "colab": {
          "base_uri": "https://localhost:8080/"
        },
        "outputId": "f28d9189-9d2e-41d2-9cfd-e02acfb50282"
      },
      "execution_count": null,
      "outputs": [
        {
          "output_type": "stream",
          "name": "stdout",
          "text": [
            "563\n"
          ]
        }
      ]
    },
    {
      "cell_type": "markdown",
      "metadata": {
        "id": "L_uaamxeAHK7"
      },
      "source": [
        "\n",
        "For the input12.txt\n",
        "```\n",
        "200000\n",
        "200000  199999 ... 2 1\n",
        "```\n",
        "$$T = 9 + 5*(200000) + 5*(200000)**2 +1  = 200001000010 $$\n",
        "\n"
      ]
    },
    {
      "cell_type": "code",
      "source": [
        "9 + 5*(200000) + 5*(200000)**2 +1"
      ],
      "metadata": {
        "colab": {
          "base_uri": "https://localhost:8080/"
        },
        "id": "c7X-ewmeXe-h",
        "outputId": "4fcfdccb-ad97-4556-a762-6c802eca3044"
      },
      "execution_count": null,
      "outputs": [
        {
          "output_type": "execute_result",
          "data": {
            "text/plain": [
              "200001000010"
            ]
          },
          "metadata": {},
          "execution_count": 99
        }
      ]
    },
    {
      "cell_type": "markdown",
      "metadata": {
        "id": "NXW7QkoBL6xH"
      },
      "source": [
        "Calculate estimated time by instruction and number of instructions by second"
      ]
    },
    {
      "cell_type": "code",
      "source": [
        "!g++ max_pairwise_product_long_full_execints.cpp -o max_pairwise_product_long_full_execints\n",
        "!time ./max_pairwise_product_long_full_execints < input12.txt\n"
      ],
      "metadata": {
        "id": "BMH8mF3EKn2w"
      },
      "execution_count": null,
      "outputs": []
    },
    {
      "cell_type": "code",
      "execution_count": null,
      "metadata": {
        "colab": {
          "base_uri": "https://localhost:8080/"
        },
        "id": "pKqB3i7dIxnc",
        "outputId": "dca4e839-59d5-4c16-f17d-ac7281187827"
      },
      "outputs": [
        {
          "output_type": "execute_result",
          "data": {
            "text/plain": [
              "1.5299923499617505e-09"
            ]
          },
          "metadata": {},
          "execution_count": 103
        }
      ],
      "source": [
        "# Estimated time by instruction\n",
        "\n",
        "306/200001000010\n"
      ]
    },
    {
      "cell_type": "code",
      "execution_count": null,
      "metadata": {
        "colab": {
          "base_uri": "https://localhost:8080/"
        },
        "id": "18N1ouqeMhE1",
        "outputId": "a69a404e-3d6c-4271-d5b7-3f850381c200"
      },
      "outputs": [
        {
          "output_type": "execute_result",
          "data": {
            "text/plain": [
              "1.5299923499617505e-09"
            ]
          },
          "metadata": {},
          "execution_count": 104
        }
      ],
      "source": [
        "# Estimated number of instructions by second\n",
        "\n",
        "306/200001000010"
      ]
    },
    {
      "cell_type": "markdown",
      "source": [
        "# Estimate the maximun n that can be solved in 1 second\n",
        "\n",
        "$$5n^2 \\times 1.53*10^{-9} s = 1s$$\n",
        "\n",
        "$$ n \\approx 11000$$\n"
      ],
      "metadata": {
        "id": "KyuxejFkL5X_"
      }
    },
    {
      "cell_type": "code",
      "source": [
        "# Verify input13.txt\n",
        "%%writefile WriteTest.cpp\n",
        "\n",
        "#include <iostream>\n",
        "#include <fstream>\n",
        "#include <cstdlib>\n",
        "\n",
        "using namespace std;\n",
        "\n",
        "int main() {\n",
        "  // Create and open a text file\n",
        "  ofstream MyFile(\"input13.txt\");\n",
        "\n",
        " MyFile << 11000 <<\"\\n\";  // n\n",
        " for (int i=1; i <11001; i++){\n",
        "     MyFile << i <<\" \";\n",
        " }\n",
        "\n",
        "  // Close the file\n",
        "  MyFile.close();\n",
        "}"
      ],
      "metadata": {
        "colab": {
          "base_uri": "https://localhost:8080/"
        },
        "id": "WXu5jp-DLTOI",
        "outputId": "c8d569a1-26f2-44f7-a7ba-7a67c9dbd2fd"
      },
      "execution_count": null,
      "outputs": [
        {
          "output_type": "stream",
          "name": "stdout",
          "text": [
            "Overwriting WriteTest.cpp\n"
          ]
        }
      ]
    },
    {
      "cell_type": "code",
      "source": [
        "!g++ WriteTest.cpp -o WriteTest\n",
        "!./WriteTest"
      ],
      "metadata": {
        "id": "AQ8N52pUMCeT"
      },
      "execution_count": null,
      "outputs": []
    },
    {
      "cell_type": "code",
      "source": [
        "!g++ max_pairwise_product_long_full.cpp -o max_pairwise_product_long_full\n",
        "!time ./max_pairwise_product_long_full< input13.txt"
      ],
      "metadata": {
        "colab": {
          "base_uri": "https://localhost:8080/"
        },
        "id": "ussuAokfM2du",
        "outputId": "c05c9140-e47e-4d89-edb2-6a04b3300e6b"
      },
      "execution_count": null,
      "outputs": [
        {
          "output_type": "stream",
          "name": "stdout",
          "text": [
            "120989000\n",
            "\n",
            "real\t0m0.856s\n",
            "user\t0m0.846s\n",
            "sys\t0m0.001s\n"
          ]
        }
      ]
    },
    {
      "cell_type": "markdown",
      "metadata": {
        "id": "Tm_AVmt-QQH4"
      },
      "source": [
        "## Python"
      ]
    },
    {
      "cell_type": "code",
      "execution_count": null,
      "metadata": {
        "id": "kAEAoNZEQTCw",
        "colab": {
          "base_uri": "https://localhost:8080/"
        },
        "outputId": "0335b8ae-d2af-4bb0-9a44-a856ff2220c5"
      },
      "outputs": [
        {
          "output_type": "stream",
          "name": "stdout",
          "text": [
            "Archivo input13.txt creado y escrito correctamente.\n"
          ]
        }
      ],
      "source": [
        "# Crear y escribir en el archivo\n",
        "with open(\"input13.txt\", \"w\") as file:\n",
        "    file.write(\"11000\\n\")  # n\n",
        "    for i in range(1, 11001):\n",
        "        file.write(f\"{i} \")\n",
        "\n",
        "print(\"Archivo input13.txt creado y escrito correctamente.\")\n"
      ]
    },
    {
      "cell_type": "code",
      "execution_count": null,
      "metadata": {
        "id": "gRCCcd7IQTKZ",
        "colab": {
          "base_uri": "https://localhost:8080/"
        },
        "outputId": "6c295743-a2ba-4f7d-824d-d794c729fbf8"
      },
      "outputs": [
        {
          "output_type": "stream",
          "name": "stdout",
          "text": [
            "Writing max_pairwise_product_python.py\n"
          ]
        }
      ],
      "source": [
        "%%writefile max_pairwise_product_python.py\n",
        "def max_pairwise_product(numbers):\n",
        "    max_product = 0\n",
        "\n",
        "    for first in range(len(numbers)):\n",
        "        for second in range(len(numbers)):\n",
        "            if first != second:\n",
        "                aux_product = numbers[first] * numbers[second]\n",
        "                if aux_product > max_product:\n",
        "                    max_product = aux_product\n",
        "\n",
        "    return max_product\n",
        "\n",
        "if __name__ == \"__main__\":\n",
        "    n = int(input())\n",
        "    numbers = list(map(int, input().split()))\n",
        "\n",
        "    M = max_pairwise_product(numbers)\n",
        "    print(M)\n"
      ]
    },
    {
      "cell_type": "code",
      "execution_count": null,
      "metadata": {
        "id": "hjw7TJrDL0d-",
        "colab": {
          "base_uri": "https://localhost:8080/"
        },
        "outputId": "cc288af8-8edc-48c1-c3dc-84cf73f7933b"
      },
      "outputs": [
        {
          "output_type": "stream",
          "name": "stdout",
          "text": [
            "120989000\n",
            "\n",
            "real\t0m19.787s\n",
            "user\t0m19.631s\n",
            "sys\t0m0.021s\n"
          ]
        }
      ],
      "source": [
        "# Verify\n",
        "!time python max_pairwise_product_python.py < input13.txt"
      ]
    },
    {
      "cell_type": "markdown",
      "metadata": {
        "id": "MKQKSC-vKePK"
      },
      "source": [
        "## Perform the same analysis for an algorithm in C++ and Python that uses\n",
        "$$\\frac{n^2 - n}{2} = O(n^2)\\ \\ \\text{products}$$"
      ]
    },
    {
      "cell_type": "code",
      "execution_count": null,
      "metadata": {
        "id": "jkkHHoxSK65p",
        "colab": {
          "base_uri": "https://localhost:8080/"
        },
        "outputId": "d379b540-1789-47f7-e8e8-d742d831b113"
      },
      "outputs": [
        {
          "output_type": "stream",
          "name": "stdout",
          "text": [
            "Writing max_pairwise_product.cpp\n"
          ]
        }
      ],
      "source": [
        "%%writefile max_pairwise_product.cpp\n",
        "#include <iostream>\n",
        "#include <vector>\n",
        "#include <algorithm>\n",
        "\n",
        "int MaxPairwiseProduct(const std::vector<int>& numbers) {\n",
        "    int max_product = 0;\n",
        "    int n = numbers.size();\n",
        "\n",
        "    for (int first = 0; first < n; ++first) {\n",
        "        for (int second = first + 1; second < n; ++second) {\n",
        "            max_product = std::max(max_product,\n",
        "                numbers[first] * numbers[second]);\n",
        "        }\n",
        "    }\n",
        "\n",
        "    return max_product;\n",
        "}\n",
        "\n",
        "int main() {\n",
        "    int n;\n",
        "    std::cin >> n;\n",
        "    std::vector<int> numbers(n);\n",
        "    for (int i = 0; i < n; ++i) {\n",
        "        std::cin >> numbers[i];\n",
        "    }\n",
        "\n",
        "    std::cout << MaxPairwiseProduct(numbers) << \"\\n\";\n",
        "    return 0;\n",
        "}"
      ]
    },
    {
      "cell_type": "code",
      "source": [
        "!g++ max_pairwise_product.cpp -o max_pairwise_product\n",
        "!time ./max_pairwise_product< input13.txt"
      ],
      "metadata": {
        "colab": {
          "base_uri": "https://localhost:8080/"
        },
        "id": "4DXLAQEc45KJ",
        "outputId": "0dd442d5-ccce-4e3a-edb0-c0627daa233e"
      },
      "execution_count": null,
      "outputs": [
        {
          "output_type": "stream",
          "name": "stdout",
          "text": [
            "120989000\n",
            "\n",
            "real\t0m0.596s\n",
            "user\t0m0.581s\n",
            "sys\t0m0.005s\n"
          ]
        }
      ]
    },
    {
      "cell_type": "code",
      "execution_count": null,
      "metadata": {
        "id": "sU8-Ote7K8vz",
        "colab": {
          "base_uri": "https://localhost:8080/"
        },
        "outputId": "385c8892-271f-4026-b41d-4060158f7601"
      },
      "outputs": [
        {
          "output_type": "stream",
          "name": "stdout",
          "text": [
            "Writing max_pairwise_product_long.cpp\n"
          ]
        }
      ],
      "source": [
        "%%writefile max_pairwise_product_long.cpp\n",
        "#include <iostream>\n",
        "#include <vector>\n",
        "#include <algorithm>\n",
        "\n",
        "long long MaxPairwiseProduct(const std::vector<int>& numbers) {              //N inst exec by line executed\n",
        "    long long max_product = 0LL;                                             //1\n",
        "\t  long long aux_product = 0LL;                                             //1\n",
        "    int n = numbers.size();                                                  //1\n",
        "\n",
        "    for (int first = 0; first < n; ++first) {                                //1+2n\n",
        "        for (int second = first + 1; second < n; ++second) {                 //n + (n-1)n\n",
        "\t\t\t       aux_product =  (long long) numbers[first] * numbers[second];    //(n-1)n/2\n",
        "            if (max_product < aux_product)  {                                //(n-1)n/2\n",
        "\t\t\t\t        max_product = aux_product;                                   //[0, (n-1)n/2]\n",
        "             }\n",
        "        }\n",
        "    }\n",
        "                                                                             // --------------\n",
        "    return max_product;                                                      // 4 + 3n + [2(n-1)n, 2.5 (n-1)n] upper bound\n",
        "}\n",
        "\n",
        "int main() {                                              //N inst exec by line executed\n",
        "    int n;                                                //1\n",
        "    std::cin >> n;                                        //1\n",
        "    std::vector<int> numbers(n);                          //n\n",
        "    for (int i = 0; i < n; ++i) {                         //1 + 2n\n",
        "        std::cin >> numbers[i];                           //n\n",
        "    }\n",
        "\n",
        "    std::cout << MaxPairwiseProduct(numbers) << \"\\n\";     //1 + 1  + 4 + 3n + [2(n-1)n, 2.5 (n-1)n]\n",
        "    return 0;                                             // --------------\n",
        "}                                                         // 9 + 7n + [2(n-1)n, 2.5 (n-1)n] upper bound\n"
      ]
    },
    {
      "cell_type": "code",
      "source": [
        "!g++ max_pairwise_product_long.cpp -o max_pairwise_product_long\n",
        "!time ./max_pairwise_product_long< input13.txt"
      ],
      "metadata": {
        "colab": {
          "base_uri": "https://localhost:8080/"
        },
        "id": "Pz_zITAm5HtQ",
        "outputId": "6539a219-3d08-46b2-d045-debdd71d409b"
      },
      "execution_count": null,
      "outputs": [
        {
          "output_type": "stream",
          "name": "stdout",
          "text": [
            "120989000\n",
            "\n",
            "real\t0m0.612s\n",
            "user\t0m0.602s\n",
            "sys\t0m0.002s\n"
          ]
        }
      ]
    },
    {
      "cell_type": "code",
      "execution_count": null,
      "metadata": {
        "id": "5QWT3fneK8nw",
        "colab": {
          "base_uri": "https://localhost:8080/"
        },
        "outputId": "adedb40c-9ac5-4051-da37-6b84a83735c4"
      },
      "outputs": [
        {
          "output_type": "stream",
          "name": "stdout",
          "text": [
            "Overwriting max_pairwise_product_python.py\n"
          ]
        }
      ],
      "source": [
        "%%writefile max_pairwise_product_python.py\n",
        "def max_pairwise_product(numbers):\n",
        "    max_product = 0\n",
        "    n = len(numbers)\n",
        "\n",
        "    for first in range(n):\n",
        "        for second in range(first + 1, n):\n",
        "            max_product = max(max_product, numbers[first] * numbers[second])\n",
        "\n",
        "    return max_product\n",
        "\n",
        "if __name__ == \"__main__\":\n",
        "    n = int(input())\n",
        "    numbers = list(map(int, input().split()))\n",
        "\n",
        "    print(max_pairwise_product(numbers))\n"
      ]
    },
    {
      "cell_type": "code",
      "source": [
        "!time python max_pairwise_product_python.py < input13.txt"
      ],
      "metadata": {
        "colab": {
          "base_uri": "https://localhost:8080/"
        },
        "id": "VCUobYza5OHX",
        "outputId": "ad2eb1bf-70d6-4e96-ec6b-2c6372ef12c0"
      },
      "execution_count": null,
      "outputs": [
        {
          "output_type": "stream",
          "name": "stdout",
          "text": [
            "120989000\n",
            "\n",
            "real\t0m17.301s\n",
            "user\t0m17.059s\n",
            "sys\t0m0.024s\n"
          ]
        }
      ]
    },
    {
      "cell_type": "code",
      "execution_count": null,
      "metadata": {
        "id": "mxIVvm1RK8dB",
        "colab": {
          "base_uri": "https://localhost:8080/"
        },
        "outputId": "2cf1b69c-a272-4093-efe1-ddf26c391da1"
      },
      "outputs": [
        {
          "output_type": "stream",
          "name": "stdout",
          "text": [
            "Writing max_pairwise_product_long.py\n"
          ]
        }
      ],
      "source": [
        "%%writefile max_pairwise_product_long.py\n",
        "def max_pairwise_product(numbers):\n",
        "    max_product = 0\n",
        "    n = len(numbers)\n",
        "\n",
        "    for first in range(n):\n",
        "        for second in range(first + 1, n):\n",
        "            aux_product = numbers[first] * numbers[second]\n",
        "            if max_product < aux_product:\n",
        "                max_product = aux_product\n",
        "\n",
        "    return max_product\n"
      ]
    },
    {
      "cell_type": "code",
      "source": [
        "!time python max_pairwise_product_long.py < input13.txt"
      ],
      "metadata": {
        "colab": {
          "base_uri": "https://localhost:8080/"
        },
        "id": "8FhjzJ1W5dCh",
        "outputId": "dc6553cc-7499-4ab8-ee4d-e87019307ccc"
      },
      "execution_count": null,
      "outputs": [
        {
          "output_type": "stream",
          "name": "stdout",
          "text": [
            "\n",
            "real\t0m0.049s\n",
            "user\t0m0.038s\n",
            "sys\t0m0.006s\n"
          ]
        }
      ]
    },
    {
      "cell_type": "markdown",
      "metadata": {
        "id": "1Hsbd-uHOb_j"
      },
      "source": [
        "### Sort solution in C++ and Python\n",
        "\n",
        "$$ O(n \\lg n)$$\n",
        "\n",
        "**Which sorting algorithm is used in GCC?**\n",
        "https://stackoverflow.com/questions/7221257/which-sorting-algorithm-is-used-in-gcc\n",
        "\n",
        "* ...  the algorithm is called introsort, a combination between Insertionsort, Quicksort & Heapsort. ...\n",
        "\n",
        "**Introsort**\n",
        "https://en.wikipedia.org/wiki/Introsort\n",
        "\n",
        "Introsort or introspective sort is a hybrid sorting algorithm that provides both fast average performance and (asymptotically) optimal worst-case performance. It begins with quicksort, it switches to heapsort when the recursion depth exceeds a level based on (the logarithm of) the number of elements being sorted and it switches to insertion sort when the number of elements is below some threshold\n",
        "\n",
        "*   Class\tSorting algorithm\n",
        "*   Data structure\tArray\n",
        "*   Worst-case performance\t$O(n \\lg n)$\n",
        "*   Average performance\t$O(n \\lg n)$\n",
        "\n",
        "**Tinsort**\n",
        "https://en.wikipedia.org/wiki/Timsort\n",
        "\n",
        "Timsort is a hybrid, stable sorting algorithm, derived from merge sort and insertion sort, designed to perform well on many kinds of real-world data. It was implemented by Tim Peters in 2002 for use in the Python programming language.\n",
        "\n",
        "*   Class\tSorting algorithm\n",
        "*   Data structure\tArray\n",
        "*   Worst-case performance\t$O(n \\lg n)$\n",
        "*   Best-case performance $O(n)$\n",
        "*   Average performance\t$O(n \\lg n)$\n",
        "*   Worst-case space complexity $O(n)$"
      ]
    },
    {
      "cell_type": "markdown",
      "metadata": {
        "id": "WMUthAXjOb_k"
      },
      "source": [
        "Add in each line a coment with the number of intstrcution that are executed in that line"
      ]
    },
    {
      "cell_type": "code",
      "execution_count": null,
      "metadata": {
        "id": "2-sXOmqFOb_k",
        "colab": {
          "base_uri": "https://localhost:8080/"
        },
        "outputId": "e3a4a8e3-6c10-4428-ec06-25a165b18e56"
      },
      "outputs": [
        {
          "output_type": "stream",
          "name": "stdout",
          "text": [
            "Overwriting max_pairwise_product_long_sort.cpp\n"
          ]
        }
      ],
      "source": [
        "%%writefile max_pairwise_product_long_sort.cpp\n",
        "#include <iostream>\n",
        "#include <vector>\n",
        "#include <algorithm>\n",
        "\n",
        "\n",
        "int main() {                                              // 1 instrucción para iniciar la función\n",
        "    int n;                                                // 1 instrucción para declarar la variable 'n'\n",
        "    std::cin >> n;                                        // 1 instrucción para leer el valor de 'n' desde la entrada estándar\n",
        "    std::vector<int> valores(n);                          // 1 instrucción para crear un vector de enteros 'valores' y asignarle capacidad para 'n' elementos\n",
        "\n",
        "    for (int i = 0; i < n; ++i) {\n",
        "        std::cin >> valores[i];                           // n instrucciones para leer 'n' valores desde la entrada estándar y asignarlos a elementos del vector\n",
        "    }\n",
        "\n",
        "    std::sort(valores.begin(), valores.end());            // n * lg(n) instrucciones en promedio para ordenar el vector 'valores'\n",
        "    std::cout << valores[n-1] * valores[n-2] << \"\\n\";     // 4 instrucciones para imprimir el resultado\n",
        "\n",
        "    return 0;                                             // 1 instrucción para finalizar la función\n",
        "}\n",
        "\n"
      ]
    },
    {
      "cell_type": "markdown",
      "metadata": {
        "id": "v8pdV9ABOb_k"
      },
      "source": [
        "Test with inputs 1 and 2\n",
        "\n"
      ]
    },
    {
      "cell_type": "code",
      "execution_count": null,
      "metadata": {
        "id": "kdXAyLG4Ob_k",
        "colab": {
          "base_uri": "https://localhost:8080/"
        },
        "outputId": "32295540-88bc-4170-8abb-80c0b8ed6b15"
      },
      "outputs": [
        {
          "output_type": "stream",
          "name": "stdout",
          "text": [
            "90\n",
            "90\n"
          ]
        }
      ],
      "source": [
        "!g++ max_pairwise_product_long_sort.cpp -o max_pairwise_product_long_sort\n",
        "!./max_pairwise_product_long_sort < input1.txt\n",
        "\n",
        "!g++ max_pairwise_product_long_sort.cpp -o max_pairwise_product_long_sort\n",
        "!./max_pairwise_product_long_sort < input2.txt"
      ]
    },
    {
      "cell_type": "markdown",
      "metadata": {
        "id": "Sw-5X1q1Ob_k"
      },
      "source": [
        "Test and time it with input 3"
      ]
    },
    {
      "cell_type": "code",
      "execution_count": null,
      "metadata": {
        "id": "ryHJ30WIOb_k",
        "colab": {
          "base_uri": "https://localhost:8080/"
        },
        "outputId": "125f95c0-7ead-4c83-c913-8707abfb62bf"
      },
      "outputs": [
        {
          "output_type": "stream",
          "name": "stdout",
          "text": [
            "1345294336\n",
            "\n",
            "real\t0m0.003s\n",
            "user\t0m0.001s\n",
            "sys\t0m0.001s\n"
          ]
        }
      ],
      "source": [
        "!g++ max_pairwise_product_long_sort.cpp -o max_pairwise_product_long_sort\n",
        "!time ./max_pairwise_product_long_sort < input3.txt"
      ]
    },
    {
      "cell_type": "markdown",
      "metadata": {
        "id": "oJGdPl1HOb_k"
      },
      "source": [
        "20 stress tests"
      ]
    },
    {
      "cell_type": "code",
      "execution_count": null,
      "metadata": {
        "colab": {
          "base_uri": "https://localhost:8080/"
        },
        "outputId": "19cf4d6d-e042-4a25-ce86-0353b20b44a7",
        "id": "DM7xtHQoMwIW"
      },
      "outputs": [
        {
          "output_type": "stream",
          "name": "stdout",
          "text": [
            "Writing input14.txt\n"
          ]
        }
      ],
      "source": [
        "%%writefile input14.txt\n",
        "10\n",
        "2 4 6 8 10 12 14 16 18 20"
      ]
    },
    {
      "cell_type": "code",
      "execution_count": null,
      "metadata": {
        "colab": {
          "base_uri": "https://localhost:8080/"
        },
        "outputId": "f3850b5a-2154-49cb-a20a-99f6b4556428",
        "id": "SyZ6f2xiMwIX"
      },
      "outputs": [
        {
          "output_type": "stream",
          "name": "stdout",
          "text": [
            "Writing output14.txt\n"
          ]
        }
      ],
      "source": [
        "%%writefile output14.txt\n",
        "360"
      ]
    },
    {
      "cell_type": "code",
      "source": [
        "%%writefile input15.txt\n",
        "5\n",
        "1 2 3 4 5"
      ],
      "metadata": {
        "colab": {
          "base_uri": "https://localhost:8080/"
        },
        "outputId": "866bd882-935e-402f-a1a0-abdb4482831c",
        "id": "BCkbEhNNMwIX"
      },
      "execution_count": null,
      "outputs": [
        {
          "output_type": "stream",
          "name": "stdout",
          "text": [
            "Writing input15.txt\n"
          ]
        }
      ]
    },
    {
      "cell_type": "code",
      "source": [
        "%%writefile output15.txt\n",
        "20"
      ],
      "metadata": {
        "colab": {
          "base_uri": "https://localhost:8080/"
        },
        "id": "QS-THOqOV66i",
        "outputId": "a44bd691-98ea-4588-f873-2c5fdcfd3d31"
      },
      "execution_count": null,
      "outputs": [
        {
          "output_type": "stream",
          "name": "stdout",
          "text": [
            "Writing output15.txt\n"
          ]
        }
      ]
    },
    {
      "cell_type": "code",
      "source": [
        "%%writefile input16.txt\n",
        "20\n",
        "6 2 58 28 4 54 468 654 45  45 52 545 2 52 52625 42 54 641 416 6544"
      ],
      "metadata": {
        "colab": {
          "base_uri": "https://localhost:8080/"
        },
        "id": "tVMCDgtJWD9z",
        "outputId": "12d1ec37-128b-47c4-c632-79f4c717be92"
      },
      "execution_count": null,
      "outputs": [
        {
          "output_type": "stream",
          "name": "stdout",
          "text": [
            "Writing input16.txt\n"
          ]
        }
      ]
    },
    {
      "cell_type": "code",
      "source": [
        "%%writefile output16.txt\n",
        "344378000"
      ],
      "metadata": {
        "colab": {
          "base_uri": "https://localhost:8080/"
        },
        "id": "GI2HxBdgWGtV",
        "outputId": "fa8ab867-d71f-415d-821e-9b6e5f811a6a"
      },
      "execution_count": null,
      "outputs": [
        {
          "output_type": "stream",
          "name": "stdout",
          "text": [
            "Writing output16.txt\n"
          ]
        }
      ]
    },
    {
      "cell_type": "code",
      "source": [
        "%%writefile input17.txt\n",
        "10\n",
        "0 0 0 0 4 0 0 0 0  0"
      ],
      "metadata": {
        "colab": {
          "base_uri": "https://localhost:8080/"
        },
        "id": "Vv84g5v36xF7",
        "outputId": "719829c9-02cd-4e8b-88f7-fb917fa81c57"
      },
      "execution_count": null,
      "outputs": [
        {
          "output_type": "stream",
          "name": "stdout",
          "text": [
            "Writing input17.txt\n"
          ]
        }
      ]
    },
    {
      "cell_type": "code",
      "source": [
        "%%writefile output17.txt\n",
        "0"
      ],
      "metadata": {
        "colab": {
          "base_uri": "https://localhost:8080/"
        },
        "id": "3Qti4vm5621_",
        "outputId": "83a3212d-440d-43f2-bf1a-99b048f11521"
      },
      "execution_count": null,
      "outputs": [
        {
          "output_type": "stream",
          "name": "stdout",
          "text": [
            "Writing output17.txt\n"
          ]
        }
      ]
    },
    {
      "cell_type": "code",
      "source": [
        "%%writefile input18.txt\n",
        "10\n",
        "0 0 0 0 -4 0 0 0 0  0"
      ],
      "metadata": {
        "colab": {
          "base_uri": "https://localhost:8080/"
        },
        "outputId": "5e49dee3-83d8-4ac0-9517-39e1e1897f02",
        "id": "kxpCrnfl7Wgu"
      },
      "execution_count": null,
      "outputs": [
        {
          "output_type": "stream",
          "name": "stdout",
          "text": [
            "Writing input18.txt\n"
          ]
        }
      ]
    },
    {
      "cell_type": "code",
      "source": [
        "%%writefile output18.txt\n",
        "0"
      ],
      "metadata": {
        "colab": {
          "base_uri": "https://localhost:8080/"
        },
        "outputId": "89c2775e-4acd-4464-9193-918fe6be922a",
        "id": "Vxi_8vGB7Wgv"
      },
      "execution_count": null,
      "outputs": [
        {
          "output_type": "stream",
          "name": "stdout",
          "text": [
            "Writing output18.txt\n"
          ]
        }
      ]
    },
    {
      "cell_type": "code",
      "source": [
        "%%writefile input19.txt\n",
        "10\n",
        "-1 -2 -3 -4 -5 -6 -7 -8 -9 -10"
      ],
      "metadata": {
        "colab": {
          "base_uri": "https://localhost:8080/"
        },
        "outputId": "facc71c8-f932-4a09-8a36-d6b331a281d8",
        "id": "spcKlR3R7v-z"
      },
      "execution_count": null,
      "outputs": [
        {
          "output_type": "stream",
          "name": "stdout",
          "text": [
            "Writing input19.txt\n"
          ]
        }
      ]
    },
    {
      "cell_type": "code",
      "source": [
        "%%writefile output19.txt\n",
        "90"
      ],
      "metadata": {
        "colab": {
          "base_uri": "https://localhost:8080/"
        },
        "outputId": "39ab81ea-09ed-41a0-e873-de3220a70a88",
        "id": "JGGJ4N8t7v-0"
      },
      "execution_count": null,
      "outputs": [
        {
          "output_type": "stream",
          "name": "stdout",
          "text": [
            "Writing output19.txt\n"
          ]
        }
      ]
    },
    {
      "cell_type": "code",
      "source": [
        "%%writefile input20.txt\n",
        "5\n",
        "5 -4 0 1 -1"
      ],
      "metadata": {
        "colab": {
          "base_uri": "https://localhost:8080/"
        },
        "outputId": "091898f4-1bb0-465a-fad8-3c032c2772b6",
        "id": "yWud2BBT7wvL"
      },
      "execution_count": null,
      "outputs": [
        {
          "output_type": "stream",
          "name": "stdout",
          "text": [
            "Writing input20.txt\n"
          ]
        }
      ]
    },
    {
      "cell_type": "code",
      "source": [
        "%%writefile output20.txt\n",
        "5"
      ],
      "metadata": {
        "colab": {
          "base_uri": "https://localhost:8080/"
        },
        "outputId": "a9686e51-25f9-4f3c-885a-8bf41967fa4d",
        "id": "6qAx0ANG7wvL"
      },
      "execution_count": null,
      "outputs": [
        {
          "output_type": "stream",
          "name": "stdout",
          "text": [
            "Writing output20.txt\n"
          ]
        }
      ]
    },
    {
      "cell_type": "code",
      "source": [
        "%%writefile input21.txt\n",
        "4\n",
        "3 33 333 3333"
      ],
      "metadata": {
        "colab": {
          "base_uri": "https://localhost:8080/"
        },
        "outputId": "e7d05e60-eff0-4938-c371-6d13e2953cf0",
        "id": "vd_X3oqu7xnS"
      },
      "execution_count": null,
      "outputs": [
        {
          "output_type": "stream",
          "name": "stdout",
          "text": [
            "Writing input21.txt\n"
          ]
        }
      ]
    },
    {
      "cell_type": "code",
      "source": [
        "%%writefile output21.txt\n",
        "1109889"
      ],
      "metadata": {
        "colab": {
          "base_uri": "https://localhost:8080/"
        },
        "outputId": "25c6f5aa-82f1-4d5c-aee1-6c480b443453",
        "id": "-gBxueOb7xnT"
      },
      "execution_count": null,
      "outputs": [
        {
          "output_type": "stream",
          "name": "stdout",
          "text": [
            "Writing output21.txt\n"
          ]
        }
      ]
    },
    {
      "cell_type": "code",
      "source": [
        "%%writefile input22.txt\n",
        "3\n",
        "3 33 333"
      ],
      "metadata": {
        "colab": {
          "base_uri": "https://localhost:8080/"
        },
        "outputId": "6e26e5fe-2bae-44c7-ef79-8809ce974ab4",
        "id": "_SNZ33UDNm-9"
      },
      "execution_count": null,
      "outputs": [
        {
          "output_type": "stream",
          "name": "stdout",
          "text": [
            "Writing input22.txt\n"
          ]
        }
      ]
    },
    {
      "cell_type": "code",
      "source": [
        "%%writefile output22.txt\n",
        "10989"
      ],
      "metadata": {
        "colab": {
          "base_uri": "https://localhost:8080/"
        },
        "outputId": "3519d2f0-a495-4b4b-89b6-23d8a0f44675",
        "id": "AcQAWRc5Nm--"
      },
      "execution_count": null,
      "outputs": [
        {
          "output_type": "stream",
          "name": "stdout",
          "text": [
            "Writing output22.txt\n"
          ]
        }
      ]
    },
    {
      "cell_type": "code",
      "source": [
        "%%writefile input23.txt\n",
        "20\n",
        "0 1 2 3 4 5 6 7 8 9 10 11 12 13 14 15 16 17 18 -19"
      ],
      "metadata": {
        "colab": {
          "base_uri": "https://localhost:8080/"
        },
        "outputId": "89061ffc-3a32-47e8-df53-0bce5c77063b",
        "id": "_4XKPjVDNnsN"
      },
      "execution_count": null,
      "outputs": [
        {
          "output_type": "stream",
          "name": "stdout",
          "text": [
            "Writing input23.txt\n"
          ]
        }
      ]
    },
    {
      "cell_type": "code",
      "source": [
        "%%writefile output23.txt\n",
        "306"
      ],
      "metadata": {
        "colab": {
          "base_uri": "https://localhost:8080/"
        },
        "outputId": "6a42d152-0fef-4bb6-d7ff-143157d4f9ed",
        "id": "sdHdcR9NNnsN"
      },
      "execution_count": null,
      "outputs": [
        {
          "output_type": "stream",
          "name": "stdout",
          "text": [
            "Writing output23.txt\n"
          ]
        }
      ]
    },
    {
      "cell_type": "code",
      "execution_count": null,
      "metadata": {
        "id": "pXHtO1dEOb_k",
        "colab": {
          "base_uri": "https://localhost:8080/"
        },
        "outputId": "d2f015b7-456f-45e0-9432-bb146c6adc15"
      },
      "outputs": [
        {
          "output_type": "stream",
          "name": "stdout",
          "text": [
            "49814556\n",
            "30610305\n",
            "91800\n",
            "-929769888\n",
            "-2058093903\n",
            "63\n",
            "7644\n",
            "1345094336\n",
            "1345094336\n",
            "120989000\n",
            "360\n",
            "20\n",
            "344378000\n",
            "0\n",
            "0\n",
            "2\n",
            "5\n",
            "1109889\n",
            "10989\n",
            "306\n"
          ]
        }
      ],
      "source": [
        "!g++ max_pairwise_product_long_sort.cpp -o max_pairwise_product_long_sort\n",
        "!./max_pairwise_product_long_sort < input4.txt\n",
        "!./max_pairwise_product_long_sort < input5.txt\n",
        "!./max_pairwise_product_long_sort < input6.txt\n",
        "!./max_pairwise_product_long_sort < input7.txt\n",
        "!./max_pairwise_product_long_sort < input8.txt\n",
        "!./max_pairwise_product_long_sort < input9.txt\n",
        "!./max_pairwise_product_long_sort < input10.txt\n",
        "!./max_pairwise_product_long_sort < input11.txt\n",
        "!./max_pairwise_product_long_sort < input12.txt\n",
        "!./max_pairwise_product_long_sort < input13.txt\n",
        "!./max_pairwise_product_long_sort < input14.txt\n",
        "!./max_pairwise_product_long_sort < input15.txt\n",
        "!./max_pairwise_product_long_sort < input16.txt\n",
        "!./max_pairwise_product_long_sort < input17.txt\n",
        "!./max_pairwise_product_long_sort < input18.txt\n",
        "!./max_pairwise_product_long_sort < input19.txt\n",
        "!./max_pairwise_product_long_sort < input20.txt\n",
        "!./max_pairwise_product_long_sort < input21.txt\n",
        "!./max_pairwise_product_long_sort < input22.txt\n",
        "!./max_pairwise_product_long_sort < input23.txt"
      ]
    },
    {
      "cell_type": "code",
      "source": [
        "%%writefile run_all_test.sh\n",
        "#!/bin/bash\n",
        "g++ max_pairwise_product_full.cpp -o max_pairwise_product_full\n",
        "for i in {4..23}\n",
        "do\n",
        "    ./max_pairwise_product_full < input$i.txt > ctest$i.txt\n",
        "    grep -xvFf output$i.txt ctest$i.txt\n",
        "done\n"
      ],
      "metadata": {
        "colab": {
          "base_uri": "https://localhost:8080/"
        },
        "id": "BHblGJ0mJwbg",
        "outputId": "ef783166-1802-4072-b3b0-7095d871ad1e"
      },
      "execution_count": null,
      "outputs": [
        {
          "output_type": "stream",
          "name": "stdout",
          "text": [
            "Overwriting run_all_test.sh\n"
          ]
        }
      ]
    },
    {
      "cell_type": "code",
      "source": [
        "!chmod u+x run_all_test.sh\n",
        "!./run_all_test.sh"
      ],
      "metadata": {
        "colab": {
          "base_uri": "https://localhost:8080/"
        },
        "id": "LBLbUDqVKK7K",
        "outputId": "8d2a2728-011d-4e9b-9c03-30be551394fa"
      },
      "execution_count": null,
      "outputs": [
        {
          "output_type": "stream",
          "name": "stdout",
          "text": [
            "0\n",
            "1010111201\n",
            "^C\n"
          ]
        }
      ]
    },
    {
      "cell_type": "markdown",
      "metadata": {
        "id": "2beTmWFPOb_k"
      },
      "source": [
        "Count executed instructions in code and verify with inputs 1,2 and 3\n"
      ]
    },
    {
      "cell_type": "code",
      "execution_count": null,
      "metadata": {
        "id": "iuByv4x1Ob_k",
        "colab": {
          "base_uri": "https://localhost:8080/"
        },
        "outputId": "2717fc74-2b72-42d3-d9d1-99c48bd7f769"
      },
      "outputs": [
        {
          "output_type": "stream",
          "name": "stdout",
          "text": [
            "Overwriting max_pairwise_product_long_sort_instructions.cpp\n"
          ]
        }
      ],
      "source": [
        "%%writefile max_pairwise_product_long_sort_instructions.cpp\n",
        "#include <iostream>\n",
        "#include <vector>\n",
        "#include <fstream>\n",
        "#include <cmath>\n",
        "#include <algorithm>\n",
        "\n",
        "\n",
        "int main() {\n",
        "    int instrucciones = 0;\n",
        "    int n;\n",
        "    instrucciones++;\n",
        "\n",
        "    std::cin >> n;\n",
        "    instrucciones++;\n",
        "\n",
        "    std::vector<int> valores(n);\n",
        "    instrucciones++;\n",
        "\n",
        "    for (int i = 0; i < n; ++i) {\n",
        "        std::cin >> valores[i];\n",
        "        instrucciones++;\n",
        "    }\n",
        "\n",
        "    std::sort(valores.begin(), valores.end());\n",
        "    instrucciones = instrucciones + (n * log(n));\n",
        "\n",
        "    std::cout << valores[n-1] * valores[n-2] << \"\\n\";\n",
        "    std::cout << instrucciones << \"\\n\";\n",
        "    return 0;\n",
        "}"
      ]
    },
    {
      "cell_type": "code",
      "source": [
        "!g++ max_pairwise_product_long_sort_instructions.cpp -o max_pairwise_product_long_sort_instructions\n",
        "!./max_pairwise_product_long_sort_instructions < input1.txt\n",
        "!./max_pairwise_product_long_sort_instructions < input2.txt\n",
        "!./max_pairwise_product_long_sort_instructions < input3.txt"
      ],
      "metadata": {
        "colab": {
          "base_uri": "https://localhost:8080/"
        },
        "id": "XJRIcEiySBl4",
        "outputId": "8596bc2b-9621-46aa-ea01-2f432f56d64f"
      },
      "execution_count": null,
      "outputs": [
        {
          "output_type": "stream",
          "name": "stdout",
          "text": [
            "90\n",
            "36\n",
            "90\n",
            "36\n",
            "1345294336\n",
            "19\n"
          ]
        }
      ]
    },
    {
      "cell_type": "markdown",
      "metadata": {
        "id": "x2CXhkwTOb_l"
      },
      "source": [
        "Calculate estimated time by instruction and number of instructions by second"
      ]
    },
    {
      "cell_type": "code",
      "execution_count": null,
      "metadata": {
        "id": "nTjxyTMtOb_l",
        "colab": {
          "base_uri": "https://localhost:8080/"
        },
        "outputId": "4acc9474-2679-4073-eaef-079a9cc81036"
      },
      "outputs": [
        {
          "output_type": "stream",
          "name": "stdout",
          "text": [
            "90\n",
            "36\n",
            "CPU times: user 16.7 ms, sys: 2.45 ms, total: 19.2 ms\n",
            "Wall time: 1.02 s\n"
          ]
        }
      ],
      "source": [
        "%%time\n",
        "!g++ max_pairwise_product_long_sort_instructions.cpp -o max_pairwise_product_long_sort_instructions\n",
        "!./max_pairwise_product_long_sort_instructions < input1.txt"
      ]
    },
    {
      "cell_type": "code",
      "source": [
        "0.0167 /36"
      ],
      "metadata": {
        "colab": {
          "base_uri": "https://localhost:8080/"
        },
        "id": "tNCymTZeUSNT",
        "outputId": "dc072f49-3b0a-432b-9c4c-cbe1a15bdfe8"
      },
      "execution_count": null,
      "outputs": [
        {
          "output_type": "execute_result",
          "data": {
            "text/plain": [
              "0.0004638888888888889"
            ]
          },
          "metadata": {},
          "execution_count": 231
        }
      ]
    },
    {
      "cell_type": "markdown",
      "metadata": {
        "id": "VMKC5duEOQfk"
      },
      "source": [
        "### Efficient solution largest and second-largest in an list, array or vector in C++ and Python\n",
        " $$2.5 n = O(n)$$\n",
        "\n",
        "\n",
        "\n"
      ]
    },
    {
      "cell_type": "markdown",
      "metadata": {
        "id": "nLcKBwbU0QsE"
      },
      "source": [
        "Add in each line a coment with the number of intstrcution that are executed in that line"
      ]
    },
    {
      "cell_type": "code",
      "source": [
        "%%writefile max_pairwise_sort_efficient.cpp\n",
        "#include <iostream>\n",
        "#include <vector>\n",
        "#include <fstream>\n",
        "#include <cmath>\n",
        "#include <algorithm>\n",
        "\n",
        "using namespace std;\n",
        "\n",
        "int main() {\n",
        "    cout << \"--- C++ ---\" << \"\\n\";\n",
        "    int n;\n",
        "    cin >> n;                                 // 1 instrucción: Leer un entero desde la entrada estándar.\n",
        "    int maxValor = INT_MIN;                   // 1 instrucción: Inicializar maxValor.\n",
        "    int segMaxValor = INT_MIN;                // 1 instrucción: Inicializar segMaxValor.\n",
        "\n",
        "    vector<int> numbers(n);                   // n instrucciones: Crear un vector e inicializarlo.\n",
        "\n",
        "    for (int i = 0; i < n; ++i) {             // n instrucciones: Leer y almacenar valores en el vector.\n",
        "        cin >> numbers[i];\n",
        "    }\n",
        "\n",
        "    for (int i = 0; i < n; ++i) {             // n instrucciones: Realizar un bucle for.\n",
        "        int aux = numbers[i];                 // 1 instrucción: Asignar un valor a la variable aux.\n",
        "\n",
        "        if (aux > maxValor) {                 // 1 instrucción: Comparar aux con maxValor.\n",
        "            segMaxValor = maxValor;           // 1 instrucción: Asignar maxValor a segMaxValor.\n",
        "            maxValor = aux;                   // 1 instrucción: Asignar aux a maxValor.\n",
        "        } else if (aux > segMaxValor) {       // 1 instrucción: Comparar aux con segMaxValor.\n",
        "            segMaxValor = aux;                // 1 instrucción: Asignar aux a segMaxValor.\n",
        "        }\n",
        "    }\n",
        "\n",
        "    cout << \"Product: \" << maxNumber * secondMaxNumber << \"\\n\"; // 2 instrucciones: Realizar la multiplicación y la salida.\n",
        "    return 0;                                  // 1 instrucción: Devolver un valor.\n",
        "}"
      ],
      "metadata": {
        "colab": {
          "base_uri": "https://localhost:8080/"
        },
        "id": "z_wQ0DEGYRSg",
        "outputId": "98660327-7234-49d6-f32a-86dafe95a739"
      },
      "execution_count": null,
      "outputs": [
        {
          "output_type": "stream",
          "name": "stdout",
          "text": [
            "Overwriting max_pairwise_sort_efficient.cpp\n"
          ]
        }
      ]
    },
    {
      "cell_type": "code",
      "execution_count": null,
      "metadata": {
        "id": "knls5Fh3NSt_",
        "colab": {
          "base_uri": "https://localhost:8080/"
        },
        "outputId": "6f22e0c3-1ed1-45b8-ec22-e7d30698b684"
      },
      "outputs": [
        {
          "output_type": "stream",
          "name": "stdout",
          "text": [
            "Overwriting max_pairwise_sort_efficient.py\n"
          ]
        }
      ],
      "source": [
        "%%writefile max_pairwise_sort_efficient.py\n",
        "\n",
        "def max_pairwise_sort_efficient(valores):\n",
        "    n = len(valores)                          # 1 instrucción: Obtener la longitud de la lista \"valores\".\n",
        "    valores.sort()                            # n * log(n) instrucciones: Ordenar la lista \"valores\".\n",
        "\n",
        "    return valores[n - 1] * valores[n - 2]    # 2 instrucciones: Realizar la multiplicación y la resta.\n",
        "\n",
        "n = int(input())                              # 1 instrucción: Leer un entero desde la entrada estándar.\n",
        "\n",
        "valores = [int(i) for i in input().split()]  # n instrucciones: Leer y convertir valores desde la entrada estándar.\n",
        "print(max_pairwise_sort_efficient(valores))  # 1 instrucción: Llamar a la función e imprimir el resultado."
      ]
    },
    {
      "cell_type": "markdown",
      "metadata": {
        "id": "-JCijbWxNSii"
      },
      "source": [
        "Test with inputs 1 and 2\n",
        "\n"
      ]
    },
    {
      "cell_type": "code",
      "execution_count": null,
      "metadata": {
        "id": "TrTGAfqlNVXT",
        "colab": {
          "base_uri": "https://localhost:8080/"
        },
        "outputId": "618f46e7-a4d3-4153-fbbe-7d05400d2455"
      },
      "outputs": [
        {
          "output_type": "stream",
          "name": "stdout",
          "text": [
            "90\n",
            "90\n"
          ]
        }
      ],
      "source": [
        "!python3 max_pairwise_sort_efficient.py < input1.txt\n",
        "!python3 max_pairwise_sort_efficient.py < input2.txt"
      ]
    },
    {
      "cell_type": "markdown",
      "metadata": {
        "id": "PRX51wADNR8b"
      },
      "source": [
        "Test and time it with input 3"
      ]
    },
    {
      "cell_type": "code",
      "execution_count": null,
      "metadata": {
        "id": "v4z7-Is_NRt7",
        "colab": {
          "base_uri": "https://localhost:8080/"
        },
        "outputId": "baf9fe4d-4517-4673-c760-ed21460771f4"
      },
      "outputs": [
        {
          "output_type": "stream",
          "name": "stdout",
          "text": [
            "40000000000\n",
            "\n",
            "real\t0m0.077s\n",
            "user\t0m0.050s\n",
            "sys\t0m0.010s\n"
          ]
        }
      ],
      "source": [
        "!time python3 max_pairwise_sort_efficient.py < input3.txt"
      ]
    },
    {
      "cell_type": "markdown",
      "metadata": {
        "id": "rpdfs0_TNZJf"
      },
      "source": [
        "20 stress tests"
      ]
    },
    {
      "cell_type": "code",
      "execution_count": null,
      "metadata": {
        "id": "Lu4tYcKzNcTT",
        "colab": {
          "base_uri": "https://localhost:8080/"
        },
        "outputId": "a7efb010-0379-42df-9722-9b7c1a9b3592"
      },
      "outputs": [
        {
          "output_type": "stream",
          "name": "stdout",
          "text": [
            "49814556\n",
            "30610305\n",
            "91800\n",
            "1063325598537312\n",
            "101021121201\n",
            "63\n",
            "7644\n",
            "39999800000\n",
            "39999800000\n",
            "120989000\n",
            "360\n",
            "20\n",
            "344378000\n",
            "0\n",
            "0\n",
            "2\n",
            "5\n",
            "1109889\n",
            "10989\n",
            "306\n"
          ]
        }
      ],
      "source": [
        "!python3 max_pairwise_sort_efficient.py < input4.txt\n",
        "!python3 max_pairwise_sort_efficient.py < input5.txt\n",
        "!python3 max_pairwise_sort_efficient.py < input6.txt\n",
        "!python3 max_pairwise_sort_efficient.py < input7.txt\n",
        "!python3 max_pairwise_sort_efficient.py < input8.txt\n",
        "!python3 max_pairwise_sort_efficient.py < input9.txt\n",
        "!python3 max_pairwise_sort_efficient.py < input10.txt\n",
        "!python3 max_pairwise_sort_efficient.py < input11.txt\n",
        "!python3 max_pairwise_sort_efficient.py < input12.txt\n",
        "!python3 max_pairwise_sort_efficient.py < input13.txt\n",
        "!python3 max_pairwise_sort_efficient.py < input14.txt\n",
        "!python3 max_pairwise_sort_efficient.py < input15.txt\n",
        "!python3 max_pairwise_sort_efficient.py < input16.txt\n",
        "!python3 max_pairwise_sort_efficient.py < input17.txt\n",
        "!python3 max_pairwise_sort_efficient.py < input18.txt\n",
        "!python3 max_pairwise_sort_efficient.py < input19.txt\n",
        "!python3 max_pairwise_sort_efficient.py < input20.txt\n",
        "!python3 max_pairwise_sort_efficient.py < input21.txt\n",
        "!python3 max_pairwise_sort_efficient.py < input22.txt\n",
        "!python3 max_pairwise_sort_efficient.py < input23.txt"
      ]
    },
    {
      "cell_type": "code",
      "source": [
        "%%writefile run_all_test.sh\n",
        "#!/bin/bash\n",
        "for i in {4..23}\n",
        "do\n",
        "\n",
        "    python3 max_pairwise_sort_efficient < input$i.txt > ctest$i.txt\n",
        "    grep -xvFf output$i.txt ctest$i.txt\n",
        "\n",
        "done"
      ],
      "metadata": {
        "colab": {
          "base_uri": "https://localhost:8080/"
        },
        "id": "-947n70oa1bD",
        "outputId": "84d93618-70f0-4d8c-c796-92eae75e2046"
      },
      "execution_count": null,
      "outputs": [
        {
          "output_type": "stream",
          "name": "stdout",
          "text": [
            "Overwriting run_all_test.sh\n"
          ]
        }
      ]
    },
    {
      "cell_type": "code",
      "source": [
        "!chmod u+x run_all_test.sh\n",
        "!./run_all_test.sh\n"
      ],
      "metadata": {
        "id": "U0HcDUNYbPrR"
      },
      "execution_count": null,
      "outputs": []
    },
    {
      "cell_type": "markdown",
      "metadata": {
        "id": "L8U4151JNbxk"
      },
      "source": [
        "Count executed instructions in code and verify with inputs 1,2 and 3\n"
      ]
    },
    {
      "cell_type": "code",
      "execution_count": null,
      "metadata": {
        "id": "dh85RM8vNhFz",
        "colab": {
          "base_uri": "https://localhost:8080/"
        },
        "outputId": "cd798ba6-2644-4a35-fdc5-5e6e8095dcf4"
      },
      "outputs": [
        {
          "output_type": "stream",
          "name": "stdout",
          "text": [
            "Overwriting max_pairwise_sort_efficient_instructions.py\n"
          ]
        }
      ],
      "source": [
        "%%writefile max_pairwise_sort_efficient_instructions.py\n",
        "import math\n",
        "\n",
        "def max_pairwise_sort_efficient_instructions(valores):\n",
        "  global instrucciones\n",
        "  instrucciones += 1\n",
        "  n = len(valores)\n",
        "\n",
        "  valores.sort() # nlgn -- n\n",
        "  instrucciones += n * math.log(n)\n",
        "  instrucciones += 1\n",
        "  return valores[n-1] * valores[n-2]\n",
        "\n",
        "instrucciones = 0\n",
        "n = int(input())\n",
        "instrucciones += 1\n",
        "valores = [int(i) for i in input().split()]\n",
        "instrucciones += 1\n",
        "\n",
        "print(\"valor: \", max_pairwise_sort_efficient_instructions(valores))\n",
        "print(\"instrucciones: \", instrucciones)"
      ]
    },
    {
      "cell_type": "code",
      "source": [
        "! python3 max_pairwise_sort_efficient_instructions.py < input1.txt\n",
        "! python3 max_pairwise_sort_efficient_instructions.py < input2.txt\n",
        "! python3 max_pairwise_sort_efficient_instructions.py < input3.txt"
      ],
      "metadata": {
        "colab": {
          "base_uri": "https://localhost:8080/"
        },
        "id": "8A6d-ZnOcwr8",
        "outputId": "9293ed58-6bc1-4b79-99f1-dfbbad3a0664"
      },
      "execution_count": null,
      "outputs": [
        {
          "output_type": "stream",
          "name": "stdout",
          "text": [
            "valor:  90\n",
            "instrucciones:  27.02585092994046\n",
            "valor:  90\n",
            "instrucciones:  27.02585092994046\n",
            "/bin/bash: line 1: input3.txt: No such file or directory\n"
          ]
        }
      ]
    },
    {
      "cell_type": "markdown",
      "metadata": {
        "id": "K6ybgCmpNygr"
      },
      "source": [
        "Calculate estimated time by instruction and number of instructions by second"
      ]
    },
    {
      "cell_type": "code",
      "execution_count": null,
      "metadata": {
        "id": "kwe3G1O3Nz1w",
        "colab": {
          "base_uri": "https://localhost:8080/"
        },
        "outputId": "86d7439d-1103-4785-ef09-dfd9a38bc7fb"
      },
      "outputs": [
        {
          "output_type": "stream",
          "name": "stdout",
          "text": [
            "valor:  90\n",
            "instrucciones:  27.02585092994046\n",
            "\n",
            "real\t0m0.045s\n",
            "user\t0m0.035s\n",
            "sys\t0m0.009s\n"
          ]
        }
      ],
      "source": [
        "!time python3 max_pairwise_sort_efficient_instructions.py < input1.txt"
      ]
    },
    {
      "cell_type": "code",
      "source": [
        "0.045/27"
      ],
      "metadata": {
        "colab": {
          "base_uri": "https://localhost:8080/"
        },
        "id": "0nh6qlBidqjh",
        "outputId": "033565cf-f36c-46d6-d7d8-b354936297c8"
      },
      "execution_count": null,
      "outputs": [
        {
          "output_type": "execute_result",
          "data": {
            "text/plain": [
              "0.0016666666666666666"
            ]
          },
          "metadata": {},
          "execution_count": 274
        }
      ]
    },
    {
      "cell_type": "markdown",
      "metadata": {
        "id": "sUpIWcykOGpT"
      },
      "source": [
        "### Super efficient solution\n",
        "\n",
        "Whitout storing the list in memory, only stpring the largest and second largest and whitout calling a function, add in each line a coment with the number of instructions that are executed in that line\n",
        "\n",
        "in C++ and Python\n",
        " $$2 n = O(n)$$"
      ]
    },
    {
      "cell_type": "code",
      "execution_count": null,
      "metadata": {
        "id": "hBLt_xBQLy8E",
        "colab": {
          "base_uri": "https://localhost:8080/"
        },
        "outputId": "fc35b4c6-e147-4f24-d0b9-aa4d3653dc10"
      },
      "outputs": [
        {
          "output_type": "stream",
          "name": "stdout",
          "text": [
            "Overwriting max_pairwise_sort_super_efficient.cpp\n"
          ]
        }
      ],
      "source": [
        "%%writefile max_pairwise_sort_super_efficient.cpp\n",
        "#include <iostream>\n",
        "#include <vector>\n",
        "#include <fstream>\n",
        "#include <cmath>\n",
        "#include <algorithm>\n",
        "#include <climits>\n",
        "\n",
        "using namespace std;\n",
        "\n",
        "int main() {\n",
        "\n",
        "    int n;                                                      // 1 instrucción: Declarar una variable.\n",
        "    cin >> n;                                                   // 1 instrucción: Leer un entero desde la entrada estándar.\n",
        "    int maxValor = INT_MIN;                                     // 1 instrucción: Inicializar maxValor.\n",
        "    int segMaxValor = INT_MIN;                                  // 1 instrucción: Inicializar segMaxValor.\n",
        "\n",
        "    for (int i = 0; i < n; ++i) {                               // 1 + 2n instrucciones: Realizar un bucle for.\n",
        "        int aux = 0;                                            // n instrucciones: Declarar y asignar un valor a la variable aux.\n",
        "        cin >> aux;                                             // n instrucciones: Leer un entero desde la entrada estándar.\n",
        "\n",
        "        if (aux > maxValor) {                                   // n instrucciones: Comparar aux con maxValor.\n",
        "            segMaxValor = maxValor;                             // n instrucciones(peor caso): Asignar maxValor a segMaxValor.\n",
        "            maxValor = aux;                                     // n instrucciones(peor caso): Asignar aux a maxValor.\n",
        "        } else if (aux > segMaxValor) {                         // n instrucciones: Comparar aux con segMaxValor.\n",
        "            segMaxValor = aux;                                  // n instrucciones (peor caso): Asignar aux a segMaxValor.\n",
        "        }\n",
        "    }\n",
        "\n",
        "    cout << \"Product: \" << maxValor * segMaxValor << \"\\n\"; // 1 instrucción: Realizar la multiplicación y la salida.\n",
        "    return 0;                                                   // 1 instrucción: Devolver un valor.\n",
        "}"
      ]
    },
    {
      "cell_type": "markdown",
      "metadata": {
        "id": "683gc3roHqzb"
      },
      "source": [
        "Test with inputs 1 and 2\n",
        "\n",
        "\n"
      ]
    },
    {
      "cell_type": "code",
      "execution_count": null,
      "metadata": {
        "id": "b7d4LA8OIc2_",
        "colab": {
          "base_uri": "https://localhost:8080/"
        },
        "outputId": "d361d690-a940-4d59-c7c1-fda6cc7e6480"
      },
      "outputs": [
        {
          "output_type": "stream",
          "name": "stdout",
          "text": [
            "Product: 90\n",
            "Product: 90\n"
          ]
        }
      ],
      "source": [
        "!g++ max_pairwise_sort_super_efficient.cpp -o max_pairwise_sort_super_efficient\n",
        "!./max_pairwise_sort_super_efficient < input1.txt\n",
        "!./max_pairwise_sort_super_efficient < input2.txt"
      ]
    },
    {
      "cell_type": "markdown",
      "metadata": {
        "id": "36Ugn1odIeJz"
      },
      "source": [
        "Test and time it with input 3"
      ]
    },
    {
      "cell_type": "code",
      "execution_count": null,
      "metadata": {
        "id": "jDyMbCnxHqSN",
        "colab": {
          "base_uri": "https://localhost:8080/"
        },
        "outputId": "f41ea82a-1da4-469b-b7c8-131ea730b75e"
      },
      "outputs": [
        {
          "output_type": "stream",
          "name": "stdout",
          "text": [
            "Product: 1345294336\n",
            "\n",
            "real\t0m0.005s\n",
            "user\t0m0.002s\n",
            "sys\t0m0.000s\n"
          ]
        }
      ],
      "source": [
        "!g++ max_pairwise_sort_super_efficient.cpp -o max_pairwise_sort_super_efficient\n",
        "!time ./max_pairwise_sort_super_efficient < input3.txt"
      ]
    },
    {
      "cell_type": "markdown",
      "metadata": {
        "id": "bhqiKQG6fjKM"
      },
      "source": [
        "20 stress tests"
      ]
    },
    {
      "cell_type": "code",
      "execution_count": null,
      "metadata": {
        "id": "2KsiXKhALzwm",
        "colab": {
          "base_uri": "https://localhost:8080/"
        },
        "outputId": "a38ea277-0dd9-4226-8482-fa92d7a16999"
      },
      "outputs": [
        {
          "output_type": "stream",
          "name": "stdout",
          "text": [
            "Product: 49814556\n",
            "Product: 30610305\n",
            "Product: 91800\n",
            "Product: -929769888\n",
            "Product: -2058093903\n",
            "Product: 63\n",
            "Product: 7644\n",
            "Product: 1345094336\n",
            "Product: 1345094336\n",
            "Product: 120989000\n",
            "Product: 360\n",
            "Product: 20\n",
            "Product: 344378000\n",
            "Product: 0\n",
            "Product: 0\n",
            "Product: 2\n",
            "Product: 5\n",
            "Product: 1109889\n",
            "Product: 10989\n",
            "Product: 306\n"
          ]
        }
      ],
      "source": [
        "!g++ max_pairwise_sort_super_efficient.cpp -o max_pairwise_sort_super_efficient\n",
        "!./max_pairwise_sort_super_efficient < input4.txt\n",
        "!./max_pairwise_sort_super_efficient < input5.txt\n",
        "!./max_pairwise_sort_super_efficient < input6.txt\n",
        "!./max_pairwise_sort_super_efficient < input7.txt\n",
        "!./max_pairwise_sort_super_efficient < input8.txt\n",
        "!./max_pairwise_sort_super_efficient < input9.txt\n",
        "!./max_pairwise_sort_super_efficient < input10.txt\n",
        "!./max_pairwise_sort_super_efficient < input11.txt\n",
        "!./max_pairwise_sort_super_efficient < input12.txt\n",
        "!./max_pairwise_sort_super_efficient < input13.txt\n",
        "!./max_pairwise_sort_super_efficient < input14.txt\n",
        "!./max_pairwise_sort_super_efficient < input15.txt\n",
        "!./max_pairwise_sort_super_efficient < input16.txt\n",
        "!./max_pairwise_sort_super_efficient < input17.txt\n",
        "!./max_pairwise_sort_super_efficient < input18.txt\n",
        "!./max_pairwise_sort_super_efficient < input19.txt\n",
        "!./max_pairwise_sort_super_efficient < input20.txt\n",
        "!./max_pairwise_sort_super_efficient < input21.txt\n",
        "!./max_pairwise_sort_super_efficient < input22.txt\n",
        "!./max_pairwise_sort_super_efficient < input23.txt"
      ]
    },
    {
      "cell_type": "markdown",
      "metadata": {
        "id": "fEXj8GHJH5p1"
      },
      "source": [
        "Count executed instructions in code and verify with inputs 1,2 and 3"
      ]
    },
    {
      "cell_type": "code",
      "execution_count": null,
      "metadata": {
        "id": "LF1DHjKXIAsF",
        "colab": {
          "base_uri": "https://localhost:8080/"
        },
        "outputId": "2d361e50-8b8a-41eb-a72a-beb732d21127"
      },
      "outputs": [
        {
          "output_type": "stream",
          "name": "stdout",
          "text": [
            "Writing max_pairwise_sort_super_efficient_count.cpp\n"
          ]
        }
      ],
      "source": [
        "%%writefile max_pairwise_sort_super_efficient_count.cpp\n",
        "#include <iostream>\n",
        "#include <vector>\n",
        "#include <fstream>\n",
        "#include <cmath>\n",
        "#include <algorithm>\n",
        "#include <climits>\n",
        "\n",
        "using namespace std;\n",
        "\n",
        "int main() {\n",
        "\n",
        "    int instrucciones = 0;\n",
        "    int n;\n",
        "    instrucciones ++;\n",
        "    cin >> n;\n",
        "    instrucciones ++;\n",
        "    int maxValor = INT_MIN;\n",
        "    instrucciones ++;\n",
        "    int segMaxValor = INT_MIN;\n",
        "    instrucciones ++;\n",
        "\n",
        "\n",
        "    instrucciones ++;\n",
        "    for (int i = 0; i < n; ++i) {\n",
        "        instrucciones += 2;\n",
        "        int aux = 0;\n",
        "        instrucciones ++;\n",
        "\n",
        "        cin>> aux;\n",
        "        instrucciones ++;\n",
        "        instrucciones ++;\n",
        "        instrucciones ++;\n",
        "\n",
        "        if (aux > maxValor){\n",
        "          segMaxValor = maxValor;\n",
        "          instrucciones ++;\n",
        "          maxValor = aux;\n",
        "          instrucciones++;\n",
        "\n",
        "        } else if (aux > segMaxValor) {\n",
        "          segMaxValor = aux;\n",
        "          instrucciones ++;\n",
        "        }\n",
        "\n",
        "    }\n",
        "\n",
        "    cout <<  \"instrucciones: \" << instrucciones << \" n: \"<< n << \" Valor: \" << maxValor * segMaxValor << \"\\n\";\n",
        "    return 0;\n",
        "}"
      ]
    },
    {
      "cell_type": "code",
      "source": [
        "!g++ max_pairwise_sort_super_efficient_count.cpp -o max_pairwise_sort_super_efficient_count\n",
        "!./max_pairwise_sort_super_efficient_count < input1.txt\n",
        "!./max_pairwise_sort_super_efficient_count < input2.txt\n",
        "!./max_pairwise_sort_super_efficient_count < input3.txt"
      ],
      "metadata": {
        "colab": {
          "base_uri": "https://localhost:8080/"
        },
        "id": "4wvFE_0sjcp4",
        "outputId": "6b6a09cb-4339-48d6-d53c-b4c8ca9dce2a"
      },
      "execution_count": null,
      "outputs": [
        {
          "output_type": "stream",
          "name": "stdout",
          "text": [
            "instrucciones: 85 n: 10 Valor: 90\n",
            "instrucciones: 68 n: 10 Valor: 90\n",
            "instrucciones: 49 n: 6 Valor: 1345294336\n"
          ]
        }
      ]
    },
    {
      "cell_type": "markdown",
      "metadata": {
        "id": "yae7sSm2IG9U"
      },
      "source": [
        "Calculate estimated time by instruction and number of instructions by second"
      ]
    },
    {
      "cell_type": "code",
      "execution_count": null,
      "metadata": {
        "id": "suouY7BYL2dz",
        "colab": {
          "base_uri": "https://localhost:8080/"
        },
        "outputId": "2bf13b40-7234-4d8e-ca4a-5e7d97ee35b4"
      },
      "outputs": [
        {
          "output_type": "stream",
          "name": "stdout",
          "text": [
            "instrucciones: 85 n: 10 Valor: 90\n",
            "CPU times: user 16.7 ms, sys: 3.81 ms, total: 20.5 ms\n",
            "Wall time: 1.32 s\n"
          ]
        }
      ],
      "source": [
        "%%time\n",
        "!g++ max_pairwise_sort_super_efficient_count.cpp -o max_pairwise_sort_super_efficient_count\n",
        "!./max_pairwise_sort_super_efficient_count < input1.txt"
      ]
    },
    {
      "cell_type": "code",
      "source": [
        "0.0167 / 85"
      ],
      "metadata": {
        "colab": {
          "base_uri": "https://localhost:8080/"
        },
        "id": "zfMMNm4Qjw3h",
        "outputId": "2e6eb26a-f7f8-463b-bba6-de1c158735ce"
      },
      "execution_count": null,
      "outputs": [
        {
          "output_type": "execute_result",
          "data": {
            "text/plain": [
              "0.0001964705882352941"
            ]
          },
          "metadata": {},
          "execution_count": 297
        }
      ]
    },
    {
      "cell_type": "markdown",
      "metadata": {
        "id": "sy33CNNfPxcE"
      },
      "source": [
        "### Super efficient solution in Python\n",
        "\n",
        "Whitout storing the list in memory and whitout calling a function, add in each line a coment with the number of intstrcution that are executed in that line"
      ]
    },
    {
      "cell_type": "code",
      "execution_count": null,
      "metadata": {
        "id": "_mOjJwKrPxcJ",
        "colab": {
          "base_uri": "https://localhost:8080/"
        },
        "outputId": "40084f27-c961-4fcc-b709-1e1b158329de"
      },
      "outputs": [
        {
          "output_type": "stream",
          "name": "stdout",
          "text": [
            "Overwriting max_pairwise_sort_super_efficient_instructions.py\n"
          ]
        }
      ],
      "source": [
        "%%writefile max_pairwise_sort_super_efficient_instructions.py\n",
        "\n",
        "def max_pairwise_sort_super_efficient_instructions(numbers):\n",
        "    global max_value\n",
        "    max_value=float(\"-inf\")\n",
        "    global second_max_value\n",
        "    second_max_value=float(\"-inf\")\n",
        "    global instrucciones\n",
        "    instrucciones=2\n",
        "\n",
        "    for num in numbers:\n",
        "        instrucciones=instrucciones+1\n",
        "        if num > max_value:\n",
        "            second_max_value = max_value\n",
        "            max_value = num\n",
        "            instrucciones=instrucciones+3\n",
        "        elif num > second_max_value:\n",
        "            second_max_value = num\n",
        "            instrucciones=instrucciones+5\n",
        "    return max_value*second_max_value\n",
        "\n",
        "n = int(input())\n",
        "numbers=[int(i) for i in input().split()]\n",
        "print(\"Resultado: \",max_pairwise_sort_super_efficient_instructions(numbers))\n",
        "print(\"Instrucciones: \",instrucciones+1)\n"
      ]
    },
    {
      "cell_type": "markdown",
      "metadata": {
        "id": "K08Eow0hPxcJ"
      },
      "source": [
        "Test with inputs 1 and 2\n",
        "\n",
        "\n"
      ]
    },
    {
      "cell_type": "code",
      "execution_count": null,
      "metadata": {
        "id": "1_mUee2cPxcJ",
        "colab": {
          "base_uri": "https://localhost:8080/"
        },
        "outputId": "d1278c70-61e8-400d-f855-c8586741911b"
      },
      "outputs": [
        {
          "output_type": "stream",
          "name": "stdout",
          "text": [
            "Resultado:  90\n",
            "Instrucciones:  43\n",
            "Resultado:  90\n",
            "Instrucciones:  21\n"
          ]
        }
      ],
      "source": [
        "! python3 max_pairwise_sort_super_efficient_instructions.py < input1.txt\n",
        "! python3 max_pairwise_sort_super_efficient_instructions.py < input2.txt"
      ]
    },
    {
      "cell_type": "markdown",
      "metadata": {
        "id": "CE5DB3CmPxcJ"
      },
      "source": [
        "Test and time it with input 3"
      ]
    },
    {
      "cell_type": "code",
      "execution_count": null,
      "metadata": {
        "id": "lyLhFOoePxcJ",
        "colab": {
          "base_uri": "https://localhost:8080/"
        },
        "outputId": "29619642-ae06-4abb-9cdd-0897f1e298d8"
      },
      "outputs": [
        {
          "output_type": "stream",
          "name": "stdout",
          "text": [
            "Resultado:  40000000000\n",
            "Instrucciones:  28\n"
          ]
        }
      ],
      "source": [
        "! python3 max_pairwise_sort_super_efficient_instructions.py < input3.txt"
      ]
    },
    {
      "cell_type": "markdown",
      "metadata": {
        "id": "HZEI236lPxcK"
      },
      "source": [
        "20 stress tests"
      ]
    },
    {
      "cell_type": "code",
      "execution_count": null,
      "metadata": {
        "id": "_LoV-p4zPxcK",
        "colab": {
          "base_uri": "https://localhost:8080/"
        },
        "outputId": "9e5bedcf-1422-45d2-e224-2ee776817c87"
      },
      "outputs": [
        {
          "output_type": "stream",
          "name": "stdout",
          "text": [
            "Resultado:  49814556\n",
            "Instrucciones:  27\n",
            "Resultado:  30610305\n",
            "Instrucciones:  22\n",
            "Resultado:  91800\n",
            "Instrucciones:  54\n",
            "Resultado:  1063325598537312\n",
            "Instrucciones:  19\n",
            "Resultado:  101021121201\n",
            "Instrucciones:  13\n",
            "Resultado:  63\n",
            "Instrucciones:  25\n",
            "Resultado:  7644\n",
            "Instrucciones:  47\n",
            "Resultado:  39999800000\n",
            "Instrucciones:  800003\n",
            "Resultado:  39999800000\n",
            "Instrucciones:  200011\n",
            "Resultado:  120989000\n",
            "Instrucciones:  44003\n",
            "Resultado:  360\n",
            "Instrucciones:  43\n",
            "Resultado:  20\n",
            "Instrucciones:  23\n",
            "Resultado:  344378000\n",
            "Instrucciones:  63\n",
            "Resultado:  0\n",
            "Instrucciones:  24\n",
            "Resultado:  0\n",
            "Instrucciones:  21\n",
            "Resultado:  2\n",
            "Instrucciones:  21\n",
            "Resultado:  5\n",
            "Instrucciones:  26\n",
            "Resultado:  1109889\n",
            "Instrucciones:  19\n",
            "Resultado:  10989\n",
            "Instrucciones:  15\n",
            "Resultado:  306\n",
            "Instrucciones:  80\n"
          ]
        }
      ],
      "source": [
        "!python3 max_pairwise_sort_super_efficient_instructions.py < input4.txt\n",
        "!python3 max_pairwise_sort_super_efficient_instructions.py < input5.txt\n",
        "!python3 max_pairwise_sort_super_efficient_instructions.py < input6.txt\n",
        "!python3 max_pairwise_sort_super_efficient_instructions.py < input7.txt\n",
        "!python3 max_pairwise_sort_super_efficient_instructions.py < input8.txt\n",
        "!python3 max_pairwise_sort_super_efficient_instructions.py < input9.txt\n",
        "!python3 max_pairwise_sort_super_efficient_instructions.py < input10.txt\n",
        "!python3 max_pairwise_sort_super_efficient_instructions.py < input11.txt\n",
        "!python3 max_pairwise_sort_super_efficient_instructions.py < input12.txt\n",
        "!python3 max_pairwise_sort_super_efficient_instructions.py < input13.txt\n",
        "!python3 max_pairwise_sort_super_efficient_instructions.py < input14.txt\n",
        "!python3 max_pairwise_sort_super_efficient_instructions.py < input15.txt\n",
        "!python3 max_pairwise_sort_super_efficient_instructions.py < input16.txt\n",
        "!python3 max_pairwise_sort_super_efficient_instructions.py < input17.txt\n",
        "!python3 max_pairwise_sort_super_efficient_instructions.py < input18.txt\n",
        "!python3 max_pairwise_sort_super_efficient_instructions.py < input19.txt\n",
        "!python3 max_pairwise_sort_super_efficient_instructions.py < input20.txt\n",
        "!python3 max_pairwise_sort_super_efficient_instructions.py < input21.txt\n",
        "!python3 max_pairwise_sort_super_efficient_instructions.py < input22.txt\n",
        "!python3 max_pairwise_sort_super_efficient_instructions.py < input23.txt\n"
      ]
    },
    {
      "cell_type": "markdown",
      "metadata": {
        "id": "R6qeUjPaPxcK"
      },
      "source": [
        "Calculate estimated time by instruction and number of instructions by second"
      ]
    },
    {
      "cell_type": "code",
      "execution_count": null,
      "metadata": {
        "id": "iLdXYvn3PxcK",
        "colab": {
          "base_uri": "https://localhost:8080/"
        },
        "outputId": "f0c33827-d84e-45da-8ffe-91332584caa0"
      },
      "outputs": [
        {
          "output_type": "stream",
          "name": "stdout",
          "text": [
            "Resultado:  90\n",
            "Instrucciones:  43\n",
            "\n",
            "real\t0m0.047s\n",
            "user\t0m0.038s\n",
            "sys\t0m0.007s\n"
          ]
        }
      ],
      "source": [
        "!time python3 max_pairwise_sort_super_efficient_instructions.py < input1.txt"
      ]
    },
    {
      "cell_type": "code",
      "source": [
        "0.036/43"
      ],
      "metadata": {
        "colab": {
          "base_uri": "https://localhost:8080/"
        },
        "id": "FnSIlyUhy9pd",
        "outputId": "198118f1-c285-451b-cd36-43b6513e0597"
      },
      "execution_count": null,
      "outputs": [
        {
          "output_type": "execute_result",
          "data": {
            "text/plain": [
              "0.0008372093023255813"
            ]
          },
          "metadata": {},
          "execution_count": 47
        }
      ]
    }
  ],
  "metadata": {
    "colab": {
      "provenance": [],
      "include_colab_link": true
    },
    "kernelspec": {
      "display_name": "Python 3",
      "name": "python3"
    },
    "language_info": {
      "name": "python"
    }
  },
  "nbformat": 4,
  "nbformat_minor": 0
}
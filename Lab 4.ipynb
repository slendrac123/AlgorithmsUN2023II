{
  "cells": [
    {
      "cell_type": "code",
      "execution_count": null,
      "metadata": {
        "id": "im-VVd1__7VU",
        "colab": {
          "base_uri": "https://localhost:8080/"
        },
        "outputId": "a9056cb6-bb2b-4c63-9a3b-e3052dd589af"
      },
      "outputs": [
        {
          "output_type": "stream",
          "name": "stdout",
          "text": [
            "processor\t: 0\n",
            "vendor_id\t: AuthenticAMD\n",
            "cpu family\t: 23\n",
            "model\t\t: 49\n",
            "model name\t: AMD EPYC 7B12\n",
            "stepping\t: 0\n",
            "microcode\t: 0xffffffff\n",
            "cpu MHz\t\t: 2249.998\n",
            "cache size\t: 512 KB\n",
            "physical id\t: 0\n",
            "siblings\t: 2\n",
            "core id\t\t: 0\n",
            "cpu cores\t: 1\n",
            "apicid\t\t: 0\n",
            "initial apicid\t: 0\n",
            "fpu\t\t: yes\n",
            "fpu_exception\t: yes\n",
            "cpuid level\t: 13\n",
            "wp\t\t: yes\n",
            "flags\t\t: fpu vme de pse tsc msr pae mce cx8 apic sep mtrr pge mca cmov pat pse36 clflush mmx fxsr sse sse2 ht syscall nx mmxext fxsr_opt pdpe1gb rdtscp lm constant_tsc rep_good nopl nonstop_tsc cpuid extd_apicid tsc_known_freq pni pclmulqdq ssse3 fma cx16 sse4_1 sse4_2 movbe popcnt aes xsave avx f16c rdrand hypervisor lahf_lm cmp_legacy cr8_legacy abm sse4a misalignsse 3dnowprefetch osvw topoext ssbd ibrs ibpb stibp vmmcall fsgsbase tsc_adjust bmi1 avx2 smep bmi2 rdseed adx smap clflushopt clwb sha_ni xsaveopt xsavec xgetbv1 clzero xsaveerptr arat npt nrip_save umip rdpid\n",
            "bugs\t\t: sysret_ss_attrs null_seg spectre_v1 spectre_v2 spec_store_bypass retbleed smt_rsb\n",
            "bogomips\t: 4499.99\n",
            "TLB size\t: 3072 4K pages\n",
            "clflush size\t: 64\n",
            "cache_alignment\t: 64\n",
            "address sizes\t: 48 bits physical, 48 bits virtual\n",
            "power management:\n",
            "\n",
            "processor\t: 1\n",
            "vendor_id\t: AuthenticAMD\n",
            "cpu family\t: 23\n",
            "model\t\t: 49\n",
            "model name\t: AMD EPYC 7B12\n",
            "stepping\t: 0\n",
            "microcode\t: 0xffffffff\n",
            "cpu MHz\t\t: 2249.998\n",
            "cache size\t: 512 KB\n",
            "physical id\t: 0\n",
            "siblings\t: 2\n",
            "core id\t\t: 0\n",
            "cpu cores\t: 1\n",
            "apicid\t\t: 1\n",
            "initial apicid\t: 1\n",
            "fpu\t\t: yes\n",
            "fpu_exception\t: yes\n",
            "cpuid level\t: 13\n",
            "wp\t\t: yes\n",
            "flags\t\t: fpu vme de pse tsc msr pae mce cx8 apic sep mtrr pge mca cmov pat pse36 clflush mmx fxsr sse sse2 ht syscall nx mmxext fxsr_opt pdpe1gb rdtscp lm constant_tsc rep_good nopl nonstop_tsc cpuid extd_apicid tsc_known_freq pni pclmulqdq ssse3 fma cx16 sse4_1 sse4_2 movbe popcnt aes xsave avx f16c rdrand hypervisor lahf_lm cmp_legacy cr8_legacy abm sse4a misalignsse 3dnowprefetch osvw topoext ssbd ibrs ibpb stibp vmmcall fsgsbase tsc_adjust bmi1 avx2 smep bmi2 rdseed adx smap clflushopt clwb sha_ni xsaveopt xsavec xgetbv1 clzero xsaveerptr arat npt nrip_save umip rdpid\n",
            "bugs\t\t: sysret_ss_attrs null_seg spectre_v1 spectre_v2 spec_store_bypass retbleed smt_rsb\n",
            "bogomips\t: 4499.99\n",
            "TLB size\t: 3072 4K pages\n",
            "clflush size\t: 64\n",
            "cache_alignment\t: 64\n",
            "address sizes\t: 48 bits physical, 48 bits virtual\n",
            "power management:\n",
            "\n"
          ]
        }
      ],
      "source": [
        "!cat /proc/cpuinfo"
      ]
    },
    {
      "cell_type": "markdown",
      "metadata": {
        "id": "N1ok_-56OjB1"
      },
      "source": [
        "# I Solving the Sum of Two Digits Programming Challenge"
      ]
    },
    {
      "cell_type": "markdown",
      "metadata": {
        "id": "MMY7kmDSO0KM"
      },
      "source": [
        "## C++"
      ]
    },
    {
      "cell_type": "code",
      "execution_count": null,
      "metadata": {
        "colab": {
          "base_uri": "https://localhost:8080/"
        },
        "id": "2pGGf9BkPNIk",
        "outputId": "5a23c29a-d4fb-448d-f2b5-c6c34fc22325"
      },
      "outputs": [
        {
          "output_type": "stream",
          "name": "stdout",
          "text": [
            "Writing APlusB.cpp\n"
          ]
        }
      ],
      "source": [
        "%%writefile APlusB.cpp\n",
        "#include <iostream>\n",
        "\n",
        "int sum_of_two_digits(int first_digit, int second_digit) {\n",
        "    return first_digit + second_digit;\n",
        "}\n",
        "\n",
        "int main() {\n",
        "    int a = 0;\n",
        "    int b = 0;\n",
        "    std::cin >> a;\n",
        "    std::cin >> b;\n",
        "    std::cout << sum_of_two_digits(a, b);\n",
        "    return 0;\n",
        "}"
      ]
    },
    {
      "cell_type": "code",
      "execution_count": null,
      "metadata": {
        "colab": {
          "base_uri": "https://localhost:8080/"
        },
        "id": "0G3ZKOYAPXSU",
        "outputId": "5fa3d1fe-682c-42d7-b9ff-faa6af24852a"
      },
      "outputs": [
        {
          "output_type": "stream",
          "name": "stdout",
          "text": [
            "4 8\n",
            "12"
          ]
        }
      ],
      "source": [
        "!g++ APlusB.cpp -o APlusB -std=c++11\n",
        "!./APlusB"
      ]
    },
    {
      "cell_type": "markdown",
      "metadata": {
        "id": "iNkG2HqfTl9c"
      },
      "source": [
        "### Test input output files"
      ]
    },
    {
      "cell_type": "code",
      "execution_count": null,
      "metadata": {
        "colab": {
          "base_uri": "https://localhost:8080/"
        },
        "id": "aTzU2efzMxly",
        "outputId": "fe2b3f01-0736-4518-c3e3-87433669c112"
      },
      "outputs": [
        {
          "output_type": "stream",
          "name": "stdout",
          "text": [
            "Writing input1.txt\n"
          ]
        }
      ],
      "source": [
        "%%writefile input1.txt\n",
        "4 8"
      ]
    },
    {
      "cell_type": "code",
      "execution_count": null,
      "metadata": {
        "id": "zBJ0Gc0NQRet"
      },
      "outputs": [],
      "source": [
        "%%writefile output1.txt\n",
        "12"
      ]
    },
    {
      "cell_type": "code",
      "execution_count": null,
      "metadata": {
        "colab": {
          "base_uri": "https://localhost:8080/"
        },
        "id": "IjEcIx63PJAN",
        "outputId": "eb432980-43c2-4317-eb6b-d90e593d4b57"
      },
      "outputs": [
        {
          "output_type": "stream",
          "name": "stdout",
          "text": [
            "Writing input2.txt\n"
          ]
        }
      ],
      "source": [
        "%%writefile input2.txt\n",
        "0 9"
      ]
    },
    {
      "cell_type": "code",
      "execution_count": null,
      "metadata": {
        "colab": {
          "base_uri": "https://localhost:8080/"
        },
        "id": "Up9gOrxURTmd",
        "outputId": "ecd9a5dc-5aa5-4dc9-bbfe-bfdd60ead676"
      },
      "outputs": [
        {
          "output_type": "stream",
          "name": "stdout",
          "text": [
            "Writing output2.txt\n"
          ]
        }
      ],
      "source": [
        "%%writefile output2.txt\n",
        "9"
      ]
    },
    {
      "cell_type": "code",
      "execution_count": null,
      "metadata": {
        "colab": {
          "base_uri": "https://localhost:8080/"
        },
        "id": "PST6G-s-Pwgc",
        "outputId": "14c7e8e2-02f2-4ab3-c93a-f19bee750008"
      },
      "outputs": [
        {
          "output_type": "stream",
          "name": "stdout",
          "text": [
            "12"
          ]
        }
      ],
      "source": [
        "!./APlusB < input1.txt"
      ]
    },
    {
      "cell_type": "code",
      "execution_count": null,
      "metadata": {
        "colab": {
          "base_uri": "https://localhost:8080/"
        },
        "id": "cKxZOjSlRfIN",
        "outputId": "e1e0d7bc-438f-48b9-f3a4-527d9d695429"
      },
      "outputs": [
        {
          "output_type": "stream",
          "name": "stdout",
          "text": [
            "9"
          ]
        }
      ],
      "source": [
        "!./APlusB < input2.txt"
      ]
    },
    {
      "cell_type": "markdown",
      "metadata": {
        "id": "Qw2TQWCCUwqk"
      },
      "source": [
        "### Comparing files with grep\n",
        "\n",
        "https://askubuntu.com/questions/546796/comparing-two-text-files"
      ]
    },
    {
      "cell_type": "code",
      "execution_count": null,
      "metadata": {
        "id": "WVIaAmMKU4QM"
      },
      "outputs": [],
      "source": [
        "!grep -xvFf output1.txt output1.txt"
      ]
    },
    {
      "cell_type": "code",
      "execution_count": null,
      "metadata": {
        "id": "MQU8gPPjQuYO",
        "colab": {
          "base_uri": "https://localhost:8080/"
        },
        "outputId": "44b4eea0-e7e8-4583-a74a-5d96d735b103"
      },
      "outputs": [
        {
          "output_type": "stream",
          "name": "stdout",
          "text": [
            "9\n"
          ]
        }
      ],
      "source": [
        "!grep -xvFf output1.txt output2.txt"
      ]
    },
    {
      "cell_type": "code",
      "execution_count": null,
      "metadata": {
        "colab": {
          "base_uri": "https://localhost:8080/"
        },
        "id": "jYL9OuYBTD_l",
        "outputId": "2c641446-814c-45a4-ed44-c04a8960173b"
      },
      "outputs": [
        {
          "output_type": "stream",
          "name": "stdout",
          "text": [
            "12\n"
          ]
        }
      ],
      "source": [
        "!grep -xvFf output2.txt output1.txt"
      ]
    },
    {
      "cell_type": "code",
      "execution_count": null,
      "metadata": {
        "id": "Jlja0Xm4TX9M"
      },
      "outputs": [],
      "source": [
        "!./APlusB < input1.txt> ctest1.txt\n",
        "!grep -xvFf output1.txt ctest1.txt"
      ]
    },
    {
      "cell_type": "code",
      "execution_count": null,
      "metadata": {
        "id": "g9OIUZA_QLCQ"
      },
      "outputs": [],
      "source": [
        "!./APlusB < input2.txt > ctest2.txt\n",
        "!grep -xvFf output2.txt ctest2.txt"
      ]
    },
    {
      "cell_type": "markdown",
      "metadata": {
        "id": "3BgOaDjUVJk6"
      },
      "source": [
        "## Python"
      ]
    },
    {
      "cell_type": "code",
      "execution_count": null,
      "metadata": {
        "colab": {
          "base_uri": "https://localhost:8080/"
        },
        "id": "DBvl-T0CTN_8",
        "outputId": "f427a60d-5186-4a57-c965-7af66de03e5a"
      },
      "outputs": [
        {
          "output_type": "stream",
          "name": "stdout",
          "text": [
            "Writing sum.py\n"
          ]
        }
      ],
      "source": [
        "%%writefile sum.py\n",
        "# python3\n",
        "\n",
        "def sum_of_two_digits(first_digit, second_digit):\n",
        "    return first_digit + second_digit\n",
        "\n",
        "if __name__ == '__main__':\n",
        "    a, b = map(int, input().split())\n",
        "    print(sum_of_two_digits(a, b))"
      ]
    },
    {
      "cell_type": "code",
      "execution_count": null,
      "metadata": {
        "colab": {
          "base_uri": "https://localhost:8080/"
        },
        "id": "QKoKM11_WGyF",
        "outputId": "a82078d3-a1c3-4cb5-f650-cd7feb3ece98"
      },
      "outputs": [
        {
          "output_type": "stream",
          "name": "stdout",
          "text": [
            "4 8\n",
            "12\n"
          ]
        }
      ],
      "source": [
        "!python sum.py"
      ]
    },
    {
      "cell_type": "code",
      "execution_count": null,
      "metadata": {
        "id": "cocFbPRTWrqt"
      },
      "outputs": [],
      "source": [
        "!python sum.py  < input1.txt> ptest1.txt\n",
        "!grep -xvFf output1.txt ptest1.txt"
      ]
    },
    {
      "cell_type": "code",
      "execution_count": null,
      "metadata": {
        "id": "MorKTa-XXASN"
      },
      "outputs": [],
      "source": [
        "!python sum.py  < input2.txt> ptest2.txt\n",
        "!grep -xvFf output2.txt ptest2.txt"
      ]
    },
    {
      "cell_type": "markdown",
      "metadata": {
        "id": "uvP-mOubW_5F"
      },
      "source": [
        "# II Solving The Maximum Pairwise Product Programming Challenge in C++"
      ]
    },
    {
      "cell_type": "markdown",
      "metadata": {
        "id": "C12yoFR6Xonl"
      },
      "source": [
        "## C++"
      ]
    },
    {
      "cell_type": "code",
      "source": [
        "%%writefile max_pairwise_product_full.cpp\n",
        "#include <iostream>\n",
        "#include <vector>\n",
        "#include <algorithm>\n",
        "\n",
        "int MaxPairwiseProduct(const std::vector<int>& numbers) {\n",
        "    int max_product = 0;\n",
        "    int aux_product = 0;\n",
        "    int n = numbers.size();\n",
        "\n",
        "    for (int first = 0; first < n; ++first) {\n",
        "        for (int second = 0; second < n; ++second) {\n",
        "          if ( first != second ){\n",
        "                aux_product = numbers[first] * numbers[second];\n",
        "                if (aux_product > max_product)  max_product = aux_product;\n",
        "          }\n",
        "        }\n",
        "    }\n",
        "\n",
        "    return max_product;\n",
        "}\n",
        "\n",
        "int main() {\n",
        "    int n;\n",
        "    std::cin >> n;\n",
        "    std::vector<int> numbers(n);\n",
        "    for (int i = 0; i < n; ++i) {\n",
        "        std::cin >> numbers[i];\n",
        "    }\n",
        "\n",
        "    std::cout << MaxPairwiseProduct(numbers) << \"\\n\";\n",
        "    return 0;\n",
        "}"
      ],
      "metadata": {
        "colab": {
          "base_uri": "https://localhost:8080/"
        },
        "id": "3LpfoGv2Ae81",
        "outputId": "caa172de-e980-4cb7-8089-d6b1db3513ec"
      },
      "execution_count": null,
      "outputs": [
        {
          "output_type": "stream",
          "name": "stdout",
          "text": [
            "Overwriting max_pairwise_product_full.cpp\n"
          ]
        }
      ]
    },
    {
      "cell_type": "code",
      "source": [
        "!g++ max_pairwise_product_full.cpp -o max_pairwise_product_full\n",
        "!./max_pairwise_product_full"
      ],
      "metadata": {
        "id": "PCVo1h6nCF9k",
        "colab": {
          "base_uri": "https://localhost:8080/"
        },
        "outputId": "06c8abed-c235-458a-a38f-46d545088c45"
      },
      "execution_count": null,
      "outputs": [
        {
          "output_type": "stream",
          "name": "stdout",
          "text": [
            "5\n",
            "1 2 3 4 5\n",
            "20\n"
          ]
        }
      ]
    },
    {
      "cell_type": "markdown",
      "metadata": {
        "id": "m75IQQPbEHBS"
      },
      "source": [
        "$$n^2 \\ \\text{first != second  comparisons},  n^2 - n \\ \\ \\text{numbers[first] * numbers[second] products},  O(n^2)$$"
      ]
    },
    {
      "cell_type": "markdown",
      "metadata": {
        "id": "e7KhxHGNS3i0"
      },
      "source": [
        "### Test 1: Small numbers"
      ]
    },
    {
      "cell_type": "code",
      "execution_count": 6,
      "metadata": {
        "colab": {
          "base_uri": "https://localhost:8080/"
        },
        "id": "e1mmTzBgShT-",
        "outputId": "bcf517b4-abd6-452e-afb4-ec69a865fce3"
      },
      "outputs": [
        {
          "output_type": "stream",
          "name": "stdout",
          "text": [
            "Writing input1.txt\n"
          ]
        }
      ],
      "source": [
        "%%writefile input1.txt\n",
        "10\n",
        "1 2 3 4 5 6 7 8 9 10"
      ]
    },
    {
      "cell_type": "code",
      "execution_count": null,
      "metadata": {
        "colab": {
          "base_uri": "https://localhost:8080/"
        },
        "id": "vy_uI0x7TCId",
        "outputId": "f2096794-98c4-4c77-dc9a-91fea0e3ca9a"
      },
      "outputs": [
        {
          "output_type": "stream",
          "name": "stdout",
          "text": [
            "90\n"
          ]
        }
      ],
      "source": [
        "!./max_pairwise_product_full < input1.txt"
      ]
    },
    {
      "cell_type": "code",
      "execution_count": 7,
      "metadata": {
        "colab": {
          "base_uri": "https://localhost:8080/"
        },
        "id": "xaj6f9bxC6D6",
        "outputId": "4903fb9f-fe1e-4155-b397-b3398775b4f6"
      },
      "outputs": [
        {
          "output_type": "stream",
          "name": "stdout",
          "text": [
            "Writing output1.txt\n"
          ]
        }
      ],
      "source": [
        "%%writefile output1.txt\n",
        "90"
      ]
    },
    {
      "cell_type": "code",
      "execution_count": null,
      "metadata": {
        "id": "fYCjAdA_C-wy"
      },
      "outputs": [],
      "source": [
        "!./max_pairwise_product_full< input1.txt > ctest1.txt\n",
        "!grep -xvFf output1.txt ctest1.txt"
      ]
    },
    {
      "cell_type": "code",
      "source": [
        "%%writefile input2.txt\n",
        "10\n",
        "10 9 8 7 6 5 4 3 2 1"
      ],
      "metadata": {
        "colab": {
          "base_uri": "https://localhost:8080/"
        },
        "id": "ZPe40LY14_6f",
        "outputId": "8cfadc77-b14f-4084-f269-427d09a3d685"
      },
      "execution_count": 8,
      "outputs": [
        {
          "output_type": "stream",
          "name": "stdout",
          "text": [
            "Writing input2.txt\n"
          ]
        }
      ]
    },
    {
      "cell_type": "code",
      "source": [
        "%%writefile output2.txt\n",
        "90"
      ],
      "metadata": {
        "colab": {
          "base_uri": "https://localhost:8080/"
        },
        "id": "xiHmF7HA5Faa",
        "outputId": "2d37c1a7-bd47-4f8d-91e7-d42e5f1eba80"
      },
      "execution_count": 9,
      "outputs": [
        {
          "output_type": "stream",
          "name": "stdout",
          "text": [
            "Writing output2.txt\n"
          ]
        }
      ]
    },
    {
      "cell_type": "code",
      "source": [
        "!./max_pairwise_product_full< input2.txt > ctest2.txt\n",
        "!grep -xvFf output2.txt ctest2.txt"
      ],
      "metadata": {
        "id": "jjwc9kwb5t_k"
      },
      "execution_count": null,
      "outputs": []
    },
    {
      "cell_type": "markdown",
      "metadata": {
        "id": "IeZ3kTjpYmR9"
      },
      "source": [
        "### Test 2: largest input numbers 200000 200000 in the input"
      ]
    },
    {
      "cell_type": "code",
      "execution_count": 10,
      "metadata": {
        "colab": {
          "base_uri": "https://localhost:8080/"
        },
        "id": "LQNlZqaqYt7U",
        "outputId": "366bbaf0-4752-4f43-c7a0-d9844beac1fe"
      },
      "outputs": [
        {
          "output_type": "stream",
          "name": "stdout",
          "text": [
            "Writing input3.txt\n"
          ]
        }
      ],
      "source": [
        "%%writefile input3.txt\n",
        "6\n",
        "1 3 200000 9 200000 23"
      ]
    },
    {
      "cell_type": "code",
      "execution_count": null,
      "metadata": {
        "colab": {
          "base_uri": "https://localhost:8080/"
        },
        "id": "GjQq7QOUCw-9",
        "outputId": "a1966659-d353-4db4-d375-a44ca6a3e4d9"
      },
      "outputs": [
        {
          "output_type": "execute_result",
          "data": {
            "text/plain": [
              "40000000000"
            ]
          },
          "metadata": {},
          "execution_count": 12
        }
      ],
      "source": [
        "200000*200000"
      ]
    },
    {
      "cell_type": "code",
      "execution_count": 11,
      "metadata": {
        "colab": {
          "base_uri": "https://localhost:8080/"
        },
        "id": "EuS6n3jtDK5C",
        "outputId": "f7c054b7-95cf-4a95-9f48-7cf6ed9362fc"
      },
      "outputs": [
        {
          "output_type": "stream",
          "name": "stdout",
          "text": [
            "Writing output3.txt\n"
          ]
        }
      ],
      "source": [
        "%%writefile output3.txt\n",
        "40000000000"
      ]
    },
    {
      "cell_type": "code",
      "execution_count": null,
      "metadata": {
        "colab": {
          "base_uri": "https://localhost:8080/"
        },
        "id": "2Wad2VZUZDxR",
        "outputId": "d92e8e48-4bef-469f-b68d-a09d64cbd909"
      },
      "outputs": [
        {
          "output_type": "stream",
          "name": "stdout",
          "text": [
            "/bin/bash: line 1: ./max_pairwise_product_full: No such file or directory\n"
          ]
        }
      ],
      "source": [
        "!./max_pairwise_product_full < input3.txt"
      ]
    },
    {
      "cell_type": "code",
      "execution_count": null,
      "metadata": {
        "colab": {
          "base_uri": "https://localhost:8080/"
        },
        "id": "pEvp1ieyDJGq",
        "outputId": "067526bc-7750-4d8e-e147-1fac789658bd"
      },
      "outputs": [
        {
          "output_type": "stream",
          "name": "stdout",
          "text": [
            "/bin/bash: line 1: ./max_pairwise_product_full: No such file or directory\n"
          ]
        }
      ],
      "source": [
        "!./max_pairwise_product_full < input3.txt > ctest3.txt\n",
        "!grep -xvFf output3.txt ctest3.txt"
      ]
    },
    {
      "cell_type": "code",
      "source": [
        " %%writefile run_all_test.sh\n",
        "#!/bin/bash\n",
        "g++ max_pairwise_product_full.cpp -o max_pairwise_product_full\n",
        "for i in {1..3}\n",
        "do\n",
        "    ./max_pairwise_product_full < input$i.txt > ctest$i.txt\n",
        "    grep -xvFf output$i.txt ctest$i.txt\n",
        "done"
      ],
      "metadata": {
        "colab": {
          "base_uri": "https://localhost:8080/"
        },
        "id": "SrtJrKqM-God",
        "outputId": "1be1df74-2ac7-4b24-dfd6-c07e823fd3cb"
      },
      "execution_count": null,
      "outputs": [
        {
          "output_type": "stream",
          "name": "stdout",
          "text": [
            "Writing run_all_test.sh\n"
          ]
        }
      ]
    },
    {
      "cell_type": "code",
      "source": [
        "!chmod u+x run_all_test.sh\n",
        "!./run_all_test.sh"
      ],
      "metadata": {
        "colab": {
          "base_uri": "https://localhost:8080/"
        },
        "id": "wGWMHtzS-QnA",
        "outputId": "8e5b7800-4f3b-474f-9611-640626b873d8"
      },
      "execution_count": null,
      "outputs": [
        {
          "output_type": "stream",
          "name": "stdout",
          "text": [
            "1345294336\n"
          ]
        }
      ]
    },
    {
      "cell_type": "markdown",
      "metadata": {
        "id": "H2SC0Qt5HCzz"
      },
      "source": [
        "Changing the variables to long long"
      ]
    },
    {
      "cell_type": "code",
      "execution_count": null,
      "metadata": {
        "colab": {
          "base_uri": "https://localhost:8080/"
        },
        "id": "MPcmsxiQZSfE",
        "outputId": "f47870cc-be64-4037-df71-12fd66c23af7"
      },
      "outputs": [
        {
          "output_type": "stream",
          "name": "stdout",
          "text": [
            "Writing max_pairwise_product_long_full.cpp\n"
          ]
        }
      ],
      "source": [
        "%%writefile max_pairwise_product_long_full.cpp\n",
        "#include <iostream>\n",
        "#include <vector>\n",
        "#include <algorithm>\n",
        "\n",
        "long long MaxPairwiseProduct(const std::vector<int>& numbers) {\n",
        "    long long max_product = 0LL;\n",
        "\t  long long aux_product = 0LL;\n",
        "    int n = numbers.size();\n",
        "\n",
        "    for (int first = 0; first < n; ++first) {\n",
        "        for (int second = 0; second < n; ++second) {\n",
        "          if ( first != second){\n",
        "                aux_product = (long long) numbers[first] * numbers[second];\n",
        "                if (aux_product > max_product)  max_product = aux_product;\n",
        "          }\n",
        "        }\n",
        "    }\n",
        "\n",
        "\n",
        "    return max_product;\n",
        "}\n",
        "\n",
        "int main() {\n",
        "    int n;\n",
        "    std::cin >> n;\n",
        "    std::vector<int> numbers(n);\n",
        "    for (int i = 0; i < n; ++i) {\n",
        "        std::cin >> numbers[i];\n",
        "    }\n",
        "\n",
        "    std::cout << MaxPairwiseProduct(numbers) << \"\\n\";\n",
        "    return 0;\n",
        "}\n"
      ]
    },
    {
      "cell_type": "code",
      "source": [
        "!g++ max_pairwise_product_long_full.cpp -o max_pairwise_product_long_full"
      ],
      "metadata": {
        "id": "W3xQpFXL6wjO"
      },
      "execution_count": null,
      "outputs": []
    },
    {
      "cell_type": "code",
      "source": [
        "!./max_pairwise_product_long_full < input3.txt"
      ],
      "metadata": {
        "colab": {
          "base_uri": "https://localhost:8080/"
        },
        "id": "H5dvN9M3R9sV",
        "outputId": "b7e23c18-b417-4d98-e129-c4c07277a159"
      },
      "execution_count": null,
      "outputs": [
        {
          "output_type": "stream",
          "name": "stdout",
          "text": [
            "40000000000\n"
          ]
        }
      ]
    },
    {
      "cell_type": "markdown",
      "source": [
        "### Runing multuple test with a bash shell"
      ],
      "metadata": {
        "id": "gx-sEYdfQ8f8"
      }
    },
    {
      "cell_type": "code",
      "source": [
        " %%writefile run_all_test.sh\n",
        "#!/bin/bash\n",
        "g++ max_pairwise_product_long_full.cpp -o max_pairwise_product_long_full\n",
        "for i in {1..3}\n",
        "do\n",
        "    ./max_pairwise_product_long_full < input$i.txt > ctest$i.txt\n",
        "    grep -xvFf output$i.txt ctest$i.txt\n",
        "done"
      ],
      "metadata": {
        "colab": {
          "base_uri": "https://localhost:8080/"
        },
        "id": "O9qsq2nn7elw",
        "outputId": "40ce502e-81fa-4d10-f4c6-914119a37b41"
      },
      "execution_count": null,
      "outputs": [
        {
          "output_type": "stream",
          "name": "stdout",
          "text": [
            "Overwriting run_all_test.sh\n"
          ]
        }
      ]
    },
    {
      "cell_type": "code",
      "source": [
        "!chmod u+x run_all_test.sh\n",
        "!./run_all_test.sh"
      ],
      "metadata": {
        "id": "0g5kKVph7xIA"
      },
      "execution_count": null,
      "outputs": []
    },
    {
      "cell_type": "markdown",
      "metadata": {
        "id": "XPVHkHxH6_7s"
      },
      "source": [
        "### Test 3  stress tests 6 testing cases files input4.txt/output4.txt .. input10.txt/output10.txt\n",
        "\n",
        "---\n",
        "\n"
      ]
    },
    {
      "cell_type": "markdown",
      "source": [
        "----------------------------------------------------**Test *3.1***-------------------------------------------------"
      ],
      "metadata": {
        "id": "kNdssEKaLCtl"
      }
    },
    {
      "cell_type": "code",
      "execution_count": null,
      "metadata": {
        "id": "PwqpBmYr69fu",
        "colab": {
          "base_uri": "https://localhost:8080/"
        },
        "outputId": "963c0433-7ba2-4687-d0cb-5f51dec5847c"
      },
      "outputs": [
        {
          "output_type": "stream",
          "name": "stdout",
          "text": [
            "Writing input4.txt\n"
          ]
        }
      ],
      "source": [
        "%%writefile input4.txt\n",
        "10\n",
        "7 8 9554  5214  42  567 331 44  4 1"
      ]
    },
    {
      "cell_type": "code",
      "source": [
        "9554*5214"
      ],
      "metadata": {
        "colab": {
          "base_uri": "https://localhost:8080/"
        },
        "id": "znRSKu9iJv4y",
        "outputId": "d3622d9c-ccd0-45f0-97ea-52785fc29804"
      },
      "execution_count": null,
      "outputs": [
        {
          "output_type": "execute_result",
          "data": {
            "text/plain": [
              "49814556"
            ]
          },
          "metadata": {},
          "execution_count": 33
        }
      ]
    },
    {
      "cell_type": "code",
      "source": [
        "%%writefile ctest4.txt\n",
        "49814556"
      ],
      "metadata": {
        "colab": {
          "base_uri": "https://localhost:8080/"
        },
        "id": "CGTeM2YuKYuV",
        "outputId": "671678e7-833f-4390-9d39-beb8f11afd03"
      },
      "execution_count": null,
      "outputs": [
        {
          "output_type": "stream",
          "name": "stdout",
          "text": [
            "Writing ctest4.txt\n"
          ]
        }
      ]
    },
    {
      "cell_type": "code",
      "execution_count": null,
      "metadata": {
        "id": "jBCkMeR6Fw4y",
        "colab": {
          "base_uri": "https://localhost:8080/"
        },
        "outputId": "ad03dcda-b877-4222-a024-0b03b65817b5"
      },
      "outputs": [
        {
          "output_type": "stream",
          "name": "stdout",
          "text": [
            "49814556\n"
          ]
        }
      ],
      "source": [
        "!./max_pairwise_product_long_full < input4.txt"
      ]
    },
    {
      "cell_type": "code",
      "source": [
        "%%writefile output4.txt\n",
        "49814556"
      ],
      "metadata": {
        "colab": {
          "base_uri": "https://localhost:8080/"
        },
        "id": "U-MpdcGtJ6YS",
        "outputId": "3c155f37-735d-4778-beca-2657aa999f58"
      },
      "execution_count": null,
      "outputs": [
        {
          "output_type": "stream",
          "name": "stdout",
          "text": [
            "Writing output4.txt\n"
          ]
        }
      ]
    },
    {
      "cell_type": "code",
      "source": [
        "!./max_pairwise_product_long_full < input4.txt > ctest4.txt\n",
        "!grep -xvFf output4.txt ctest4.txt"
      ],
      "metadata": {
        "id": "zED8V8wu-eoM"
      },
      "execution_count": null,
      "outputs": []
    },
    {
      "cell_type": "markdown",
      "source": [
        "----------------------------------------------------Test 3.2-------------------------------------------------"
      ],
      "metadata": {
        "id": "28Iz8x04L6xU"
      }
    },
    {
      "cell_type": "code",
      "source": [
        "%%writefile input5.txt\n",
        "5\n",
        "23  5 4455  6871  25"
      ],
      "metadata": {
        "colab": {
          "base_uri": "https://localhost:8080/"
        },
        "id": "mezxRXlSL88Z",
        "outputId": "3fbf6d82-52da-45d5-ee72-561a05510b4d"
      },
      "execution_count": null,
      "outputs": [
        {
          "output_type": "stream",
          "name": "stdout",
          "text": [
            "Writing input5.txt\n"
          ]
        }
      ]
    },
    {
      "cell_type": "code",
      "source": [
        "4455*6871"
      ],
      "metadata": {
        "colab": {
          "base_uri": "https://localhost:8080/"
        },
        "id": "nwwrQG6AMPC-",
        "outputId": "0a359235-4a67-403f-ccb1-48318c9922f3"
      },
      "execution_count": null,
      "outputs": [
        {
          "output_type": "execute_result",
          "data": {
            "text/plain": [
              "30610305"
            ]
          },
          "metadata": {},
          "execution_count": 286
        }
      ]
    },
    {
      "cell_type": "code",
      "source": [
        "%%writefile ctest5.txt\n",
        "30610305"
      ],
      "metadata": {
        "colab": {
          "base_uri": "https://localhost:8080/"
        },
        "id": "a3GTxPrpMVCK",
        "outputId": "377357e4-d236-4543-bef6-8e6b6264a0b0"
      },
      "execution_count": null,
      "outputs": [
        {
          "output_type": "stream",
          "name": "stdout",
          "text": [
            "Writing ctest5.txt\n"
          ]
        }
      ]
    },
    {
      "cell_type": "code",
      "source": [
        "!./max_pairwise_product_long_full < input5.txt"
      ],
      "metadata": {
        "colab": {
          "base_uri": "https://localhost:8080/"
        },
        "id": "pjB6ohzwMa65",
        "outputId": "fb396c5c-6d3e-4797-a312-363fdf9bca64"
      },
      "execution_count": null,
      "outputs": [
        {
          "output_type": "stream",
          "name": "stdout",
          "text": [
            "30610305\n"
          ]
        }
      ]
    },
    {
      "cell_type": "code",
      "source": [
        "%%writefile output5.txt\n",
        "30610305"
      ],
      "metadata": {
        "colab": {
          "base_uri": "https://localhost:8080/"
        },
        "id": "Lv3TT5a9MgsR",
        "outputId": "322a4994-c215-4e35-d83e-98e37859c4d5"
      },
      "execution_count": null,
      "outputs": [
        {
          "output_type": "stream",
          "name": "stdout",
          "text": [
            "Writing output5.txt\n"
          ]
        }
      ]
    },
    {
      "cell_type": "code",
      "source": [
        "!./max_pairwise_product_long_full < input5.txt > ctest5.txt\n",
        "!grep -xvFf output5.txt ctest5.txt"
      ],
      "metadata": {
        "id": "5creajHDMv-v"
      },
      "execution_count": null,
      "outputs": []
    },
    {
      "cell_type": "markdown",
      "source": [
        "---------------------------------------------------Test 3.3-------------------------------------------------"
      ],
      "metadata": {
        "id": "f9RAYYdqM4sv"
      }
    },
    {
      "cell_type": "code",
      "source": [
        "%%writefile input6.txt\n",
        "20\n",
        "12  3 6 7 918 4 1 2 85  3 7 23  45  68  72  23  100 58  75  64"
      ],
      "metadata": {
        "colab": {
          "base_uri": "https://localhost:8080/"
        },
        "id": "WNnxrGTpM7NZ",
        "outputId": "74dda666-98bd-4e0d-a519-84122a9e51d2"
      },
      "execution_count": null,
      "outputs": [
        {
          "output_type": "stream",
          "name": "stdout",
          "text": [
            "Writing input6.txt\n"
          ]
        }
      ]
    },
    {
      "cell_type": "code",
      "source": [
        "918*100"
      ],
      "metadata": {
        "colab": {
          "base_uri": "https://localhost:8080/"
        },
        "id": "GOzyPpDVNPWh",
        "outputId": "04a90d07-344f-4723-e991-d3661093802d"
      },
      "execution_count": null,
      "outputs": [
        {
          "output_type": "execute_result",
          "data": {
            "text/plain": [
              "91800"
            ]
          },
          "metadata": {},
          "execution_count": 292
        }
      ]
    },
    {
      "cell_type": "code",
      "source": [
        "%%writefile ctest6.txt\n",
        "91800"
      ],
      "metadata": {
        "colab": {
          "base_uri": "https://localhost:8080/"
        },
        "id": "siTs6VyFNT2x",
        "outputId": "3169c720-3682-41b9-85e0-87980b1ce2ce"
      },
      "execution_count": null,
      "outputs": [
        {
          "output_type": "stream",
          "name": "stdout",
          "text": [
            "Writing ctest6.txt\n"
          ]
        }
      ]
    },
    {
      "cell_type": "code",
      "source": [
        "!./max_pairwise_product_long_full < input6.txt"
      ],
      "metadata": {
        "colab": {
          "base_uri": "https://localhost:8080/"
        },
        "id": "mD-3_5cZNjOW",
        "outputId": "a872c40a-1099-4e7b-cb0f-92b18328e67c"
      },
      "execution_count": null,
      "outputs": [
        {
          "output_type": "stream",
          "name": "stdout",
          "text": [
            "91800\n"
          ]
        }
      ]
    },
    {
      "cell_type": "code",
      "source": [
        "%%writefile output6.txt\n",
        "91800"
      ],
      "metadata": {
        "colab": {
          "base_uri": "https://localhost:8080/"
        },
        "id": "NyWfUu6UNzth",
        "outputId": "8af60e5a-05b2-4476-cd05-b211c071b6de"
      },
      "execution_count": null,
      "outputs": [
        {
          "output_type": "stream",
          "name": "stdout",
          "text": [
            "Writing output6.txt\n"
          ]
        }
      ]
    },
    {
      "cell_type": "code",
      "source": [
        "!./max_pairwise_product_long_full < input6.txt > ctest6.txt\n",
        "!grep -xvFf output6.txt ctest6.txt"
      ],
      "metadata": {
        "id": "zdpXqioHN-zP"
      },
      "execution_count": null,
      "outputs": []
    },
    {
      "cell_type": "markdown",
      "source": [
        "----------------------------------------------------Test 3.4-------------------------------------------------"
      ],
      "metadata": {
        "id": "hz6F4BpiOR9E"
      }
    },
    {
      "cell_type": "code",
      "source": [
        "%%writefile input7.txt\n",
        "3\n",
        "233356464 112745 4556658"
      ],
      "metadata": {
        "colab": {
          "base_uri": "https://localhost:8080/"
        },
        "id": "fRQLGlrVOVc-",
        "outputId": "af54fcc8-9da1-4e3e-e5b4-bc5ebada4341"
      },
      "execution_count": null,
      "outputs": [
        {
          "output_type": "stream",
          "name": "stdout",
          "text": [
            "Writing input7.txt\n"
          ]
        }
      ]
    },
    {
      "cell_type": "code",
      "source": [
        "233356464*4556658"
      ],
      "metadata": {
        "colab": {
          "base_uri": "https://localhost:8080/"
        },
        "id": "4wYiYhjCOhI8",
        "outputId": "2ba45795-f248-4cd8-9b61-e163875903b8"
      },
      "execution_count": null,
      "outputs": [
        {
          "output_type": "execute_result",
          "data": {
            "text/plain": [
              "1063325598537312"
            ]
          },
          "metadata": {},
          "execution_count": 477
        }
      ]
    },
    {
      "cell_type": "code",
      "source": [
        "%%writefile ctest7.txt\n",
        "1063325598537312"
      ],
      "metadata": {
        "colab": {
          "base_uri": "https://localhost:8080/"
        },
        "id": "ZpZ5h0cZOorW",
        "outputId": "dfab14f3-3616-4aa5-d7f1-4dc724277ec9"
      },
      "execution_count": null,
      "outputs": [
        {
          "output_type": "stream",
          "name": "stdout",
          "text": [
            "Writing ctest7.txt\n"
          ]
        }
      ]
    },
    {
      "cell_type": "code",
      "source": [
        "!./max_pairwise_product_long_full < input7.txt"
      ],
      "metadata": {
        "id": "RvI7spMXOxH-",
        "outputId": "4c11fe70-5ae5-42d3-c7d5-d30fae041cc1",
        "colab": {
          "base_uri": "https://localhost:8080/"
        }
      },
      "execution_count": null,
      "outputs": [
        {
          "output_type": "stream",
          "name": "stdout",
          "text": [
            "1063325598537312\n"
          ]
        }
      ]
    },
    {
      "cell_type": "code",
      "source": [
        "%%writefile output7.txt\n",
        "1063325598537312"
      ],
      "metadata": {
        "id": "eVG2i-wnPEkt",
        "outputId": "a5c4e7f8-caab-44cb-9265-b55d6686a088",
        "colab": {
          "base_uri": "https://localhost:8080/"
        }
      },
      "execution_count": null,
      "outputs": [
        {
          "output_type": "stream",
          "name": "stdout",
          "text": [
            "Writing output7.txt\n"
          ]
        }
      ]
    },
    {
      "cell_type": "code",
      "source": [
        "!./max_pairwise_product_long_full < input7.txt > ctest7.txt\n",
        "!grep -xvFf output7.txt ctest7.txt"
      ],
      "metadata": {
        "id": "SopuwqiPPLe1"
      },
      "execution_count": null,
      "outputs": []
    },
    {
      "cell_type": "markdown",
      "source": [
        "---------------------------------------------------Test 3.5-------------------------------------------------"
      ],
      "metadata": {
        "id": "KZdMA6uNPcT9"
      }
    },
    {
      "cell_type": "code",
      "source": [
        "%%writefile input8.txt\n",
        "4\n",
        "10101 10001101 101 1 2"
      ],
      "metadata": {
        "id": "6bhSTF7zPdc1",
        "outputId": "64f165f2-5377-4c63-a0af-3e40951fba5e",
        "colab": {
          "base_uri": "https://localhost:8080/"
        }
      },
      "execution_count": null,
      "outputs": [
        {
          "output_type": "stream",
          "name": "stdout",
          "text": [
            "Writing input8.txt\n"
          ]
        }
      ]
    },
    {
      "cell_type": "code",
      "source": [
        "10101*10001101"
      ],
      "metadata": {
        "id": "pH2LCaSvPrsM",
        "outputId": "2dce4589-3a83-46fb-e978-76615f869e4c",
        "colab": {
          "base_uri": "https://localhost:8080/"
        }
      },
      "execution_count": null,
      "outputs": [
        {
          "output_type": "execute_result",
          "data": {
            "text/plain": [
              "101021121201"
            ]
          },
          "metadata": {},
          "execution_count": 54
        }
      ]
    },
    {
      "cell_type": "code",
      "source": [
        "%%writefile ctest8.txt\n",
        "101021121201"
      ],
      "metadata": {
        "id": "r2kmFl-KP0MI",
        "outputId": "a7d714a7-a0d2-4c1d-b19c-da3fbac8c2f7",
        "colab": {
          "base_uri": "https://localhost:8080/"
        }
      },
      "execution_count": null,
      "outputs": [
        {
          "output_type": "stream",
          "name": "stdout",
          "text": [
            "Writing ctest8.txt\n"
          ]
        }
      ]
    },
    {
      "cell_type": "code",
      "source": [
        "!./max_pairwise_product_long_full < input8.txt"
      ],
      "metadata": {
        "id": "c84DRGjjQA80",
        "outputId": "01efa3bb-e1a6-448b-f157-0a322ea50fcb",
        "colab": {
          "base_uri": "https://localhost:8080/"
        }
      },
      "execution_count": null,
      "outputs": [
        {
          "output_type": "stream",
          "name": "stdout",
          "text": [
            "101021121201\n"
          ]
        }
      ]
    },
    {
      "cell_type": "code",
      "source": [
        "%%writefile output8.txt\n",
        "101021121201"
      ],
      "metadata": {
        "id": "MFw_KRLRQEnJ",
        "outputId": "64f9d4db-7206-4e74-ec50-b90e44e05c31",
        "colab": {
          "base_uri": "https://localhost:8080/"
        }
      },
      "execution_count": null,
      "outputs": [
        {
          "output_type": "stream",
          "name": "stdout",
          "text": [
            "Writing output8.txt\n"
          ]
        }
      ]
    },
    {
      "cell_type": "code",
      "source": [
        "!./max_pairwise_product_long_full < input8.txt > ctest8.txt\n",
        "!grep -xvFf output8.txt ctest8.txt"
      ],
      "metadata": {
        "id": "sAn0CJX0QOJK"
      },
      "execution_count": null,
      "outputs": []
    },
    {
      "cell_type": "markdown",
      "source": [
        "---------------------------------------------------Test 3.6-------------------------------------------------"
      ],
      "metadata": {
        "id": "UJaSC5RCQUJK"
      }
    },
    {
      "cell_type": "code",
      "source": [
        "%%writefile input9.txt\n",
        "7\n",
        "2 3 5 7 4 9 1"
      ],
      "metadata": {
        "id": "WPHHSnHTQZND",
        "outputId": "42079b3f-fbb6-431b-ec41-ae61777cbefa",
        "colab": {
          "base_uri": "https://localhost:8080/"
        }
      },
      "execution_count": null,
      "outputs": [
        {
          "output_type": "stream",
          "name": "stdout",
          "text": [
            "Writing input9.txt\n"
          ]
        }
      ]
    },
    {
      "cell_type": "code",
      "source": [
        "7*9"
      ],
      "metadata": {
        "id": "Epb0fnQnQmBx",
        "outputId": "b60f2369-6e0d-4321-c427-08d15c01c655",
        "colab": {
          "base_uri": "https://localhost:8080/"
        }
      },
      "execution_count": null,
      "outputs": [
        {
          "output_type": "execute_result",
          "data": {
            "text/plain": [
              "63"
            ]
          },
          "metadata": {},
          "execution_count": 60
        }
      ]
    },
    {
      "cell_type": "code",
      "source": [
        "%%writefile ctest9.txt\n",
        "63"
      ],
      "metadata": {
        "id": "N5n1nscCQqUI",
        "outputId": "c696400a-4549-4252-c8a0-e07c871b8ed7",
        "colab": {
          "base_uri": "https://localhost:8080/"
        }
      },
      "execution_count": null,
      "outputs": [
        {
          "output_type": "stream",
          "name": "stdout",
          "text": [
            "Writing ctest9.txt\n"
          ]
        }
      ]
    },
    {
      "cell_type": "code",
      "source": [
        "!./max_pairwise_product_long_full < input9.txt"
      ],
      "metadata": {
        "id": "upZC1OIUQr7u",
        "outputId": "b3397f5c-dce7-48ce-fa7c-fdc8eaf1ff41",
        "colab": {
          "base_uri": "https://localhost:8080/"
        }
      },
      "execution_count": null,
      "outputs": [
        {
          "output_type": "stream",
          "name": "stdout",
          "text": [
            "63\n"
          ]
        }
      ]
    },
    {
      "cell_type": "code",
      "source": [
        "%%writefile output9.txt\n",
        "63"
      ],
      "metadata": {
        "id": "ojsPe6ooQzHS",
        "outputId": "981873de-43fa-42f9-fe3b-01080fc1ce73",
        "colab": {
          "base_uri": "https://localhost:8080/"
        }
      },
      "execution_count": null,
      "outputs": [
        {
          "output_type": "stream",
          "name": "stdout",
          "text": [
            "Writing output9.txt\n"
          ]
        }
      ]
    },
    {
      "cell_type": "code",
      "source": [
        "!./max_pairwise_product_long_full < input9.txt > ctest9.txt\n",
        "!grep -xvFf output9.txt ctest9.txt"
      ],
      "metadata": {
        "id": "0XInClImQ7ei"
      },
      "execution_count": null,
      "outputs": []
    },
    {
      "cell_type": "markdown",
      "source": [
        "---------------------------------------------------Test 3.7-------------------------------------------------"
      ],
      "metadata": {
        "id": "6HOTspiORCnO"
      }
    },
    {
      "cell_type": "code",
      "source": [
        "%%writefile input10.txt\n",
        "12\n",
        "2 3 5 7 4 9 1 55 44 56 78 98"
      ],
      "metadata": {
        "id": "SdGR_iRRREwa",
        "outputId": "16a5586f-26df-4562-d2aa-c4c512b736fc",
        "colab": {
          "base_uri": "https://localhost:8080/"
        }
      },
      "execution_count": null,
      "outputs": [
        {
          "output_type": "stream",
          "name": "stdout",
          "text": [
            "Writing input10.txt\n"
          ]
        }
      ]
    },
    {
      "cell_type": "code",
      "source": [
        "78*98"
      ],
      "metadata": {
        "id": "GL3iz-IlRVCk",
        "outputId": "8d4f44df-d257-4294-9b82-bdd031c2c9ec",
        "colab": {
          "base_uri": "https://localhost:8080/"
        }
      },
      "execution_count": null,
      "outputs": [
        {
          "output_type": "execute_result",
          "data": {
            "text/plain": [
              "7644"
            ]
          },
          "metadata": {},
          "execution_count": 314
        }
      ]
    },
    {
      "cell_type": "code",
      "source": [
        "%%writefile ctest10.txt\n",
        "7644"
      ],
      "metadata": {
        "id": "nPd_AYYJRb_S",
        "outputId": "039a99dd-f225-41f3-b1f8-13551af075e1",
        "colab": {
          "base_uri": "https://localhost:8080/"
        }
      },
      "execution_count": null,
      "outputs": [
        {
          "output_type": "stream",
          "name": "stdout",
          "text": [
            "Writing ctest10.txt\n"
          ]
        }
      ]
    },
    {
      "cell_type": "code",
      "source": [
        "!./max_pairwise_product_long_full < input10.txt"
      ],
      "metadata": {
        "id": "5mlLAyPcRioW",
        "outputId": "de7b2a44-0b7a-436c-9a50-7d52a32000ff",
        "colab": {
          "base_uri": "https://localhost:8080/"
        }
      },
      "execution_count": null,
      "outputs": [
        {
          "output_type": "stream",
          "name": "stdout",
          "text": [
            "7644\n"
          ]
        }
      ]
    },
    {
      "cell_type": "code",
      "source": [
        "%%writefile output10.txt\n",
        "7644"
      ],
      "metadata": {
        "id": "COcpbUfRRmnN",
        "outputId": "8c8b0156-8b02-4306-cc3e-e0561138416d",
        "colab": {
          "base_uri": "https://localhost:8080/"
        }
      },
      "execution_count": null,
      "outputs": [
        {
          "output_type": "stream",
          "name": "stdout",
          "text": [
            "Writing output10.txt\n"
          ]
        }
      ]
    },
    {
      "cell_type": "code",
      "source": [
        "!./max_pairwise_product_long_full < input10.txt > ctest10.txt\n",
        "!grep -xvFf output10.txt ctest10.txt"
      ],
      "metadata": {
        "id": "T4hzHzEMRuiW"
      },
      "execution_count": null,
      "outputs": []
    },
    {
      "cell_type": "markdown",
      "source": [
        "-----------------all tests 4-10--------------"
      ],
      "metadata": {
        "id": "KHVcOjnukBQf"
      }
    },
    {
      "cell_type": "code",
      "source": [
        " %%writefile torture_max_pairwise_product_long_full.sh\n",
        "#!/bin/bash\n",
        "g++ max_pairwise_product_long_full.cpp -o max_pairwise_product_long_full\n",
        "for i in {4..10}\n",
        "do\n",
        "    echo \"------------------------\"\n",
        "    ./max_pairwise_product_long_full < input$i.txt\n",
        "\n",
        "    differences=$(grep -xvFf output$i.txt ctest$i.txt)\n",
        "    if [ -n \"$differences\" ]; then\n",
        "        echo \"Diferencias encontradas en output$i.txt and ctest$i.txt:\"\n",
        "        echo \"$differences\"\n",
        "    else\n",
        "        echo \"input$i.txt: OK\"\n",
        "    fi\n",
        "done"
      ],
      "metadata": {
        "colab": {
          "base_uri": "https://localhost:8080/"
        },
        "id": "q9PuE-IMj5NB",
        "outputId": "bfb3beda-f107-42e9-c07d-6329347c722f"
      },
      "execution_count": null,
      "outputs": [
        {
          "output_type": "stream",
          "name": "stdout",
          "text": [
            "Overwriting torture_max_pairwise_product_long_full.sh\n"
          ]
        }
      ]
    },
    {
      "cell_type": "code",
      "source": [
        "!chmod u+x torture_max_pairwise_product_long_full.sh\n",
        "!./torture_max_pairwise_product_long_full.sh"
      ],
      "metadata": {
        "colab": {
          "base_uri": "https://localhost:8080/"
        },
        "id": "4aoQG5N3j9nj",
        "outputId": "20551023-7f04-436f-8669-8dfb97ccd66c"
      },
      "execution_count": null,
      "outputs": [
        {
          "output_type": "stream",
          "name": "stdout",
          "text": [
            "------------------------\n",
            "49814556\n",
            "input4.txt: OK\n",
            "------------------------\n",
            "30610305\n",
            "input5.txt: OK\n",
            "------------------------\n",
            "91800\n",
            "input6.txt: OK\n",
            "------------------------\n",
            "1063325598537312\n",
            "input7.txt: OK\n",
            "------------------------\n",
            "101021121201\n",
            "input8.txt: OK\n",
            "------------------------\n",
            "63\n",
            "input9.txt: OK\n",
            "------------------------\n",
            "7644\n",
            "input10.txt: OK\n"
          ]
        }
      ]
    },
    {
      "cell_type": "markdown",
      "metadata": {
        "id": "9z9yr5QkeyJF"
      },
      "source": [
        "### Test 4  time test  measure the execution time running with the the largest worst cases input11.txt  (200000 increasing numbers) and inoput12.txt (199998 increasing numbers and  200000, 200000 at the end)"
      ]
    },
    {
      "cell_type": "code",
      "source": [
        "# input11.txt 200000 increasing numbers:  1 2 .. 200000\n",
        "\n",
        "%%writefile WriteTest.cpp\n",
        "\n",
        "#include <iostream>\n",
        "#include <fstream>\n",
        "#include <cstdlib>\n",
        "\n",
        "using namespace std;\n",
        "\n",
        "int main() {\n",
        "  // Create and open a text file\n",
        "  ofstream MyFile(\"input11.txt\");\n",
        "\n",
        " MyFile << 200000 <<\"\\n\";  // n\n",
        " for (int i=1; i <200001; i++){\n",
        "     MyFile << i <<\" \";\n",
        " }\n",
        "\n",
        "  // Close the file\n",
        "  MyFile.close();\n",
        "}"
      ],
      "metadata": {
        "colab": {
          "base_uri": "https://localhost:8080/"
        },
        "id": "UmB1ipWM_nSk",
        "outputId": "043fda13-cdd5-41d6-e332-fdb223232e64"
      },
      "execution_count": null,
      "outputs": [
        {
          "output_type": "stream",
          "name": "stdout",
          "text": [
            "Writing WriteTest.cpp\n"
          ]
        }
      ]
    },
    {
      "cell_type": "code",
      "execution_count": null,
      "metadata": {
        "id": "EH25TkOkZfD9"
      },
      "outputs": [],
      "source": [
        "!g++ WriteTest.cpp -o WriteTest\n",
        "!./WriteTest"
      ]
    },
    {
      "cell_type": "code",
      "source": [
        "199999 * 200000"
      ],
      "metadata": {
        "colab": {
          "base_uri": "https://localhost:8080/"
        },
        "id": "j0mokSOnCCtZ",
        "outputId": "a14988de-3051-4ac5-e8be-d888ed14b310"
      },
      "execution_count": null,
      "outputs": [
        {
          "output_type": "execute_result",
          "data": {
            "text/plain": [
              "39999800000"
            ]
          },
          "metadata": {},
          "execution_count": 85
        }
      ]
    },
    {
      "cell_type": "code",
      "source": [
        "%%writefile output11.txt\n",
        "39999800000"
      ],
      "metadata": {
        "id": "VoDhDV73B5Mo",
        "colab": {
          "base_uri": "https://localhost:8080/"
        },
        "outputId": "a47d421b-2d3d-4d76-b5b8-8a85e8535879"
      },
      "execution_count": null,
      "outputs": [
        {
          "output_type": "stream",
          "name": "stdout",
          "text": [
            "Writing output11.txt\n"
          ]
        }
      ]
    },
    {
      "cell_type": "code",
      "execution_count": null,
      "metadata": {
        "colab": {
          "base_uri": "https://localhost:8080/"
        },
        "id": "oLiMjbAIfPlX",
        "outputId": "95948a9d-6edd-47e8-d31d-e4c6fb0a1ddb"
      },
      "outputs": [
        {
          "output_type": "stream",
          "name": "stdout",
          "text": [
            "Overwriting WriteTest.cpp\n"
          ]
        }
      ],
      "source": [
        "# input12.txt 200000 decreasing numbers and 200000, 199999 ...  2 1\n",
        "\n",
        "%%writefile WriteTest.cpp\n",
        "\n",
        "#include <iostream>\n",
        "#include <fstream>\n",
        "#include <cstdlib>\n",
        "\n",
        "using namespace std;\n",
        "\n",
        "int main() {\n",
        "  // Create and open a text file\n",
        "  ofstream MyFile(\"input12.txt\");\n",
        "\n",
        " MyFile << 200000 <<\"\\n\";  // n\n",
        " for (int i=1; i <200001; i++){\n",
        "     MyFile << 200001-i <<\" \";\n",
        " }\n",
        "\n",
        "  // Close the file\n",
        "  MyFile.close();\n",
        "}"
      ]
    },
    {
      "cell_type": "code",
      "source": [
        "!g++ WriteTest.cpp -o WriteTest\n",
        "!./WriteTest"
      ],
      "metadata": {
        "id": "oULNBr_zAd9c"
      },
      "execution_count": null,
      "outputs": []
    },
    {
      "cell_type": "code",
      "source": [
        "%%writefile output12.txt\n",
        "39999800000"
      ],
      "metadata": {
        "colab": {
          "base_uri": "https://localhost:8080/"
        },
        "id": "PQLyocaFB-y4",
        "outputId": "91012708-3678-42ac-fd03-0debf978b8a3"
      },
      "execution_count": null,
      "outputs": [
        {
          "output_type": "stream",
          "name": "stdout",
          "text": [
            "Writing output12.txt\n"
          ]
        }
      ]
    },
    {
      "cell_type": "markdown",
      "metadata": {
        "id": "JB6f03qO-lj9"
      },
      "source": [
        "Measure time\n",
        "\n",
        "https://askubuntu.com/questions/53444/how-can-i-measure-the-execution-time-of-a-terminal-process"
      ]
    },
    {
      "cell_type": "code",
      "execution_count": null,
      "metadata": {
        "id": "6p2QLEr576zk"
      },
      "outputs": [],
      "source": [
        "!g++ max_pairwise_product_long_full.cpp -o max_pairwise_product_long_full\n",
        "!time ./max_pairwise_product_long_full< input11.txt"
      ]
    },
    {
      "cell_type": "code",
      "source": [
        "!g++ max_pairwise_product_long_full.cpp -o max_pairwise_product_long_full\n",
        "!time ./max_pairwise_product_long_full< input12.txt"
      ],
      "metadata": {
        "id": "cnjCyeUdAnZj"
      },
      "execution_count": null,
      "outputs": []
    },
    {
      "cell_type": "markdown",
      "metadata": {
        "id": "FXClpBsUJuXC"
      },
      "source": [
        "##### Calculate the number or and upper bound to the number of instructions executed by the algorithm as a function of n, add in each line a comment with the number of instructions that are executed in that line."
      ]
    },
    {
      "cell_type": "code",
      "execution_count": null,
      "metadata": {
        "colab": {
          "base_uri": "https://localhost:8080/"
        },
        "id": "uG6Mv-Pwlkii",
        "outputId": "f7d3aa91-7b8d-4849-a7a1-ff474c84ffbe"
      },
      "outputs": [
        {
          "output_type": "stream",
          "name": "stdout",
          "text": [
            "Overwriting max_pairwise_product_long_full.cpp\n"
          ]
        }
      ],
      "source": [
        "%%writefile max_pairwise_product_long_full.cpp\n",
        "#include <iostream>\n",
        "#include <vector>\n",
        "#include <algorithm>\n",
        "\n",
        "long long MaxPairwiseProduct(const std::vector<int>& numbers) {              //N inst exec by line executed\n",
        "    long long max_product = 0LL;                                             //1\n",
        "\t  long long aux_product = 0LL;                                             //1\n",
        "    int n = numbers.size();                                                  //1\n",
        "\n",
        "    for (int first = 0; first < n; ++first) {                                //1+2n\n",
        "        for (int second = 0; second < n; ++second) {                         //n + 2n**2\n",
        "          if ( first != second ){                                            //n**2\n",
        "                aux_product = numbers[first] * numbers[second];              //n**2 -n\n",
        "                if (aux_product > max_product)                               //n**2 -n\n",
        "                    max_product = aux_product;                               //[1, n**2/2 - n/2] upper bound\n",
        "          }\n",
        "        }\n",
        "    }\n",
        "\n",
        "                                                                             // --------------\n",
        "    return max_product;                                                      // 4 + n + [5*n**2+1, 11*n**2/2  - n/2]  upper bound\n",
        "}\n",
        "\n",
        "int main() {                                              //N inst exec by line executed\n",
        "    int n;                                                //1\n",
        "    std::cin >> n;                                        //1\n",
        "    std::vector<int> numbers(n);                          //n\n",
        "    for (int i = 0; i < n; ++i) {                         //1 + 2n\n",
        "        std::cin >> numbers[i];                           //n\n",
        "    }\n",
        "\n",
        "    std::cout << MaxPairwiseProduct(numbers) << \"\\n\";     //1 + 1  + 4 + n + [5*n**2+1, 11*n**2/2  - n/2]\n",
        "\n",
        "    return 0;                                             // --------------\n",
        "}                                                         //  9 + 5*n + [5*n**2+1, 11*n**2/2  - n/2]  upper bound\n"
      ]
    },
    {
      "cell_type": "markdown",
      "metadata": {
        "id": "0vTsUg8OwcHs"
      },
      "source": [
        "Count executed intructions in code"
      ]
    },
    {
      "cell_type": "code",
      "execution_count": null,
      "metadata": {
        "colab": {
          "base_uri": "https://localhost:8080/"
        },
        "id": "CuRKkqQc137V",
        "outputId": "476ea3c0-cf66-4ef1-b96f-b0f31922c9ea"
      },
      "outputs": [
        {
          "output_type": "stream",
          "name": "stdout",
          "text": [
            "Writing max_pairwise_product_long_full_execints.cpp\n"
          ]
        }
      ],
      "source": [
        "%%writefile max_pairwise_product_long_full_execints.cpp\n",
        "#include <iostream>\n",
        "#include <vector>\n",
        "#include <algorithm>\n",
        "\n",
        "long long MaxPairwiseProduct(const std::vector<int>& numbers, long long &execints) {              //N inst exec by line executed\n",
        "\n",
        "    long long max_product = 0LL;                                             //1\n",
        "    execints++;\n",
        "\n",
        "\t  long long aux_product = 0LL;                                             //1\n",
        "    execints++;\n",
        "\n",
        "    int n = numbers.size();                                                  //1\n",
        "    execints++;\n",
        "\n",
        "    execints++;\n",
        "    for (int first = 0; first < n; ++first) {                                //1+2n\n",
        "        execints += 2;\n",
        "\n",
        "        execints++;\n",
        "        for (int second = 0; second < n; ++second) {                         //n + 2n**2\n",
        "          execints += 2;\n",
        "\n",
        "          execints++;\n",
        "          if ( first != second ){                                            //n**2\n",
        "                aux_product = numbers[first] * numbers[second];              //n**2 -n\n",
        "                execints++;\n",
        "\n",
        "                execints++;\n",
        "                if (aux_product > max_product){                               //n**2 -n\n",
        "                    max_product = aux_product;                               //[1,n**2/2 - n/2]  upper bound\n",
        "                    execints++;\n",
        "\n",
        "                }\n",
        "        }\n",
        "      }\n",
        "    }\n",
        "                                                                            // --------------\n",
        "    return max_product;                                                     // 4 + n + [5*n**2+1, 11*n**2/2  - n/2] upper bound\n",
        "}\n",
        "\n",
        "int main() {                                                 //N inst exec by line executed\n",
        "\n",
        "    long long execints =0LL;\n",
        "\n",
        "    int n;                                                   //1\n",
        "    execints++;\n",
        "\n",
        "    std::cin >> n;                                           //1\n",
        "    execints++;\n",
        "\n",
        "    std::vector<int> numbers(n);                             //n\n",
        "    execints += n;\n",
        "\n",
        "    execints++;\n",
        "    for (int i = 0; i < n; ++i) {                            //1 + 2n\n",
        "        execints += 2;\n",
        "\n",
        "        std::cin >> numbers[i];\n",
        "        execints++;                                          //n\n",
        "\n",
        "    }\n",
        "\n",
        "\n",
        "\n",
        "    //std::cout << MaxPairwiseProduct(numbers) << \"\\n\";      //1 + 1  + 4 + n + [5*n**2+1, 11*n**2/2  - n/2] upper bound\n",
        "\n",
        "\n",
        "    execints++;\n",
        "    int M = MaxPairwiseProduct(numbers,execints);\n",
        "\n",
        "    execints++;\n",
        "    std::cout <<  execints << \"\\n\";\n",
        "    return 0;                                                // --------------\n",
        "}                                                            // 9 + 5*n + [5*n**2+1, 11*n**2/2  - n/2]"
      ]
    },
    {
      "cell_type": "markdown",
      "source": [
        "The number of instructions executed by the algooirithm with a list of size $n$ is  \n",
        "\n",
        "$$T (n) = 9 + 5n + \\left[5n^2+1, 11\\frac{n^2}{2}  - \\frac{n}{2}\\right] \\ \\  \\text{upper bound}$$\n",
        "\n",
        "It depends on the size of the lists and  the order of the list.\n",
        "\n",
        "For the input1.txt\n",
        "```\n",
        "10\n",
        "1 2 3 4 5 6 7 8 9 10\n",
        "```\n",
        "$$T = 9 + 5(10) + 5(10)(10) +  9 + 5 + 4 + 3 + 2 + 2 + 2 + 2 + 1 + 0  = 589 $$\n",
        "\n",
        "$$T(10) \\in [560, 604]  $$\n"
      ],
      "metadata": {
        "id": "cUjHtvtdDsmr"
      }
    },
    {
      "cell_type": "code",
      "source": [
        "#The number of times that  max_product = aux_product; in the worst case is less than (n**2 -n)/2 -  upper bound\n",
        "\n",
        "   1  2  3  4  5  6  7  8  9  10\n",
        "1  x  2  3  4  5  6  7  8  9  10         9\n",
        "2  2  x  6  8  10 12 14 16 18 20         5 14\n",
        "3  3  6  x  12 15 18 21 24 27 30         4 18\n",
        "4  4  8  12 x  20 24 28 32 36 40         3 21\n",
        "5  5  10 15 20 x  30 35 40 45 50         2 23\n",
        "6  6  12 18 24 30 x  42 48 54 60         2 25\n",
        "7  7  14 21 28 35 42 x  56 63 70         2 27\n",
        "8  8  18 27 36 45 54 63 72 x  90         1 30\n",
        "10 10 20 30 40 50 60 70 60 90 x          0"
      ],
      "metadata": {
        "id": "K59xQMWiBNFj"
      },
      "execution_count": null,
      "outputs": []
    },
    {
      "cell_type": "code",
      "source": [
        "9 + 5*(10) + 5*(10)*(10) +  9 + 5 + 4 + 3 + 2 + 2 + 2 + 2 + 1 + 0"
      ],
      "metadata": {
        "colab": {
          "base_uri": "https://localhost:8080/"
        },
        "id": "E3O8dzFfEgir",
        "outputId": "9762167b-63df-4445-c7a8-d33678ecccc5"
      },
      "execution_count": null,
      "outputs": [
        {
          "output_type": "execute_result",
          "data": {
            "text/plain": [
              "589"
            ]
          },
          "metadata": {},
          "execution_count": 91
        }
      ]
    },
    {
      "cell_type": "code",
      "source": [
        "n = 10\n",
        "print( 9 + 5*n + 5*n**2+1,  9 + 5*n + 11*n**2/2  - n/2)"
      ],
      "metadata": {
        "colab": {
          "base_uri": "https://localhost:8080/"
        },
        "id": "TCpdl5u_Gq1a",
        "outputId": "9a1412cf-2d41-4107-a911-53fa6ee56096"
      },
      "execution_count": null,
      "outputs": [
        {
          "output_type": "stream",
          "name": "stdout",
          "text": [
            "560 604.0\n"
          ]
        }
      ]
    },
    {
      "cell_type": "code",
      "execution_count": null,
      "metadata": {
        "colab": {
          "base_uri": "https://localhost:8080/"
        },
        "id": "Kuvm1C05ly2a",
        "outputId": "f14c9ad0-1bd3-4c0e-8dda-e97b67d85333"
      },
      "outputs": [
        {
          "output_type": "stream",
          "name": "stdout",
          "text": [
            "563\n"
          ]
        }
      ],
      "source": [
        "!g++ max_pairwise_product_long_full_execints.cpp -o max_pairwise_product_long_full_execints\n",
        "!./max_pairwise_product_long_full_execints < input1.txt"
      ]
    },
    {
      "cell_type": "markdown",
      "source": [
        "\n",
        "For the input2.txt\n",
        "```\n",
        "10\n",
        "10 9 8 7 6 5 4 3 2 1\n",
        "```\n",
        "$$T = 9 + 5*(10) + 5*(10)**2 +  1  = 560 $$"
      ],
      "metadata": {
        "id": "Yr_Lb7CaHfxB"
      }
    },
    {
      "cell_type": "code",
      "source": [
        "9 + 5*(10) + 5*(10)**2 +  1"
      ],
      "metadata": {
        "colab": {
          "base_uri": "https://localhost:8080/"
        },
        "id": "HOdqlwJiZUIp",
        "outputId": "4336c8c4-16e1-4c50-961a-f0d9af942d02"
      },
      "execution_count": null,
      "outputs": [
        {
          "output_type": "execute_result",
          "data": {
            "text/plain": [
              "560"
            ]
          },
          "metadata": {},
          "execution_count": 97
        }
      ]
    },
    {
      "cell_type": "code",
      "source": [
        "!g++ max_pairwise_product_long_full_execints.cpp -o max_pairwise_product_long_full_execints\n",
        "!./max_pairwise_product_long_full_execints < input4.txt\n",
        "n = 10"
      ],
      "metadata": {
        "id": "_znzLectjFSe",
        "colab": {
          "base_uri": "https://localhost:8080/"
        },
        "outputId": "f28d9189-9d2e-41d2-9cfd-e02acfb50282"
      },
      "execution_count": null,
      "outputs": [
        {
          "output_type": "stream",
          "name": "stdout",
          "text": [
            "563\n"
          ]
        }
      ]
    },
    {
      "cell_type": "markdown",
      "metadata": {
        "id": "L_uaamxeAHK7"
      },
      "source": [
        "\n",
        "For the input12.txt\n",
        "```\n",
        "200000\n",
        "200000  199999 ... 2 1\n",
        "```\n",
        "$$T = 9 + 5*(200000) + 5*(200000)**2 +1  = 200001000010 $$\n",
        "\n"
      ]
    },
    {
      "cell_type": "code",
      "source": [
        "9 + 5*(200000) + 5*(200000)**2 +1"
      ],
      "metadata": {
        "colab": {
          "base_uri": "https://localhost:8080/"
        },
        "id": "c7X-ewmeXe-h",
        "outputId": "4fcfdccb-ad97-4556-a762-6c802eca3044"
      },
      "execution_count": null,
      "outputs": [
        {
          "output_type": "execute_result",
          "data": {
            "text/plain": [
              "200001000010"
            ]
          },
          "metadata": {},
          "execution_count": 99
        }
      ]
    },
    {
      "cell_type": "markdown",
      "metadata": {
        "id": "NXW7QkoBL6xH"
      },
      "source": [
        "Calculate estimated time by instruction and number of instructions by second"
      ]
    },
    {
      "cell_type": "code",
      "source": [
        "!g++ max_pairwise_product_long_full_execints.cpp -o max_pairwise_product_long_full_execints\n",
        "!time ./max_pairwise_product_long_full_execints < input12.txt\n"
      ],
      "metadata": {
        "id": "BMH8mF3EKn2w",
        "colab": {
          "base_uri": "https://localhost:8080/"
        },
        "outputId": "ed7ec116-5b5a-4795-81f4-e7fa6d3b516e"
      },
      "execution_count": null,
      "outputs": [
        {
          "output_type": "stream",
          "name": "stdout",
          "text": [
            "563\n",
            "\n",
            "real\t0m0.003s\n",
            "user\t0m0.002s\n",
            "sys\t0m0.001s\n"
          ]
        }
      ]
    },
    {
      "cell_type": "code",
      "execution_count": null,
      "metadata": {
        "colab": {
          "base_uri": "https://localhost:8080/"
        },
        "id": "pKqB3i7dIxnc",
        "outputId": "dca4e839-59d5-4c16-f17d-ac7281187827"
      },
      "outputs": [
        {
          "output_type": "execute_result",
          "data": {
            "text/plain": [
              "1.5299923499617505e-09"
            ]
          },
          "metadata": {},
          "execution_count": 103
        }
      ],
      "source": [
        "# Estimated time by instruction\n",
        "\n",
        "306/200001000010\n"
      ]
    },
    {
      "cell_type": "code",
      "execution_count": null,
      "metadata": {
        "colab": {
          "base_uri": "https://localhost:8080/"
        },
        "id": "18N1ouqeMhE1",
        "outputId": "a69a404e-3d6c-4271-d5b7-3f850381c200"
      },
      "outputs": [
        {
          "output_type": "execute_result",
          "data": {
            "text/plain": [
              "1.5299923499617505e-09"
            ]
          },
          "metadata": {},
          "execution_count": 104
        }
      ],
      "source": [
        "# Estimated number of instructions by second\n",
        "\n",
        "306/200001000010"
      ]
    },
    {
      "cell_type": "markdown",
      "source": [
        "# Estimate the maximun n that can be solved in 1 second\n",
        "\n",
        "$$5n^2 \\times 1.53*10^{-9} s = 1s$$\n",
        "\n",
        "$$ n \\approx 11000$$\n"
      ],
      "metadata": {
        "id": "KyuxejFkL5X_"
      }
    },
    {
      "cell_type": "code",
      "source": [
        "# Verify input13.txt\n",
        "%%writefile WriteTest.cpp\n",
        "\n",
        "#include <iostream>\n",
        "#include <fstream>\n",
        "#include <cstdlib>\n",
        "\n",
        "using namespace std;\n",
        "\n",
        "int main() {\n",
        "  // Create and open a text file\n",
        "  ofstream MyFile(\"input13.txt\");\n",
        "\n",
        " MyFile << 11000 <<\"\\n\";  // n\n",
        " for (int i=1; i <11001; i++){\n",
        "     MyFile << i <<\" \";\n",
        " }\n",
        "\n",
        "  // Close the file\n",
        "  MyFile.close();\n",
        "}"
      ],
      "metadata": {
        "colab": {
          "base_uri": "https://localhost:8080/"
        },
        "id": "WXu5jp-DLTOI",
        "outputId": "39cabfa3-6ece-4c3e-9514-5b8206e905cf"
      },
      "execution_count": null,
      "outputs": [
        {
          "output_type": "stream",
          "name": "stdout",
          "text": [
            "Overwriting WriteTest.cpp\n"
          ]
        }
      ]
    },
    {
      "cell_type": "code",
      "source": [
        "!g++ WriteTest.cpp -o WriteTest\n",
        "!./WriteTest"
      ],
      "metadata": {
        "id": "AQ8N52pUMCeT"
      },
      "execution_count": null,
      "outputs": []
    },
    {
      "cell_type": "code",
      "source": [
        "!g++ max_pairwise_product_long_full.cpp -o max_pairwise_product_long_full\n",
        "!time ./max_pairwise_product_long_full< input13.txt"
      ],
      "metadata": {
        "colab": {
          "base_uri": "https://localhost:8080/"
        },
        "id": "ussuAokfM2du",
        "outputId": "c05c9140-e47e-4d89-edb2-6a04b3300e6b"
      },
      "execution_count": null,
      "outputs": [
        {
          "output_type": "stream",
          "name": "stdout",
          "text": [
            "120989000\n",
            "\n",
            "real\t0m0.856s\n",
            "user\t0m0.846s\n",
            "sys\t0m0.001s\n"
          ]
        }
      ]
    },
    {
      "cell_type": "markdown",
      "metadata": {
        "id": "Tm_AVmt-QQH4"
      },
      "source": [
        "## Python"
      ]
    },
    {
      "cell_type": "code",
      "execution_count": null,
      "metadata": {
        "id": "kAEAoNZEQTCw",
        "colab": {
          "base_uri": "https://localhost:8080/"
        },
        "outputId": "e44f7cce-da19-46e5-b563-6edfdc48f559"
      },
      "outputs": [
        {
          "output_type": "stream",
          "name": "stdout",
          "text": [
            "Archivo input13.txt creado y escrito correctamente.\n"
          ]
        }
      ],
      "source": [
        "# Crear y escribir en el archivo\n",
        "with open(\"input13.txt\", \"w\") as file:\n",
        "    file.write(\"11000\\n\")  # n\n",
        "    for i in range(1, 11001):\n",
        "        file.write(f\"{i} \")\n",
        "\n",
        "print(\"Archivo input13.txt creado y escrito correctamente.\")\n"
      ]
    },
    {
      "cell_type": "code",
      "execution_count": null,
      "metadata": {
        "id": "gRCCcd7IQTKZ",
        "colab": {
          "base_uri": "https://localhost:8080/"
        },
        "outputId": "c3562674-7b07-44d7-f81d-6a77a7f6aae3"
      },
      "outputs": [
        {
          "output_type": "stream",
          "name": "stdout",
          "text": [
            "Writing max_pairwise_product_python.py\n"
          ]
        }
      ],
      "source": [
        "%%writefile max_pairwise_product_python.py\n",
        "def max_pairwise_product(numbers):\n",
        "    max_product = 0\n",
        "\n",
        "    for first in range(len(numbers)):\n",
        "        for second in range(len(numbers)):\n",
        "            if first != second:\n",
        "                aux_product = numbers[first] * numbers[second]\n",
        "                if aux_product > max_product:\n",
        "                    max_product = aux_product\n",
        "\n",
        "    return max_product\n",
        "\n",
        "if __name__ == \"__main__\":\n",
        "    n = int(input())\n",
        "    numbers = list(map(int, input().split()))\n",
        "\n",
        "    M = max_pairwise_product(numbers)\n",
        "    print(M)\n"
      ]
    },
    {
      "cell_type": "code",
      "execution_count": null,
      "metadata": {
        "id": "hjw7TJrDL0d-",
        "colab": {
          "base_uri": "https://localhost:8080/"
        },
        "outputId": "acb6fa2d-f76f-4383-f1d0-f4c889f45563"
      },
      "outputs": [
        {
          "output_type": "stream",
          "name": "stdout",
          "text": [
            "120989000\n",
            "\n",
            "real\t0m10.607s\n",
            "user\t0m10.487s\n",
            "sys\t0m0.016s\n"
          ]
        }
      ],
      "source": [
        "# Verify\n",
        "!time python max_pairwise_product_python.py < input13.txt"
      ]
    },
    {
      "cell_type": "markdown",
      "metadata": {
        "id": "MKQKSC-vKePK"
      },
      "source": [
        "## Perform the same analysis for an algorithm in C++ and Python that uses\n",
        "$$\\frac{n^2 - n}{2} = O(n^2)\\ \\ \\text{products}$$"
      ]
    },
    {
      "cell_type": "code",
      "execution_count": null,
      "metadata": {
        "id": "jkkHHoxSK65p",
        "colab": {
          "base_uri": "https://localhost:8080/"
        },
        "outputId": "80edd501-2de6-4eac-f43d-b60453b6a767"
      },
      "outputs": [
        {
          "output_type": "stream",
          "name": "stdout",
          "text": [
            "Writing max_pairwise_product.cpp\n"
          ]
        }
      ],
      "source": [
        "%%writefile max_pairwise_product.cpp\n",
        "#include <iostream>\n",
        "#include <vector>\n",
        "#include <algorithm>\n",
        "\n",
        "int MaxPairwiseProduct(const std::vector<int>& numbers) {\n",
        "    int max_product = 0;\n",
        "    int n = numbers.size();\n",
        "\n",
        "    for (int first = 0; first < n; ++first) {\n",
        "        for (int second = first + 1; second < n; ++second) {\n",
        "            max_product = std::max(max_product,\n",
        "                numbers[first] * numbers[second]);\n",
        "        }\n",
        "    }\n",
        "\n",
        "    return max_product;\n",
        "}\n",
        "\n",
        "int main() {\n",
        "    int n;\n",
        "    std::cin >> n;\n",
        "    std::vector<int> numbers(n);\n",
        "    for (int i = 0; i < n; ++i) {\n",
        "        std::cin >> numbers[i];\n",
        "    }\n",
        "\n",
        "    std::cout << MaxPairwiseProduct(numbers) << \"\\n\";\n",
        "    return 0;\n",
        "}"
      ]
    },
    {
      "cell_type": "code",
      "source": [
        "!g++ max_pairwise_product.cpp -o max_pairwise_product\n",
        "!time ./max_pairwise_product< input13.txt"
      ],
      "metadata": {
        "colab": {
          "base_uri": "https://localhost:8080/"
        },
        "id": "4DXLAQEc45KJ",
        "outputId": "0dd442d5-ccce-4e3a-edb0-c0627daa233e"
      },
      "execution_count": null,
      "outputs": [
        {
          "output_type": "stream",
          "name": "stdout",
          "text": [
            "120989000\n",
            "\n",
            "real\t0m0.596s\n",
            "user\t0m0.581s\n",
            "sys\t0m0.005s\n"
          ]
        }
      ]
    },
    {
      "cell_type": "code",
      "execution_count": null,
      "metadata": {
        "id": "sU8-Ote7K8vz",
        "colab": {
          "base_uri": "https://localhost:8080/"
        },
        "outputId": "5abe6c3c-bee3-4c9f-e3ef-a9bc4b82f2d9"
      },
      "outputs": [
        {
          "output_type": "stream",
          "name": "stdout",
          "text": [
            "Writing max_pairwise_product_long.cpp\n"
          ]
        }
      ],
      "source": [
        "%%writefile max_pairwise_product_long.cpp\n",
        "#include <iostream>\n",
        "#include <vector>\n",
        "#include <algorithm>\n",
        "\n",
        "long long MaxPairwiseProduct(const std::vector<int>& numbers) {              //N inst exec by line executed\n",
        "    long long max_product = 0LL;                                             //1\n",
        "\t  long long aux_product = 0LL;                                             //1\n",
        "    int n = numbers.size();                                                  //1\n",
        "\n",
        "    for (int first = 0; first < n; ++first) {                                //1+2n\n",
        "        for (int second = first + 1; second < n; ++second) {                 //n + (n-1)n\n",
        "\t\t\t       aux_product =  (long long) numbers[first] * numbers[second];    //(n-1)n/2\n",
        "            if (max_product < aux_product)  {                                //(n-1)n/2\n",
        "\t\t\t\t        max_product = aux_product;                                   //[0, (n-1)n/2]\n",
        "             }\n",
        "        }\n",
        "    }\n",
        "                                                                             // --------------\n",
        "    return max_product;                                                      // 4 + 3n + [2(n-1)n, 2.5 (n-1)n] upper bound\n",
        "}\n",
        "\n",
        "int main() {                                              //N inst exec by line executed\n",
        "    int n;                                                //1\n",
        "    std::cin >> n;                                        //1\n",
        "    std::vector<int> numbers(n);                          //n\n",
        "    for (int i = 0; i < n; ++i) {                         //1 + 2n\n",
        "        std::cin >> numbers[i];                           //n\n",
        "    }\n",
        "\n",
        "    std::cout << MaxPairwiseProduct(numbers) << \"\\n\";     //1 + 1  + 4 + 3n + [2(n-1)n, 2.5 (n-1)n]\n",
        "    return 0;                                             // --------------\n",
        "}                                                         // 9 + 7n + [2(n-1)n, 2.5 (n-1)n] upper bound\n"
      ]
    },
    {
      "cell_type": "code",
      "source": [
        "!g++ max_pairwise_product_long.cpp -o max_pairwise_product_long\n",
        "!time ./max_pairwise_product_long< input13.txt"
      ],
      "metadata": {
        "colab": {
          "base_uri": "https://localhost:8080/"
        },
        "id": "Pz_zITAm5HtQ",
        "outputId": "b078e391-5011-475a-fecf-6f044b823329"
      },
      "execution_count": null,
      "outputs": [
        {
          "output_type": "stream",
          "name": "stdout",
          "text": [
            "120989000\n",
            "\n",
            "real\t0m0.403s\n",
            "user\t0m0.400s\n",
            "sys\t0m0.001s\n"
          ]
        }
      ]
    },
    {
      "cell_type": "code",
      "execution_count": null,
      "metadata": {
        "id": "5QWT3fneK8nw",
        "colab": {
          "base_uri": "https://localhost:8080/"
        },
        "outputId": "ebb85cac-1538-46da-a4a3-a7f721075a66"
      },
      "outputs": [
        {
          "output_type": "stream",
          "name": "stdout",
          "text": [
            "Overwriting max_pairwise_product_python.py\n"
          ]
        }
      ],
      "source": [
        "%%writefile max_pairwise_product_python.py\n",
        "def max_pairwise_product(numbers):\n",
        "    max_product = 0\n",
        "    n = len(numbers)\n",
        "\n",
        "    for first in range(n):\n",
        "        for second in range(first + 1, n):\n",
        "            max_product = max(max_product, numbers[first] * numbers[second])\n",
        "\n",
        "    return max_product\n",
        "\n",
        "if __name__ == \"__main__\":\n",
        "    n = int(input())\n",
        "    numbers = list(map(int, input().split()))\n",
        "\n",
        "    print(max_pairwise_product(numbers))\n"
      ]
    },
    {
      "cell_type": "code",
      "source": [
        "!time python max_pairwise_product_python.py < input13.txt"
      ],
      "metadata": {
        "colab": {
          "base_uri": "https://localhost:8080/"
        },
        "id": "VCUobYza5OHX",
        "outputId": "4098a234-3538-491c-d685-a57aa7f5335e"
      },
      "execution_count": null,
      "outputs": [
        {
          "output_type": "stream",
          "name": "stdout",
          "text": [
            "120989000\n",
            "\n",
            "real\t0m20.997s\n",
            "user\t0m20.713s\n",
            "sys\t0m0.019s\n"
          ]
        }
      ]
    },
    {
      "cell_type": "code",
      "execution_count": null,
      "metadata": {
        "id": "mxIVvm1RK8dB",
        "colab": {
          "base_uri": "https://localhost:8080/"
        },
        "outputId": "cc0a47e9-f226-4043-ac0b-56c9f02fe814"
      },
      "outputs": [
        {
          "output_type": "stream",
          "name": "stdout",
          "text": [
            "Writing max_pairwise_product_long.py\n"
          ]
        }
      ],
      "source": [
        "%%writefile max_pairwise_product_long.py\n",
        "def max_pairwise_product(numbers):\n",
        "    max_product = 0\n",
        "    n = len(numbers)\n",
        "\n",
        "    for first in range(n):\n",
        "        for second in range(first + 1, n):\n",
        "            aux_product = numbers[first] * numbers[second]\n",
        "            if max_product < aux_product:\n",
        "                max_product = aux_product\n",
        "\n",
        "    return max_product\n"
      ]
    },
    {
      "cell_type": "code",
      "source": [
        "!time python max_pairwise_product_long.py < input13.txt"
      ],
      "metadata": {
        "colab": {
          "base_uri": "https://localhost:8080/"
        },
        "id": "8FhjzJ1W5dCh",
        "outputId": "fb9f467c-055d-40e5-f405-94b2fb910ce0"
      },
      "execution_count": null,
      "outputs": [
        {
          "output_type": "stream",
          "name": "stdout",
          "text": [
            "\n",
            "real\t0m0.054s\n",
            "user\t0m0.037s\n",
            "sys\t0m0.009s\n"
          ]
        }
      ]
    },
    {
      "cell_type": "markdown",
      "metadata": {
        "id": "1Hsbd-uHOb_j"
      },
      "source": [
        "### Sort solution in C++ and Python\n",
        "\n",
        "$$ O(n \\lg n)$$\n",
        "\n",
        "**Which sorting algorithm is used in GCC?**\n",
        "https://stackoverflow.com/questions/7221257/which-sorting-algorithm-is-used-in-gcc\n",
        "\n",
        "* ...  the algorithm is called introsort, a combination between Insertionsort, Quicksort & Heapsort. ...\n",
        "\n",
        "**Introsort**\n",
        "https://en.wikipedia.org/wiki/Introsort\n",
        "\n",
        "Introsort or introspective sort is a hybrid sorting algorithm that provides both fast average performance and (asymptotically) optimal worst-case performance. It begins with quicksort, it switches to heapsort when the recursion depth exceeds a level based on (the logarithm of) the number of elements being sorted and it switches to insertion sort when the number of elements is below some threshold\n",
        "\n",
        "*   Class\tSorting algorithm\n",
        "*   Data structure\tArray\n",
        "*   Worst-case performance\t$O(n \\lg n)$\n",
        "*   Average performance\t$O(n \\lg n)$\n",
        "\n",
        "**Tinsort**\n",
        "https://en.wikipedia.org/wiki/Timsort\n",
        "\n",
        "Timsort is a hybrid, stable sorting algorithm, derived from merge sort and insertion sort, designed to perform well on many kinds of real-world data. It was implemented by Tim Peters in 2002 for use in the Python programming language.\n",
        "\n",
        "*   Class\tSorting algorithm\n",
        "*   Data structure\tArray\n",
        "*   Worst-case performance\t$O(n \\lg n)$\n",
        "*   Best-case performance $O(n)$\n",
        "*   Average performance\t$O(n \\lg n)$\n",
        "*   Worst-case space complexity $O(n)$"
      ]
    },
    {
      "cell_type": "markdown",
      "metadata": {
        "id": "WMUthAXjOb_k"
      },
      "source": [
        "Add in each line a coment with the number of intstrcution that are executed in that line"
      ]
    },
    {
      "cell_type": "code",
      "execution_count": 48,
      "metadata": {
        "id": "2-sXOmqFOb_k",
        "colab": {
          "base_uri": "https://localhost:8080/"
        },
        "outputId": "dfd8f38b-7269-43b7-9be5-cdc00b9fae0a"
      },
      "outputs": [
        {
          "output_type": "stream",
          "name": "stdout",
          "text": [
            "Writing max_pairwise_product_long_sort.cpp\n"
          ]
        }
      ],
      "source": [
        "%%writefile max_pairwise_product_long_sort.cpp\n",
        "#include <iostream>\n",
        "#include <vector>\n",
        "#include <algorithm>\n",
        "\n",
        "\n",
        "int main() {                                              // 1 instrucción para iniciar la función\n",
        "    int n;                                                // 1 instrucción para declarar la variable 'n'\n",
        "    std::cin >> n;                                        // 1 instrucción para leer el valor de 'n' desde la entrada estándar\n",
        "    std::vector<int> valores(n);                          // 1 instrucción para crear un vector de enteros 'valores' y asignarle capacidad para 'n' elementos\n",
        "\n",
        "    for (int i = 0; i < n; ++i) {\n",
        "        std::cin >> valores[i];                           // n instrucciones para leer 'n' valores desde la entrada estándar y asignarlos a elementos del vector\n",
        "    }\n",
        "\n",
        "    std::sort(valores.begin(), valores.end());            // n * lg(n) instrucciones en promedio para ordenar el vector 'valores'\n",
        "    std::cout << valores[n-1] * valores[n-2] << \"\\n\";     // 4 instrucciones para imprimir el resultado\n",
        "\n",
        "    return 0;                                             // 1 instrucción para finalizar la función\n",
        "}\n",
        "\n"
      ]
    },
    {
      "cell_type": "markdown",
      "metadata": {
        "id": "v8pdV9ABOb_k"
      },
      "source": [
        "Test with inputs 1 and 2\n",
        "\n"
      ]
    },
    {
      "cell_type": "code",
      "execution_count": 49,
      "metadata": {
        "id": "kdXAyLG4Ob_k",
        "colab": {
          "base_uri": "https://localhost:8080/"
        },
        "outputId": "e32173fb-1833-4426-9280-f8320a255179"
      },
      "outputs": [
        {
          "output_type": "stream",
          "name": "stdout",
          "text": [
            "90\n",
            "90\n"
          ]
        }
      ],
      "source": [
        "!g++ max_pairwise_product_long_sort.cpp -o max_pairwise_product_long_sort\n",
        "!./max_pairwise_product_long_sort < input1.txt\n",
        "\n",
        "!g++ max_pairwise_product_long_sort.cpp -o max_pairwise_product_long_sort\n",
        "!./max_pairwise_product_long_sort < input2.txt"
      ]
    },
    {
      "cell_type": "markdown",
      "metadata": {
        "id": "Sw-5X1q1Ob_k"
      },
      "source": [
        "Test and time it with input 3"
      ]
    },
    {
      "cell_type": "code",
      "execution_count": 50,
      "metadata": {
        "id": "ryHJ30WIOb_k",
        "colab": {
          "base_uri": "https://localhost:8080/"
        },
        "outputId": "79fad2e0-a015-4e4c-ea89-60396c2ebc45"
      },
      "outputs": [
        {
          "output_type": "stream",
          "name": "stdout",
          "text": [
            "1345294336\n",
            "\n",
            "real\t0m0.003s\n",
            "user\t0m0.000s\n",
            "sys\t0m0.002s\n"
          ]
        }
      ],
      "source": [
        "!g++ max_pairwise_product_long_sort.cpp -o max_pairwise_product_long_sort\n",
        "!time ./max_pairwise_product_long_sort < input3.txt"
      ]
    },
    {
      "cell_type": "markdown",
      "metadata": {
        "id": "oJGdPl1HOb_k"
      },
      "source": [
        "20 stress tests"
      ]
    },
    {
      "cell_type": "code",
      "execution_count": 24,
      "metadata": {
        "colab": {
          "base_uri": "https://localhost:8080/"
        },
        "outputId": "60da8f39-e935-4860-b892-dfae94539ac8",
        "id": "DM7xtHQoMwIW"
      },
      "outputs": [
        {
          "output_type": "stream",
          "name": "stdout",
          "text": [
            "Writing input14.txt\n"
          ]
        }
      ],
      "source": [
        "%%writefile input14.txt\n",
        "10\n",
        "2 4 6 8 10 12 14 16 18 20"
      ]
    },
    {
      "cell_type": "code",
      "source": [
        "%%writefile ctest14.txt\n",
        "360"
      ],
      "metadata": {
        "id": "YukGS6GXuJbj",
        "outputId": "8fd75d3b-0ef2-4a02-eb59-fc4ed6fcc933",
        "colab": {
          "base_uri": "https://localhost:8080/"
        }
      },
      "execution_count": 25,
      "outputs": [
        {
          "output_type": "stream",
          "name": "stdout",
          "text": [
            "Writing ctest14.txt\n"
          ]
        }
      ]
    },
    {
      "cell_type": "code",
      "source": [
        "%%writefile input15.txt\n",
        "5\n",
        "1 2 3 4 5"
      ],
      "metadata": {
        "colab": {
          "base_uri": "https://localhost:8080/"
        },
        "outputId": "de18dfb5-e8f5-46a3-d699-cfc3f47ad90c",
        "id": "BCkbEhNNMwIX"
      },
      "execution_count": 26,
      "outputs": [
        {
          "output_type": "stream",
          "name": "stdout",
          "text": [
            "Writing input15.txt\n"
          ]
        }
      ]
    },
    {
      "cell_type": "code",
      "source": [
        "%%writefile ctest15.txt\n",
        "20"
      ],
      "metadata": {
        "id": "b0dAtKIuuNzL",
        "outputId": "ebd6d5da-00fc-4fe0-9018-02db77555df7",
        "colab": {
          "base_uri": "https://localhost:8080/"
        }
      },
      "execution_count": 27,
      "outputs": [
        {
          "output_type": "stream",
          "name": "stdout",
          "text": [
            "Writing ctest15.txt\n"
          ]
        }
      ]
    },
    {
      "cell_type": "code",
      "source": [
        "%%writefile input16.txt\n",
        "20\n",
        "6 2 58 28 4 54 468 654 45  45 52 545 2 52 52625 42 54 641 416 6544"
      ],
      "metadata": {
        "colab": {
          "base_uri": "https://localhost:8080/"
        },
        "id": "tVMCDgtJWD9z",
        "outputId": "1f92274b-b945-4833-cc3c-c275c16ae2bb"
      },
      "execution_count": 28,
      "outputs": [
        {
          "output_type": "stream",
          "name": "stdout",
          "text": [
            "Writing input16.txt\n"
          ]
        }
      ]
    },
    {
      "cell_type": "code",
      "source": [
        "52625*6544"
      ],
      "metadata": {
        "colab": {
          "base_uri": "https://localhost:8080/"
        },
        "id": "0oArz29yuWh6",
        "outputId": "548cf572-7a07-44b5-e4b3-d1b9fe272e68"
      },
      "execution_count": null,
      "outputs": [
        {
          "output_type": "execute_result",
          "data": {
            "text/plain": [
              "344378000"
            ]
          },
          "metadata": {},
          "execution_count": 430
        }
      ]
    },
    {
      "cell_type": "code",
      "source": [
        "%%writefile ctest16.txt\n",
        "344378000"
      ],
      "metadata": {
        "id": "wUWypEXRuT-g",
        "outputId": "2839eae5-4679-4a18-d9fa-aed55ba63321",
        "colab": {
          "base_uri": "https://localhost:8080/"
        }
      },
      "execution_count": 62,
      "outputs": [
        {
          "output_type": "stream",
          "name": "stdout",
          "text": [
            "Writing ctest16.txt\n"
          ]
        }
      ]
    },
    {
      "cell_type": "code",
      "source": [
        "%%writefile input17.txt\n",
        "10\n",
        "0 0 0 0 0 0 0 0 0  0"
      ],
      "metadata": {
        "colab": {
          "base_uri": "https://localhost:8080/"
        },
        "id": "Vv84g5v36xF7",
        "outputId": "3390f917-b355-4a65-f53c-fa0798b20398"
      },
      "execution_count": 29,
      "outputs": [
        {
          "output_type": "stream",
          "name": "stdout",
          "text": [
            "Writing input17.txt\n"
          ]
        }
      ]
    },
    {
      "cell_type": "code",
      "source": [
        "%%writefile ctest17.txt\n",
        "0"
      ],
      "metadata": {
        "colab": {
          "base_uri": "https://localhost:8080/"
        },
        "id": "tr1KsNaeufwF",
        "outputId": "72404f09-f517-495e-8ee3-97d3f0ef33ee"
      },
      "execution_count": 30,
      "outputs": [
        {
          "output_type": "stream",
          "name": "stdout",
          "text": [
            "Writing ctest17.txt\n"
          ]
        }
      ]
    },
    {
      "cell_type": "code",
      "source": [
        "%%writefile input18.txt\n",
        "10\n",
        "0 0 2 0 4 0 0 0 0  0"
      ],
      "metadata": {
        "colab": {
          "base_uri": "https://localhost:8080/"
        },
        "outputId": "8a44161a-186c-45a4-f95b-376017919cb4",
        "id": "kxpCrnfl7Wgu"
      },
      "execution_count": 31,
      "outputs": [
        {
          "output_type": "stream",
          "name": "stdout",
          "text": [
            "Writing input18.txt\n"
          ]
        }
      ]
    },
    {
      "cell_type": "code",
      "source": [
        "%%writefile ctest18.txt\n",
        "8"
      ],
      "metadata": {
        "colab": {
          "base_uri": "https://localhost:8080/"
        },
        "id": "DASEfxenuqmH",
        "outputId": "e201da32-9673-4f42-f5cf-1f76a3e399d6"
      },
      "execution_count": 32,
      "outputs": [
        {
          "output_type": "stream",
          "name": "stdout",
          "text": [
            "Writing ctest18.txt\n"
          ]
        }
      ]
    },
    {
      "cell_type": "code",
      "source": [
        "%%writefile input19.txt\n",
        "10\n",
        "1 2 3 4 5 6 7 8 9 10"
      ],
      "metadata": {
        "colab": {
          "base_uri": "https://localhost:8080/"
        },
        "outputId": "9b3e4ea9-6e9c-424b-cbc6-56b8650bbb59",
        "id": "spcKlR3R7v-z"
      },
      "execution_count": 33,
      "outputs": [
        {
          "output_type": "stream",
          "name": "stdout",
          "text": [
            "Writing input19.txt\n"
          ]
        }
      ]
    },
    {
      "cell_type": "code",
      "source": [
        "%%writefile ctest19.txt\n",
        "90"
      ],
      "metadata": {
        "colab": {
          "base_uri": "https://localhost:8080/"
        },
        "id": "VOhhPMnZuxJI",
        "outputId": "2e2ce44f-1157-4255-b93a-daadcf87a398"
      },
      "execution_count": 34,
      "outputs": [
        {
          "output_type": "stream",
          "name": "stdout",
          "text": [
            "Writing ctest19.txt\n"
          ]
        }
      ]
    },
    {
      "cell_type": "code",
      "source": [
        "%%writefile input20.txt\n",
        "5\n",
        "5 4 0 1 1"
      ],
      "metadata": {
        "colab": {
          "base_uri": "https://localhost:8080/"
        },
        "outputId": "9399d4de-2a1e-420a-e8d1-7fb565fca24b",
        "id": "yWud2BBT7wvL"
      },
      "execution_count": 35,
      "outputs": [
        {
          "output_type": "stream",
          "name": "stdout",
          "text": [
            "Writing input20.txt\n"
          ]
        }
      ]
    },
    {
      "cell_type": "code",
      "source": [
        "%%writefile ctest20.txt\n",
        "20"
      ],
      "metadata": {
        "colab": {
          "base_uri": "https://localhost:8080/"
        },
        "id": "GMJR2QfYu9OK",
        "outputId": "b0cd0207-a5a0-4d10-870d-6e0c2e8a7e69"
      },
      "execution_count": 36,
      "outputs": [
        {
          "output_type": "stream",
          "name": "stdout",
          "text": [
            "Writing ctest20.txt\n"
          ]
        }
      ]
    },
    {
      "cell_type": "code",
      "source": [
        "%%writefile input21.txt\n",
        "4\n",
        "3 33 333 3333"
      ],
      "metadata": {
        "colab": {
          "base_uri": "https://localhost:8080/"
        },
        "outputId": "f8862b8f-78fe-4dfd-cccc-8548a74620bf",
        "id": "vd_X3oqu7xnS"
      },
      "execution_count": 37,
      "outputs": [
        {
          "output_type": "stream",
          "name": "stdout",
          "text": [
            "Writing input21.txt\n"
          ]
        }
      ]
    },
    {
      "cell_type": "code",
      "source": [
        "%%writefile ctest21.txt\n",
        "1109889"
      ],
      "metadata": {
        "colab": {
          "base_uri": "https://localhost:8080/"
        },
        "id": "cwmqHYNNvD3N",
        "outputId": "048d6266-13b7-4a00-cacc-7a3e0c83c468"
      },
      "execution_count": 38,
      "outputs": [
        {
          "output_type": "stream",
          "name": "stdout",
          "text": [
            "Writing ctest21.txt\n"
          ]
        }
      ]
    },
    {
      "cell_type": "code",
      "source": [
        "%%writefile input22.txt\n",
        "3\n",
        "3 33 333"
      ],
      "metadata": {
        "colab": {
          "base_uri": "https://localhost:8080/"
        },
        "outputId": "4148e862-d569-425a-aeac-6446d1ff7dc1",
        "id": "_SNZ33UDNm-9"
      },
      "execution_count": 39,
      "outputs": [
        {
          "output_type": "stream",
          "name": "stdout",
          "text": [
            "Writing input22.txt\n"
          ]
        }
      ]
    },
    {
      "cell_type": "code",
      "source": [
        "%%writefile ctest22.txt\n",
        "10989"
      ],
      "metadata": {
        "colab": {
          "base_uri": "https://localhost:8080/"
        },
        "id": "M3sDjQC2vLW3",
        "outputId": "00897bbc-f24f-45e4-e4df-78c45afcc6de"
      },
      "execution_count": 40,
      "outputs": [
        {
          "output_type": "stream",
          "name": "stdout",
          "text": [
            "Writing ctest22.txt\n"
          ]
        }
      ]
    },
    {
      "cell_type": "code",
      "source": [
        "%%writefile input23.txt\n",
        "20\n",
        "0 1 2 3 4 5 6 7 8 9 10 11 12 13 14 15 16 17 18 19"
      ],
      "metadata": {
        "colab": {
          "base_uri": "https://localhost:8080/"
        },
        "outputId": "16df3d30-82b3-4a96-f6b5-9c494ec59c24",
        "id": "_4XKPjVDNnsN"
      },
      "execution_count": 41,
      "outputs": [
        {
          "output_type": "stream",
          "name": "stdout",
          "text": [
            "Writing input23.txt\n"
          ]
        }
      ]
    },
    {
      "cell_type": "code",
      "source": [
        "18*19"
      ],
      "metadata": {
        "colab": {
          "base_uri": "https://localhost:8080/"
        },
        "id": "VtOjcpskvR6T",
        "outputId": "21b2fa04-9915-4ff3-fe50-47f3ca2e271e"
      },
      "execution_count": null,
      "outputs": [
        {
          "output_type": "execute_result",
          "data": {
            "text/plain": [
              "342"
            ]
          },
          "metadata": {},
          "execution_count": 120
        }
      ]
    },
    {
      "cell_type": "code",
      "source": [
        "%%writefile ctest23.txt\n",
        "342"
      ],
      "metadata": {
        "colab": {
          "base_uri": "https://localhost:8080/"
        },
        "id": "hKl3-7SwwDDA",
        "outputId": "f8fb5416-d4a0-4ed8-85da-35e3b6a57790"
      },
      "execution_count": 42,
      "outputs": [
        {
          "output_type": "stream",
          "name": "stdout",
          "text": [
            "Writing ctest23.txt\n"
          ]
        }
      ]
    },
    {
      "cell_type": "markdown",
      "source": [
        "------si quisiera mas test, con el siguiente código se podria generar----"
      ],
      "metadata": {
        "id": "MO0WaMFJwSQ_"
      }
    },
    {
      "cell_type": "code",
      "source": [
        "import random\n",
        "\n",
        "# Genera 20 archivos desde input14 hasta input34\n",
        "for i in range(24, 125):\n",
        "    # Genera un número aleatorio de elementos en el rango de 2 a 10\n",
        "    num_elements = random.randint(2, 10)\n",
        "\n",
        "    # Genera una lista de números aleatorios en el rango de 0 a 10000\n",
        "    numbers = [random.randint(0, 10000) for _ in range(num_elements)]\n",
        "\n",
        "    # Nombre del archivo de entrada\n",
        "    input_filename = f'input{i}.txt'\n",
        "\n",
        "    # Escribe la lista de números en el archivo de entrada\n",
        "    with open(input_filename, 'w') as input_file:\n",
        "        input_file.write(f'{num_elements}\\n')\n",
        "        input_file.write(' '.join(map(str, numbers)))\n",
        "\n",
        "    # Calcula los dos valores más grandes en la lista\n",
        "    numbers.sort(reverse=True)\n",
        "    largest = numbers[0]\n",
        "    second_largest = numbers[1]\n",
        "\n",
        "    # Calcula el producto de los dos valores más grandes\n",
        "    product = largest * second_largest\n",
        "\n",
        "    # Nombre del archivo de salida\n",
        "    ctest_filename = f'ctest{i}.txt'\n",
        "\n",
        "    # Escribe el producto en el archivo de salida\n",
        "    with open(ctest_filename, 'w') as ctest_file:\n",
        "        ctest_file.write(str(product))\n",
        "\n",
        "    print(f'Se ha creado el archivo {input_filename}')\n",
        "    print(f'Se ha creado el archivo {ctest_filename}')\n",
        "\n"
      ],
      "metadata": {
        "colab": {
          "base_uri": "https://localhost:8080/"
        },
        "id": "aZMn0tiGmfFo",
        "outputId": "197f977c-2779-48d1-d8c5-66c7aa14d137"
      },
      "execution_count": 45,
      "outputs": [
        {
          "output_type": "stream",
          "name": "stdout",
          "text": [
            "Se ha creado el archivo input24.txt\n",
            "Se ha creado el archivo ctest24.txt\n",
            "Se ha creado el archivo input25.txt\n",
            "Se ha creado el archivo ctest25.txt\n",
            "Se ha creado el archivo input26.txt\n",
            "Se ha creado el archivo ctest26.txt\n",
            "Se ha creado el archivo input27.txt\n",
            "Se ha creado el archivo ctest27.txt\n",
            "Se ha creado el archivo input28.txt\n",
            "Se ha creado el archivo ctest28.txt\n",
            "Se ha creado el archivo input29.txt\n",
            "Se ha creado el archivo ctest29.txt\n",
            "Se ha creado el archivo input30.txt\n",
            "Se ha creado el archivo ctest30.txt\n",
            "Se ha creado el archivo input31.txt\n",
            "Se ha creado el archivo ctest31.txt\n",
            "Se ha creado el archivo input32.txt\n",
            "Se ha creado el archivo ctest32.txt\n",
            "Se ha creado el archivo input33.txt\n",
            "Se ha creado el archivo ctest33.txt\n",
            "Se ha creado el archivo input34.txt\n",
            "Se ha creado el archivo ctest34.txt\n",
            "Se ha creado el archivo input35.txt\n",
            "Se ha creado el archivo ctest35.txt\n",
            "Se ha creado el archivo input36.txt\n",
            "Se ha creado el archivo ctest36.txt\n",
            "Se ha creado el archivo input37.txt\n",
            "Se ha creado el archivo ctest37.txt\n",
            "Se ha creado el archivo input38.txt\n",
            "Se ha creado el archivo ctest38.txt\n",
            "Se ha creado el archivo input39.txt\n",
            "Se ha creado el archivo ctest39.txt\n",
            "Se ha creado el archivo input40.txt\n",
            "Se ha creado el archivo ctest40.txt\n",
            "Se ha creado el archivo input41.txt\n",
            "Se ha creado el archivo ctest41.txt\n",
            "Se ha creado el archivo input42.txt\n",
            "Se ha creado el archivo ctest42.txt\n",
            "Se ha creado el archivo input43.txt\n",
            "Se ha creado el archivo ctest43.txt\n",
            "Se ha creado el archivo input44.txt\n",
            "Se ha creado el archivo ctest44.txt\n",
            "Se ha creado el archivo input45.txt\n",
            "Se ha creado el archivo ctest45.txt\n",
            "Se ha creado el archivo input46.txt\n",
            "Se ha creado el archivo ctest46.txt\n",
            "Se ha creado el archivo input47.txt\n",
            "Se ha creado el archivo ctest47.txt\n",
            "Se ha creado el archivo input48.txt\n",
            "Se ha creado el archivo ctest48.txt\n",
            "Se ha creado el archivo input49.txt\n",
            "Se ha creado el archivo ctest49.txt\n",
            "Se ha creado el archivo input50.txt\n",
            "Se ha creado el archivo ctest50.txt\n",
            "Se ha creado el archivo input51.txt\n",
            "Se ha creado el archivo ctest51.txt\n",
            "Se ha creado el archivo input52.txt\n",
            "Se ha creado el archivo ctest52.txt\n",
            "Se ha creado el archivo input53.txt\n",
            "Se ha creado el archivo ctest53.txt\n",
            "Se ha creado el archivo input54.txt\n",
            "Se ha creado el archivo ctest54.txt\n",
            "Se ha creado el archivo input55.txt\n",
            "Se ha creado el archivo ctest55.txt\n",
            "Se ha creado el archivo input56.txt\n",
            "Se ha creado el archivo ctest56.txt\n",
            "Se ha creado el archivo input57.txt\n",
            "Se ha creado el archivo ctest57.txt\n",
            "Se ha creado el archivo input58.txt\n",
            "Se ha creado el archivo ctest58.txt\n",
            "Se ha creado el archivo input59.txt\n",
            "Se ha creado el archivo ctest59.txt\n",
            "Se ha creado el archivo input60.txt\n",
            "Se ha creado el archivo ctest60.txt\n",
            "Se ha creado el archivo input61.txt\n",
            "Se ha creado el archivo ctest61.txt\n",
            "Se ha creado el archivo input62.txt\n",
            "Se ha creado el archivo ctest62.txt\n",
            "Se ha creado el archivo input63.txt\n",
            "Se ha creado el archivo ctest63.txt\n",
            "Se ha creado el archivo input64.txt\n",
            "Se ha creado el archivo ctest64.txt\n",
            "Se ha creado el archivo input65.txt\n",
            "Se ha creado el archivo ctest65.txt\n",
            "Se ha creado el archivo input66.txt\n",
            "Se ha creado el archivo ctest66.txt\n",
            "Se ha creado el archivo input67.txt\n",
            "Se ha creado el archivo ctest67.txt\n",
            "Se ha creado el archivo input68.txt\n",
            "Se ha creado el archivo ctest68.txt\n",
            "Se ha creado el archivo input69.txt\n",
            "Se ha creado el archivo ctest69.txt\n",
            "Se ha creado el archivo input70.txt\n",
            "Se ha creado el archivo ctest70.txt\n",
            "Se ha creado el archivo input71.txt\n",
            "Se ha creado el archivo ctest71.txt\n",
            "Se ha creado el archivo input72.txt\n",
            "Se ha creado el archivo ctest72.txt\n",
            "Se ha creado el archivo input73.txt\n",
            "Se ha creado el archivo ctest73.txt\n",
            "Se ha creado el archivo input74.txt\n",
            "Se ha creado el archivo ctest74.txt\n",
            "Se ha creado el archivo input75.txt\n",
            "Se ha creado el archivo ctest75.txt\n",
            "Se ha creado el archivo input76.txt\n",
            "Se ha creado el archivo ctest76.txt\n",
            "Se ha creado el archivo input77.txt\n",
            "Se ha creado el archivo ctest77.txt\n",
            "Se ha creado el archivo input78.txt\n",
            "Se ha creado el archivo ctest78.txt\n",
            "Se ha creado el archivo input79.txt\n",
            "Se ha creado el archivo ctest79.txt\n",
            "Se ha creado el archivo input80.txt\n",
            "Se ha creado el archivo ctest80.txt\n",
            "Se ha creado el archivo input81.txt\n",
            "Se ha creado el archivo ctest81.txt\n",
            "Se ha creado el archivo input82.txt\n",
            "Se ha creado el archivo ctest82.txt\n",
            "Se ha creado el archivo input83.txt\n",
            "Se ha creado el archivo ctest83.txt\n",
            "Se ha creado el archivo input84.txt\n",
            "Se ha creado el archivo ctest84.txt\n",
            "Se ha creado el archivo input85.txt\n",
            "Se ha creado el archivo ctest85.txt\n",
            "Se ha creado el archivo input86.txt\n",
            "Se ha creado el archivo ctest86.txt\n",
            "Se ha creado el archivo input87.txt\n",
            "Se ha creado el archivo ctest87.txt\n",
            "Se ha creado el archivo input88.txt\n",
            "Se ha creado el archivo ctest88.txt\n",
            "Se ha creado el archivo input89.txt\n",
            "Se ha creado el archivo ctest89.txt\n",
            "Se ha creado el archivo input90.txt\n",
            "Se ha creado el archivo ctest90.txt\n",
            "Se ha creado el archivo input91.txt\n",
            "Se ha creado el archivo ctest91.txt\n",
            "Se ha creado el archivo input92.txt\n",
            "Se ha creado el archivo ctest92.txt\n",
            "Se ha creado el archivo input93.txt\n",
            "Se ha creado el archivo ctest93.txt\n",
            "Se ha creado el archivo input94.txt\n",
            "Se ha creado el archivo ctest94.txt\n",
            "Se ha creado el archivo input95.txt\n",
            "Se ha creado el archivo ctest95.txt\n",
            "Se ha creado el archivo input96.txt\n",
            "Se ha creado el archivo ctest96.txt\n",
            "Se ha creado el archivo input97.txt\n",
            "Se ha creado el archivo ctest97.txt\n",
            "Se ha creado el archivo input98.txt\n",
            "Se ha creado el archivo ctest98.txt\n",
            "Se ha creado el archivo input99.txt\n",
            "Se ha creado el archivo ctest99.txt\n",
            "Se ha creado el archivo input100.txt\n",
            "Se ha creado el archivo ctest100.txt\n",
            "Se ha creado el archivo input101.txt\n",
            "Se ha creado el archivo ctest101.txt\n",
            "Se ha creado el archivo input102.txt\n",
            "Se ha creado el archivo ctest102.txt\n",
            "Se ha creado el archivo input103.txt\n",
            "Se ha creado el archivo ctest103.txt\n",
            "Se ha creado el archivo input104.txt\n",
            "Se ha creado el archivo ctest104.txt\n",
            "Se ha creado el archivo input105.txt\n",
            "Se ha creado el archivo ctest105.txt\n",
            "Se ha creado el archivo input106.txt\n",
            "Se ha creado el archivo ctest106.txt\n",
            "Se ha creado el archivo input107.txt\n",
            "Se ha creado el archivo ctest107.txt\n",
            "Se ha creado el archivo input108.txt\n",
            "Se ha creado el archivo ctest108.txt\n",
            "Se ha creado el archivo input109.txt\n",
            "Se ha creado el archivo ctest109.txt\n",
            "Se ha creado el archivo input110.txt\n",
            "Se ha creado el archivo ctest110.txt\n",
            "Se ha creado el archivo input111.txt\n",
            "Se ha creado el archivo ctest111.txt\n",
            "Se ha creado el archivo input112.txt\n",
            "Se ha creado el archivo ctest112.txt\n",
            "Se ha creado el archivo input113.txt\n",
            "Se ha creado el archivo ctest113.txt\n",
            "Se ha creado el archivo input114.txt\n",
            "Se ha creado el archivo ctest114.txt\n",
            "Se ha creado el archivo input115.txt\n",
            "Se ha creado el archivo ctest115.txt\n",
            "Se ha creado el archivo input116.txt\n",
            "Se ha creado el archivo ctest116.txt\n",
            "Se ha creado el archivo input117.txt\n",
            "Se ha creado el archivo ctest117.txt\n",
            "Se ha creado el archivo input118.txt\n",
            "Se ha creado el archivo ctest118.txt\n",
            "Se ha creado el archivo input119.txt\n",
            "Se ha creado el archivo ctest119.txt\n",
            "Se ha creado el archivo input120.txt\n",
            "Se ha creado el archivo ctest120.txt\n",
            "Se ha creado el archivo input121.txt\n",
            "Se ha creado el archivo ctest121.txt\n",
            "Se ha creado el archivo input122.txt\n",
            "Se ha creado el archivo ctest122.txt\n",
            "Se ha creado el archivo input123.txt\n",
            "Se ha creado el archivo ctest123.txt\n",
            "Se ha creado el archivo input124.txt\n",
            "Se ha creado el archivo ctest124.txt\n"
          ]
        }
      ]
    },
    {
      "cell_type": "code",
      "source": [
        "8536*3576"
      ],
      "metadata": {
        "colab": {
          "base_uri": "https://localhost:8080/"
        },
        "id": "Mmr9XMN732W1",
        "outputId": "de37cc1b-c633-4735-eb41-4ddb88b3e315"
      },
      "execution_count": null,
      "outputs": [
        {
          "output_type": "execute_result",
          "data": {
            "text/plain": [
              "30524736"
            ]
          },
          "metadata": {},
          "execution_count": 547
        }
      ]
    },
    {
      "cell_type": "markdown",
      "source": [
        "---------------- ya creados los test se procede a realizar el stress testing ------------------------"
      ],
      "metadata": {
        "id": "WJXTJIriqviY"
      }
    },
    {
      "cell_type": "code",
      "source": [
        " %%writefile torture_max_pairwise_product_long_sort.sh\n",
        "#!/bin/bash\n",
        "\n",
        "g++ max_pairwise_product_long_sort.cpp -o max_pairwise_product_long_sort\n",
        "for i in {14..124}\n",
        "do\n",
        "    echo \"-----------------------------------\"\n",
        "    echo \"Running with input$i.txt\"\n",
        "    ./max_pairwise_product_long_sort < input$i.txt>output$i.txt\n",
        "    ./max_pairwise_product_long_sort < input$i.txt\n",
        "    differences=$(grep -xvFf output$i.txt ctest$i.txt)\n",
        "    if [ -n \"$differences\" ]; then\n",
        "        echo \"Differences found in output$i.txt and ctest$i.txt:\"\n",
        "        echo \"$differences\"\n",
        "    else\n",
        "        echo \"input$i.txt: OK\"\n",
        "    fi\n",
        "done\n"
      ],
      "metadata": {
        "colab": {
          "base_uri": "https://localhost:8080/"
        },
        "id": "9wT1j2jKp4TC",
        "outputId": "e1576f5c-6526-4af2-ba43-4a2814d1f86a"
      },
      "execution_count": 51,
      "outputs": [
        {
          "output_type": "stream",
          "name": "stdout",
          "text": [
            "Overwriting torture_max_pairwise_product_long_sort.sh\n"
          ]
        }
      ]
    },
    {
      "cell_type": "code",
      "source": [
        "!chmod u+x torture_max_pairwise_product_long_sort.sh\n",
        "!./torture_max_pairwise_product_long_sort.sh"
      ],
      "metadata": {
        "colab": {
          "base_uri": "https://localhost:8080/"
        },
        "id": "DajBqmeJqFlU",
        "outputId": "6013d457-c746-4dcf-b442-5ad446ef3349"
      },
      "execution_count": 52,
      "outputs": [
        {
          "output_type": "stream",
          "name": "stdout",
          "text": [
            "-----------------------------------\n",
            "Running with input14.txt\n",
            "360\n",
            "input14.txt: OK\n",
            "-----------------------------------\n",
            "Running with input15.txt\n",
            "20\n",
            "input15.txt: OK\n",
            "-----------------------------------\n",
            "Running with input16.txt\n",
            "344378000\n",
            "grep: ctest16.txt: No such file or directory\n",
            "input16.txt: OK\n",
            "-----------------------------------\n",
            "Running with input17.txt\n",
            "0\n",
            "input17.txt: OK\n",
            "-----------------------------------\n",
            "Running with input18.txt\n",
            "8\n",
            "input18.txt: OK\n",
            "-----------------------------------\n",
            "Running with input19.txt\n",
            "90\n",
            "input19.txt: OK\n",
            "-----------------------------------\n",
            "Running with input20.txt\n",
            "20\n",
            "input20.txt: OK\n",
            "-----------------------------------\n",
            "Running with input21.txt\n",
            "1109889\n",
            "input21.txt: OK\n",
            "-----------------------------------\n",
            "Running with input22.txt\n",
            "10989\n",
            "input22.txt: OK\n",
            "-----------------------------------\n",
            "Running with input23.txt\n",
            "342\n",
            "input23.txt: OK\n",
            "-----------------------------------\n",
            "Running with input24.txt\n",
            "73865248\n",
            "input24.txt: OK\n",
            "-----------------------------------\n",
            "Running with input25.txt\n",
            "85124012\n",
            "input25.txt: OK\n",
            "-----------------------------------\n",
            "Running with input26.txt\n",
            "83702120\n",
            "input26.txt: OK\n",
            "-----------------------------------\n",
            "Running with input27.txt\n",
            "71873620\n",
            "input27.txt: OK\n",
            "-----------------------------------\n",
            "Running with input28.txt\n",
            "47986796\n",
            "input28.txt: OK\n",
            "-----------------------------------\n",
            "Running with input29.txt\n",
            "77514816\n",
            "input29.txt: OK\n",
            "-----------------------------------\n",
            "Running with input30.txt\n",
            "24495208\n",
            "input30.txt: OK\n",
            "-----------------------------------\n",
            "Running with input31.txt\n",
            "90507350\n",
            "input31.txt: OK\n",
            "-----------------------------------\n",
            "Running with input32.txt\n",
            "29092456\n",
            "input32.txt: OK\n",
            "-----------------------------------\n",
            "Running with input33.txt\n",
            "84101406\n",
            "input33.txt: OK\n",
            "-----------------------------------\n",
            "Running with input34.txt\n",
            "23929452\n",
            "input34.txt: OK\n",
            "-----------------------------------\n",
            "Running with input35.txt\n",
            "84191540\n",
            "input35.txt: OK\n",
            "-----------------------------------\n",
            "Running with input36.txt\n",
            "24053568\n",
            "input36.txt: OK\n",
            "-----------------------------------\n",
            "Running with input37.txt\n",
            "34312152\n",
            "input37.txt: OK\n",
            "-----------------------------------\n",
            "Running with input38.txt\n",
            "52605917\n",
            "input38.txt: OK\n",
            "-----------------------------------\n",
            "Running with input39.txt\n",
            "71133480\n",
            "input39.txt: OK\n",
            "-----------------------------------\n",
            "Running with input40.txt\n",
            "85706720\n",
            "input40.txt: OK\n",
            "-----------------------------------\n",
            "Running with input41.txt\n",
            "18349100\n",
            "input41.txt: OK\n",
            "-----------------------------------\n",
            "Running with input42.txt\n",
            "74330527\n",
            "input42.txt: OK\n",
            "-----------------------------------\n",
            "Running with input43.txt\n",
            "19052924\n",
            "input43.txt: OK\n",
            "-----------------------------------\n",
            "Running with input44.txt\n",
            "16069344\n",
            "input44.txt: OK\n",
            "-----------------------------------\n",
            "Running with input45.txt\n",
            "63364389\n",
            "input45.txt: OK\n",
            "-----------------------------------\n",
            "Running with input46.txt\n",
            "53965296\n",
            "input46.txt: OK\n",
            "-----------------------------------\n",
            "Running with input47.txt\n",
            "46610064\n",
            "input47.txt: OK\n",
            "-----------------------------------\n",
            "Running with input48.txt\n",
            "83691032\n",
            "input48.txt: OK\n",
            "-----------------------------------\n",
            "Running with input49.txt\n",
            "73512748\n",
            "input49.txt: OK\n",
            "-----------------------------------\n",
            "Running with input50.txt\n",
            "67640366\n",
            "input50.txt: OK\n",
            "-----------------------------------\n",
            "Running with input51.txt\n",
            "56300125\n",
            "input51.txt: OK\n",
            "-----------------------------------\n",
            "Running with input52.txt\n",
            "92919940\n",
            "input52.txt: OK\n",
            "-----------------------------------\n",
            "Running with input53.txt\n",
            "55518372\n",
            "input53.txt: OK\n",
            "-----------------------------------\n",
            "Running with input54.txt\n",
            "34450848\n",
            "input54.txt: OK\n",
            "-----------------------------------\n",
            "Running with input55.txt\n",
            "85074076\n",
            "input55.txt: OK\n",
            "-----------------------------------\n",
            "Running with input56.txt\n",
            "42200384\n",
            "input56.txt: OK\n",
            "-----------------------------------\n",
            "Running with input57.txt\n",
            "85355521\n",
            "input57.txt: OK\n",
            "-----------------------------------\n",
            "Running with input58.txt\n",
            "59799540\n",
            "input58.txt: OK\n",
            "-----------------------------------\n",
            "Running with input59.txt\n",
            "44406087\n",
            "input59.txt: OK\n",
            "-----------------------------------\n",
            "Running with input60.txt\n",
            "1062695\n",
            "input60.txt: OK\n",
            "-----------------------------------\n",
            "Running with input61.txt\n",
            "12034590\n",
            "input61.txt: OK\n",
            "-----------------------------------\n",
            "Running with input62.txt\n",
            "90589500\n",
            "input62.txt: OK\n",
            "-----------------------------------\n",
            "Running with input63.txt\n",
            "19117140\n",
            "input63.txt: OK\n",
            "-----------------------------------\n",
            "Running with input64.txt\n",
            "52789140\n",
            "input64.txt: OK\n",
            "-----------------------------------\n",
            "Running with input65.txt\n",
            "20965641\n",
            "input65.txt: OK\n",
            "-----------------------------------\n",
            "Running with input66.txt\n",
            "64568532\n",
            "input66.txt: OK\n",
            "-----------------------------------\n",
            "Running with input67.txt\n",
            "36850464\n",
            "input67.txt: OK\n",
            "-----------------------------------\n",
            "Running with input68.txt\n",
            "49387944\n",
            "input68.txt: OK\n",
            "-----------------------------------\n",
            "Running with input69.txt\n",
            "89907522\n",
            "input69.txt: OK\n",
            "-----------------------------------\n",
            "Running with input70.txt\n",
            "3849344\n",
            "input70.txt: OK\n",
            "-----------------------------------\n",
            "Running with input71.txt\n",
            "80775126\n",
            "input71.txt: OK\n",
            "-----------------------------------\n",
            "Running with input72.txt\n",
            "59593639\n",
            "input72.txt: OK\n",
            "-----------------------------------\n",
            "Running with input73.txt\n",
            "43344066\n",
            "input73.txt: OK\n",
            "-----------------------------------\n",
            "Running with input74.txt\n",
            "49231686\n",
            "input74.txt: OK\n",
            "-----------------------------------\n",
            "Running with input75.txt\n",
            "73154169\n",
            "input75.txt: OK\n",
            "-----------------------------------\n",
            "Running with input76.txt\n",
            "67046001\n",
            "input76.txt: OK\n",
            "-----------------------------------\n",
            "Running with input77.txt\n",
            "77760375\n",
            "input77.txt: OK\n",
            "-----------------------------------\n",
            "Running with input78.txt\n",
            "41055576\n",
            "input78.txt: OK\n",
            "-----------------------------------\n",
            "Running with input79.txt\n",
            "35323740\n",
            "input79.txt: OK\n",
            "-----------------------------------\n",
            "Running with input80.txt\n",
            "19517891\n",
            "input80.txt: OK\n",
            "-----------------------------------\n",
            "Running with input81.txt\n",
            "88704410\n",
            "input81.txt: OK\n",
            "-----------------------------------\n",
            "Running with input82.txt\n",
            "66045810\n",
            "input82.txt: OK\n",
            "-----------------------------------\n",
            "Running with input83.txt\n",
            "48534750\n",
            "input83.txt: OK\n",
            "-----------------------------------\n",
            "Running with input84.txt\n",
            "12518544\n",
            "input84.txt: OK\n",
            "-----------------------------------\n",
            "Running with input85.txt\n",
            "80318676\n",
            "input85.txt: OK\n",
            "-----------------------------------\n",
            "Running with input86.txt\n",
            "76719405\n",
            "input86.txt: OK\n",
            "-----------------------------------\n",
            "Running with input87.txt\n",
            "53311900\n",
            "input87.txt: OK\n",
            "-----------------------------------\n",
            "Running with input88.txt\n",
            "93528815\n",
            "input88.txt: OK\n",
            "-----------------------------------\n",
            "Running with input89.txt\n",
            "58221828\n",
            "input89.txt: OK\n",
            "-----------------------------------\n",
            "Running with input90.txt\n",
            "4342130\n",
            "input90.txt: OK\n",
            "-----------------------------------\n",
            "Running with input91.txt\n",
            "70458582\n",
            "input91.txt: OK\n",
            "-----------------------------------\n",
            "Running with input92.txt\n",
            "67146216\n",
            "input92.txt: OK\n",
            "-----------------------------------\n",
            "Running with input93.txt\n",
            "62672489\n",
            "input93.txt: OK\n",
            "-----------------------------------\n",
            "Running with input94.txt\n",
            "49081890\n",
            "input94.txt: OK\n",
            "-----------------------------------\n",
            "Running with input95.txt\n",
            "10930626\n",
            "input95.txt: OK\n",
            "-----------------------------------\n",
            "Running with input96.txt\n",
            "54765996\n",
            "input96.txt: OK\n",
            "-----------------------------------\n",
            "Running with input97.txt\n",
            "14056658\n",
            "input97.txt: OK\n",
            "-----------------------------------\n",
            "Running with input98.txt\n",
            "95579660\n",
            "input98.txt: OK\n",
            "-----------------------------------\n",
            "Running with input99.txt\n",
            "29671164\n",
            "input99.txt: OK\n",
            "-----------------------------------\n",
            "Running with input100.txt\n",
            "36258189\n",
            "input100.txt: OK\n",
            "-----------------------------------\n",
            "Running with input101.txt\n",
            "80974790\n",
            "input101.txt: OK\n",
            "-----------------------------------\n",
            "Running with input102.txt\n",
            "89128582\n",
            "input102.txt: OK\n",
            "-----------------------------------\n",
            "Running with input103.txt\n",
            "57752838\n",
            "input103.txt: OK\n",
            "-----------------------------------\n",
            "Running with input104.txt\n",
            "65809513\n",
            "input104.txt: OK\n",
            "-----------------------------------\n",
            "Running with input105.txt\n",
            "65632970\n",
            "input105.txt: OK\n",
            "-----------------------------------\n",
            "Running with input106.txt\n",
            "75969140\n",
            "input106.txt: OK\n",
            "-----------------------------------\n",
            "Running with input107.txt\n",
            "62435043\n",
            "input107.txt: OK\n",
            "-----------------------------------\n",
            "Running with input108.txt\n",
            "78858237\n",
            "input108.txt: OK\n",
            "-----------------------------------\n",
            "Running with input109.txt\n",
            "78884925\n",
            "input109.txt: OK\n",
            "-----------------------------------\n",
            "Running with input110.txt\n",
            "81928814\n",
            "input110.txt: OK\n",
            "-----------------------------------\n",
            "Running with input111.txt\n",
            "91087360\n",
            "input111.txt: OK\n",
            "-----------------------------------\n",
            "Running with input112.txt\n",
            "84426885\n",
            "input112.txt: OK\n",
            "-----------------------------------\n",
            "Running with input113.txt\n",
            "96271119\n",
            "input113.txt: OK\n",
            "-----------------------------------\n",
            "Running with input114.txt\n",
            "79526616\n",
            "input114.txt: OK\n",
            "-----------------------------------\n",
            "Running with input115.txt\n",
            "35627850\n",
            "input115.txt: OK\n",
            "-----------------------------------\n",
            "Running with input116.txt\n",
            "44305200\n",
            "input116.txt: OK\n",
            "-----------------------------------\n",
            "Running with input117.txt\n",
            "63291327\n",
            "input117.txt: OK\n",
            "-----------------------------------\n",
            "Running with input118.txt\n",
            "74403373\n",
            "input118.txt: OK\n",
            "-----------------------------------\n",
            "Running with input119.txt\n",
            "52507440\n",
            "input119.txt: OK\n",
            "-----------------------------------\n",
            "Running with input120.txt\n",
            "88749834\n",
            "input120.txt: OK\n",
            "-----------------------------------\n",
            "Running with input121.txt\n",
            "26022600\n",
            "input121.txt: OK\n",
            "-----------------------------------\n",
            "Running with input122.txt\n",
            "53784307\n",
            "input122.txt: OK\n",
            "-----------------------------------\n",
            "Running with input123.txt\n",
            "19198718\n",
            "input123.txt: OK\n",
            "-----------------------------------\n",
            "Running with input124.txt\n",
            "81721216\n",
            "input124.txt: OK\n"
          ]
        }
      ]
    },
    {
      "cell_type": "markdown",
      "metadata": {
        "id": "2beTmWFPOb_k"
      },
      "source": [
        "Count executed instructions in code and verify with inputs 1,2 and 3\n"
      ]
    },
    {
      "cell_type": "code",
      "execution_count": 53,
      "metadata": {
        "id": "iuByv4x1Ob_k",
        "colab": {
          "base_uri": "https://localhost:8080/"
        },
        "outputId": "d0402f6b-0fdc-4544-b001-dc7d552478b7"
      },
      "outputs": [
        {
          "output_type": "stream",
          "name": "stdout",
          "text": [
            "Writing max_pairwise_product_long_sort_instructions.cpp\n"
          ]
        }
      ],
      "source": [
        "%%writefile max_pairwise_product_long_sort_instructions.cpp\n",
        "#include <iostream>\n",
        "#include <vector>\n",
        "#include <fstream>\n",
        "#include <cmath>\n",
        "#include <algorithm>\n",
        "\n",
        "\n",
        "int main() {\n",
        "    int instrucciones = 0;\n",
        "    int n;\n",
        "    instrucciones++;\n",
        "\n",
        "    std::cin >> n;\n",
        "    instrucciones++;\n",
        "\n",
        "    std::vector<int> valores(n);\n",
        "    instrucciones++;\n",
        "\n",
        "    for (int i = 0; i < n; ++i) {\n",
        "        std::cin >> valores[i];\n",
        "        instrucciones++;\n",
        "    }\n",
        "\n",
        "    std::sort(valores.begin(), valores.end());\n",
        "    instrucciones = instrucciones + (n * log(n));\n",
        "\n",
        "    std::cout << valores[n-1] * valores[n-2] << \"\\n\";\n",
        "    std::cout << instrucciones << \"\\n\";\n",
        "    return 0;\n",
        "}"
      ]
    },
    {
      "cell_type": "code",
      "source": [
        "%%writefile torture_max_pairwise_product_long_sort_instructions.sh\n",
        "#!/bin/bash\n",
        "\n",
        "g++ max_pairwise_product_long_sort_instructions.cpp -o max_pairwise_product_long_sort_instructions\n",
        "for i in {1..3}\n",
        "do\n",
        "    echo \"-----------------------------------\"\n",
        "    echo \"Count executed instructions with input$i.txt\"\n",
        "\n",
        "    ./max_pairwise_product_long_sort_instructions < input$i.txt\n",
        "\n",
        "done"
      ],
      "metadata": {
        "colab": {
          "base_uri": "https://localhost:8080/"
        },
        "id": "PPAg02Sx75Ij",
        "outputId": "dabdca46-6265-4fe7-ab61-fbce83f13f54"
      },
      "execution_count": 54,
      "outputs": [
        {
          "output_type": "stream",
          "name": "stdout",
          "text": [
            "Writing torture_max_pairwise_product_long_sort_instructions.sh\n"
          ]
        }
      ]
    },
    {
      "cell_type": "code",
      "source": [
        "!chmod u+x torture_max_pairwise_product_long_sort_instructions.sh\n",
        "!./torture_max_pairwise_product_long_sort_instructions.sh"
      ],
      "metadata": {
        "colab": {
          "base_uri": "https://localhost:8080/"
        },
        "id": "Lq_R2Qww8b5S",
        "outputId": "e958b1f2-180d-480e-b0c1-aa4ec41bf60c"
      },
      "execution_count": 55,
      "outputs": [
        {
          "output_type": "stream",
          "name": "stdout",
          "text": [
            "-----------------------------------\n",
            "Count executed instructions with input1.txt\n",
            "90\n",
            "36\n",
            "-----------------------------------\n",
            "Count executed instructions with input2.txt\n",
            "90\n",
            "36\n",
            "-----------------------------------\n",
            "Count executed instructions with input3.txt\n",
            "1345294336\n",
            "19\n"
          ]
        }
      ]
    },
    {
      "cell_type": "markdown",
      "metadata": {
        "id": "x2CXhkwTOb_l"
      },
      "source": [
        "Calculate estimated time by instruction and number of instructions by second"
      ]
    },
    {
      "cell_type": "code",
      "execution_count": null,
      "metadata": {
        "id": "nTjxyTMtOb_l",
        "colab": {
          "base_uri": "https://localhost:8080/"
        },
        "outputId": "f53e6c16-353f-406f-d067-f69e5e3bfe86"
      },
      "outputs": [
        {
          "output_type": "stream",
          "name": "stdout",
          "text": [
            "90\n",
            "36\n",
            "CPU times: user 15.8 ms, sys: 0 ns, total: 15.8 ms\n",
            "Wall time: 911 ms\n"
          ]
        }
      ],
      "source": [
        "%%time\n",
        "!g++ max_pairwise_product_long_sort_instructions.cpp -o max_pairwise_product_long_sort_instructions\n",
        "!./max_pairwise_product_long_sort_instructions < input1.txt"
      ]
    },
    {
      "cell_type": "code",
      "source": [
        "0.0167 /36"
      ],
      "metadata": {
        "colab": {
          "base_uri": "https://localhost:8080/"
        },
        "id": "tNCymTZeUSNT",
        "outputId": "dc072f49-3b0a-432b-9c4c-cbe1a15bdfe8"
      },
      "execution_count": null,
      "outputs": [
        {
          "output_type": "execute_result",
          "data": {
            "text/plain": [
              "0.0004638888888888889"
            ]
          },
          "metadata": {},
          "execution_count": 231
        }
      ]
    },
    {
      "cell_type": "markdown",
      "metadata": {
        "id": "VMKC5duEOQfk"
      },
      "source": [
        "### Efficient solution largest and second-largest in an list, array or vector in C++ and Python\n",
        " $$2.5 n = O(n)$$\n",
        "\n",
        "\n",
        "\n"
      ]
    },
    {
      "cell_type": "markdown",
      "metadata": {
        "id": "nLcKBwbU0QsE"
      },
      "source": [
        "Add in each line a coment with the number of intstrcution that are executed in that line"
      ]
    },
    {
      "cell_type": "code",
      "source": [
        "%%writefile max_pairwise_sort_efficient.cpp\n",
        "#include <iostream>\n",
        "#include <vector>\n",
        "#include <fstream>\n",
        "#include <cmath>\n",
        "#include <algorithm>\n",
        "\n",
        "using namespace std;\n",
        "\n",
        "int main() {\n",
        "    cout << \"--- C++ ---\" << \"\\n\";\n",
        "    int n;\n",
        "    cin >> n;                                 // 1 instrucción: Leer un entero desde la entrada estándar.\n",
        "    int maxValor = INT_MIN;                   // 1 instrucción: Inicializar maxValor.\n",
        "    int segMaxValor = INT_MIN;                // 1 instrucción: Inicializar segMaxValor.\n",
        "\n",
        "    vector<int> numbers(n);                   // n instrucciones: Crear un vector e inicializarlo.\n",
        "\n",
        "    for (int i = 0; i < n; ++i) {             // n instrucciones: Leer y almacenar valores en el vector.\n",
        "        cin >> numbers[i];\n",
        "    }\n",
        "\n",
        "    for (int i = 0; i < n; ++i) {             // n instrucciones: Realizar un bucle for.\n",
        "        int aux = numbers[i];                 // 1 instrucción: Asignar un valor a la variable aux.\n",
        "\n",
        "        if (aux > maxValor) {                 // 1 instrucción: Comparar aux con maxValor.\n",
        "            segMaxValor = maxValor;           // 1 instrucción: Asignar maxValor a segMaxValor.\n",
        "            maxValor = aux;                   // 1 instrucción: Asignar aux a maxValor.\n",
        "        } else if (aux > segMaxValor) {       // 1 instrucción: Comparar aux con segMaxValor.\n",
        "            segMaxValor = aux;                // 1 instrucción: Asignar aux a segMaxValor.\n",
        "        }\n",
        "    }\n",
        "\n",
        "    cout << \"Product: \" << maxNumber * secondMaxNumber << \"\\n\"; // 2 instrucciones: Realizar la multiplicación y la salida.\n",
        "    return 0;                                  // 1 instrucción: Devolver un valor.\n",
        "}"
      ],
      "metadata": {
        "colab": {
          "base_uri": "https://localhost:8080/"
        },
        "id": "z_wQ0DEGYRSg",
        "outputId": "2ca9ad91-555a-40dc-c0a4-dac7462a8377"
      },
      "execution_count": 56,
      "outputs": [
        {
          "output_type": "stream",
          "name": "stdout",
          "text": [
            "Writing max_pairwise_sort_efficient.cpp\n"
          ]
        }
      ]
    },
    {
      "cell_type": "code",
      "execution_count": 58,
      "metadata": {
        "id": "knls5Fh3NSt_",
        "colab": {
          "base_uri": "https://localhost:8080/"
        },
        "outputId": "e761acd5-33f4-41a1-baf7-dbb5341b536f"
      },
      "outputs": [
        {
          "output_type": "stream",
          "name": "stdout",
          "text": [
            "Writing max_pairwise_sort_efficient.py\n"
          ]
        }
      ],
      "source": [
        "%%writefile max_pairwise_sort_efficient.py\n",
        "\n",
        "def max_pairwise_sort_efficient(valores):\n",
        "    n = len(valores)                          # 1 instrucción: Obtener la longitud de la lista \"valores\".\n",
        "    valores.sort()                            # n * log(n) instrucciones: Ordenar la lista \"valores\".\n",
        "\n",
        "    return valores[n - 1] * valores[n - 2]    # 2 instrucciones: Realizar la multiplicación y la resta.\n",
        "\n",
        "n = int(input())                              # 1 instrucción: Leer un entero desde la entrada estándar.\n",
        "\n",
        "valores = [int(i) for i in input().split()]  # n instrucciones: Leer y convertir valores desde la entrada estándar.\n",
        "print(max_pairwise_sort_efficient(valores))  # 1 instrucción: Llamar a la función e imprimir el resultado."
      ]
    },
    {
      "cell_type": "markdown",
      "metadata": {
        "id": "-JCijbWxNSii"
      },
      "source": [
        "Test with inputs 1 and 2\n",
        "\n"
      ]
    },
    {
      "cell_type": "code",
      "execution_count": 59,
      "metadata": {
        "id": "TrTGAfqlNVXT",
        "colab": {
          "base_uri": "https://localhost:8080/"
        },
        "outputId": "346e1e96-beae-4e5e-f5d6-aef561222405"
      },
      "outputs": [
        {
          "output_type": "stream",
          "name": "stdout",
          "text": [
            "90\n",
            "90\n"
          ]
        }
      ],
      "source": [
        "!python3 max_pairwise_sort_efficient.py < input1.txt\n",
        "!python3 max_pairwise_sort_efficient.py < input2.txt"
      ]
    },
    {
      "cell_type": "markdown",
      "metadata": {
        "id": "PRX51wADNR8b"
      },
      "source": [
        "Test and time it with input 3"
      ]
    },
    {
      "cell_type": "code",
      "execution_count": null,
      "metadata": {
        "id": "v4z7-Is_NRt7",
        "colab": {
          "base_uri": "https://localhost:8080/"
        },
        "outputId": "8a0df2eb-631e-4fc3-eda1-66651ca9243f"
      },
      "outputs": [
        {
          "output_type": "stream",
          "name": "stdout",
          "text": [
            "40000000000\n",
            "\n",
            "real\t0m0.040s\n",
            "user\t0m0.031s\n",
            "sys\t0m0.007s\n"
          ]
        }
      ],
      "source": [
        "!time python3 max_pairwise_sort_efficient.py < input3.txt"
      ]
    },
    {
      "cell_type": "markdown",
      "metadata": {
        "id": "rpdfs0_TNZJf"
      },
      "source": [
        "100 stress tests"
      ]
    },
    {
      "cell_type": "code",
      "source": [
        " %%writefile torture_max_pairwise_sort_efficient_python.sh\n",
        "#!/bin/bash\n",
        "\n",
        "for i in {14..124}\n",
        "do\n",
        "    echo \"-----------------------------------\"\n",
        "    echo \"Running with input$i.txt\"\n",
        "    python max_pairwise_sort_efficient.py < input$i.txt>output$i.txt\n",
        "    python max_pairwise_sort_efficient.py < input$i.txt\n",
        "    differences=$(grep -xvFf output$i.txt ctest$i.txt)\n",
        "    if [ -n \"$differences\" ]; then\n",
        "        echo \"Differences found in output$i.txt and ctest$i.txt:\"\n",
        "        echo \"$differences\"\n",
        "    else\n",
        "        echo \"input$i.txt: OK\"\n",
        "    fi\n",
        "done"
      ],
      "metadata": {
        "colab": {
          "base_uri": "https://localhost:8080/"
        },
        "id": "gP5nsOd8-FZY",
        "outputId": "e39bdc8c-89ad-4b8d-b764-186b1ec6e255"
      },
      "execution_count": 60,
      "outputs": [
        {
          "output_type": "stream",
          "name": "stdout",
          "text": [
            "Writing torture_max_pairwise_sort_efficient_python.sh\n"
          ]
        }
      ]
    },
    {
      "cell_type": "code",
      "source": [
        "!chmod u+x torture_max_pairwise_sort_efficient_python.sh\n",
        "!./torture_max_pairwise_sort_efficient_python.sh"
      ],
      "metadata": {
        "colab": {
          "base_uri": "https://localhost:8080/"
        },
        "id": "4RlfcK_n-mEL",
        "outputId": "9b2b4dfd-cfe2-4feb-8a0c-45bded886e42"
      },
      "execution_count": 63,
      "outputs": [
        {
          "output_type": "stream",
          "name": "stdout",
          "text": [
            "-----------------------------------\n",
            "Running with input14.txt\n",
            "360\n",
            "input14.txt: OK\n",
            "-----------------------------------\n",
            "Running with input15.txt\n",
            "20\n",
            "input15.txt: OK\n",
            "-----------------------------------\n",
            "Running with input16.txt\n",
            "344378000\n",
            "input16.txt: OK\n",
            "-----------------------------------\n",
            "Running with input17.txt\n",
            "0\n",
            "input17.txt: OK\n",
            "-----------------------------------\n",
            "Running with input18.txt\n",
            "8\n",
            "input18.txt: OK\n",
            "-----------------------------------\n",
            "Running with input19.txt\n",
            "90\n",
            "input19.txt: OK\n",
            "-----------------------------------\n",
            "Running with input20.txt\n",
            "20\n",
            "input20.txt: OK\n",
            "-----------------------------------\n",
            "Running with input21.txt\n",
            "1109889\n",
            "input21.txt: OK\n",
            "-----------------------------------\n",
            "Running with input22.txt\n",
            "10989\n",
            "input22.txt: OK\n",
            "-----------------------------------\n",
            "Running with input23.txt\n",
            "342\n",
            "input23.txt: OK\n",
            "-----------------------------------\n",
            "Running with input24.txt\n",
            "73865248\n",
            "input24.txt: OK\n",
            "-----------------------------------\n",
            "Running with input25.txt\n",
            "85124012\n",
            "input25.txt: OK\n",
            "-----------------------------------\n",
            "Running with input26.txt\n",
            "83702120\n",
            "input26.txt: OK\n",
            "-----------------------------------\n",
            "Running with input27.txt\n",
            "71873620\n",
            "input27.txt: OK\n",
            "-----------------------------------\n",
            "Running with input28.txt\n",
            "47986796\n",
            "input28.txt: OK\n",
            "-----------------------------------\n",
            "Running with input29.txt\n",
            "77514816\n",
            "input29.txt: OK\n",
            "-----------------------------------\n",
            "Running with input30.txt\n",
            "24495208\n",
            "input30.txt: OK\n",
            "-----------------------------------\n",
            "Running with input31.txt\n",
            "90507350\n",
            "input31.txt: OK\n",
            "-----------------------------------\n",
            "Running with input32.txt\n",
            "29092456\n",
            "input32.txt: OK\n",
            "-----------------------------------\n",
            "Running with input33.txt\n",
            "84101406\n",
            "input33.txt: OK\n",
            "-----------------------------------\n",
            "Running with input34.txt\n",
            "23929452\n",
            "input34.txt: OK\n",
            "-----------------------------------\n",
            "Running with input35.txt\n",
            "84191540\n",
            "input35.txt: OK\n",
            "-----------------------------------\n",
            "Running with input36.txt\n",
            "24053568\n",
            "input36.txt: OK\n",
            "-----------------------------------\n",
            "Running with input37.txt\n",
            "34312152\n",
            "input37.txt: OK\n",
            "-----------------------------------\n",
            "Running with input38.txt\n",
            "52605917\n",
            "input38.txt: OK\n",
            "-----------------------------------\n",
            "Running with input39.txt\n",
            "71133480\n",
            "input39.txt: OK\n",
            "-----------------------------------\n",
            "Running with input40.txt\n",
            "85706720\n",
            "input40.txt: OK\n",
            "-----------------------------------\n",
            "Running with input41.txt\n",
            "18349100\n",
            "input41.txt: OK\n",
            "-----------------------------------\n",
            "Running with input42.txt\n",
            "74330527\n",
            "input42.txt: OK\n",
            "-----------------------------------\n",
            "Running with input43.txt\n",
            "19052924\n",
            "input43.txt: OK\n",
            "-----------------------------------\n",
            "Running with input44.txt\n",
            "16069344\n",
            "input44.txt: OK\n",
            "-----------------------------------\n",
            "Running with input45.txt\n",
            "63364389\n",
            "input45.txt: OK\n",
            "-----------------------------------\n",
            "Running with input46.txt\n",
            "53965296\n",
            "input46.txt: OK\n",
            "-----------------------------------\n",
            "Running with input47.txt\n",
            "46610064\n",
            "input47.txt: OK\n",
            "-----------------------------------\n",
            "Running with input48.txt\n",
            "83691032\n",
            "input48.txt: OK\n",
            "-----------------------------------\n",
            "Running with input49.txt\n",
            "73512748\n",
            "input49.txt: OK\n",
            "-----------------------------------\n",
            "Running with input50.txt\n",
            "67640366\n",
            "input50.txt: OK\n",
            "-----------------------------------\n",
            "Running with input51.txt\n",
            "56300125\n",
            "input51.txt: OK\n",
            "-----------------------------------\n",
            "Running with input52.txt\n",
            "92919940\n",
            "input52.txt: OK\n",
            "-----------------------------------\n",
            "Running with input53.txt\n",
            "55518372\n",
            "input53.txt: OK\n",
            "-----------------------------------\n",
            "Running with input54.txt\n",
            "34450848\n",
            "input54.txt: OK\n",
            "-----------------------------------\n",
            "Running with input55.txt\n",
            "85074076\n",
            "input55.txt: OK\n",
            "-----------------------------------\n",
            "Running with input56.txt\n",
            "42200384\n",
            "input56.txt: OK\n",
            "-----------------------------------\n",
            "Running with input57.txt\n",
            "85355521\n",
            "input57.txt: OK\n",
            "-----------------------------------\n",
            "Running with input58.txt\n",
            "59799540\n",
            "input58.txt: OK\n",
            "-----------------------------------\n",
            "Running with input59.txt\n",
            "44406087\n",
            "input59.txt: OK\n",
            "-----------------------------------\n",
            "Running with input60.txt\n",
            "1062695\n",
            "input60.txt: OK\n",
            "-----------------------------------\n",
            "Running with input61.txt\n",
            "12034590\n",
            "input61.txt: OK\n",
            "-----------------------------------\n",
            "Running with input62.txt\n",
            "90589500\n",
            "input62.txt: OK\n",
            "-----------------------------------\n",
            "Running with input63.txt\n",
            "19117140\n",
            "input63.txt: OK\n",
            "-----------------------------------\n",
            "Running with input64.txt\n",
            "52789140\n",
            "input64.txt: OK\n",
            "-----------------------------------\n",
            "Running with input65.txt\n",
            "20965641\n",
            "input65.txt: OK\n",
            "-----------------------------------\n",
            "Running with input66.txt\n",
            "64568532\n",
            "input66.txt: OK\n",
            "-----------------------------------\n",
            "Running with input67.txt\n",
            "36850464\n",
            "input67.txt: OK\n",
            "-----------------------------------\n",
            "Running with input68.txt\n",
            "49387944\n",
            "input68.txt: OK\n",
            "-----------------------------------\n",
            "Running with input69.txt\n",
            "89907522\n",
            "input69.txt: OK\n",
            "-----------------------------------\n",
            "Running with input70.txt\n",
            "3849344\n",
            "input70.txt: OK\n",
            "-----------------------------------\n",
            "Running with input71.txt\n",
            "80775126\n",
            "input71.txt: OK\n",
            "-----------------------------------\n",
            "Running with input72.txt\n",
            "59593639\n",
            "input72.txt: OK\n",
            "-----------------------------------\n",
            "Running with input73.txt\n",
            "43344066\n",
            "input73.txt: OK\n",
            "-----------------------------------\n",
            "Running with input74.txt\n",
            "49231686\n",
            "input74.txt: OK\n",
            "-----------------------------------\n",
            "Running with input75.txt\n",
            "73154169\n",
            "input75.txt: OK\n",
            "-----------------------------------\n",
            "Running with input76.txt\n",
            "67046001\n",
            "input76.txt: OK\n",
            "-----------------------------------\n",
            "Running with input77.txt\n",
            "77760375\n",
            "input77.txt: OK\n",
            "-----------------------------------\n",
            "Running with input78.txt\n",
            "41055576\n",
            "input78.txt: OK\n",
            "-----------------------------------\n",
            "Running with input79.txt\n",
            "35323740\n",
            "input79.txt: OK\n",
            "-----------------------------------\n",
            "Running with input80.txt\n",
            "19517891\n",
            "input80.txt: OK\n",
            "-----------------------------------\n",
            "Running with input81.txt\n",
            "88704410\n",
            "input81.txt: OK\n",
            "-----------------------------------\n",
            "Running with input82.txt\n",
            "66045810\n",
            "input82.txt: OK\n",
            "-----------------------------------\n",
            "Running with input83.txt\n",
            "48534750\n",
            "input83.txt: OK\n",
            "-----------------------------------\n",
            "Running with input84.txt\n",
            "12518544\n",
            "input84.txt: OK\n",
            "-----------------------------------\n",
            "Running with input85.txt\n",
            "80318676\n",
            "input85.txt: OK\n",
            "-----------------------------------\n",
            "Running with input86.txt\n",
            "76719405\n",
            "input86.txt: OK\n",
            "-----------------------------------\n",
            "Running with input87.txt\n",
            "53311900\n",
            "input87.txt: OK\n",
            "-----------------------------------\n",
            "Running with input88.txt\n",
            "93528815\n",
            "input88.txt: OK\n",
            "-----------------------------------\n",
            "Running with input89.txt\n",
            "58221828\n",
            "input89.txt: OK\n",
            "-----------------------------------\n",
            "Running with input90.txt\n",
            "4342130\n",
            "input90.txt: OK\n",
            "-----------------------------------\n",
            "Running with input91.txt\n",
            "70458582\n",
            "input91.txt: OK\n",
            "-----------------------------------\n",
            "Running with input92.txt\n",
            "67146216\n",
            "input92.txt: OK\n",
            "-----------------------------------\n",
            "Running with input93.txt\n",
            "62672489\n",
            "input93.txt: OK\n",
            "-----------------------------------\n",
            "Running with input94.txt\n",
            "49081890\n",
            "input94.txt: OK\n",
            "-----------------------------------\n",
            "Running with input95.txt\n",
            "10930626\n",
            "input95.txt: OK\n",
            "-----------------------------------\n",
            "Running with input96.txt\n",
            "54765996\n",
            "input96.txt: OK\n",
            "-----------------------------------\n",
            "Running with input97.txt\n",
            "14056658\n",
            "input97.txt: OK\n",
            "-----------------------------------\n",
            "Running with input98.txt\n",
            "95579660\n",
            "input98.txt: OK\n",
            "-----------------------------------\n",
            "Running with input99.txt\n",
            "29671164\n",
            "input99.txt: OK\n",
            "-----------------------------------\n",
            "Running with input100.txt\n",
            "36258189\n",
            "input100.txt: OK\n",
            "-----------------------------------\n",
            "Running with input101.txt\n",
            "80974790\n",
            "input101.txt: OK\n",
            "-----------------------------------\n",
            "Running with input102.txt\n",
            "89128582\n",
            "input102.txt: OK\n",
            "-----------------------------------\n",
            "Running with input103.txt\n",
            "57752838\n",
            "input103.txt: OK\n",
            "-----------------------------------\n",
            "Running with input104.txt\n",
            "65809513\n",
            "input104.txt: OK\n",
            "-----------------------------------\n",
            "Running with input105.txt\n",
            "65632970\n",
            "input105.txt: OK\n",
            "-----------------------------------\n",
            "Running with input106.txt\n",
            "75969140\n",
            "input106.txt: OK\n",
            "-----------------------------------\n",
            "Running with input107.txt\n",
            "62435043\n",
            "input107.txt: OK\n",
            "-----------------------------------\n",
            "Running with input108.txt\n",
            "78858237\n",
            "input108.txt: OK\n",
            "-----------------------------------\n",
            "Running with input109.txt\n",
            "78884925\n",
            "input109.txt: OK\n",
            "-----------------------------------\n",
            "Running with input110.txt\n",
            "81928814\n",
            "input110.txt: OK\n",
            "-----------------------------------\n",
            "Running with input111.txt\n",
            "91087360\n",
            "input111.txt: OK\n",
            "-----------------------------------\n",
            "Running with input112.txt\n",
            "84426885\n",
            "input112.txt: OK\n",
            "-----------------------------------\n",
            "Running with input113.txt\n",
            "96271119\n",
            "input113.txt: OK\n",
            "-----------------------------------\n",
            "Running with input114.txt\n",
            "79526616\n",
            "input114.txt: OK\n",
            "-----------------------------------\n",
            "Running with input115.txt\n",
            "35627850\n",
            "input115.txt: OK\n",
            "-----------------------------------\n",
            "Running with input116.txt\n",
            "44305200\n",
            "input116.txt: OK\n",
            "-----------------------------------\n",
            "Running with input117.txt\n",
            "63291327\n",
            "input117.txt: OK\n",
            "-----------------------------------\n",
            "Running with input118.txt\n",
            "74403373\n",
            "input118.txt: OK\n",
            "-----------------------------------\n",
            "Running with input119.txt\n",
            "52507440\n",
            "input119.txt: OK\n",
            "-----------------------------------\n",
            "Running with input120.txt\n",
            "88749834\n",
            "input120.txt: OK\n",
            "-----------------------------------\n",
            "Running with input121.txt\n",
            "26022600\n",
            "input121.txt: OK\n",
            "-----------------------------------\n",
            "Running with input122.txt\n",
            "53784307\n",
            "input122.txt: OK\n",
            "-----------------------------------\n",
            "Running with input123.txt\n",
            "19198718\n",
            "input123.txt: OK\n",
            "-----------------------------------\n",
            "Running with input124.txt\n",
            "81721216\n",
            "input124.txt: OK\n"
          ]
        }
      ]
    },
    {
      "cell_type": "markdown",
      "metadata": {
        "id": "L8U4151JNbxk"
      },
      "source": [
        "Count executed instructions in code and verify with inputs 1,2 and 3\n"
      ]
    },
    {
      "cell_type": "code",
      "execution_count": 64,
      "metadata": {
        "id": "dh85RM8vNhFz",
        "colab": {
          "base_uri": "https://localhost:8080/"
        },
        "outputId": "4487e544-70d4-4fd8-c299-bacf6d25ab27"
      },
      "outputs": [
        {
          "output_type": "stream",
          "name": "stdout",
          "text": [
            "Writing max_pairwise_sort_efficient_instructions.py\n"
          ]
        }
      ],
      "source": [
        "%%writefile max_pairwise_sort_efficient_instructions.py\n",
        "import math\n",
        "\n",
        "def max_pairwise_sort_efficient_instructions(valores):\n",
        "  global instrucciones\n",
        "  instrucciones += 1\n",
        "  n = len(valores)\n",
        "\n",
        "  valores.sort() # nlgn -- n\n",
        "  instrucciones += n * math.log(n)\n",
        "  instrucciones += 1\n",
        "  return valores[n-1] * valores[n-2]\n",
        "\n",
        "instrucciones = 0\n",
        "n = int(input())\n",
        "instrucciones += 1\n",
        "valores = [int(i) for i in input().split()]\n",
        "instrucciones += 1\n",
        "\n",
        "print(\"valor: \", max_pairwise_sort_efficient_instructions(valores))\n",
        "print(\"instrucciones: \", instrucciones)"
      ]
    },
    {
      "cell_type": "code",
      "source": [
        "!echo \"---input 1------\"\n",
        "! python3 max_pairwise_sort_efficient_instructions.py < input1.txt\n",
        "!echo \"---input 2------\"\n",
        "! python3 max_pairwise_sort_efficient_instructions.py < input2.txt\n",
        "!echo \"---input 3------\"\n",
        "! python3 max_pairwise_sort_efficient_instructions.py < input3.txt"
      ],
      "metadata": {
        "colab": {
          "base_uri": "https://localhost:8080/"
        },
        "id": "8A6d-ZnOcwr8",
        "outputId": "99943ee1-7ce1-4fee-8b98-7fffe8d7b695"
      },
      "execution_count": null,
      "outputs": [
        {
          "output_type": "stream",
          "name": "stdout",
          "text": [
            "---input 1------\n",
            "valor:  90\n",
            "instrucciones:  27.02585092994046\n",
            "---input 2------\n",
            "valor:  90\n",
            "instrucciones:  27.02585092994046\n",
            "---input 3------\n",
            "valor:  40000000000\n",
            "instrucciones:  14.75055681536833\n"
          ]
        }
      ]
    },
    {
      "cell_type": "markdown",
      "metadata": {
        "id": "K6ybgCmpNygr"
      },
      "source": [
        "Calculate estimated time by instruction and number of instructions by second"
      ]
    },
    {
      "cell_type": "code",
      "execution_count": null,
      "metadata": {
        "id": "kwe3G1O3Nz1w",
        "colab": {
          "base_uri": "https://localhost:8080/"
        },
        "outputId": "30a84036-d32c-4ac9-82b8-18068eba81c2"
      },
      "outputs": [
        {
          "output_type": "stream",
          "name": "stdout",
          "text": [
            "valor:  90\n",
            "instrucciones:  27.02585092994046\n",
            "\n",
            "real\t0m0.039s\n",
            "user\t0m0.027s\n",
            "sys\t0m0.008s\n"
          ]
        }
      ],
      "source": [
        "!time python3 max_pairwise_sort_efficient_instructions.py < input1.txt"
      ]
    },
    {
      "cell_type": "code",
      "source": [
        "0.045/27"
      ],
      "metadata": {
        "colab": {
          "base_uri": "https://localhost:8080/"
        },
        "id": "0nh6qlBidqjh",
        "outputId": "e9aa1354-f0b8-407e-9fd8-5c21981f5b34"
      },
      "execution_count": null,
      "outputs": [
        {
          "output_type": "execute_result",
          "data": {
            "text/plain": [
              "0.0016666666666666666"
            ]
          },
          "metadata": {},
          "execution_count": 573
        }
      ]
    },
    {
      "cell_type": "markdown",
      "metadata": {
        "id": "sUpIWcykOGpT"
      },
      "source": [
        "### Super efficient solution\n",
        "\n",
        "Whitout storing the list in memory, only stpring the largest and second largest and whitout calling a function, add in each line a coment with the number of instructions that are executed in that line\n",
        "\n",
        "in C++ and Python\n",
        " $$2 n = O(n)$$"
      ]
    },
    {
      "cell_type": "code",
      "execution_count": 12,
      "metadata": {
        "id": "hBLt_xBQLy8E",
        "colab": {
          "base_uri": "https://localhost:8080/"
        },
        "outputId": "63cb166f-c303-4fa0-91a0-6fa1a471b7da"
      },
      "outputs": [
        {
          "output_type": "stream",
          "name": "stdout",
          "text": [
            "Overwriting max_pairwise_sort_super_efficient.cpp\n"
          ]
        }
      ],
      "source": [
        "%%writefile max_pairwise_sort_super_efficient.cpp\n",
        "#include <iostream>\n",
        "#include <vector>\n",
        "#include <fstream>\n",
        "#include <cmath>\n",
        "#include <algorithm>\n",
        "#include <climits>\n",
        "\n",
        "using namespace std;\n",
        "\n",
        "int main() {\n",
        "\n",
        "    int n;                                                      // 1 instrucción: Declarar una variable.\n",
        "    cin >> n;                                                   // 1 instrucción: Leer un entero desde la entrada estándar.\n",
        "    int maxValor = INT_MIN;                                     // 1 instrucción: Inicializar maxValor.\n",
        "    int segMaxValor = INT_MIN;                                  // 1 instrucción: Inicializar segMaxValor.\n",
        "\n",
        "    for (int i = 0; i < n; ++i) {                               // 1 + 2n instrucciones: Realizar un bucle for.\n",
        "        int aux = 0;                                            // n instrucciones: Declarar y asignar un valor a la variable aux.\n",
        "        cin >> aux;                                             // n instrucciones: Leer un entero desde la entrada estándar.\n",
        "\n",
        "        if (aux > maxValor) {                                   // n instrucciones: Comparar aux con maxValor.\n",
        "            segMaxValor = maxValor;                             // n instrucciones(peor caso): Asignar maxValor a segMaxValor.\n",
        "            maxValor = aux;                                     // n instrucciones(peor caso): Asignar aux a maxValor.\n",
        "        } else if (aux > segMaxValor) {                         // n instrucciones: Comparar aux con segMaxValor.\n",
        "            segMaxValor = aux;                                  // n instrucciones (peor caso): Asignar aux a segMaxValor.\n",
        "        }\n",
        "    }\n",
        "\n",
        "    cout << \"Product: \" << maxValor * segMaxValor << \"\\n\"; // 1 instrucción: Realizar la multiplicación y la salida.\n",
        "    return 0;                                                   // 1 instrucción: Devolver un valor.\n",
        "}"
      ]
    },
    {
      "cell_type": "markdown",
      "metadata": {
        "id": "683gc3roHqzb"
      },
      "source": [
        "Test with inputs 1 and 2\n",
        "\n",
        "\n"
      ]
    },
    {
      "cell_type": "code",
      "execution_count": 13,
      "metadata": {
        "id": "b7d4LA8OIc2_",
        "colab": {
          "base_uri": "https://localhost:8080/"
        },
        "outputId": "adb02123-3dcf-4dcc-d616-b63ad50be2cb"
      },
      "outputs": [
        {
          "output_type": "stream",
          "name": "stdout",
          "text": [
            "Product: 90\n",
            "Product: 90\n"
          ]
        }
      ],
      "source": [
        "!g++ max_pairwise_sort_super_efficient.cpp -o max_pairwise_sort_super_efficient\n",
        "!./max_pairwise_sort_super_efficient < input1.txt\n",
        "!./max_pairwise_sort_super_efficient < input2.txt"
      ]
    },
    {
      "cell_type": "markdown",
      "metadata": {
        "id": "36Ugn1odIeJz"
      },
      "source": [
        "Test and time it with input 3"
      ]
    },
    {
      "cell_type": "code",
      "execution_count": 14,
      "metadata": {
        "id": "jDyMbCnxHqSN",
        "colab": {
          "base_uri": "https://localhost:8080/"
        },
        "outputId": "8bff97c4-7bc7-4a9a-ad51-3a9a4ffe3a63"
      },
      "outputs": [
        {
          "output_type": "stream",
          "name": "stdout",
          "text": [
            "Product: 1345294336\n",
            "\n",
            "real\t0m0.003s\n",
            "user\t0m0.001s\n",
            "sys\t0m0.001s\n"
          ]
        }
      ],
      "source": [
        "!g++ max_pairwise_sort_super_efficient.cpp -o max_pairwise_sort_super_efficient\n",
        "!time ./max_pairwise_sort_super_efficient < input3.txt"
      ]
    },
    {
      "cell_type": "markdown",
      "metadata": {
        "id": "bhqiKQG6fjKM"
      },
      "source": [
        "100 stress tests"
      ]
    },
    {
      "cell_type": "code",
      "source": [
        " %%writefile torture_max_pairwise_sort_super_efficient.sh\n",
        "#!/bin/bash\n",
        "\n",
        "g++ max_pairwise_sort_super_efficient.cpp -o max_pairwise_sort_super_efficient\n",
        "for i in {14..124}\n",
        "do\n",
        "    echo \"-----------------------------------\"\n",
        "    echo \"Running with input$i.txt\"\n",
        "    ./max_pairwise_sort_super_efficient < input$i.txt\n",
        "\n",
        "done\n"
      ],
      "metadata": {
        "colab": {
          "base_uri": "https://localhost:8080/"
        },
        "id": "alsGiEOBBHtR",
        "outputId": "6f431bf7-89bf-44aa-d66e-acac742459ed"
      },
      "execution_count": 65,
      "outputs": [
        {
          "output_type": "stream",
          "name": "stdout",
          "text": [
            "Overwriting torture_max_pairwise_sort_super_efficient.sh\n"
          ]
        }
      ]
    },
    {
      "cell_type": "code",
      "source": [
        "!chmod u+x torture_max_pairwise_sort_super_efficient.sh\n",
        "!./torture_max_pairwise_sort_super_efficient.sh"
      ],
      "metadata": {
        "colab": {
          "base_uri": "https://localhost:8080/"
        },
        "id": "qbhEnvPhBsVu",
        "outputId": "91844ce4-32eb-4e35-b298-730d9f95dfee"
      },
      "execution_count": 66,
      "outputs": [
        {
          "output_type": "stream",
          "name": "stdout",
          "text": [
            "-----------------------------------\n",
            "Running with input14.txt\n",
            "Product: 360\n",
            "-----------------------------------\n",
            "Running with input15.txt\n",
            "Product: 20\n",
            "-----------------------------------\n",
            "Running with input16.txt\n",
            "Product: 344378000\n",
            "-----------------------------------\n",
            "Running with input17.txt\n",
            "Product: 0\n",
            "-----------------------------------\n",
            "Running with input18.txt\n",
            "Product: 8\n",
            "-----------------------------------\n",
            "Running with input19.txt\n",
            "Product: 90\n",
            "-----------------------------------\n",
            "Running with input20.txt\n",
            "Product: 20\n",
            "-----------------------------------\n",
            "Running with input21.txt\n",
            "Product: 1109889\n",
            "-----------------------------------\n",
            "Running with input22.txt\n",
            "Product: 10989\n",
            "-----------------------------------\n",
            "Running with input23.txt\n",
            "Product: 342\n",
            "-----------------------------------\n",
            "Running with input24.txt\n",
            "Product: 73865248\n",
            "-----------------------------------\n",
            "Running with input25.txt\n",
            "Product: 85124012\n",
            "-----------------------------------\n",
            "Running with input26.txt\n",
            "Product: 83702120\n",
            "-----------------------------------\n",
            "Running with input27.txt\n",
            "Product: 71873620\n",
            "-----------------------------------\n",
            "Running with input28.txt\n",
            "Product: 47986796\n",
            "-----------------------------------\n",
            "Running with input29.txt\n",
            "Product: 77514816\n",
            "-----------------------------------\n",
            "Running with input30.txt\n",
            "Product: 24495208\n",
            "-----------------------------------\n",
            "Running with input31.txt\n",
            "Product: 90507350\n",
            "-----------------------------------\n",
            "Running with input32.txt\n",
            "Product: 29092456\n",
            "-----------------------------------\n",
            "Running with input33.txt\n",
            "Product: 84101406\n",
            "-----------------------------------\n",
            "Running with input34.txt\n",
            "Product: 23929452\n",
            "-----------------------------------\n",
            "Running with input35.txt\n",
            "Product: 84191540\n",
            "-----------------------------------\n",
            "Running with input36.txt\n",
            "Product: 24053568\n",
            "-----------------------------------\n",
            "Running with input37.txt\n",
            "Product: 34312152\n",
            "-----------------------------------\n",
            "Running with input38.txt\n",
            "Product: 52605917\n",
            "-----------------------------------\n",
            "Running with input39.txt\n",
            "Product: 71133480\n",
            "-----------------------------------\n",
            "Running with input40.txt\n",
            "Product: 85706720\n",
            "-----------------------------------\n",
            "Running with input41.txt\n",
            "Product: 18349100\n",
            "-----------------------------------\n",
            "Running with input42.txt\n",
            "Product: 74330527\n",
            "-----------------------------------\n",
            "Running with input43.txt\n",
            "Product: 19052924\n",
            "-----------------------------------\n",
            "Running with input44.txt\n",
            "Product: 16069344\n",
            "-----------------------------------\n",
            "Running with input45.txt\n",
            "Product: 63364389\n",
            "-----------------------------------\n",
            "Running with input46.txt\n",
            "Product: 53965296\n",
            "-----------------------------------\n",
            "Running with input47.txt\n",
            "Product: 46610064\n",
            "-----------------------------------\n",
            "Running with input48.txt\n",
            "Product: 83691032\n",
            "-----------------------------------\n",
            "Running with input49.txt\n",
            "Product: 73512748\n",
            "-----------------------------------\n",
            "Running with input50.txt\n",
            "Product: 67640366\n",
            "-----------------------------------\n",
            "Running with input51.txt\n",
            "Product: 56300125\n",
            "-----------------------------------\n",
            "Running with input52.txt\n",
            "Product: 92919940\n",
            "-----------------------------------\n",
            "Running with input53.txt\n",
            "Product: 55518372\n",
            "-----------------------------------\n",
            "Running with input54.txt\n",
            "Product: 34450848\n",
            "-----------------------------------\n",
            "Running with input55.txt\n",
            "Product: 85074076\n",
            "-----------------------------------\n",
            "Running with input56.txt\n",
            "Product: 42200384\n",
            "-----------------------------------\n",
            "Running with input57.txt\n",
            "Product: 85355521\n",
            "-----------------------------------\n",
            "Running with input58.txt\n",
            "Product: 59799540\n",
            "-----------------------------------\n",
            "Running with input59.txt\n",
            "Product: 44406087\n",
            "-----------------------------------\n",
            "Running with input60.txt\n",
            "Product: 1062695\n",
            "-----------------------------------\n",
            "Running with input61.txt\n",
            "Product: 12034590\n",
            "-----------------------------------\n",
            "Running with input62.txt\n",
            "Product: 90589500\n",
            "-----------------------------------\n",
            "Running with input63.txt\n",
            "Product: 19117140\n",
            "-----------------------------------\n",
            "Running with input64.txt\n",
            "Product: 52789140\n",
            "-----------------------------------\n",
            "Running with input65.txt\n",
            "Product: 20965641\n",
            "-----------------------------------\n",
            "Running with input66.txt\n",
            "Product: 64568532\n",
            "-----------------------------------\n",
            "Running with input67.txt\n",
            "Product: 36850464\n",
            "-----------------------------------\n",
            "Running with input68.txt\n",
            "Product: 49387944\n",
            "-----------------------------------\n",
            "Running with input69.txt\n",
            "Product: 89907522\n",
            "-----------------------------------\n",
            "Running with input70.txt\n",
            "Product: 3849344\n",
            "-----------------------------------\n",
            "Running with input71.txt\n",
            "Product: 80775126\n",
            "-----------------------------------\n",
            "Running with input72.txt\n",
            "Product: 59593639\n",
            "-----------------------------------\n",
            "Running with input73.txt\n",
            "Product: 43344066\n",
            "-----------------------------------\n",
            "Running with input74.txt\n",
            "Product: 49231686\n",
            "-----------------------------------\n",
            "Running with input75.txt\n",
            "Product: 73154169\n",
            "-----------------------------------\n",
            "Running with input76.txt\n",
            "Product: 67046001\n",
            "-----------------------------------\n",
            "Running with input77.txt\n",
            "Product: 77760375\n",
            "-----------------------------------\n",
            "Running with input78.txt\n",
            "Product: 41055576\n",
            "-----------------------------------\n",
            "Running with input79.txt\n",
            "Product: 35323740\n",
            "-----------------------------------\n",
            "Running with input80.txt\n",
            "Product: 19517891\n",
            "-----------------------------------\n",
            "Running with input81.txt\n",
            "Product: 88704410\n",
            "-----------------------------------\n",
            "Running with input82.txt\n",
            "Product: 66045810\n",
            "-----------------------------------\n",
            "Running with input83.txt\n",
            "Product: 48534750\n",
            "-----------------------------------\n",
            "Running with input84.txt\n",
            "Product: 12518544\n",
            "-----------------------------------\n",
            "Running with input85.txt\n",
            "Product: 80318676\n",
            "-----------------------------------\n",
            "Running with input86.txt\n",
            "Product: 76719405\n",
            "-----------------------------------\n",
            "Running with input87.txt\n",
            "Product: 53311900\n",
            "-----------------------------------\n",
            "Running with input88.txt\n",
            "Product: 93528815\n",
            "-----------------------------------\n",
            "Running with input89.txt\n",
            "Product: 58221828\n",
            "-----------------------------------\n",
            "Running with input90.txt\n",
            "Product: 4342130\n",
            "-----------------------------------\n",
            "Running with input91.txt\n",
            "Product: 70458582\n",
            "-----------------------------------\n",
            "Running with input92.txt\n",
            "Product: 67146216\n",
            "-----------------------------------\n",
            "Running with input93.txt\n",
            "Product: 62672489\n",
            "-----------------------------------\n",
            "Running with input94.txt\n",
            "Product: 49081890\n",
            "-----------------------------------\n",
            "Running with input95.txt\n",
            "Product: 10930626\n",
            "-----------------------------------\n",
            "Running with input96.txt\n",
            "Product: 54765996\n",
            "-----------------------------------\n",
            "Running with input97.txt\n",
            "Product: 14056658\n",
            "-----------------------------------\n",
            "Running with input98.txt\n",
            "Product: 95579660\n",
            "-----------------------------------\n",
            "Running with input99.txt\n",
            "Product: 29671164\n",
            "-----------------------------------\n",
            "Running with input100.txt\n",
            "Product: 36258189\n",
            "-----------------------------------\n",
            "Running with input101.txt\n",
            "Product: 80974790\n",
            "-----------------------------------\n",
            "Running with input102.txt\n",
            "Product: 89128582\n",
            "-----------------------------------\n",
            "Running with input103.txt\n",
            "Product: 57752838\n",
            "-----------------------------------\n",
            "Running with input104.txt\n",
            "Product: 65809513\n",
            "-----------------------------------\n",
            "Running with input105.txt\n",
            "Product: 65632970\n",
            "-----------------------------------\n",
            "Running with input106.txt\n",
            "Product: 75969140\n",
            "-----------------------------------\n",
            "Running with input107.txt\n",
            "Product: 62435043\n",
            "-----------------------------------\n",
            "Running with input108.txt\n",
            "Product: 78858237\n",
            "-----------------------------------\n",
            "Running with input109.txt\n",
            "Product: 78884925\n",
            "-----------------------------------\n",
            "Running with input110.txt\n",
            "Product: 81928814\n",
            "-----------------------------------\n",
            "Running with input111.txt\n",
            "Product: 91087360\n",
            "-----------------------------------\n",
            "Running with input112.txt\n",
            "Product: 84426885\n",
            "-----------------------------------\n",
            "Running with input113.txt\n",
            "Product: 96271119\n",
            "-----------------------------------\n",
            "Running with input114.txt\n",
            "Product: 79526616\n",
            "-----------------------------------\n",
            "Running with input115.txt\n",
            "Product: 35627850\n",
            "-----------------------------------\n",
            "Running with input116.txt\n",
            "Product: 44305200\n",
            "-----------------------------------\n",
            "Running with input117.txt\n",
            "Product: 63291327\n",
            "-----------------------------------\n",
            "Running with input118.txt\n",
            "Product: 74403373\n",
            "-----------------------------------\n",
            "Running with input119.txt\n",
            "Product: 52507440\n",
            "-----------------------------------\n",
            "Running with input120.txt\n",
            "Product: 88749834\n",
            "-----------------------------------\n",
            "Running with input121.txt\n",
            "Product: 26022600\n",
            "-----------------------------------\n",
            "Running with input122.txt\n",
            "Product: 53784307\n",
            "-----------------------------------\n",
            "Running with input123.txt\n",
            "Product: 19198718\n",
            "-----------------------------------\n",
            "Running with input124.txt\n",
            "Product: 81721216\n"
          ]
        }
      ]
    },
    {
      "cell_type": "markdown",
      "metadata": {
        "id": "fEXj8GHJH5p1"
      },
      "source": [
        "Count executed instructions in code and verify with inputs 1,2 and 3"
      ]
    },
    {
      "cell_type": "code",
      "execution_count": 17,
      "metadata": {
        "id": "LF1DHjKXIAsF",
        "colab": {
          "base_uri": "https://localhost:8080/"
        },
        "outputId": "602abcf5-8d46-4328-b7c5-002f03ff2237"
      },
      "outputs": [
        {
          "output_type": "stream",
          "name": "stdout",
          "text": [
            "Writing max_pairwise_sort_super_efficient_count.cpp\n"
          ]
        }
      ],
      "source": [
        "%%writefile max_pairwise_sort_super_efficient_count.cpp\n",
        "#include <iostream>\n",
        "#include <vector>\n",
        "#include <fstream>\n",
        "#include <cmath>\n",
        "#include <algorithm>\n",
        "#include <climits>\n",
        "\n",
        "using namespace std;\n",
        "\n",
        "int main() {\n",
        "\n",
        "    int instrucciones = 0;\n",
        "    int n;\n",
        "    instrucciones ++;\n",
        "    cin >> n;\n",
        "    instrucciones ++;\n",
        "    int maxValor = INT_MIN;\n",
        "    instrucciones ++;\n",
        "    int segMaxValor = INT_MIN;\n",
        "    instrucciones ++;\n",
        "\n",
        "\n",
        "    instrucciones ++;\n",
        "    for (int i = 0; i < n; ++i) {\n",
        "        instrucciones += 2;\n",
        "        int aux = 0;\n",
        "        instrucciones ++;\n",
        "\n",
        "        cin>> aux;\n",
        "        instrucciones ++;\n",
        "        instrucciones ++;\n",
        "        instrucciones ++;\n",
        "\n",
        "        if (aux > maxValor){\n",
        "          segMaxValor = maxValor;\n",
        "          instrucciones ++;\n",
        "          maxValor = aux;\n",
        "          instrucciones++;\n",
        "\n",
        "        } else if (aux > segMaxValor) {\n",
        "          segMaxValor = aux;\n",
        "          instrucciones ++;\n",
        "        }\n",
        "\n",
        "    }\n",
        "\n",
        "    cout <<  \"instrucciones: \" << instrucciones << \" n: \"<< n << \" Valor: \" << maxValor * segMaxValor << \"\\n\";\n",
        "    return 0;\n",
        "}"
      ]
    },
    {
      "cell_type": "code",
      "source": [
        "!g++ max_pairwise_sort_super_efficient_count.cpp -o max_pairwise_sort_super_efficient_count\n",
        "!./max_pairwise_sort_super_efficient_count < input1.txt\n",
        "!./max_pairwise_sort_super_efficient_count < input2.txt\n",
        "!./max_pairwise_sort_super_efficient_count < input3.txt"
      ],
      "metadata": {
        "colab": {
          "base_uri": "https://localhost:8080/"
        },
        "id": "4wvFE_0sjcp4",
        "outputId": "3bd58b2d-717d-4971-c66f-f8e671f9a957"
      },
      "execution_count": null,
      "outputs": [
        {
          "output_type": "stream",
          "name": "stdout",
          "text": [
            "instrucciones: 85 n: 10 Valor: 90\n",
            "instrucciones: 68 n: 10 Valor: 90\n",
            "instrucciones: 49 n: 6 Valor: 1345294336\n"
          ]
        }
      ]
    },
    {
      "cell_type": "markdown",
      "metadata": {
        "id": "yae7sSm2IG9U"
      },
      "source": [
        "Calculate estimated time by instruction and number of instructions by second"
      ]
    },
    {
      "cell_type": "code",
      "execution_count": 18,
      "metadata": {
        "id": "suouY7BYL2dz",
        "colab": {
          "base_uri": "https://localhost:8080/"
        },
        "outputId": "a2f46d2c-9ef6-4c9f-dfa3-777e43a6ff62"
      },
      "outputs": [
        {
          "output_type": "stream",
          "name": "stdout",
          "text": [
            "instrucciones: 85 n: 10 Valor: 90\n",
            "CPU times: user 14.4 ms, sys: 2.59 ms, total: 17 ms\n",
            "Wall time: 1.31 s\n"
          ]
        }
      ],
      "source": [
        "%%time\n",
        "!g++ max_pairwise_sort_super_efficient_count.cpp -o max_pairwise_sort_super_efficient_count\n",
        "!./max_pairwise_sort_super_efficient_count < input1.txt"
      ]
    },
    {
      "cell_type": "code",
      "source": [
        "0.0167 / 85"
      ],
      "metadata": {
        "colab": {
          "base_uri": "https://localhost:8080/"
        },
        "id": "zfMMNm4Qjw3h",
        "outputId": "c43a471f-2299-4b9c-faf9-319609478cdc"
      },
      "execution_count": null,
      "outputs": [
        {
          "output_type": "execute_result",
          "data": {
            "text/plain": [
              "0.0001964705882352941"
            ]
          },
          "metadata": {},
          "execution_count": 613
        }
      ]
    },
    {
      "cell_type": "markdown",
      "metadata": {
        "id": "sy33CNNfPxcE"
      },
      "source": [
        "### Super efficient solution in Python\n",
        "\n",
        "Whitout storing the list in memory and whitout calling a function, add in each line a coment with the number of intstrcution that are executed in that line"
      ]
    },
    {
      "cell_type": "code",
      "execution_count": 19,
      "metadata": {
        "id": "_mOjJwKrPxcJ",
        "colab": {
          "base_uri": "https://localhost:8080/"
        },
        "outputId": "743b413d-b903-4b87-b20f-e31d994ed170"
      },
      "outputs": [
        {
          "output_type": "stream",
          "name": "stdout",
          "text": [
            "Writing max_pairwise_sort_super_efficient_instructions.py\n"
          ]
        }
      ],
      "source": [
        "%%writefile max_pairwise_sort_super_efficient_instructions.py\n",
        "\n",
        "def max_pairwise_sort_super_efficient_instructions(numbers):\n",
        "    global max_value\n",
        "    max_value=float(\"-inf\")\n",
        "    global second_max_value\n",
        "    second_max_value=float(\"-inf\")\n",
        "    global instrucciones\n",
        "    instrucciones=2\n",
        "\n",
        "    for num in numbers:\n",
        "        instrucciones=instrucciones+1\n",
        "        if num > max_value:\n",
        "            second_max_value = max_value\n",
        "            max_value = num\n",
        "            instrucciones=instrucciones+3\n",
        "        elif num > second_max_value:\n",
        "            second_max_value = num\n",
        "            instrucciones=instrucciones+5\n",
        "    return max_value*second_max_value\n",
        "\n",
        "n = int(input())\n",
        "numbers=[int(i) for i in input().split()]\n",
        "print(\"Resultado: \",max_pairwise_sort_super_efficient_instructions(numbers))\n",
        "print(\"Instrucciones: \",instrucciones+1)\n"
      ]
    },
    {
      "cell_type": "markdown",
      "metadata": {
        "id": "K08Eow0hPxcJ"
      },
      "source": [
        "Test with inputs 1 and 2\n",
        "\n",
        "\n"
      ]
    },
    {
      "cell_type": "code",
      "execution_count": 20,
      "metadata": {
        "id": "1_mUee2cPxcJ",
        "colab": {
          "base_uri": "https://localhost:8080/"
        },
        "outputId": "0e1e3286-5154-4283-fcfe-dde13e3b2fd7"
      },
      "outputs": [
        {
          "output_type": "stream",
          "name": "stdout",
          "text": [
            "Resultado:  90\n",
            "Instrucciones:  43\n",
            "Resultado:  90\n",
            "Instrucciones:  21\n"
          ]
        }
      ],
      "source": [
        "! python3 max_pairwise_sort_super_efficient_instructions.py < input1.txt\n",
        "! python3 max_pairwise_sort_super_efficient_instructions.py < input2.txt"
      ]
    },
    {
      "cell_type": "markdown",
      "metadata": {
        "id": "CE5DB3CmPxcJ"
      },
      "source": [
        "Test and time it with input 3"
      ]
    },
    {
      "cell_type": "code",
      "execution_count": null,
      "metadata": {
        "id": "lyLhFOoePxcJ",
        "colab": {
          "base_uri": "https://localhost:8080/"
        },
        "outputId": "b2e331f9-887a-40a1-b63f-c4d1d17b9350"
      },
      "outputs": [
        {
          "output_type": "stream",
          "name": "stdout",
          "text": [
            "Resultado:  40000000000\n",
            "Instrucciones:  28\n"
          ]
        }
      ],
      "source": [
        "! python3 max_pairwise_sort_super_efficient_instructions.py < input3.txt"
      ]
    },
    {
      "cell_type": "markdown",
      "metadata": {
        "id": "HZEI236lPxcK"
      },
      "source": [
        "100 stress tests"
      ]
    },
    {
      "cell_type": "code",
      "source": [
        " %%writefile torture_max_pairwise_sort_super_efficient_python.sh\n",
        "#!/bin/bash\n",
        "\n",
        "for i in {14..124}\n",
        "do\n",
        "    echo \"-----------------------------------\"\n",
        "    echo \"Running with input$i.txt\"\n",
        "    python max_pairwise_sort_super_efficient_instructions.py < input$i.txt\n",
        "\n",
        "done\n"
      ],
      "metadata": {
        "id": "ORPQcio_C1vb",
        "outputId": "6e0de81d-aa20-4e56-8b42-81f57645b1cb",
        "colab": {
          "base_uri": "https://localhost:8080/"
        }
      },
      "execution_count": 67,
      "outputs": [
        {
          "output_type": "stream",
          "name": "stdout",
          "text": [
            "Overwriting torture_max_pairwise_sort_super_efficient_python.sh\n"
          ]
        }
      ]
    },
    {
      "cell_type": "code",
      "source": [
        "!chmod u+x torture_max_pairwise_sort_super_efficient_python.sh\n",
        "!./torture_max_pairwise_sort_super_efficient_python.sh"
      ],
      "metadata": {
        "id": "vLZHj9MtC65C",
        "outputId": "bb884f83-6a74-446d-ac66-bcfb5cae88a0",
        "colab": {
          "base_uri": "https://localhost:8080/"
        }
      },
      "execution_count": 68,
      "outputs": [
        {
          "output_type": "stream",
          "name": "stdout",
          "text": [
            "-----------------------------------\n",
            "Running with input14.txt\n",
            "Resultado:  360\n",
            "Instrucciones:  43\n",
            "-----------------------------------\n",
            "Running with input15.txt\n",
            "Resultado:  20\n",
            "Instrucciones:  23\n",
            "-----------------------------------\n",
            "Running with input16.txt\n",
            "Resultado:  344378000\n",
            "Instrucciones:  63\n",
            "-----------------------------------\n",
            "Running with input17.txt\n",
            "Resultado:  0\n",
            "Instrucciones:  21\n",
            "-----------------------------------\n",
            "Running with input18.txt\n",
            "Resultado:  8\n",
            "Instrucciones:  27\n",
            "-----------------------------------\n",
            "Running with input19.txt\n",
            "Resultado:  90\n",
            "Instrucciones:  43\n",
            "-----------------------------------\n",
            "Running with input20.txt\n",
            "Resultado:  20\n",
            "Instrucciones:  16\n",
            "-----------------------------------\n",
            "Running with input21.txt\n",
            "Resultado:  1109889\n",
            "Instrucciones:  19\n",
            "-----------------------------------\n",
            "Running with input22.txt\n",
            "Resultado:  10989\n",
            "Instrucciones:  15\n",
            "-----------------------------------\n",
            "Running with input23.txt\n",
            "Resultado:  342\n",
            "Instrucciones:  83\n",
            "-----------------------------------\n",
            "Running with input24.txt\n",
            "Resultado:  73865248\n",
            "Instrucciones:  33\n",
            "-----------------------------------\n",
            "Running with input25.txt\n",
            "Resultado:  85124012\n",
            "Instrucciones:  32\n",
            "-----------------------------------\n",
            "Running with input26.txt\n",
            "Resultado:  83702120\n",
            "Instrucciones:  41\n",
            "-----------------------------------\n",
            "Running with input27.txt\n",
            "Resultado:  71873620\n",
            "Instrucciones:  31\n",
            "-----------------------------------\n",
            "Running with input28.txt\n",
            "Resultado:  47986796\n",
            "Instrucciones:  32\n",
            "-----------------------------------\n",
            "Running with input29.txt\n",
            "Resultado:  77514816\n",
            "Instrucciones:  19\n",
            "-----------------------------------\n",
            "Running with input30.txt\n",
            "Resultado:  24495208\n",
            "Instrucciones:  21\n",
            "-----------------------------------\n",
            "Running with input31.txt\n",
            "Resultado:  90507350\n",
            "Instrucciones:  19\n",
            "-----------------------------------\n",
            "Running with input32.txt\n",
            "Resultado:  29092456\n",
            "Instrucciones:  14\n",
            "-----------------------------------\n",
            "Running with input33.txt\n",
            "Resultado:  84101406\n",
            "Instrucciones:  29\n",
            "-----------------------------------\n",
            "Running with input34.txt\n",
            "Resultado:  23929452\n",
            "Instrucciones:  13\n",
            "-----------------------------------\n",
            "Running with input35.txt\n",
            "Resultado:  84191540\n",
            "Instrucciones:  23\n",
            "-----------------------------------\n",
            "Running with input36.txt\n",
            "Resultado:  24053568\n",
            "Instrucciones:  23\n",
            "-----------------------------------\n",
            "Running with input37.txt\n",
            "Resultado:  34312152\n",
            "Instrucciones:  11\n",
            "-----------------------------------\n",
            "Running with input38.txt\n",
            "Resultado:  52605917\n",
            "Instrucciones:  24\n",
            "-----------------------------------\n",
            "Running with input39.txt\n",
            "Resultado:  71133480\n",
            "Instrucciones:  25\n",
            "-----------------------------------\n",
            "Running with input40.txt\n",
            "Resultado:  85706720\n",
            "Instrucciones:  33\n",
            "-----------------------------------\n",
            "Running with input41.txt\n",
            "Resultado:  18349100\n",
            "Instrucciones:  16\n",
            "-----------------------------------\n",
            "Running with input42.txt\n",
            "Resultado:  74330527\n",
            "Instrucciones:  27\n",
            "-----------------------------------\n",
            "Running with input43.txt\n",
            "Resultado:  19052924\n",
            "Instrucciones:  13\n",
            "-----------------------------------\n",
            "Running with input44.txt\n",
            "Resultado:  16069344\n",
            "Instrucciones:  11\n",
            "-----------------------------------\n",
            "Running with input45.txt\n",
            "Resultado:  63364389\n",
            "Instrucciones:  26\n",
            "-----------------------------------\n",
            "Running with input46.txt\n",
            "Resultado:  53965296\n",
            "Instrucciones:  23\n",
            "-----------------------------------\n",
            "Running with input47.txt\n",
            "Resultado:  46610064\n",
            "Instrucciones:  30\n",
            "-----------------------------------\n",
            "Running with input48.txt\n",
            "Resultado:  83691032\n",
            "Instrucciones:  36\n",
            "-----------------------------------\n",
            "Running with input49.txt\n",
            "Resultado:  73512748\n",
            "Instrucciones:  31\n",
            "-----------------------------------\n",
            "Running with input50.txt\n",
            "Resultado:  67640366\n",
            "Instrucciones:  18\n",
            "-----------------------------------\n",
            "Running with input51.txt\n",
            "Resultado:  56300125\n",
            "Instrucciones:  25\n",
            "-----------------------------------\n",
            "Running with input52.txt\n",
            "Resultado:  92919940\n",
            "Instrucciones:  29\n",
            "-----------------------------------\n",
            "Running with input53.txt\n",
            "Resultado:  55518372\n",
            "Instrucciones:  13\n",
            "-----------------------------------\n",
            "Running with input54.txt\n",
            "Resultado:  34450848\n",
            "Instrucciones:  25\n",
            "-----------------------------------\n",
            "Running with input55.txt\n",
            "Resultado:  85074076\n",
            "Instrucciones:  30\n",
            "-----------------------------------\n",
            "Running with input56.txt\n",
            "Resultado:  42200384\n",
            "Instrucciones:  11\n",
            "-----------------------------------\n",
            "Running with input57.txt\n",
            "Resultado:  85355521\n",
            "Instrucciones:  29\n",
            "-----------------------------------\n",
            "Running with input58.txt\n",
            "Resultado:  59799540\n",
            "Instrucciones:  31\n",
            "-----------------------------------\n",
            "Running with input59.txt\n",
            "Resultado:  44406087\n",
            "Instrucciones:  35\n",
            "-----------------------------------\n",
            "Running with input60.txt\n",
            "Resultado:  1062695\n",
            "Instrucciones:  17\n",
            "-----------------------------------\n",
            "Running with input61.txt\n",
            "Resultado:  12034590\n",
            "Instrucciones:  11\n",
            "-----------------------------------\n",
            "Running with input62.txt\n",
            "Resultado:  90589500\n",
            "Instrucciones:  28\n",
            "-----------------------------------\n",
            "Running with input63.txt\n",
            "Resultado:  19117140\n",
            "Instrucciones:  11\n",
            "-----------------------------------\n",
            "Running with input64.txt\n",
            "Resultado:  52789140\n",
            "Instrucciones:  16\n",
            "-----------------------------------\n",
            "Running with input65.txt\n",
            "Resultado:  20965641\n",
            "Instrucciones:  15\n",
            "-----------------------------------\n",
            "Running with input66.txt\n",
            "Resultado:  64568532\n",
            "Instrucciones:  30\n",
            "-----------------------------------\n",
            "Running with input67.txt\n",
            "Resultado:  36850464\n",
            "Instrucciones:  25\n",
            "-----------------------------------\n",
            "Running with input68.txt\n",
            "Resultado:  49387944\n",
            "Instrucciones:  38\n",
            "-----------------------------------\n",
            "Running with input69.txt\n",
            "Resultado:  89907522\n",
            "Instrucciones:  39\n",
            "-----------------------------------\n",
            "Running with input70.txt\n",
            "Resultado:  3849344\n",
            "Instrucciones:  13\n",
            "-----------------------------------\n",
            "Running with input71.txt\n",
            "Resultado:  80775126\n",
            "Instrucciones:  28\n",
            "-----------------------------------\n",
            "Running with input72.txt\n",
            "Resultado:  59593639\n",
            "Instrucciones:  14\n",
            "-----------------------------------\n",
            "Running with input73.txt\n",
            "Resultado:  43344066\n",
            "Instrucciones:  24\n",
            "-----------------------------------\n",
            "Running with input74.txt\n",
            "Resultado:  49231686\n",
            "Instrucciones:  24\n",
            "-----------------------------------\n",
            "Running with input75.txt\n",
            "Resultado:  73154169\n",
            "Instrucciones:  40\n",
            "-----------------------------------\n",
            "Running with input76.txt\n",
            "Resultado:  67046001\n",
            "Instrucciones:  15\n",
            "-----------------------------------\n",
            "Running with input77.txt\n",
            "Resultado:  77760375\n",
            "Instrucciones:  27\n",
            "-----------------------------------\n",
            "Running with input78.txt\n",
            "Resultado:  41055576\n",
            "Instrucciones:  32\n",
            "-----------------------------------\n",
            "Running with input79.txt\n",
            "Resultado:  35323740\n",
            "Instrucciones:  28\n",
            "-----------------------------------\n",
            "Running with input80.txt\n",
            "Resultado:  19517891\n",
            "Instrucciones:  13\n",
            "-----------------------------------\n",
            "Running with input81.txt\n",
            "Resultado:  88704410\n",
            "Instrucciones:  35\n",
            "-----------------------------------\n",
            "Running with input82.txt\n",
            "Resultado:  66045810\n",
            "Instrucciones:  18\n",
            "-----------------------------------\n",
            "Running with input83.txt\n",
            "Resultado:  48534750\n",
            "Instrucciones:  21\n",
            "-----------------------------------\n",
            "Running with input84.txt\n",
            "Resultado:  12518544\n",
            "Instrucciones:  11\n",
            "-----------------------------------\n",
            "Running with input85.txt\n",
            "Resultado:  80318676\n",
            "Instrucciones:  30\n",
            "-----------------------------------\n",
            "Running with input86.txt\n",
            "Resultado:  76719405\n",
            "Instrucciones:  14\n",
            "-----------------------------------\n",
            "Running with input87.txt\n",
            "Resultado:  53311900\n",
            "Instrucciones:  24\n",
            "-----------------------------------\n",
            "Running with input88.txt\n",
            "Resultado:  93528815\n",
            "Instrucciones:  29\n",
            "-----------------------------------\n",
            "Running with input89.txt\n",
            "Resultado:  58221828\n",
            "Instrucciones:  40\n",
            "-----------------------------------\n",
            "Running with input90.txt\n",
            "Resultado:  4342130\n",
            "Instrucciones:  11\n",
            "-----------------------------------\n",
            "Running with input91.txt\n",
            "Resultado:  70458582\n",
            "Instrucciones:  19\n",
            "-----------------------------------\n",
            "Running with input92.txt\n",
            "Resultado:  67146216\n",
            "Instrucciones:  35\n",
            "-----------------------------------\n",
            "Running with input93.txt\n",
            "Resultado:  62672489\n",
            "Instrucciones:  20\n",
            "-----------------------------------\n",
            "Running with input94.txt\n",
            "Resultado:  49081890\n",
            "Instrucciones:  23\n",
            "-----------------------------------\n",
            "Running with input95.txt\n",
            "Resultado:  10930626\n",
            "Instrucciones:  13\n",
            "-----------------------------------\n",
            "Running with input96.txt\n",
            "Resultado:  54765996\n",
            "Instrucciones:  17\n",
            "-----------------------------------\n",
            "Running with input97.txt\n",
            "Resultado:  14056658\n",
            "Instrucciones:  11\n",
            "-----------------------------------\n",
            "Running with input98.txt\n",
            "Resultado:  95579660\n",
            "Instrucciones:  37\n",
            "-----------------------------------\n",
            "Running with input99.txt\n",
            "Resultado:  29671164\n",
            "Instrucciones:  19\n",
            "-----------------------------------\n",
            "Running with input100.txt\n",
            "Resultado:  36258189\n",
            "Instrucciones:  24\n",
            "-----------------------------------\n",
            "Running with input101.txt\n",
            "Resultado:  80974790\n",
            "Instrucciones:  31\n",
            "-----------------------------------\n",
            "Running with input102.txt\n",
            "Resultado:  89128582\n",
            "Instrucciones:  32\n",
            "-----------------------------------\n",
            "Running with input103.txt\n",
            "Resultado:  57752838\n",
            "Instrucciones:  33\n",
            "-----------------------------------\n",
            "Running with input104.txt\n",
            "Resultado:  65809513\n",
            "Instrucciones:  40\n",
            "-----------------------------------\n",
            "Running with input105.txt\n",
            "Resultado:  65632970\n",
            "Instrucciones:  18\n",
            "-----------------------------------\n",
            "Running with input106.txt\n",
            "Resultado:  75969140\n",
            "Instrucciones:  32\n",
            "-----------------------------------\n",
            "Running with input107.txt\n",
            "Resultado:  62435043\n",
            "Instrucciones:  26\n",
            "-----------------------------------\n",
            "Running with input108.txt\n",
            "Resultado:  78858237\n",
            "Instrucciones:  36\n",
            "-----------------------------------\n",
            "Running with input109.txt\n",
            "Resultado:  78884925\n",
            "Instrucciones:  17\n",
            "-----------------------------------\n",
            "Running with input110.txt\n",
            "Resultado:  81928814\n",
            "Instrucciones:  27\n",
            "-----------------------------------\n",
            "Running with input111.txt\n",
            "Resultado:  91087360\n",
            "Instrucciones:  23\n",
            "-----------------------------------\n",
            "Running with input112.txt\n",
            "Resultado:  84426885\n",
            "Instrucciones:  29\n",
            "-----------------------------------\n",
            "Running with input113.txt\n",
            "Resultado:  96271119\n",
            "Instrucciones:  25\n",
            "-----------------------------------\n",
            "Running with input114.txt\n",
            "Resultado:  79526616\n",
            "Instrucciones:  29\n",
            "-----------------------------------\n",
            "Running with input115.txt\n",
            "Resultado:  35627850\n",
            "Instrucciones:  11\n",
            "-----------------------------------\n",
            "Running with input116.txt\n",
            "Resultado:  44305200\n",
            "Instrucciones:  24\n",
            "-----------------------------------\n",
            "Running with input117.txt\n",
            "Resultado:  63291327\n",
            "Instrucciones:  28\n",
            "-----------------------------------\n",
            "Running with input118.txt\n",
            "Resultado:  74403373\n",
            "Instrucciones:  18\n",
            "-----------------------------------\n",
            "Running with input119.txt\n",
            "Resultado:  52507440\n",
            "Instrucciones:  18\n",
            "-----------------------------------\n",
            "Running with input120.txt\n",
            "Resultado:  88749834\n",
            "Instrucciones:  34\n",
            "-----------------------------------\n",
            "Running with input121.txt\n",
            "Resultado:  26022600\n",
            "Instrucciones:  11\n",
            "-----------------------------------\n",
            "Running with input122.txt\n",
            "Resultado:  53784307\n",
            "Instrucciones:  19\n",
            "-----------------------------------\n",
            "Running with input123.txt\n",
            "Resultado:  19198718\n",
            "Instrucciones:  11\n",
            "-----------------------------------\n",
            "Running with input124.txt\n",
            "Resultado:  81721216\n",
            "Instrucciones:  25\n"
          ]
        }
      ]
    },
    {
      "cell_type": "markdown",
      "metadata": {
        "id": "R6qeUjPaPxcK"
      },
      "source": [
        "Calculate estimated time by instruction and number of instructions by second"
      ]
    },
    {
      "cell_type": "code",
      "execution_count": 23,
      "metadata": {
        "id": "iLdXYvn3PxcK",
        "colab": {
          "base_uri": "https://localhost:8080/"
        },
        "outputId": "a61798e4-a9fb-4026-e060-2a3ed75911fa"
      },
      "outputs": [
        {
          "output_type": "stream",
          "name": "stdout",
          "text": [
            "Resultado:  90\n",
            "Instrucciones:  43\n",
            "\n",
            "real\t0m0.066s\n",
            "user\t0m0.048s\n",
            "sys\t0m0.003s\n"
          ]
        }
      ],
      "source": [
        "!time python3 max_pairwise_sort_super_efficient_instructions.py < input1.txt"
      ]
    },
    {
      "cell_type": "code",
      "source": [
        "0.036/43"
      ],
      "metadata": {
        "colab": {
          "base_uri": "https://localhost:8080/"
        },
        "id": "FnSIlyUhy9pd",
        "outputId": "198118f1-c285-451b-cd36-43b6513e0597"
      },
      "execution_count": null,
      "outputs": [
        {
          "output_type": "execute_result",
          "data": {
            "text/plain": [
              "0.0008372093023255813"
            ]
          },
          "metadata": {},
          "execution_count": 47
        }
      ]
    }
  ],
  "metadata": {
    "colab": {
      "provenance": []
    },
    "kernelspec": {
      "display_name": "Python 3",
      "name": "python3"
    },
    "language_info": {
      "name": "python"
    }
  },
  "nbformat": 4,
  "nbformat_minor": 0
}

{
  "nbformat": 4,
  "nbformat_minor": 0,
  "metadata": {
    "colab": {
      "provenance": [],
      "include_colab_link": true
    },
    "kernelspec": {
      "name": "python3",
      "display_name": "Python 3"
    },
    "language_info": {
      "name": "python"
    }
  },
  "cells": [
    {
      "cell_type": "markdown",
      "metadata": {
        "id": "view-in-github",
        "colab_type": "text"
      },
      "source": [
        "<a href=\"https://colab.research.google.com/github/slendrac123/AlgorithmsUN2023II/blob/main/Lab%207.ipynb\" target=\"_parent\"><img src=\"https://colab.research.google.com/assets/colab-badge.svg\" alt=\"Open In Colab\"/></a>"
      ]
    },
    {
      "cell_type": "markdown",
      "source": [
        "\n",
        "**Stable Marriage Problem**\n"
      ],
      "metadata": {
        "id": "SpwllG8xWd49"
      }
    },
    {
      "cell_type": "code",
      "source": [
        "# Python3 program for the stable marriage problem\n",
        "\n",
        "# Number of Men or Women\n",
        "N = 4\n",
        "\n",
        "# This function returns true if\n",
        "# woman 'w' prefers man 'm1' over man 'm'\n",
        "def wPrefersM1OverM(prefer, w, m, m1):\n",
        "\n",
        "\t# Check if w prefers m over her\n",
        "\t# current engagement m1\n",
        "\tfor i in range(N):\n",
        "\n",
        "\t\t# If m1 comes before m in the list of w,\n",
        "\t\t# then w prefers her current engagement,\n",
        "\t\t# don't do anything\n",
        "\t\tif prefer[w][i] == m1:\n",
        "\t\t\treturn True\n",
        "\n",
        "\t\t# If m comes before m1 in w's list,\n",
        "\t\t# then free her current engagement\n",
        "\t\t# and engage her with m\n",
        "\t\tif prefer[w][i] == m:\n",
        "\t\t\treturn False\n",
        "\n",
        "# Prints stable matching for N boys and N girls.\n",
        "# Boys are numbered as 0 to N-1.\n",
        "# Girls are numbered as N to 2N-1.\n",
        "def stableMarriage(prefer):\n",
        "\n",
        "\t# Stores the partner of women. This is our output\n",
        "\t# array that stores passing information.\n",
        "\t# The value of wPartner[i] indicates the partner\n",
        "\t# assigned to woman N+i. Note that the woman numbers\n",
        "\t# between N and 2*N-1. The value -1 indicates\n",
        "\t# that the (N+i)'th woman is free\n",
        "\twPartner = [-1 for i in range(N)]\n",
        "\n",
        "\t# An array to store the availability of men.\n",
        "\t# If mFree[i] is false, then man 'i' is free,\n",
        "\t# otherwise, he is engaged.\n",
        "\tmFree = [False for i in range(N)]\n",
        "\n",
        "\tfreeCount = N\n",
        "\n",
        "\t# While there are free men\n",
        "\twhile freeCount > 0:\n",
        "\n",
        "\t\t# Pick the first free man (we could pick any)\n",
        "\t\tm = 0\n",
        "\t\twhile m < N:\n",
        "\t\t\tif not mFree[m]:\n",
        "\t\t\t\tbreak\n",
        "\t\t\tm += 1\n",
        "\n",
        "\t\t# One by one go to all women according to\n",
        "\t\t# m's preferences. Here m is the picked free man\n",
        "\t\ti = 0\n",
        "\t\twhile i < N and not mFree[m]:\n",
        "\t\t\tw = prefer[m][i]\n",
        "\n",
        "\t\t\t# The woman of preference is free,\n",
        "\t\t\t# w and m become partners (Note that\n",
        "\t\t\t# the partnership may be changed later).\n",
        "\t\t\t# So we can say they are engaged not married\n",
        "\t\t\tif wPartner[w - N] == -1:\n",
        "\t\t\t\twPartner[w - N] = m\n",
        "\t\t\t\tmFree[m] = True\n",
        "\t\t\t\tfreeCount -= 1\n",
        "\n",
        "\t\t\telse:\n",
        "\n",
        "\t\t\t\t# If w is not free\n",
        "\t\t\t\t# Find the current engagement of w\n",
        "\t\t\t\tm1 = wPartner[w - N]\n",
        "\n",
        "\t\t\t\t# If w prefers m over her current engagement m1,\n",
        "\t\t\t\t# then break the engagement between w and m1 and\n",
        "\t\t\t\t# engage m with w.\n",
        "\t\t\t\tif not wPrefersM1OverM(prefer, w, m, m1):\n",
        "\t\t\t\t\twPartner[w - N] = m\n",
        "\t\t\t\t\tmFree[m] = True\n",
        "\t\t\t\t\tmFree[m1] = False\n",
        "\t\t\ti += 1\n",
        "\n",
        "\t\t\t# End of Else\n",
        "\t\t# End of the for loop that goes\n",
        "\t\t# to all women in m's list\n",
        "\t# End of main while loop\n",
        "\n",
        "\t# Print solution\n",
        "\tprint(\"Woman \", \" Man\")\n",
        "\tfor i in range(N):\n",
        "\t\tprint(i + N, \"\\t\", wPartner[i])\n",
        "\n",
        "# Driver Code\n",
        "prefer = ((7, 5, 6, 4), (5, 4, 6, 7),\n",
        "          (4, 5, 6, 7), (4, 5, 6, 7),\n",
        "          (0, 3, 4,1), (2, 1, 6, 3),\n",
        "          (0, 1, 2, 3), (1, 2, 3, 5))\n",
        "\n",
        "stableMarriage(prefer)\n",
        "\n"
      ],
      "metadata": {
        "colab": {
          "base_uri": "https://localhost:8080/"
        },
        "id": "z5xPqVtMVpRB",
        "outputId": "989e86f5-1f91-4f98-8285-e16d50a1d9e7"
      },
      "execution_count": 1,
      "outputs": [
        {
          "output_type": "stream",
          "name": "stdout",
          "text": [
            "Woman   Man\n",
            "4 \t 3\n",
            "5 \t 2\n",
            "6 \t 1\n",
            "7 \t 0\n"
          ]
        }
      ]
    },
    {
      "cell_type": "code",
      "source": [
        "# Python3 program for the stable marriage problem\n",
        "import itertools\n",
        "import random\n",
        "# Number of Men or Women\n",
        "N = 4\n",
        "\n",
        "def wPrefersM1OverM(prefer, w, m, m1):\n",
        "    for i in range(N):\n",
        "        if prefer[w][i] == m1:\n",
        "            return True\n",
        "        if prefer[w][i] == m:\n",
        "            return False\n",
        "\n",
        "def stableMarriage(prefer):\n",
        "    wPartner = [-1 for i in range(N)]\n",
        "    mFree = [False for i in range(N)]\n",
        "    freeCount = N\n",
        "\n",
        "    while freeCount > 0:\n",
        "        m = 0\n",
        "        while m < N:\n",
        "            if not mFree[m]:\n",
        "                break\n",
        "            m += 1\n",
        "\n",
        "        i = 0\n",
        "        while i < N and not mFree[m]:\n",
        "            w = prefer[m][i]\n",
        "\n",
        "            if wPartner[w - N] == -1:\n",
        "                wPartner[w - N] = m\n",
        "                mFree[m] = True\n",
        "                freeCount -= 1\n",
        "            else:\n",
        "                m1 = wPartner[w - N]\n",
        "                if not wPrefersM1OverM(prefer, w, m, m1):\n",
        "                    wPartner[w - N] = m\n",
        "                    mFree[m] = True\n",
        "                    mFree[m1] = False\n",
        "            i += 1\n",
        "\n",
        "    return wPartner\n",
        "\n",
        "def checkStability(prefer, pairs):\n",
        "    wPartner = stableMarriage(prefer)\n",
        "\n",
        "    print(\"\\nPreferencias:\")\n",
        "    for i in range(N):\n",
        "        print(f\"Preferencias de la mujer {i + N}: {prefer[i + N]}\")\n",
        "\n",
        "    print(\"\\nParejas:\")\n",
        "    for pair in pairs:\n",
        "        w, m = pair\n",
        "        current_partner = wPartner[w - N]\n",
        "        if not wPrefersM1OverM(prefer, w, m, current_partner):\n",
        "            print(f\"{pair} => Inestable\")\n",
        "        else:\n",
        "            print(f\"{pair} => Estable\")\n",
        "\n",
        "\n",
        "\n",
        "n = len(prefer[0])\n",
        "all_combinations = list(itertools.product(range(n, 2 * n), range(n)))\n",
        "\n",
        "print(\"Combinaciones:\")\n",
        "checkStability(prefer, all_combinations)\n"
      ],
      "metadata": {
        "id": "yl7RiwYbgmYC",
        "outputId": "97092ad6-93ac-44fc-b5d2-849f9d9b62bb",
        "colab": {
          "base_uri": "https://localhost:8080/"
        }
      },
      "execution_count": 12,
      "outputs": [
        {
          "output_type": "stream",
          "name": "stdout",
          "text": [
            "Combinaciones:\n",
            "\n",
            "Preferencias:\n",
            "Preferencias de la mujer 4: (0, 3, 4, 1)\n",
            "Preferencias de la mujer 5: (2, 1, 6, 3)\n",
            "Preferencias de la mujer 6: (0, 1, 2, 3)\n",
            "Preferencias de la mujer 7: (1, 2, 3, 5)\n",
            "\n",
            "Parejas:\n",
            "(4, 0) => Inestable\n",
            "(4, 1) => Estable\n",
            "(4, 2) => Estable\n",
            "(4, 3) => Estable\n",
            "(5, 0) => Estable\n",
            "(5, 1) => Estable\n",
            "(5, 2) => Estable\n",
            "(5, 3) => Estable\n",
            "(6, 0) => Inestable\n",
            "(6, 1) => Estable\n",
            "(6, 2) => Estable\n",
            "(6, 3) => Estable\n",
            "(7, 0) => Inestable\n",
            "(7, 1) => Inestable\n",
            "(7, 2) => Inestable\n",
            "(7, 3) => Inestable\n"
          ]
        }
      ]
    },
    {
      "cell_type": "markdown",
      "source": [
        "The Gale-Shapley algorithm in Python\n",
        "\n",
        "David Gale and Lloyd Shapley proved that in cases with when two sets are equal there always a way to create stable pairs. I recommend reading the original paper[2] to be familiar with the elegant prove they provided.\n",
        "\n",
        "There are different implementations of the Gale-Shapley algorithm in Python [3, 4, 5], let’s create this algorithm closer to pseudocode solution without going into complicated OOP.\n",
        "\n",
        "In a pseudocode solution looks like this [6]:\n",
        "\n",
        "function stableMatching {\n",
        "  \n",
        "    Initialize all m ∈ M and w ∈ W to free\n",
        "    while ∃ free man m who still has a woman w to propose to {\n",
        "       w = first woman on m’s list to whom m has not yet proposed\n",
        "       if w is free\n",
        "         (m, w) become engaged\n",
        "       else some pair (m', w) already exists\n",
        "         if w prefers m to m'\n",
        "            m' becomes free\n",
        "           (m, w) become engaged\n",
        "         else\n",
        "           (m', w) remain engaged\n",
        "    }\n",
        "}"
      ],
      "metadata": {
        "id": "S0zFJ0VBYe8E"
      }
    },
    {
      "cell_type": "code",
      "source": [
        "%pylab inline\n",
        "import pandas as pd\n",
        "import numpy as np\n",
        "from collections import Counter\n",
        "from copy import copy"
      ],
      "metadata": {
        "colab": {
          "base_uri": "https://localhost:8080/"
        },
        "id": "kkb2J95eWpan",
        "outputId": "a7fc644e-8dbf-4e9d-ecdc-0064e947f59d"
      },
      "execution_count": 13,
      "outputs": [
        {
          "output_type": "stream",
          "name": "stdout",
          "text": [
            "Populating the interactive namespace from numpy and matplotlib\n"
          ]
        },
        {
          "output_type": "stream",
          "name": "stderr",
          "text": [
            "/usr/local/lib/python3.10/dist-packages/IPython/core/magics/pylab.py:159: UserWarning: pylab import has clobbered these variables: ['random', 'copy', 'f']\n",
            "`%matplotlib` prevents importing * from pylab and numpy\n",
            "  warn(\"pylab import has clobbered these variables: %s\"  % clobbered +\n"
          ]
        }
      ]
    },
    {
      "cell_type": "markdown",
      "source": [
        "Define men and women data frames"
      ],
      "metadata": {
        "id": "6ITMcvkoY-aQ"
      }
    },
    {
      "cell_type": "code",
      "source": [
        "man_list = ['a', 'b', 'c', 'd']\n",
        "women_list = ['A', 'B', 'C', 'D']\n",
        "women_df = pd.DataFrame({'A': [3,4,2,1], 'B': [3,1,4,2], 'C':[2,3,4,1], 'D':[3,2,1,4]})\n",
        "women_df.index = man_list\n",
        "man_df = pd.DataFrame({'A': [1,1,2,4], 'B': [2,4,1,2], 'C':[3,3,3,3], 'D':[4,2,4,1]})\n",
        "man_df.index = man_list"
      ],
      "metadata": {
        "id": "Edxi80vxZBAL"
      },
      "execution_count": 14,
      "outputs": []
    },
    {
      "cell_type": "markdown",
      "source": [
        "Gale-Shapley algorithm"
      ],
      "metadata": {
        "id": "iUN2_zVxZw0L"
      }
    },
    {
      "cell_type": "code",
      "source": [
        "# dict to control which women each man can make proposals\n",
        "women_available = {man:women_list for man in man_list}\n",
        "# waiting list of men that were able to create pair on each iteration\n",
        "waiting_list = []\n",
        "# dict to store created pairs\n",
        "proposals = {}\n",
        "# variable to count number of iterations\n",
        "count = 0"
      ],
      "metadata": {
        "id": "ooZ1OarfZ0b0"
      },
      "execution_count": 15,
      "outputs": []
    },
    {
      "cell_type": "code",
      "source": [
        "# while not all men have pairs\n",
        "while len(waiting_list)<len(man_list):\n",
        "    # man makes proposals\n",
        "    for man in man_list:\n",
        "        if man not in waiting_list:\n",
        "            # each man make proposal to the top women from it's list\n",
        "            women = women_available[man]\n",
        "            best_choice = man_df.loc[man][man_df.loc[man].index.isin(women)].idxmin()\n",
        "            proposals[(man, best_choice)]=(man_df.loc[man][best_choice],\n",
        "                                                 women_df.loc[man][best_choice])\n",
        "    # if women have more than one proposals\n",
        "    # she will choose the best option\n",
        "    overlays = Counter([key[1] for key in proposals.keys()])\n",
        "    # cycle to choose the best options\n",
        "    for women in overlays.keys():\n",
        "        if overlays[women]>1:\n",
        "            # pairs to drop from proposals\n",
        "            pairs_to_drop = sorted({pair: proposals[pair] for pair in proposals.keys()\n",
        "                    if women in pair}.items(),\n",
        "                   key=lambda x: x[1][1]\n",
        "                  )[1:]\n",
        "            # if man was rejected by woman\n",
        "            # there is no pint for him to make proposal\n",
        "            # second time to the same woman\n",
        "            for p_to_drop in pairs_to_drop:\n",
        "                del proposals[p_to_drop[0]]\n",
        "                _women = copy(women_available[p_to_drop[0][0]])\n",
        "                _women.remove(p_to_drop[0][1])\n",
        "                women_available[p_to_drop[0][0]] = _women\n",
        "    # man who successfully created pairs must be added to the waiting list\n",
        "    waiting_list = [man[0] for man in proposals.keys()]\n",
        "    # update counter\n",
        "    count+=1\n"
      ],
      "metadata": {
        "id": "BezCHq74Z3Yo"
      },
      "execution_count": 16,
      "outputs": []
    },
    {
      "cell_type": "markdown",
      "source": [
        "Stable pairs"
      ],
      "metadata": {
        "id": "SnyxkLdnaAMc"
      }
    },
    {
      "cell_type": "code",
      "source": [
        "proposals"
      ],
      "metadata": {
        "colab": {
          "base_uri": "https://localhost:8080/"
        },
        "id": "OOTTHCEpZ8VX",
        "outputId": "42d62022-43fd-498c-e80b-41199c3cd9e9"
      },
      "execution_count": 17,
      "outputs": [
        {
          "output_type": "execute_result",
          "data": {
            "text/plain": [
              "{('b', 'D'): (2, 2),\n",
              " ('d', 'B'): (2, 2),\n",
              " ('c', 'A'): (2, 2),\n",
              " ('a', 'C'): (3, 2)}"
            ]
          },
          "metadata": {},
          "execution_count": 17
        }
      ]
    },
    {
      "cell_type": "code",
      "source": [
        "count"
      ],
      "metadata": {
        "colab": {
          "base_uri": "https://localhost:8080/"
        },
        "id": "gDopSFSdaLMa",
        "outputId": "365a9565-499d-42f2-b5c8-eca3b87751bc"
      },
      "execution_count": 18,
      "outputs": [
        {
          "output_type": "execute_result",
          "data": {
            "text/plain": [
              "6"
            ]
          },
          "metadata": {},
          "execution_count": 18
        }
      ]
    },
    {
      "cell_type": "code",
      "source": [
        "!pip install devtools\n",
        "!pip install animation\n",
        "import random\n"
      ],
      "metadata": {
        "id": "cZByn_-D5SWf",
        "outputId": "b9cc3fad-ea91-4d1c-9d82-84639b9d4e4d",
        "colab": {
          "base_uri": "https://localhost:8080/"
        }
      },
      "execution_count": 20,
      "outputs": [
        {
          "output_type": "stream",
          "name": "stdout",
          "text": [
            "Requirement already satisfied: devtools in /usr/local/lib/python3.10/dist-packages (0.12.2)\n",
            "Requirement already satisfied: asttokens<3.0.0,>=2.0.0 in /usr/local/lib/python3.10/dist-packages (from devtools) (2.4.1)\n",
            "Requirement already satisfied: executing>=1.1.1 in /usr/local/lib/python3.10/dist-packages (from devtools) (2.0.1)\n",
            "Requirement already satisfied: pygments>=2.15.0 in /usr/local/lib/python3.10/dist-packages (from devtools) (2.16.1)\n",
            "Requirement already satisfied: six>=1.12.0 in /usr/local/lib/python3.10/dist-packages (from asttokens<3.0.0,>=2.0.0->devtools) (1.16.0)\n",
            "Requirement already satisfied: animation in /usr/local/lib/python3.10/dist-packages (0.0.7)\n",
            "Requirement already satisfied: pychalk in /usr/local/lib/python3.10/dist-packages (from animation) (2.0.1)\n",
            "Requirement already satisfied: six>=1.11.0 in /usr/local/lib/python3.10/dist-packages (from pychalk->animation) (1.16.0)\n"
          ]
        }
      ]
    },
    {
      "cell_type": "code",
      "source": [
        "code = \"\"\"\n",
        "# deferred acceptance algorithm after Gale and Shapley\n",
        "# ... (rest of your code)\n",
        "# deferred acceptance algorithm after Gale and Shapley\n",
        "\n",
        "# Deferred Acceptance Algorithm with male offer\n",
        "# accepts your preferences or chooses randomly\n",
        "\n",
        "daa <- function(nMen,nWomen,m.prefs=NULL,w.prefs=NULL){\n",
        "\trequire(animation)\t# load animation package\n",
        "\n",
        "\tif (is.null(m.prefs)){\t# if no prefs given, make them randomly\n",
        "\t\tm.prefs <- replicate(n=nMen,sample(seq(from=1,to=nWomen,by=1)))\n",
        "\t\tw.prefs <- replicate(n=nWomen,sample(seq(from=1,to=nMen,by=1)))\n",
        "\t}\n",
        "\tm.hist    <- rep(0,length=nMen)\t# number of proposals made\n",
        "\tw.hist    <- rep(0,length=nWomen)\t# current mate\n",
        "\tm.singles <- 1:nMen\n",
        "\tw.singles <- 1:nWomen\n",
        "\tm.mat <- matrix(data=1:nMen,nrow=nMen,ncol=nWomen,byrow=F)\n",
        "\tsaveGIF({\t# this line and next are for recording the movie\n",
        "\t\tani.options(interval=0.5,nmax=nWomen,ani.width=1000,ani.height=1000,dev=png,type=\"png\",\"convert\",outdir=getwd())\n",
        "\t\tfor (iter in 1:nWomen){\t\t# there are as many rounds as maximal preference orders\n",
        "\t\t\t# look at market: all single men\n",
        "\t\t\t# if history not full (been rejected by all women in his prefs)\n",
        "\t\t\t# look at single male's history\n",
        "\t\t\t# propose to next woman on list\n",
        "\t\t\toffers <- NULL\n",
        "\t\t\tfor (i in 1:length(m.singles)){\n",
        "\t\t\t\tm.hist[m.singles[i]] <- m.hist[m.singles[i]]+1\t# make next proposal according to single i's count\n",
        "\t\t\t\toffers[i] <- m.prefs[m.hist[m.singles[i]],m.singles[i]]\t\t# offer if single i is the index of the woman corresponding to current round\n",
        "\t\t\t}\n",
        "\t\t\tapproached   <- unique(offers)\t# index of women who received offers\n",
        "\t\t\ttemp.singles <- m.singles\n",
        "\t\t\tm.singles    <- NULL\t# reset singles\n",
        "\t\t\tfor (j in approached){\n",
        "\t\t\t\tproposers   <- temp.singles[offers==j]\n",
        "\t\t\t\tstay.single <- temp.singles[offers==0]\t\t# guys who prefer staying single at current history\n",
        "\t\t\t\tfor (k in 1:length(proposers)){\n",
        "\t\t\t\t\tif (w.hist[j]==0&any(w.prefs[ ,j]==proposers[k])){\t# if no history and proposer\n",
        "\t\t\t\t\t\tw.hist[j] <- proposers[k]\t\t\t\t\t\t# is somewhere on preference list, accept\n",
        "\n",
        "\t\t\t\t\t} else if (match(w.prefs[w.prefs[ ,j]==proposers[k],j],w.prefs[ ,j])<match(w.prefs[w.prefs[ ,j]==w.hist[j],j],w.prefs[ ,j])){\n",
        "\t\t\t\t\t\t\t\tm.singles <- c(m.singles,w.hist[j])\t\t# if proposer better, fire current guy\n",
        "\t\t\t\t\t\t\t\tw.hist[j] <- proposers[k]\t# and take proposer on\n",
        "\t\t\t\t\t\t\t} else {\n",
        "\t\t\t\t\t\t\t\tm.singles <- c(m.singles,proposers[k])\t# otherwise k stays single\n",
        "\t\t\t\t\t\t\t}\n",
        "\t\t\t\t}\n",
        "\t\t\t}\n",
        "\t\t\tm.singles <- sort(c(m.singles,stay.single))\n",
        "\t\t\tif (length(m.singles)==0){\t# if no singles left: stop\n",
        "\t\t\t\treturn(list(m.prefs=m.prefs,w.prefs=w.prefs,iterations=iter,matches=w.hist,singles=m.singles))\n",
        "\t\t\t\tbreak\n",
        "\t\t\t}\n",
        "\t\tcurrent.match   <- (matrix(rep(w.hist,each=nMen),nrow=nMen,ncol=nWomen)==m.mat)\n",
        "\t\tcurrent.singles <- matrix(m.mat %in% m.singles,nrow=nMen)*2\n",
        "\t\timage(y=1:nWomen,x=1:nMen,z=current.match+current.singles,ylab=\"women\",xlab=\"men\",col=c(\"white\",\"black\",\"red\"),\n",
        "\t\t\t  sub=paste(\"Iterations to go: \",nWomen-iter,\". currently \",length(m.singles),\" males single\", sep=\"\"))\n",
        "\t\ttitle(\"Current matches (black) and male singles (red)\",line=3)\n",
        "\t\ttitle(paste(nMen,\" men and \",nWomen,\" women\",sep=\"\"),line=2)\n",
        "\t\tgrid(nx=nMen,ny=nWomen,col=\"black\",lty=1)\n",
        "\t\t}\n",
        "\t},movie.name=\"dda_plot.gif\")\t# end movie recorder\n",
        "\treturn(list(m.prefs=m.prefs,w.prefs=w.prefs,iterations=iter,matches=w.hist,match.mat=current.match,singles=m.singles))\n",
        "}\n",
        "\"\"\"\n",
        "\n",
        "with open(\"dda2.r\", \"w\") as f:\n",
        "    f.write(code)\n"
      ],
      "metadata": {
        "id": "b5M19Ifk5wWC"
      },
      "execution_count": 21,
      "outputs": []
    },
    {
      "cell_type": "markdown",
      "source": [
        "Run the Gale-Shapley Algorithm 100 times using random permutations as preference lists for n=4 and 40. Find the minimum, maximum and average number of iterations and plot the distribution of the number of iterations."
      ],
      "metadata": {
        "id": "WMOUFmqfO6nj"
      }
    },
    {
      "cell_type": "code",
      "source": [
        "import random\n",
        "\n",
        "def generatePreferencesMen(n):\n",
        "    menPreferences = []\n",
        "\n",
        "    for i in range(n):\n",
        "        preferencia = list(range(n))\n",
        "        random.shuffle(preferencia)\n",
        "        menPreferences.append(preferencia)\n",
        "\n",
        "    return menPreferences"
      ],
      "metadata": {
        "id": "BSxVJpXIQcH3"
      },
      "execution_count": 25,
      "outputs": []
    },
    {
      "cell_type": "code",
      "source": [
        "def generatePreferencesWomen(n):\n",
        "    womenPreferences = []\n",
        "\n",
        "    for i in range(n):\n",
        "        preferencia = list(range(n))\n",
        "        random.shuffle(preferencia)\n",
        "        womenPreferences.append(preferencia)\n",
        "\n",
        "    return womenPreferences"
      ],
      "metadata": {
        "id": "T0DK3_hyacKg"
      },
      "execution_count": 26,
      "outputs": []
    },
    {
      "cell_type": "code",
      "source": [
        "def galeShapley(menPreferences, womenPreferences):\n",
        "    iterations = []\n",
        "    n = len(menPreferences)\n",
        "    comprometidos = [-1] * n  # Inicialmente, nadie está comprometido\n",
        "    propuestasH = [0] * n  # El numero de propuestas por hombre\n",
        "\n",
        "    while propuestasH.count(n) != n:  # Mientras haya hombres sin compromiso\n",
        "        for man in range(n):\n",
        "            if propuestasH[man] == n:\n",
        "                continue  # El hombre ya ha propuesto a todas las mujeres\n",
        "            woman = menPreferences[man][propuestasH[man]]\n",
        "            propuestasH[man] += 1\n",
        "\n",
        "            if comprometidos[woman] == -1:  # La mujer está libre\n",
        "                comprometidos[woman] = man\n",
        "            else:\n",
        "                currentMan = comprometidos[woman]\n",
        "                if womenPreferences[woman].index(man) < womenPreferences[woman].index(currentMan):\n",
        "                    comprometidos[woman] = man\n",
        "                    propuestasH[currentMan] = n  # El hombre pierde su compromiso\n",
        "\n",
        "        iterations.append(propuestasH.count(n))\n",
        "\n",
        "    return iterations"
      ],
      "metadata": {
        "id": "7jhF9cqdRxf_"
      },
      "execution_count": 27,
      "outputs": []
    },
    {
      "cell_type": "code",
      "source": [
        "galeShapley(generatePreferencesMen(4),generatePreferencesWomen(4))"
      ],
      "metadata": {
        "colab": {
          "base_uri": "https://localhost:8080/"
        },
        "id": "-DyBYhtNaAuV",
        "outputId": "b563a6bb-485a-45cb-d5c2-31d2e2ac3c54"
      },
      "execution_count": 28,
      "outputs": [
        {
          "output_type": "execute_result",
          "data": {
            "text/plain": [
              "[0, 1, 1, 4]"
            ]
          },
          "metadata": {},
          "execution_count": 28
        }
      ]
    },
    {
      "cell_type": "code",
      "source": [
        "def centimes(n, nTimes):\n",
        "    minIter = float('inf')\n",
        "    maxIter = 0\n",
        "    totalIter = 0\n",
        "    listIter = []\n",
        "\n",
        "    for i in range(nTimes):\n",
        "        menPreferences = [np.random.permutation(n).tolist() for i in range(n)]\n",
        "        womenPreferences = [np.random.permutation(n).tolist() for i in range(n)]\n",
        "        iterations = galeShapley(menPreferences, womenPreferences)\n",
        "        listIter.extend(iterations)\n",
        "\n",
        "        minIter = min(minIter, min(iterations))\n",
        "        maxIter = max(maxIter, max(iterations))\n",
        "        totalIter += sum(iterations)\n",
        "\n",
        "\n",
        "\n",
        "    aveIter = totalIter / (n * nTimes)\n",
        "\n",
        "    return listIter, totalIter, minIter, maxIter, aveIter"
      ],
      "metadata": {
        "id": "kb-vQUwsd3Xq"
      },
      "execution_count": 29,
      "outputs": []
    },
    {
      "cell_type": "code",
      "source": [
        "print(\"Para n = 4\")\n",
        "listIter, totalIter, minIter, maxIter, aveIter = centimes(4, 100)\n",
        "\n",
        "print(f\"Total iterations: {totalIter}\")\n",
        "print(f\"Minimum iterations: {minIter}\")\n",
        "print(f\"Maximum iterations: {maxIter}\")\n",
        "print(f\"Average iterations: {aveIter}\")\n",
        "\n",
        "import matplotlib.pyplot as plt\n",
        "\n",
        "plt.hist(listIter, color='red')\n",
        "plt.title('Distribución de Iteraciones para n = 4')\n",
        "plt.ylabel('Frecuencia')\n",
        "plt.xlabel('Iteraciones')\n",
        "\n",
        "plt.show()"
      ],
      "metadata": {
        "colab": {
          "base_uri": "https://localhost:8080/",
          "height": 563
        },
        "id": "mumii1oweImb",
        "outputId": "2f35c8cc-a26c-4570-f84a-dd06344b6644"
      },
      "execution_count": 30,
      "outputs": [
        {
          "output_type": "stream",
          "name": "stdout",
          "text": [
            "Para n = 4\n",
            "Total iterations: 822\n",
            "Minimum iterations: 0\n",
            "Maximum iterations: 4\n",
            "Average iterations: 2.055\n"
          ]
        },
        {
          "output_type": "display_data",
          "data": {
            "text/plain": [
              "<Figure size 640x480 with 1 Axes>"
            ],
            "image/png": "[encoded data removed]"
          },
          "metadata": {}
        }
      ]
    },
    {
      "cell_type": "code",
      "source": [
        "print(\"Para n = 40\")\n",
        "listIter, totalIter, minIter, maxIter, aveIter = centimes(40, 100)\n",
        "\n",
        "print(f\"Total iterations: {totalIter}\")\n",
        "print(f\"Minimum iterations: {minIter}\")\n",
        "print(f\"Maximum iterations: {maxIter}\")\n",
        "print(f\"Average iterations: {aveIter}\")\n",
        "\n",
        "plt.hist(listIter, color='Green')\n",
        "plt.title('Distribución de Iteraciones para n = 40')\n",
        "plt.ylabel('Frecuencia')\n",
        "plt.xlabel('Iteraciones')\n",
        "plt.show()"
      ],
      "metadata": {
        "colab": {
          "base_uri": "https://localhost:8080/",
          "height": 563
        },
        "id": "wQMbWIFCgIHJ",
        "outputId": "025c33db-ae2d-4dc4-f400-60e3b5831ca7"
      },
      "execution_count": 31,
      "outputs": [
        {
          "output_type": "stream",
          "name": "stdout",
          "text": [
            "Para n = 40\n",
            "Total iterations: 137336\n",
            "Minimum iterations: 1\n",
            "Maximum iterations: 40\n",
            "Average iterations: 34.334\n"
          ]
        },
        {
          "output_type": "display_data",
          "data": {
            "text/plain": [
              "<Figure size 640x480 with 1 Axes>"
            ],
            "image/png": "[encoded data removed]"
          },
          "metadata": {}
        }
      ]
    },
    {
      "cell_type": "markdown",
      "source": [
        "Simulate the the Gale-Shapley and Irving algorithms using random preference lists , for n=4 and 40 and generate a gift animation fo the type show in “Illustrating the Deferred Acceptance Algorithm with R – Code r-bloggers"
      ],
      "metadata": {
        "id": "w3ZTMc3OPLRE"
      }
    },
    {
      "cell_type": "code",
      "source": [
        "from PIL import Image, ImageDraw\n",
        "\n",
        "def animation(preferences):\n",
        "    n = len(preferences)\n",
        "    men = list(range(n))\n",
        "    women = list(range(n))\n",
        "    snapshots = []  # Here we store frame shots for the GIF\n",
        "    compromisos = {}\n",
        "\n",
        "    while len(compromisos) < n:\n",
        "        snapshot = draw_snapshot(compromisos, men, women, n)\n",
        "        snapshots.append(snapshot)\n",
        "\n",
        "        if not men: #must finish the process if men are all engaged\n",
        "            break\n",
        "\n",
        "        man = men.pop(0)\n",
        "        if not preferences[man]:\n",
        "            continue  # Skip if the preference list is empty\n",
        "        woman = preferences[man].pop(0)\n",
        "        compromisoActual = compromisos.get(woman)\n",
        "        if compromisoActual is None:\n",
        "            compromisos[woman] = man\n",
        "        else:\n",
        "            woman_preferences = preferences[woman]\n",
        "            if man in woman_preferences and compromisoActual in woman_preferences:\n",
        "                if woman_preferences.index(man) < woman_preferences.index(compromisoActual):\n",
        "                    compromisos[woman] = man\n",
        "                    men.append(compromisoActual)\n",
        "\n",
        "    for woman in women:\n",
        "        if woman not in compromisos:\n",
        "            compromisos[woman] = None\n",
        "\n",
        "    return snapshots\n",
        "\n",
        "def generate_random_preferences(n):\n",
        "    preferences = {}\n",
        "    for i in range(n):\n",
        "        preferences[i] = list(range(n))\n",
        "        random.shuffle(preferences[i])\n",
        "    return preferences\n",
        "\n",
        "\n",
        "def draw_snapshot(compromisos, men, women, n):\n",
        "    img = Image.new(\"RGB\", (500, 500), (255, 255, 255))\n",
        "    draw = ImageDraw.Draw(img)\n",
        "    cell_size = 60\n",
        "\n",
        "    for i in range(n):\n",
        "        draw.rectangle([(i * cell_size, 0), ((i + 1) * cell_size, cell_size)], outline=\"black\")\n",
        "        draw.rectangle([(i * cell_size, cell_size), ((i + 1) * cell_size, cell_size * 2)], outline=\"black\")\n",
        "        man = compromisos.get(i)\n",
        "        if man is not None:\n",
        "            if man is not None:\n",
        "                draw.text(((i * cell_size) + 10, 10), f\"Hombre {man}\", fill=\"red\")\n",
        "        draw.text(((i * cell_size) + 10, cell_size + 10), f\"Mujer {i}\", fill=\"red\")\n",
        "\n",
        "    return img\n",
        "\n",
        "n = 4    # Here we change n for the number of men and women\n",
        "preferences = generate_random_preferences(n)\n",
        "snapshots = animation(preferences)\n",
        "\n",
        "snapshots[0].save(\n",
        "    \"animation4.gif\",\n",
        "    save_all=True,\n",
        "    append_images=snapshots[1:],\n",
        "    loop=0,\n",
        "    duration=600,\n",
        ")"
      ],
      "metadata": {
        "id": "Gd95P-CQvSML"
      },
      "execution_count": 121,
      "outputs": []
    },
    {
      "cell_type": "code",
      "source": [
        "from IPython.display import Image\n",
        "from IPython.display import display\n",
        "\n",
        "print(\" Gale-Shapley con n=4\")\n",
        "display(Image(filename='animation4.gif'))"
      ],
      "metadata": {
        "colab": {
          "base_uri": "https://localhost:8080/",
          "height": 535
        },
        "outputId": "41ca9e74-c6bf-4540-fb49-2c1fbcd23b39",
        "id": "xLRZukkWvSMN"
      },
      "execution_count": 122,
      "outputs": [
        {
          "output_type": "stream",
          "name": "stdout",
          "text": [
            " Gale-Shapley con n=4\n"
          ]
        },
        {
          "output_type": "display_data",
          "data": {
            "image/gif": "[encoded data removed]",
            "text/plain": [
              "<IPython.core.display.Image object>"
            ]
          },
          "metadata": {}
        }
      ]
    },
    {
      "cell_type": "code",
      "source": [
        "from PIL import Image, ImageDraw\n",
        "\n",
        "def animation(preferences):\n",
        "    n = len(preferences)\n",
        "    men = list(range(n))\n",
        "    women = list(range(n))\n",
        "    snapshots = []  # Here we store frame shots for the GIF\n",
        "    compromisos = {}\n",
        "\n",
        "    while len(compromisos) < n:\n",
        "        snapshot = draw_snapshot(compromisos, men, women, n)\n",
        "        snapshots.append(snapshot)\n",
        "\n",
        "        if not men: #must finish the process if men are all engaged\n",
        "            break\n",
        "\n",
        "        man = men.pop(0)\n",
        "        if not preferences[man]:\n",
        "            continue  # Skip if the preference list is empty\n",
        "        woman = preferences[man].pop(0)\n",
        "        compromisoActual = compromisos.get(woman)\n",
        "        if compromisoActual is None:\n",
        "            compromisos[woman] = man\n",
        "        else:\n",
        "            woman_preferences = preferences[woman]\n",
        "            if man in woman_preferences and compromisoActual in woman_preferences:\n",
        "                if woman_preferences.index(man) < woman_preferences.index(compromisoActual):\n",
        "                    compromisos[woman] = man\n",
        "                    men.append(compromisoActual)\n",
        "\n",
        "    for woman in women:\n",
        "        if woman not in compromisos:\n",
        "            compromisos[woman] = None\n",
        "\n",
        "    return snapshots\n",
        "\n",
        "def generate_random_preferences(n):\n",
        "    preferences = {}\n",
        "    for i in range(n):\n",
        "        preferences[i] = list(range(n))\n",
        "        random.shuffle(preferences[i])\n",
        "    return preferences\n",
        "\n",
        "\n",
        "def draw_snapshot(compromisos, men, women, n):\n",
        "    img = Image.new(\"RGB\", (2450, 500), (255, 255, 255))\n",
        "    draw = ImageDraw.Draw(img)\n",
        "    cell_size = 60\n",
        "\n",
        "    for i in range(n):\n",
        "        draw.rectangle([(i * cell_size, 0), ((i + 1) * cell_size, cell_size)], outline=\"black\")\n",
        "        draw.rectangle([(i * cell_size, cell_size), ((i + 1) * cell_size, cell_size * 2)], outline=\"black\")\n",
        "        man = compromisos.get(i)\n",
        "        if man is not None:\n",
        "            if man is not None:\n",
        "                draw.text(((i * cell_size) + 10, 10), f\"Hombre {man}\", fill=\"red\")\n",
        "        draw.text(((i * cell_size) + 10, cell_size + 10), f\"Mujer {i}\", fill=\"red\")\n",
        "\n",
        "    return img\n",
        "\n",
        "n = 40    # Here we change n for the number of men and women\n",
        "preferences = generate_random_preferences(n)\n",
        "snapshots = animation(preferences)\n",
        "\n",
        "snapshots[0].save(\n",
        "    \"animation40.gif\",\n",
        "    save_all=True,\n",
        "    append_images=snapshots[1:],\n",
        "    loop=1,\n",
        "    duration=150,\n",
        ")"
      ],
      "metadata": {
        "id": "dsBrdh3wmdth"
      },
      "execution_count": 135,
      "outputs": []
    },
    {
      "cell_type": "code",
      "source": [
        "from IPython.display import Image\n",
        "from IPython.display import display\n",
        "\n",
        "print(\" Gale-Shapley con n=40\")\n",
        "display(Image(filename='animation40.gif'))"
      ],
      "metadata": {
        "colab": {
          "base_uri": "https://localhost:8080/",
          "height": 367
        },
        "id": "37tnoiSNscPF",
        "outputId": "5f8ea630-0cc4-4abb-cda4-3cf9ac9b8487"
      },
      "execution_count": 136,
      "outputs": [
        {
          "output_type": "stream",
          "name": "stdout",
          "text": [
            " Gale-Shapley con n=40\n"
          ]
        },
        {
          "output_type": "display_data",
          "data": {
            "image/gif": "[encoded data removed]",
            "text/plain": [
              "<IPython.core.display.Image object>"
            ]
          },
          "metadata": {}
        }
      ]
    },
    {
      "cell_type": "code",
      "source": [
        "from PIL import Image, ImageDraw\n",
        "import random\n",
        "\n",
        "def irvingAnimation(preferences):\n",
        "    n = len(preferences)\n",
        "    men = list(range(n))\n",
        "    women = list(range(n))\n",
        "    compromisos = {}\n",
        "    propuestas = {man: {} for man in men}\n",
        "    snapshots = []\n",
        "\n",
        "    while len(compromisos) < n:\n",
        "        snapshot = draw_snapshot(compromisos, men, women, n)\n",
        "        snapshots.append(snapshot)\n",
        "\n",
        "        if not men:\n",
        "            break\n",
        "\n",
        "        man = men.pop(0)\n",
        "        while True:\n",
        "            woman = preferences[man].pop(0)\n",
        "            if woman not in propuestas[man]:\n",
        "                propuestas[man][woman] = True\n",
        "                current_engagement = compromisos.get(woman)\n",
        "                if current_engagement is None:\n",
        "                    compromisos[woman] = man\n",
        "                    break\n",
        "                else:\n",
        "                    woman_preferences = preferences[woman]\n",
        "                    if man in woman_preferences and current_engagement in woman_preferences:\n",
        "                        if woman_preferences.index(man) < woman_preferences.index(current_engagement):\n",
        "                            compromisos[woman] = man\n",
        "                            men.append(current_engagement)\n",
        "                            break\n",
        "\n",
        "    for woman in women:\n",
        "        if woman not in compromisos:\n",
        "            compromisos[woman] = None\n",
        "\n",
        "    return snapshots\n",
        "\n",
        "def generate_random_preferences(n):\n",
        "    preferences = {}\n",
        "    for i in range(n):\n",
        "        preferences[i] = list(range(n))\n",
        "        random.shuffle(preferences[i])\n",
        "    return preferences\n",
        "\n",
        "def draw_snapshot(compromisos, men, women, n):\n",
        "    img = Image.new(\"RGB\", (500, 500), (255, 255, 255))\n",
        "    draw = ImageDraw.Draw(img)\n",
        "    cell_size = 60\n",
        "\n",
        "    for i in range(n):\n",
        "        draw.rectangle([(i * cell_size, 0), ((i + 1) * cell_size, cell_size)], outline=\"black\")\n",
        "        draw.rectangle([(i * cell_size, cell_size), ((i + 1) * cell_size, cell_size * 2)], outline=\"black\")\n",
        "        man = compromisos.get(i)\n",
        "        if man is not None:\n",
        "            if man is not None:\n",
        "                draw.text(((i * cell_size) + 10, 10), f\"Hombre {man}\", fill=\"red\")\n",
        "        draw.text(((i * cell_size) + 10, cell_size + 10), f\"Mujer {i}\", fill=\"red\")\n",
        "\n",
        "    return img\n",
        "\n",
        "n = 4 # here we change the number of men and women\n",
        "preferences = generate_random_preferences(n)\n",
        "snapshots = irvingAnimation(preferences)\n",
        "\n",
        "snapshots[0].save(\n",
        "    \"irvingAnimation4.gif\",\n",
        "    save_all=True,\n",
        "    append_images=snapshots[1:],\n",
        "    loop=0,\n",
        "    duration=600,\n",
        ")"
      ],
      "metadata": {
        "id": "VePf-xqmxXPK"
      },
      "execution_count": 132,
      "outputs": []
    },
    {
      "cell_type": "code",
      "source": [
        "from IPython.display import Image\n",
        "from IPython.display import display\n",
        "\n",
        "print(\" Algoritmo de irving con n=4\")\n",
        "display(Image(filename='irvingAnimation4.gif'))"
      ],
      "metadata": {
        "colab": {
          "base_uri": "https://localhost:8080/",
          "height": 535
        },
        "outputId": "ede326be-bf9e-4336-cc2d-5e95693a8d2c",
        "id": "jUFS6PhGyk1f"
      },
      "execution_count": 133,
      "outputs": [
        {
          "output_type": "stream",
          "name": "stdout",
          "text": [
            " Algoritmo de irving con n=4\n"
          ]
        },
        {
          "output_type": "display_data",
          "data": {
            "image/gif": "[encoded data removed]",
            "text/plain": [
              "<IPython.core.display.Image object>"
            ]
          },
          "metadata": {}
        }
      ]
    },
    {
      "cell_type": "code",
      "source": [
        "from PIL import Image, ImageDraw\n",
        "import random\n",
        "\n",
        "def generate_random_preferences(n):\n",
        "    preferences = {}\n",
        "    for i in range(n):\n",
        "        preferences[i] = list(range(n))\n",
        "        random.shuffle(preferences[i])\n",
        "    return preferences\n",
        "\n",
        "def irvingAnimation(preferences):\n",
        "    n = len(preferences)\n",
        "    men = list(range(n))\n",
        "    women = list(range(n))\n",
        "    compromisos = {}\n",
        "    propuestas = {man: {} for man in men}\n",
        "    snapshots = []\n",
        "\n",
        "    while len(compromisos) < n:\n",
        "        snapshot = draw_snapshot(compromisos, men, women, n)\n",
        "        snapshots.append(snapshot)\n",
        "\n",
        "        if not men:\n",
        "            break\n",
        "\n",
        "        man = men.pop(0)\n",
        "        while True:\n",
        "            woman = preferences[man].pop(0)\n",
        "            if woman not in propuestas[man]:\n",
        "                propuestas[man][woman] = True\n",
        "                current_engagement = compromisos.get(woman)\n",
        "                if current_engagement is None:\n",
        "                    compromisos[woman] = man\n",
        "                    break\n",
        "                else:\n",
        "                    woman_preferences = preferences[woman]\n",
        "                    if man in woman_preferences and current_engagement in woman_preferences:\n",
        "                        if woman_preferences.index(man) < woman_preferences.index(current_engagement):\n",
        "                            compromisos[woman] = man\n",
        "                            men.append(current_engagement)\n",
        "                            break\n",
        "\n",
        "    for woman in women:\n",
        "        if woman not in compromisos:\n",
        "            compromisos[woman] = None\n",
        "\n",
        "    return snapshots\n",
        "\n",
        "def draw_snapshot(compromisos, men, women, n):\n",
        "    img = Image.new(\"RGB\", (2500, 500), (255, 255, 255))\n",
        "    draw = ImageDraw.Draw(img)\n",
        "    cell_size = 60\n",
        "\n",
        "    for i in range(n):\n",
        "        draw.rectangle([(i * cell_size, cell_size), ((i + 1) * cell_size, cell_size * 2)], outline=\"black\")\n",
        "        draw.rectangle([(i * cell_size, 0), ((i + 1) * cell_size, cell_size)], outline=\"black\")\n",
        "        man = compromisos.get(i)\n",
        "        if man is not None:\n",
        "            if man is not None:\n",
        "                draw.text(((i * cell_size) + 10, 10), f\"Hombre {man}\", fill=\"red\")\n",
        "        draw.text(((i * cell_size) + 10, cell_size + 10), f\"Mujer {i}\", fill=\"red\")\n",
        "\n",
        "    return img\n",
        "\n",
        "n = 40 # here we change the number of men and women\n",
        "preferences = generate_random_preferences(n)\n",
        "snapshots = irvingAnimation(preferences)\n",
        "\n",
        "snapshots[0].save(\n",
        "    \"irvingAnimation40.gif\",\n",
        "    save_all=True,\n",
        "    append_images=snapshots[1:],\n",
        "    loop=1,\n",
        "    duration=150,\n",
        ")"
      ],
      "metadata": {
        "id": "lFrtzd79yx7N"
      },
      "execution_count": 140,
      "outputs": []
    },
    {
      "cell_type": "code",
      "source": [
        "from IPython.display import Image\n",
        "from IPython.display import display\n",
        "\n",
        "print(\" Algoritmo irving con n=40\")\n",
        "display(Image(filename='irvingAnimation40.gif'))"
      ],
      "metadata": {
        "colab": {
          "base_uri": "https://localhost:8080/",
          "height": 360
        },
        "outputId": "d36c0afd-f03c-46b6-84fe-28fbdf493923",
        "id": "4LYZE3iNyx7N"
      },
      "execution_count": 141,
      "outputs": [
        {
          "output_type": "stream",
          "name": "stdout",
          "text": [
            " Algoritmo irving con n=40\n"
          ]
        },
        {
          "output_type": "display_data",
          "data": {
            "image/gif": "[encoded data removed]",
            "text/plain": [
              "<IPython.core.display.Image object>"
            ]
          },
          "metadata": {}
        }
      ]
    }
  ]
}
